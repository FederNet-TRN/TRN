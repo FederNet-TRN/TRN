{
 "metadata": {
  "language_info": {
   "codemirror_mode": {
    "name": "ipython",
    "version": 3
   },
   "file_extension": ".py",
   "mimetype": "text/x-python",
   "name": "python",
   "nbconvert_exporter": "python",
   "pygments_lexer": "ipython3",
   "version": "3.7.9-final"
  },
  "orig_nbformat": 2,
  "kernelspec": {
   "name": "python3",
   "display_name": "Python 3.7.9 64-bit ('project_thesis': conda)",
   "metadata": {
    "interpreter": {
     "hash": "93fe94e5baa96e16921111566a2ec9b1e2e4eaf5c7b48668a60b4cd4eab04f86"
    }
   }
  }
 },
 "nbformat": 4,
 "nbformat_minor": 2,
 "cells": [
  {
   "source": [
    "# Toggle settings\n",
    "Con questo semplice comando importiamo tutte le librerie necessarie e le funzioni che abbiamo scritto nel file settings."
   ],
   "cell_type": "markdown",
   "metadata": {}
  },
  {
   "cell_type": "code",
   "execution_count": 1,
   "metadata": {},
   "outputs": [
    {
     "output_type": "stream",
     "name": "stdout",
     "text": [
      "WARNING:tensorflow:From /home/sirbastiano/anaconda3/envs/project_thesis/lib/python3.7/site-packages/tensorflow_core/python/ops/resource_variable_ops.py:1635: calling BaseResourceVariable.__init__ (from tensorflow.python.ops.resource_variable_ops) with constraint is deprecated and will be removed in a future version.\nInstructions for updating:\nIf using Keras pass *_constraint arguments to layers.\n"
     ]
    }
   ],
   "source": [
    "# External libraries\n",
    "import numpy as np\n",
    "import matplotlib.pyplot as plt\n",
    "import matplotlib.style as style\n",
    "import pandas as pd\n",
    "import astropy\n",
    "import scipy\n",
    "from filterpy.kalman import KalmanFilter \n",
    "from filterpy.common import Q_discrete_white_noise\n",
    "from scipy.linalg import block_diag\n",
    "from astropy import units as u\n",
    "from poliastro.bodies import Earth, Mars, Sun, Moon\n",
    "from poliastro.twobody import Orbit\n",
    "from poliastro.plotting import OrbitPlotter2D\n",
    "from poliastro.plotting import OrbitPlotter3D\n",
    "import glob\n",
    "# Own Libraries\n",
    "from utility.utils import *\n",
    "from KalmanFilter.kf import *\n",
    "from Detect.detector import *\n",
    "from Match.pair import *\n",
    "from Match.icp import *\n",
    "\n",
    "%matplotlib tk\n",
    "style.use('seaborn-paper')"
   ]
  },
  {
   "source": [
    "## Caricamento immagini\n",
    "Visualizziamo prima immagine da tiles (2 stepsize)"
   ],
   "cell_type": "markdown",
   "metadata": {}
  },
  {
   "cell_type": "code",
   "execution_count": 2,
   "metadata": {},
   "outputs": [],
   "source": [
    "# LOAD ALL IMAGES:\n",
    "dt = 10 \n",
    "\n",
    "dict = {}\n",
    "for img in glob.glob(f\"DATA/ephemeris sat/inclination zero/{dt} step size/*\"):\n",
    "    txt = img             # stringa\n",
    "    t = txt.split('_')[1] # numero\n",
    "    dict[t] = txt\n",
    "# LOAD TRUE POSITIONS\n",
    "df = pd.read_csv(f'DATA/ephemeris sat/inclination zero/{dt} step size.csv', header=3, sep=';') \n",
    "real_Latitudes, real_Longitudes, real_Altitudes = df['Lat (deg)'], df['Lon (deg)'], df['Alt (km)']\n",
    "real_Vxs,real_Vys,real_Vzs = df['x (km/sec)'], df['y (km/sec)'],df['z (km/sec)']\n",
    "\n",
    "real_X, real_Y, real_Z = [], [], []\n",
    "for i in range(len(df)):\n",
    "    altitude = real_Altitudes[i]\n",
    "    latitude = real_Latitudes[i]\n",
    "    longitude = real_Longitudes[i]\n",
    "    x, y, z = spherical2cartesian(altitude, latitude, longitude)\n",
    "    real_X.append(x)\n",
    "    real_Y.append(y)\n",
    "    real_Z.append(z)\n",
    "real_X, real_Y, real_Z = np.array(real_X),np.array(real_Y),np.array(real_Z)"
   ]
  },
  {
   "cell_type": "code",
   "execution_count": 3,
   "metadata": {},
   "outputs": [],
   "source": [
    "img = cv2.imread(dict[str(idx+1)])\n",
    "craters_det = detect(img)\n",
    "craters_det_sort = sort_mat(craters_det)\n",
    "TRI_det = find_triplets(craters_det_sort)\n",
    "\n",
    "craters_cat = crater_catalogued([real_X[0],real_Y[0], real_Z[0]])\n",
    "craters_cat_sort = sort_mat(craters_cat)\n",
    "TRI_cat = find_triplets(craters_cat_sort)"
   ]
  },
  {
   "cell_type": "code",
   "execution_count": 250,
   "metadata": {},
   "outputs": [
    {
     "output_type": "execute_result",
     "data": {
      "text/plain": [
       "{29.03349370010954, 40.442459851273014, 110.52404644861744}"
      ]
     },
     "metadata": {},
     "execution_count": 250
    }
   ],
   "source": [
    "triplet = picktrip(TRI_det, 0)\n",
    "K_vet = compute_K_vet(triplet)\n",
    "K_vet"
   ]
  },
  {
   "cell_type": "code",
   "execution_count": 249,
   "metadata": {},
   "outputs": [
    {
     "output_type": "execute_result",
     "data": {
      "text/plain": [
       "464"
      ]
     },
     "metadata": {},
     "execution_count": 249
    }
   ],
   "source": [
    "KK \n",
    "for i in range(len(TRI_cat)):\n",
    "    triplet = picktrip(TRI_cat, i)\n",
    "    K_vet = compute_K_vet(triplet)\n",
    "    KK.append(K_vet)"
   ]
  },
  {
   "cell_type": "code",
   "execution_count": 246,
   "metadata": {},
   "outputs": [],
   "source": [
    "\n",
    "def compute_K_vet(triplet):\n",
    "    a,b,c = compute_sides(triplet)\n",
    "    A,B,C = findAngles(a,b,c)\n",
    "    K_vet = set([A,B,C])\n",
    "    if K_vet is not None:\n",
    "        return K_vet\n",
    "\n",
    "\n",
    "def compute_sides(triplet):\n",
    "    a = np.linalg.norm(triplet[0][0:2]-triplet[1][0:2])\n",
    "    b = np.linalg.norm(triplet[1][0:2]-triplet[2][0:2])\n",
    "    c = np.linalg.norm(triplet[2][0:2]-triplet[0][0:2])\n",
    "    return a,b,c\n",
    "\n",
    "\n",
    "\n",
    "def find_triplet(craters_df_sort: np.array, idx: int):\n",
    "    M1 = craters_df_sort.copy()\n",
    "    pick1 = M1.iloc[idx]\n",
    "    i = pick1.i\n",
    "    j = pick1.j\n",
    "    \n",
    "    PICKS = M1[ (M1.j == j-1) | (M1.j == j+1) | (M1.i == i+1) | (M1.i == i - 1) \\\n",
    "                | (M1.j == j-2) | (M1.j == j+2) | (M1.i == i+2) | (M1.i == i - 2)]\n",
    "    ind = 0\n",
    "    HP = np.zeros(2)\n",
    "    for pick in PICKS.iloc:\n",
    "        pick2 = pick\n",
    "        dist_12 = np.linalg.norm(pick2[0:2]-pick1[0:2])\n",
    "        if dist_12 > pick2.R + pick1.R:\n",
    "            hp = np.hstack([ind, dist_12])  \n",
    "            HP = np.vstack([HP, hp])\n",
    "        ind +=1\n",
    "    HP = HP[1:,:].copy() # Remove first zeros\n",
    "    HP.view('f8,f8').sort(order=['f1'], axis=0) # Order by Eu Distance\n",
    "    crater1 = pick1\n",
    "    crater2 = PICKS.iloc[int(HP[0,0])]\n",
    "    crater3 = PICKS.iloc[int(HP[1,0])]\n",
    "    return [crater1, crater2, crater3]\n",
    "\n",
    "\n",
    "\n",
    "def find_triplets(df):\n",
    "    N, triplet_list = len(df), []\n",
    "    for idx in range(N):\n",
    "        # 1st:\n",
    "        if idx == 0:\n",
    "            c1,c2,c3 = find_triplet(df, 0)\n",
    "            if np.all([c1,c2,c3]) != None: # If they exist\n",
    "                entry = set([c1.name, c2.name, c3.name])\n",
    "                triplet_list.append(entry)\n",
    "        # 2nd to end:\n",
    "        else:\n",
    "            c1,c2,c3 = find_triplet(df, idx)\n",
    "            if np.all([c1,c2,c3]) != None: # If they exist\n",
    "                entry = set([c1.name, c2.name, c3.name]) # Note: set() make order meaningless\n",
    "                if entry not in triplet_list:\n",
    "                    triplet_list.append(entry)\n",
    "        printProgressBar(idx, N, prefix=\"Progress:\", suffix=\"Complete\", length=50)\n",
    "\n",
    "    return triplet_list\n",
    "\n",
    "def picktrip(TRI, idx):\n",
    "    triplet, IDs = TRI[idx], []\n",
    "    \n",
    "    for index in triplet: IDs.append(index)\n",
    "    \n",
    "    crat1 = craters_det_sort.iloc[IDs[0]]\n",
    "    crat2 = craters_det_sort.iloc[IDs[1]]\n",
    "    crat3 = craters_det_sort.iloc[IDs[2]]\n",
    "    return crat1, crat2,crat3\n",
    "\n",
    "\n",
    "\n",
    "def findAngles( a, b, c): \n",
    "    # applied cosine rule \n",
    "    A = np.arccos((b * b + c * c - a * a) / \n",
    "                              (2 * b * c)) \n",
    "    B = np.arccos((a * a + c * c - b * b) / \n",
    "                              (2 * a * c)) \n",
    "    C = np.arccos((b * b + a * a - c * c) / \n",
    "                              (2 * b * a)) \n",
    "    # convert into degrees \n",
    "    A, B, C = np.rad2deg(A),np.rad2deg(B),np.rad2deg(C)\n",
    "    return A,B,C "
   ]
  },
  {
   "cell_type": "code",
   "execution_count": 208,
   "metadata": {},
   "outputs": [
    {
     "output_type": "stream",
     "name": "stdout",
     "text": []
    }
   ],
   "source": []
  },
  {
   "cell_type": "code",
   "execution_count": 217,
   "metadata": {},
   "outputs": [],
   "source": [
    "df = pd.read_cs"
   ]
  },
  {
   "cell_type": "code",
   "execution_count": null,
   "metadata": {},
   "outputs": [],
   "source": []
  },
  {
   "cell_type": "code",
   "execution_count": null,
   "metadata": {},
   "outputs": [],
   "source": []
  },
  {
   "cell_type": "code",
   "execution_count": null,
   "metadata": {},
   "outputs": [],
   "source": []
  },
  {
   "cell_type": "code",
   "execution_count": null,
   "metadata": {},
   "outputs": [],
   "source": []
  },
  {
   "cell_type": "code",
   "execution_count": null,
   "metadata": {},
   "outputs": [],
   "source": []
  },
  {
   "cell_type": "code",
   "execution_count": null,
   "metadata": {},
   "outputs": [],
   "source": []
  },
  {
   "cell_type": "code",
   "execution_count": null,
   "metadata": {},
   "outputs": [],
   "source": []
  },
  {
   "cell_type": "code",
   "execution_count": null,
   "metadata": {},
   "outputs": [],
   "source": []
  },
  {
   "cell_type": "code",
   "execution_count": null,
   "metadata": {},
   "outputs": [],
   "source": []
  },
  {
   "cell_type": "code",
   "execution_count": null,
   "metadata": {},
   "outputs": [],
   "source": []
  },
  {
   "cell_type": "code",
   "execution_count": null,
   "metadata": {},
   "outputs": [],
   "source": []
  },
  {
   "cell_type": "code",
   "execution_count": null,
   "metadata": {},
   "outputs": [],
   "source": []
  },
  {
   "cell_type": "code",
   "execution_count": null,
   "metadata": {},
   "outputs": [],
   "source": []
  },
  {
   "cell_type": "code",
   "execution_count": null,
   "metadata": {},
   "outputs": [],
   "source": []
  },
  {
   "cell_type": "code",
   "execution_count": null,
   "metadata": {},
   "outputs": [],
   "source": []
  },
  {
   "cell_type": "code",
   "execution_count": null,
   "metadata": {},
   "outputs": [],
   "source": []
  },
  {
   "cell_type": "code",
   "execution_count": null,
   "metadata": {},
   "outputs": [],
   "source": []
  },
  {
   "source": [
    "# Matching: "
   ],
   "cell_type": "markdown",
   "metadata": {}
  },
  {
   "cell_type": "code",
   "execution_count": 7,
   "metadata": {
    "tags": []
   },
   "outputs": [],
   "source": [
    "# def matching(crat_det, crat_cat):\n",
    "    \n",
    "#     mat1 = crat_det\n",
    "#     mat2 = crat_cat\n",
    "\n",
    "#     MATCHER = []\n",
    "#     for i in range(mat1.shape[0]):\n",
    "#         for j in range(mat2.shape[0]):\n",
    "#             f1 = mat1[i, :]\n",
    "#             f2 = mat2[j, :]\n",
    "#             tmp = sq_dif(f1,f2)\n",
    "#             TMP = [i, j, tmp]\n",
    "#             MATCHER.append(TMP)\n",
    "#     flag = np.zeros(2)\n",
    "#     for elem in MATCHER:\n",
    "#         if elem[2] < 100:\n",
    "#             match = [elem[0],elem[1]] \n",
    "#             flag = np.vstack((flag, match))\n",
    "#     flag = flag[1:,:]\n",
    "#     flag = np.array(flag).astype(int)\n",
    "#     return flag\n"
   ]
  },
  {
   "cell_type": "code",
   "execution_count": 8,
   "metadata": {},
   "outputs": [],
   "source": [
    "# flag = np.zeros(2)\n",
    "# for elem in MATCHER:\n",
    "#     if elem[2] < 100:\n",
    "#         match = [elem[0],elem[1]] \n",
    "#         flag = np.vstack((flag, match))\n",
    "# flag = flag[1:,:]\n",
    "# flag = np.array(flag).astype(int)\n",
    "# flag"
   ]
  },
  {
   "cell_type": "code",
   "execution_count": 9,
   "metadata": {},
   "outputs": [],
   "source": [
    "# # Stack the images\n",
    "# img1 = cv2.imread('/home/sirbastiano/Desktop/Python Projects/Progetto Tesi/Dataset/2 step size/IMG_1_Lat_0_Long_-147.8129.jpg')\n",
    "# img2 = cv2.imread('/home/sirbastiano/Desktop/Python Projects/Progetto Tesi/Dataset/2 step size/IMG_2_Lat_0_Long_-147.7069.jpg')\n",
    "# img_matched = np.hstack((img1,img2)).astype(int)\n",
    "# plt.imshow(img_matched, cmap='gray')\n",
    "# plt.axis(False)\n",
    "# plt.grid(False)"
   ]
  },
  {
   "cell_type": "code",
   "execution_count": 10,
   "metadata": {},
   "outputs": [],
   "source": [
    "# cv2.arrowedLine(img_matched,start,end,(255, 0, 0) , 3)"
   ]
  },
  {
   "cell_type": "code",
   "execution_count": 11,
   "metadata": {},
   "outputs": [],
   "source": [
    "# center_coordinates = start\n",
    "# radius = 500\n",
    "# color = (0,0,255)\n",
    "# thickness = 6\n",
    "# cv2.circle(img_matched, center_coordinates, radius, color, thickness)"
   ]
  },
  {
   "cell_type": "code",
   "execution_count": null,
   "metadata": {},
   "outputs": [],
   "source": []
  }
 ]
}