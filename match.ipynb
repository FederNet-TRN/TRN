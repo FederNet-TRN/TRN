{
 "metadata": {
  "language_info": {
   "codemirror_mode": {
    "name": "ipython",
    "version": 3
   },
   "file_extension": ".py",
   "mimetype": "text/x-python",
   "name": "python",
   "nbconvert_exporter": "python",
   "pygments_lexer": "ipython3",
   "version": "3.6.12-final"
  },
  "orig_nbformat": 2,
  "kernelspec": {
   "name": "crateri",
   "display_name": "crateri",
   "language": "python"
  }
 },
 "nbformat": 4,
 "nbformat_minor": 2,
 "cells": [
  {
   "cell_type": "code",
   "execution_count": 1,
   "metadata": {},
   "outputs": [
    {
     "output_type": "stream",
     "name": "stdout",
     "text": [
      "WARNING:tensorflow:From /home/sirbastiano/anaconda3/envs/crateri/lib/python3.6/site-packages/tensorflow_core/python/ops/resource_variable_ops.py:1635: calling BaseResourceVariable.__init__ (from tensorflow.python.ops.resource_variable_ops) with constraint is deprecated and will be removed in a future version.\nInstructions for updating:\nIf using Keras pass *_constraint arguments to layers.\n"
     ]
    }
   ],
   "source": [
    "# External libraries\n",
    "import numpy as np\n",
    "import matplotlib.pyplot as plt\n",
    "import matplotlib.style as style\n",
    "import pandas as pd\n",
    "import astropy\n",
    "import scipy\n",
    "from filterpy.kalman import KalmanFilter \n",
    "from filterpy.common import Q_discrete_white_noise\n",
    "from scipy.linalg import block_diag\n",
    "from astropy import units as u\n",
    "from poliastro.bodies import Earth, Mars, Sun, Moon\n",
    "from poliastro.twobody import Orbit\n",
    "from poliastro.plotting import OrbitPlotter2D\n",
    "from poliastro.plotting import OrbitPlotter3D\n",
    "import glob\n",
    "# Own Libraries\n",
    "from utility.utils import *\n",
    "from KalmanFilter.kf import *\n",
    "from Detect.detector import *\n",
    "from Match.pair import *\n",
    "from Match.icp import *\n",
    "\n",
    "%matplotlib tk\n",
    "style.use('seaborn-paper')"
   ]
  },
  {
   "cell_type": "code",
   "execution_count": 6,
   "metadata": {},
   "outputs": [
    {
     "output_type": "execute_result",
     "data": {
      "text/plain": [
       "       Angle1      Angle2      Angle3      des1      des2      des3  \\\n",
       "0   38.505996   17.784368  123.709636  2.061152  2.063950  7.891946   \n",
       "1  123.709636   17.784368   38.505996  2.061152  7.891946  2.063950   \n",
       "2   38.505996  123.709636   17.784368  2.063950  2.061152  7.891946   \n",
       "3   17.784368  123.709636   38.505996  2.063950  7.891946  2.061152   \n",
       "4  123.709636   38.505996   17.784368  7.891946  2.061152  2.063950   \n",
       "\n",
       "        lon1       lat1         r1       lon2       lat2         r2  \\\n",
       "0 -65.477810 -44.911663  17.598053 -66.812988 -44.115738   6.351422   \n",
       "1 -65.477810 -44.911663  17.598053 -67.501326 -44.443916   3.477863   \n",
       "2 -66.812988 -44.115738   6.351422 -65.477810 -44.911663  17.598053   \n",
       "3 -66.812988 -44.115738   6.351422 -67.501326 -44.443916   3.477863   \n",
       "4 -67.501326 -44.443916   3.477863 -65.477810 -44.911663  17.598053   \n",
       "\n",
       "        lon3       lat3         r3  \n",
       "0 -67.501326 -44.443916   3.477863  \n",
       "1 -66.812988 -44.115738   6.351422  \n",
       "2 -67.501326 -44.443916   3.477863  \n",
       "3 -65.477810 -44.911663  17.598053  \n",
       "4 -66.812988 -44.115738   6.351422  "
      ],
      "text/html": "<div>\n<style scoped>\n    .dataframe tbody tr th:only-of-type {\n        vertical-align: middle;\n    }\n\n    .dataframe tbody tr th {\n        vertical-align: top;\n    }\n\n    .dataframe thead th {\n        text-align: right;\n    }\n</style>\n<table border=\"1\" class=\"dataframe\">\n  <thead>\n    <tr style=\"text-align: right;\">\n      <th></th>\n      <th>Angle1</th>\n      <th>Angle2</th>\n      <th>Angle3</th>\n      <th>des1</th>\n      <th>des2</th>\n      <th>des3</th>\n      <th>lon1</th>\n      <th>lat1</th>\n      <th>r1</th>\n      <th>lon2</th>\n      <th>lat2</th>\n      <th>r2</th>\n      <th>lon3</th>\n      <th>lat3</th>\n      <th>r3</th>\n    </tr>\n  </thead>\n  <tbody>\n    <tr>\n      <th>0</th>\n      <td>38.505996</td>\n      <td>17.784368</td>\n      <td>123.709636</td>\n      <td>2.061152</td>\n      <td>2.063950</td>\n      <td>7.891946</td>\n      <td>-65.477810</td>\n      <td>-44.911663</td>\n      <td>17.598053</td>\n      <td>-66.812988</td>\n      <td>-44.115738</td>\n      <td>6.351422</td>\n      <td>-67.501326</td>\n      <td>-44.443916</td>\n      <td>3.477863</td>\n    </tr>\n    <tr>\n      <th>1</th>\n      <td>123.709636</td>\n      <td>17.784368</td>\n      <td>38.505996</td>\n      <td>2.061152</td>\n      <td>7.891946</td>\n      <td>2.063950</td>\n      <td>-65.477810</td>\n      <td>-44.911663</td>\n      <td>17.598053</td>\n      <td>-67.501326</td>\n      <td>-44.443916</td>\n      <td>3.477863</td>\n      <td>-66.812988</td>\n      <td>-44.115738</td>\n      <td>6.351422</td>\n    </tr>\n    <tr>\n      <th>2</th>\n      <td>38.505996</td>\n      <td>123.709636</td>\n      <td>17.784368</td>\n      <td>2.063950</td>\n      <td>2.061152</td>\n      <td>7.891946</td>\n      <td>-66.812988</td>\n      <td>-44.115738</td>\n      <td>6.351422</td>\n      <td>-65.477810</td>\n      <td>-44.911663</td>\n      <td>17.598053</td>\n      <td>-67.501326</td>\n      <td>-44.443916</td>\n      <td>3.477863</td>\n    </tr>\n    <tr>\n      <th>3</th>\n      <td>17.784368</td>\n      <td>123.709636</td>\n      <td>38.505996</td>\n      <td>2.063950</td>\n      <td>7.891946</td>\n      <td>2.061152</td>\n      <td>-66.812988</td>\n      <td>-44.115738</td>\n      <td>6.351422</td>\n      <td>-67.501326</td>\n      <td>-44.443916</td>\n      <td>3.477863</td>\n      <td>-65.477810</td>\n      <td>-44.911663</td>\n      <td>17.598053</td>\n    </tr>\n    <tr>\n      <th>4</th>\n      <td>123.709636</td>\n      <td>38.505996</td>\n      <td>17.784368</td>\n      <td>7.891946</td>\n      <td>2.061152</td>\n      <td>2.063950</td>\n      <td>-67.501326</td>\n      <td>-44.443916</td>\n      <td>3.477863</td>\n      <td>-65.477810</td>\n      <td>-44.911663</td>\n      <td>17.598053</td>\n      <td>-66.812988</td>\n      <td>-44.115738</td>\n      <td>6.351422</td>\n    </tr>\n  </tbody>\n</table>\n</div>"
     },
     "metadata": {},
     "execution_count": 6
    }
   ],
   "source": [
    "TRN_cat = pd.HDFStore('/home/sirbastiano/Documenti/Python Projects/TRN/TRN/DATA/TRN_navi_catalog.h5')\n",
    "TRN_cat_df = TRN_cat['df']\n",
    "TRN_cat_df.head()"
   ]
  },
  {
   "cell_type": "code",
   "execution_count": 3,
   "metadata": {},
   "outputs": [],
   "source": [
    "from numba import njit\n",
    "\n",
    "@njit\n",
    "def findAngles(a, b, c):\n",
    "        # applied cosine rule\n",
    "        A = np.arccos((b * b + c * c - a * a) / (2 * b * c))\n",
    "        B = np.arccos((a * a + c * c - b * b) / (2 * a * c))\n",
    "        C = np.arccos((b * b + a * a - c * c) / (2 * b * a))\n",
    "        # convert into degrees\n",
    "        A, B, C = np.rad2deg(A), np.rad2deg(B), np.rad2deg(C)\n",
    "        return A, B, C\n",
    "\n",
    "\n",
    "@njit\n",
    "def compute_K_vet(triplet):\n",
    "        a, b, c = compute_sides(triplet)\n",
    "        A, B, C = findAngles(a, b, c)\n",
    "        K_vet = np.array([A, B, C])\n",
    "        if K_vet is not None:\n",
    "            return K_vet\n",
    "\n",
    "@njit\n",
    "def compute_sides(triplet):\n",
    "        a = np.linalg.norm(triplet[0][0:2] - triplet[1][0:2])\n",
    "        b = np.linalg.norm(triplet[1][0:2] - triplet[2][0:2])\n",
    "        c = np.linalg.norm(triplet[2][0:2] - triplet[0][0:2])\n",
    "        return a, b, c\n",
    "\n",
    "def find_all_triplets(craters):\n",
    "\n",
    "    def Hstack(K_v, i,j,k,x1,y1,r1,x2,y2,r2,x3,y3,r3):\n",
    "        A = np.zeros(15)\n",
    "        A[0],A[1],A[2] = K_v[0],K_v[1],K_v[2]\n",
    "        A[3],A[4],A[5] = i,j,k\n",
    "        A[6],A[7],A[8] = x1,y1,r1\n",
    "        A[9],A[10],A[11] = x2,y2,r2\n",
    "        A[12],A[13],A[14] = x3,y3,r3\n",
    "        return A\n",
    "    \n",
    "    def eu_dist(x, y):\n",
    "        x1, y1 = x[0], x[1]\n",
    "        x2, y2 = y[0], y[1]\n",
    "        result = ((((x2 - x1)**2) + ((y2-y1)**2))**0.5)\n",
    "        return result\n",
    "\n",
    "    def concat(a,b,c):\n",
    "        A = np.zeros((3,3))\n",
    "        A[0] = a\n",
    "        A[1] = b\n",
    "        A[2] = c\n",
    "        return A\n",
    "\n",
    "    # Input: np.array craters\n",
    "    # Output: all triplets\n",
    "    N = craters.shape[0]\n",
    "    ender = N*N*N\n",
    "    K = np.zeros((ender,15))\n",
    "    lister = 0\n",
    "    for i in range(N):\n",
    "        for j in range(N):\n",
    "            for k in range(N):\n",
    "                if (i!=j) & (j!=k):\n",
    "                    a =craters[i]\n",
    "                    b =craters[j]\n",
    "                    c =craters[k]\n",
    "                    triplet = concat(a,b,c)\n",
    "                    x1,y1,r1 = a[0],a[1],a[2]\n",
    "                    x2,y2,r2 = b[0],b[1],b[2]\n",
    "                    x3,y3,r3 = c[0],c[1],c[2]\n",
    "                    \n",
    "                    C = np.zeros(2) # centroid\n",
    "                    C[0] = (x1+x2+x3)/3\n",
    "                    C[1] = (y1+y2+y3)/3\n",
    "\n",
    "                    P1,P2,P3 = np.zeros(2), np.zeros(2), np.zeros(2)\n",
    "                    P1[0]=x1\n",
    "                    P1[1]=y1\n",
    "                    P2[0]=x2\n",
    "                    P2[1]=y2\n",
    "                    P3[0]=x3\n",
    "                    P3[1]=y3\n",
    "\n",
    "                    d1,d2,d3 = eu_dist(P1,C), eu_dist(P2,C), eu_dist(P3,C)\n",
    "                    d_i,d_j,d_k = d1/r1, d2/r2, d3/r3\n",
    "\n",
    "\n",
    "                    try:\n",
    "                        K_v = compute_K_vet(triplet)\n",
    "                        K[lister] = Hstack(K_v, d_i,d_j,d_k,x1,y1,r1,x2,y2,r2,x3,y3,r3)\n",
    "                    except ZeroDivisionError: pass\n",
    "\n",
    "                lister+=1\n",
    "    return K[ np.all(K !=0, axis=1) ]"
   ]
  },
  {
   "cell_type": "code",
   "execution_count": 4,
   "metadata": {},
   "outputs": [],
   "source": [
    "# LOAD ALL IMAGES:\n",
    "dt = 10\n",
    "dict = {}\n",
    "for img in glob.glob(f\"DATA/ephemeris sat/inclination zero/{dt} step size/*\"):\n",
    "    txt = img             # stringa\n",
    "    t = txt.split('_')[1] # numero\n",
    "    dict[t] = txt"
   ]
  },
  {
   "cell_type": "code",
   "execution_count": 5,
   "metadata": {},
   "outputs": [],
   "source": [
    "def verify(save, tol = 3):\n",
    "    c1_t1 = [save[0].x1, save[0].y1, save[0].r1]\n",
    "    c2_t1 = [save[0].x2, save[0].y2, save[0].r3]\n",
    "    c3_t1 = [save[0].x3, save[0].y2, save[0].r3]\n",
    "\n",
    "    c1_t2 = [save[1].x1, save[1].y1, save[1].r1]\n",
    "    c2_t2 = [save[1].x2, save[1].y2, save[1].r3]\n",
    "    c3_t2 = [save[1].x3, save[1].y2, save[1].r3]\n",
    "\n",
    "    centroid_1 = [(c1_t1[0]+c2_t1[0]+c3_t1[0])/3, (c1_t1[1]+c2_t1[1]+c3_t1[1])/3]\n",
    "    centroid_2 = [(c1_t2[0]+c2_t2[0]+c3_t2[0])/3, (c1_t2[1]+c2_t2[1]+c3_t2[1])/3]\n",
    "\n",
    "    delta_x = abs(centroid_1[0]-centroid_2[0])\n",
    "    delta_y = abs(centroid_1[1]-centroid_2[1])\n",
    "\n",
    "    if c1_t1[2]-c1_t2[2] < tol: # Se il primo cratere è il primo cratere bis\n",
    "        if (abs(abs(c1_t1[0]-c1_t2[0])-delta_x) < tol) & (abs(abs(c1_t1[1]-c1_t2[1])-delta_y) < tol):\n",
    "            return True\n",
    "    elif c1_t1[2]-c2_t2[2] < tol: # primo - secondo\n",
    "        if (abs(abs(c1_t1[0]-c2_t2[0])-delta_x) < tol) & (abs(abs(c1_t1[1]-c2_t2[1])-delta_y) < tol):\n",
    "            return True\n",
    "    elif c1_t1[2]-c2_t2[2] < tol: # primo - terzo\n",
    "        if (abs(abs(c1_t1[0]-c3_t2[0])-delta_x) < tol) & (abs(abs(c1_t1[1]-c3_t2[1])-delta_y) < tol):\n",
    "            return True\n",
    "    else: return False"
   ]
  },
  {
   "source": [
    "# ODOMETRY"
   ],
   "cell_type": "markdown",
   "metadata": {}
  },
  {
   "cell_type": "code",
   "execution_count": 21,
   "metadata": {},
   "outputs": [
    {
     "output_type": "stream",
     "name": "stdout",
     "text": [
      "Maybe I found!\nMaybe I found!\nMaybe I found!\nFOUND!\n"
     ]
    }
   ],
   "source": [
    "idx = 55\n",
    "tol = 5\n",
    "# IMG1:\n",
    "img1=cv2.imread(dict[str(idx+1)])\n",
    "craters_det1 = detect(img1)\n",
    "# IMG2:\n",
    "img2=cv2.imread(dict[str(idx+2)])\n",
    "craters_det2 = detect(img2)\n",
    "\n",
    "# Pandas DataFrame:\n",
    "df_craters_det1 = sort_mat(craters_det1)\n",
    "df_craters_det2 = sort_mat(craters_det2)\n",
    "# Find all triplets:\n",
    "H1 = find_all_triplets(craters_det1)\n",
    "H2 = find_all_triplets(craters_det2)\n",
    "QUERY1= pd.DataFrame(H1, columns=['Angle1','Angle2','Angle3','des1','des2','des3','x1','y1','r1','x2','y2','r2','x3','y3','r3'])\n",
    "QUERY2= pd.DataFrame(H2, columns=['Angle1','Angle2','Angle3','des1','des2','des3','x1','y1','r1','x2','y2','r2','x3','y3','r3'])\n",
    "# remove wrong triplet:\n",
    "QUERY1 =QUERY1[ (QUERY1.Angle1 > 10) & (QUERY1.Angle2 > 10) & (QUERY1.Angle3 > 10) ].reset_index(drop=True)\n",
    "QUERY2 =QUERY2[ (QUERY2.Angle1 > 10) & (QUERY2.Angle2 > 10) & (QUERY2.Angle3 > 10) ].reset_index(drop=True)\n",
    "##########################################\n",
    "# SEARCH\n",
    "##########################################\n",
    "found = False\n",
    "for idx in range(QUERY1.shape[0]):\n",
    "    Angle1_Q1 = QUERY1.Angle1[idx]\n",
    "    Angle2_Q1 = QUERY1.Angle2[idx]\n",
    "    Angle3_Q1 = QUERY1.Angle3[idx]\n",
    "    d1_Q1 = QUERY1.des1[idx]\n",
    "    d2_Q1 = QUERY1.des2[idx]\n",
    "    d3_Q1 = QUERY1.des3[idx]\n",
    "\n",
    "    SEARCH = QUERY2[ ((abs(QUERY2.Angle1 - Angle1_Q1) < tol) & (abs(QUERY2.Angle2 - Angle2_Q1) < tol) & (abs(QUERY2.Angle3 - Angle3_Q1) < tol))   \\\n",
    "                      |  ((abs(QUERY2.Angle1 - Angle2_Q1) < tol) & (abs(QUERY2.Angle2 - Angle3_Q1) < tol) & (abs(QUERY2.Angle3 - Angle1_Q1) < tol)) \\\n",
    "                      |  ((abs(QUERY2.Angle1 - Angle3_Q1) < tol) & (abs(QUERY2.Angle2 - Angle1_Q1) < tol) & (abs(QUERY2.Angle3 - Angle2_Q1) < tol))]\n",
    "\n",
    "    SEARCH = SEARCH  [ ((abs(QUERY2.des1- d1_Q1) < tol) & (abs(QUERY2.des1- d2_Q1) < tol) & (abs(QUERY2.des1- d3_Q1) < tol)) \\\n",
    "                     | ((abs(QUERY2.des1- d2_Q1) < tol) & (abs(QUERY2.des1- d3_Q1) < tol) & (abs(QUERY2.des1- d1_Q1) < tol)) \\\n",
    "                     | ((abs(QUERY2.des1- d3_Q1) < tol) & (abs(QUERY2.des1- d1_Q1) < tol) & (abs(QUERY2.des1- d2_Q1) < tol)) ]\n",
    "    if SEARCH.shape[0] != 0:\n",
    "        print('Maybe I found!')\n",
    "        save = [QUERY1.iloc[idx], SEARCH.iloc[0]]\n",
    "        switch = verify(save, tol = 10)\n",
    "        if switch:\n",
    "            print('FOUND!')\n",
    "            found = True\n",
    "            break\n",
    "        else:\n",
    "            continue\n",
    "if found:\n",
    "    a = save[0]\n",
    "    b = save[1]\n",
    "    crts1 = np.vstack([[a.x1,a.y1,a.r1],[a.x2,a.y2,a.r2],[a.x3,a.y3,a.r3]])\n",
    "    crts2 = np.vstack([[b.x1,b.y1,b.r1],[b.x2,b.y2,b.r2],[b.x3,b.y3,b.r3]])\n",
    "\n",
    "    plt.figure(dpi=200)\n",
    "    plt.subplot(121)\n",
    "    cp1 = img1.copy()\n",
    "    IMG1 =  img_plus_crts(cp1, crts1, color=\"red\")\n",
    "    plt.imshow(IMG1)\n",
    "\n",
    "    plt.subplot(122)\n",
    "    cp2 = img2.copy()\n",
    "    IMG2 =  img_plus_crts(cp2, crts2, color=\"red\")\n",
    "    plt.imshow(IMG2)\n",
    "    plt.show()\n",
    "else:\n",
    "    print(\"Match can't find any triplets.\")"
   ]
  },
  {
   "source": [
    "# CATALOG NAVI"
   ],
   "cell_type": "markdown",
   "metadata": {}
  },
  {
   "cell_type": "code",
   "execution_count": 7,
   "metadata": {},
   "outputs": [
    {
     "output_type": "execute_result",
     "data": {
      "text/plain": [
       "Empty DataFrame\n",
       "Columns: [Angle1, Angle2, Angle3, des1, des2, des3, lon1, lat1, r1, lon2, lat2, r2, lon3, lat3, r3]\n",
       "Index: []"
      ],
      "text/html": "<div>\n<style scoped>\n    .dataframe tbody tr th:only-of-type {\n        vertical-align: middle;\n    }\n\n    .dataframe tbody tr th {\n        vertical-align: top;\n    }\n\n    .dataframe thead th {\n        text-align: right;\n    }\n</style>\n<table border=\"1\" class=\"dataframe\">\n  <thead>\n    <tr style=\"text-align: right;\">\n      <th></th>\n      <th>Angle1</th>\n      <th>Angle2</th>\n      <th>Angle3</th>\n      <th>des1</th>\n      <th>des2</th>\n      <th>des3</th>\n      <th>lon1</th>\n      <th>lat1</th>\n      <th>r1</th>\n      <th>lon2</th>\n      <th>lat2</th>\n      <th>r2</th>\n      <th>lon3</th>\n      <th>lat3</th>\n      <th>r3</th>\n    </tr>\n  </thead>\n  <tbody>\n  </tbody>\n</table>\n</div>"
     },
     "metadata": {},
     "execution_count": 7
    }
   ],
   "source": [
    "idx = 0\n",
    "tol = 5\n",
    "# IMG1:\n",
    "img1=cv2.imread(dict[str(idx+1)])\n",
    "craters_det1 = detect(img1)\n",
    "\n",
    "# Pandas DataFrame:\n",
    "df_craters_det1 = sort_mat(craters_det1)\n",
    "# Find all triplets:\n",
    "H1 = find_all_triplets(craters_det1)\n",
    "QUERY1= pd.DataFrame(H1, columns=['Angle1','Angle2','Angle3','des1','des2','des3','x1','y1','r1','x2','y2','r2','x3','y3','r3'])\n",
    "# remove wrong triplet:\n",
    "QUERY1 =QUERY1[ (QUERY1.Angle1 > 10) & (QUERY1.Angle2 > 10) & (QUERY1.Angle3 > 10) ].reset_index(drop=True)\n",
    "QUERY2 = TRN_cat_df"
   ]
  },
  {
   "cell_type": "code",
   "execution_count": 11,
   "metadata": {},
   "outputs": [
    {
     "output_type": "execute_result",
     "data": {
      "text/plain": [
       "            Angle1     Angle2      Angle3       des1       des2       des3  \\\n",
       "1945     40.724938   7.473590  131.801472  19.925780   6.150809  14.830998   \n",
       "15333    43.269149   7.864617  128.866234  20.559423  10.777556   1.061722   \n",
       "15515    41.304061   9.380563  129.315376  20.068714   1.464064   0.980432   \n",
       "16325    45.491360   6.568196  127.940444  19.109404   5.564198  11.440300   \n",
       "16593    45.301722   9.581160  125.117117  19.483354   9.165784   0.931401   \n",
       "...            ...        ...         ...        ...        ...        ...   \n",
       "7177320  40.685163   6.034265  133.280572  21.889586   9.161103  10.811053   \n",
       "7183897  40.285839  12.871534  126.842626  18.427970   5.318097   5.164042   \n",
       "7199447  42.869940   6.321279  130.808782  20.302012   5.117932   5.790572   \n",
       "7199864  38.818395  11.166011  130.015594  22.213985   3.090850  10.883341   \n",
       "7201564  40.905121  10.552292  128.542587  20.070970   8.583477   3.323725   \n",
       "\n",
       "               lon1       lat1        r1        lon2       lat2         r2  \\\n",
       "1945    -100.751969  22.128505  3.465011  -99.842832  25.191229   4.618833   \n",
       "15333   -157.366003  44.103423  3.587667 -159.313352  46.920318   2.853350   \n",
       "15515   -157.377599  44.657513  3.249410 -159.902522  46.240461  17.794907   \n",
       "16325   -158.384416  45.095402  2.740044 -159.998765  43.234003   4.074035   \n",
       "16593   -157.813723  44.415356  3.246271 -159.313352  46.920318   2.853350   \n",
       "...             ...        ...       ...         ...        ...        ...   \n",
       "7177320  139.888275 -28.815238  2.853127  137.391642 -27.295031   2.893440   \n",
       "7183897  -64.579881 -18.952612  2.561638  -62.654488 -19.791422   3.352850   \n",
       "7199447   22.171224 -31.750861  3.150973   21.174153 -28.920939   5.348517   \n",
       "7199864   22.732076 -30.751346  2.801069   19.948502 -30.714824   7.606678   \n",
       "7201564   95.318176   7.028466  3.025598   97.644965   8.492975   2.765582   \n",
       "\n",
       "               lon3       lat3         r3  \n",
       "1945     -99.266852  25.463106   2.831005  \n",
       "15333   -159.995143  46.970502  42.010517  \n",
       "15515   -159.995143  46.970502  42.010517  \n",
       "16325   -160.393430  43.254644   2.663866  \n",
       "16593   -159.995143  46.970502  42.010517  \n",
       "...             ...        ...        ...  \n",
       "7177320  136.937168 -27.420061   3.398287  \n",
       "7183897  -62.025471 -19.433848   6.235748  \n",
       "7199447   20.722050 -28.743763   6.473752  \n",
       "7199864   19.404216 -30.048981   3.814112  \n",
       "7201564   97.730085   9.257161  11.853467  \n",
       "\n",
       "[2819 rows x 15 columns]"
      ],
      "text/html": "<div>\n<style scoped>\n    .dataframe tbody tr th:only-of-type {\n        vertical-align: middle;\n    }\n\n    .dataframe tbody tr th {\n        vertical-align: top;\n    }\n\n    .dataframe thead th {\n        text-align: right;\n    }\n</style>\n<table border=\"1\" class=\"dataframe\">\n  <thead>\n    <tr style=\"text-align: right;\">\n      <th></th>\n      <th>Angle1</th>\n      <th>Angle2</th>\n      <th>Angle3</th>\n      <th>des1</th>\n      <th>des2</th>\n      <th>des3</th>\n      <th>lon1</th>\n      <th>lat1</th>\n      <th>r1</th>\n      <th>lon2</th>\n      <th>lat2</th>\n      <th>r2</th>\n      <th>lon3</th>\n      <th>lat3</th>\n      <th>r3</th>\n    </tr>\n  </thead>\n  <tbody>\n    <tr>\n      <th>1945</th>\n      <td>40.724938</td>\n      <td>7.473590</td>\n      <td>131.801472</td>\n      <td>19.925780</td>\n      <td>6.150809</td>\n      <td>14.830998</td>\n      <td>-100.751969</td>\n      <td>22.128505</td>\n      <td>3.465011</td>\n      <td>-99.842832</td>\n      <td>25.191229</td>\n      <td>4.618833</td>\n      <td>-99.266852</td>\n      <td>25.463106</td>\n      <td>2.831005</td>\n    </tr>\n    <tr>\n      <th>15333</th>\n      <td>43.269149</td>\n      <td>7.864617</td>\n      <td>128.866234</td>\n      <td>20.559423</td>\n      <td>10.777556</td>\n      <td>1.061722</td>\n      <td>-157.366003</td>\n      <td>44.103423</td>\n      <td>3.587667</td>\n      <td>-159.313352</td>\n      <td>46.920318</td>\n      <td>2.853350</td>\n      <td>-159.995143</td>\n      <td>46.970502</td>\n      <td>42.010517</td>\n    </tr>\n    <tr>\n      <th>15515</th>\n      <td>41.304061</td>\n      <td>9.380563</td>\n      <td>129.315376</td>\n      <td>20.068714</td>\n      <td>1.464064</td>\n      <td>0.980432</td>\n      <td>-157.377599</td>\n      <td>44.657513</td>\n      <td>3.249410</td>\n      <td>-159.902522</td>\n      <td>46.240461</td>\n      <td>17.794907</td>\n      <td>-159.995143</td>\n      <td>46.970502</td>\n      <td>42.010517</td>\n    </tr>\n    <tr>\n      <th>16325</th>\n      <td>45.491360</td>\n      <td>6.568196</td>\n      <td>127.940444</td>\n      <td>19.109404</td>\n      <td>5.564198</td>\n      <td>11.440300</td>\n      <td>-158.384416</td>\n      <td>45.095402</td>\n      <td>2.740044</td>\n      <td>-159.998765</td>\n      <td>43.234003</td>\n      <td>4.074035</td>\n      <td>-160.393430</td>\n      <td>43.254644</td>\n      <td>2.663866</td>\n    </tr>\n    <tr>\n      <th>16593</th>\n      <td>45.301722</td>\n      <td>9.581160</td>\n      <td>125.117117</td>\n      <td>19.483354</td>\n      <td>9.165784</td>\n      <td>0.931401</td>\n      <td>-157.813723</td>\n      <td>44.415356</td>\n      <td>3.246271</td>\n      <td>-159.313352</td>\n      <td>46.920318</td>\n      <td>2.853350</td>\n      <td>-159.995143</td>\n      <td>46.970502</td>\n      <td>42.010517</td>\n    </tr>\n    <tr>\n      <th>...</th>\n      <td>...</td>\n      <td>...</td>\n      <td>...</td>\n      <td>...</td>\n      <td>...</td>\n      <td>...</td>\n      <td>...</td>\n      <td>...</td>\n      <td>...</td>\n      <td>...</td>\n      <td>...</td>\n      <td>...</td>\n      <td>...</td>\n      <td>...</td>\n      <td>...</td>\n    </tr>\n    <tr>\n      <th>7177320</th>\n      <td>40.685163</td>\n      <td>6.034265</td>\n      <td>133.280572</td>\n      <td>21.889586</td>\n      <td>9.161103</td>\n      <td>10.811053</td>\n      <td>139.888275</td>\n      <td>-28.815238</td>\n      <td>2.853127</td>\n      <td>137.391642</td>\n      <td>-27.295031</td>\n      <td>2.893440</td>\n      <td>136.937168</td>\n      <td>-27.420061</td>\n      <td>3.398287</td>\n    </tr>\n    <tr>\n      <th>7183897</th>\n      <td>40.285839</td>\n      <td>12.871534</td>\n      <td>126.842626</td>\n      <td>18.427970</td>\n      <td>5.318097</td>\n      <td>5.164042</td>\n      <td>-64.579881</td>\n      <td>-18.952612</td>\n      <td>2.561638</td>\n      <td>-62.654488</td>\n      <td>-19.791422</td>\n      <td>3.352850</td>\n      <td>-62.025471</td>\n      <td>-19.433848</td>\n      <td>6.235748</td>\n    </tr>\n    <tr>\n      <th>7199447</th>\n      <td>42.869940</td>\n      <td>6.321279</td>\n      <td>130.808782</td>\n      <td>20.302012</td>\n      <td>5.117932</td>\n      <td>5.790572</td>\n      <td>22.171224</td>\n      <td>-31.750861</td>\n      <td>3.150973</td>\n      <td>21.174153</td>\n      <td>-28.920939</td>\n      <td>5.348517</td>\n      <td>20.722050</td>\n      <td>-28.743763</td>\n      <td>6.473752</td>\n    </tr>\n    <tr>\n      <th>7199864</th>\n      <td>38.818395</td>\n      <td>11.166011</td>\n      <td>130.015594</td>\n      <td>22.213985</td>\n      <td>3.090850</td>\n      <td>10.883341</td>\n      <td>22.732076</td>\n      <td>-30.751346</td>\n      <td>2.801069</td>\n      <td>19.948502</td>\n      <td>-30.714824</td>\n      <td>7.606678</td>\n      <td>19.404216</td>\n      <td>-30.048981</td>\n      <td>3.814112</td>\n    </tr>\n    <tr>\n      <th>7201564</th>\n      <td>40.905121</td>\n      <td>10.552292</td>\n      <td>128.542587</td>\n      <td>20.070970</td>\n      <td>8.583477</td>\n      <td>3.323725</td>\n      <td>95.318176</td>\n      <td>7.028466</td>\n      <td>3.025598</td>\n      <td>97.644965</td>\n      <td>8.492975</td>\n      <td>2.765582</td>\n      <td>97.730085</td>\n      <td>9.257161</td>\n      <td>11.853467</td>\n    </tr>\n  </tbody>\n</table>\n<p>2819 rows × 15 columns</p>\n</div>"
     },
     "metadata": {},
     "execution_count": 11
    }
   ],
   "source": [
    "# ##########################################\n",
    "# #               SEARCH\n",
    "# idx = 4\n",
    "# Angle1_Q1 = QUERY1.Angle1[idx]\n",
    "# Angle2_Q1 = QUERY1.Angle2[idx]\n",
    "# Angle3_Q1 = QUERY1.Angle3[idx]\n",
    "# d1_Q1 = QUERY1.des1[idx]\n",
    "# d2_Q1 = QUERY1.des2[idx]\n",
    "# d3_Q1 = QUERY1.des3[idx]\n",
    "\n",
    "# SEARCH = QUERY2[ ((abs(QUERY2.Angle1 - Angle1_Q1) < tol) & (abs(QUERY2.Angle2 - Angle2_Q1) < tol) & (abs(QUERY2.Angle3 - Angle3_Q1) < tol))   \\\n",
    "#                       |  ((abs(QUERY2.Angle1 - Angle2_Q1) < tol) & (abs(QUERY2.Angle2 - Angle3_Q1) < tol) & (abs(QUERY2.Angle3 - Angle1_Q1) < tol)) \\\n",
    "#                       |  ((abs(QUERY2.Angle1 - Angle3_Q1) < tol) & (abs(QUERY2.Angle2 - Angle1_Q1) < tol) & (abs(QUERY2.Angle3 - Angle2_Q1) < tol))]\n",
    "\n",
    "# SEARCH = SEARCH  [ ((abs(QUERY2.des1- d1_Q1) < tol) & (abs(QUERY2.des1- d2_Q1) < tol) & (abs(QUERY2.des1- d3_Q1) < tol)) \\\n",
    "#                      | ((abs(QUERY2.des1- d2_Q1) < tol) & (abs(QUERY2.des1- d3_Q1) < tol) & (abs(QUERY2.des1- d1_Q1) < tol)) \\\n",
    "#                      | ((abs(QUERY2.des1- d3_Q1) < tol) & (abs(QUERY2.des1- d1_Q1) < tol) & (abs(QUERY2.des1- d2_Q1) < tol)) ]\n",
    "# SEARCH"
   ]
  },
  {
   "cell_type": "code",
   "execution_count": 80,
   "metadata": {},
   "outputs": [
    {
     "output_type": "execute_result",
     "data": {
      "text/plain": [
       "Empty DataFrame\n",
       "Columns: [Angle1, Angle2, Angle3, des1, des2, des3, lon1, lat1, r1, lon2, lat2, r2, lon3, lat3, r3]\n",
       "Index: []"
      ],
      "text/html": "<div>\n<style scoped>\n    .dataframe tbody tr th:only-of-type {\n        vertical-align: middle;\n    }\n\n    .dataframe tbody tr th {\n        vertical-align: top;\n    }\n\n    .dataframe thead th {\n        text-align: right;\n    }\n</style>\n<table border=\"1\" class=\"dataframe\">\n  <thead>\n    <tr style=\"text-align: right;\">\n      <th></th>\n      <th>Angle1</th>\n      <th>Angle2</th>\n      <th>Angle3</th>\n      <th>des1</th>\n      <th>des2</th>\n      <th>des3</th>\n      <th>lon1</th>\n      <th>lat1</th>\n      <th>r1</th>\n      <th>lon2</th>\n      <th>lat2</th>\n      <th>r2</th>\n      <th>lon3</th>\n      <th>lat3</th>\n      <th>r3</th>\n    </tr>\n  </thead>\n  <tbody>\n  </tbody>\n</table>\n</div>"
     },
     "metadata": {},
     "execution_count": 80
    }
   ],
   "source": [
    "##########################################\n",
    "#               SEARCH\n",
    "##########################################\n",
    "idx = 4\n",
    "\n",
    "Angle1_Q1 = QUERY1.Angle1[idx]\n",
    "Angle2_Q1 = QUERY1.Angle2[idx]\n",
    "Angle3_Q1 = QUERY1.Angle3[idx]\n",
    "d1_Q1 = QUERY1.des1[idx]\n",
    "d2_Q1 = QUERY1.des2[idx]\n",
    "d3_Q1 = QUERY1.des3[idx]\n",
    "\n",
    "tol = 2.5\n",
    "SEARCH = QUERY2[ ((abs(QUERY2.Angle1 - Angle1_Q1) < tol) & (abs(QUERY2.Angle2 - Angle2_Q1) < tol) & (abs(QUERY2.Angle3 - Angle3_Q1) < tol))   \\\n",
    "                      |  ((abs(QUERY2.Angle1 - Angle2_Q1) < tol) & (abs(QUERY2.Angle2 - Angle3_Q1) < tol) & (abs(QUERY2.Angle3 - Angle1_Q1) < tol)) \\\n",
    "                      |  ((abs(QUERY2.Angle1 - Angle3_Q1) < tol) & (abs(QUERY2.Angle2 - Angle1_Q1) < tol) & (abs(QUERY2.Angle3 - Angle2_Q1) < tol))]\n",
    "tol = 2.5\n",
    "SEARCH = SEARCH  [     ((abs(QUERY2.des1- d1_Q1) < tol) & (abs(QUERY2.des2- d2_Q1) < tol) & (abs(QUERY2.des3- d3_Q1) < tol)) \\\n",
    "                     | ((abs(QUERY2.des1- d2_Q1) < tol) & (abs(QUERY2.des2- d3_Q1) < tol) & (abs(QUERY2.des3- d1_Q1) < tol)) \\\n",
    "                     | ((abs(QUERY2.des1- d3_Q1) < tol) & (abs(QUERY2.des2- d1_Q1) < tol) & (abs(QUERY2.des3- d2_Q1) < tol)) ]\n",
    "\n",
    "\n",
    "# if SEARCH.shape[0] > 0:\n",
    "#     SEARCH = SEARCH[ SEARCH.lat1 < 1]\n",
    "#     if SEARCH.shape[0] > 0:\n",
    "#         SEARCH[ SEARCH.lat1 > -1]\n",
    "SEARCH"
   ]
  },
  {
   "cell_type": "code",
   "execution_count": 12,
   "metadata": {},
   "outputs": [
    {
     "output_type": "execute_result",
     "data": {
      "text/plain": [
       "       Angle1     Angle2     Angle3       des1       des2       des3     x1  \\\n",
       "4  128.761221  41.183603  10.055176  17.223419  22.813803  17.684598  134.5   \n",
       "\n",
       "     y1    r1     x2     y2    r2     x3     y3    r3  \n",
       "4  27.5  22.5  794.5  761.5  26.5  137.5  248.5  13.5  "
      ],
      "text/html": "<div>\n<style scoped>\n    .dataframe tbody tr th:only-of-type {\n        vertical-align: middle;\n    }\n\n    .dataframe tbody tr th {\n        vertical-align: top;\n    }\n\n    .dataframe thead th {\n        text-align: right;\n    }\n</style>\n<table border=\"1\" class=\"dataframe\">\n  <thead>\n    <tr style=\"text-align: right;\">\n      <th></th>\n      <th>Angle1</th>\n      <th>Angle2</th>\n      <th>Angle3</th>\n      <th>des1</th>\n      <th>des2</th>\n      <th>des3</th>\n      <th>x1</th>\n      <th>y1</th>\n      <th>r1</th>\n      <th>x2</th>\n      <th>y2</th>\n      <th>r2</th>\n      <th>x3</th>\n      <th>y3</th>\n      <th>r3</th>\n    </tr>\n  </thead>\n  <tbody>\n    <tr>\n      <th>4</th>\n      <td>128.761221</td>\n      <td>41.183603</td>\n      <td>10.055176</td>\n      <td>17.223419</td>\n      <td>22.813803</td>\n      <td>17.684598</td>\n      <td>134.5</td>\n      <td>27.5</td>\n      <td>22.5</td>\n      <td>794.5</td>\n      <td>761.5</td>\n      <td>26.5</td>\n      <td>137.5</td>\n      <td>248.5</td>\n      <td>13.5</td>\n    </tr>\n  </tbody>\n</table>\n</div>"
     },
     "metadata": {},
     "execution_count": 12
    }
   ],
   "source": [
    "QUERY1.iloc[idx:idx+1]"
   ]
  },
  {
   "cell_type": "code",
   "execution_count": null,
   "metadata": {},
   "outputs": [],
   "source": []
  },
  {
   "cell_type": "code",
   "execution_count": null,
   "metadata": {},
   "outputs": [],
   "source": []
  },
  {
   "cell_type": "code",
   "execution_count": null,
   "metadata": {},
   "outputs": [],
   "source": []
  },
  {
   "cell_type": "code",
   "execution_count": null,
   "metadata": {},
   "outputs": [],
   "source": []
  },
  {
   "cell_type": "code",
   "execution_count": null,
   "metadata": {},
   "outputs": [],
   "source": []
  },
  {
   "cell_type": "code",
   "execution_count": null,
   "metadata": {},
   "outputs": [],
   "source": []
  },
  {
   "cell_type": "code",
   "execution_count": null,
   "metadata": {},
   "outputs": [],
   "source": []
  },
  {
   "cell_type": "code",
   "execution_count": null,
   "metadata": {},
   "outputs": [],
   "source": []
  },
  {
   "cell_type": "code",
   "execution_count": null,
   "metadata": {},
   "outputs": [],
   "source": []
  },
  {
   "cell_type": "code",
   "execution_count": null,
   "metadata": {},
   "outputs": [],
   "source": []
  },
  {
   "cell_type": "code",
   "execution_count": null,
   "metadata": {},
   "outputs": [],
   "source": []
  },
  {
   "cell_type": "code",
   "execution_count": null,
   "metadata": {},
   "outputs": [],
   "source": []
  },
  {
   "cell_type": "code",
   "execution_count": null,
   "metadata": {},
   "outputs": [],
   "source": []
  },
  {
   "cell_type": "code",
   "execution_count": null,
   "metadata": {},
   "outputs": [],
   "source": []
  },
  {
   "cell_type": "code",
   "execution_count": null,
   "metadata": {},
   "outputs": [],
   "source": []
  },
  {
   "cell_type": "code",
   "execution_count": null,
   "metadata": {},
   "outputs": [],
   "source": []
  },
  {
   "cell_type": "code",
   "execution_count": null,
   "metadata": {},
   "outputs": [],
   "source": []
  },
  {
   "cell_type": "code",
   "execution_count": null,
   "metadata": {},
   "outputs": [],
   "source": []
  },
  {
   "cell_type": "code",
   "execution_count": null,
   "metadata": {},
   "outputs": [],
   "source": [
    "# # Searching:\n",
    "# count,d, found = 0, 10, False\n",
    "# # for i in QUERY1.iloc:\n",
    "# for idx in range(QUERY1.shape[0]):\n",
    "#     if found:\n",
    "#         break\n",
    "\n",
    "#     i = QUERY1.iloc[idx]\n",
    "#     count+=1\n",
    "#     printProgressBar(count, QUERY1.shape[0], printEnd='')\n",
    "    \n",
    "#     for idy in range(QUERY2.shape[0]):\n",
    "#         j = QUERY2.iloc[idy]\n",
    "#         a1,a2,a3 = i.Angle1,i.Angle2,i.Angle3\n",
    "#         b1,b2,b3 = j.Angle1,j.Angle2,j.Angle3\n",
    "#         x1,x2,x3 = i.r1,i.r2,i.r3\n",
    "#         y1,y2,y3 = j.r1,j.r2,j.r3\n",
    "# #       switch\n",
    "#         d1 = abs(a1-b1)+abs(a2-b2)+abs(a3-b3)\n",
    "#         d2 = abs(a1-b2)+abs(a2-b3)+abs(a3-b1)\n",
    "#         d3 = abs(a1-b3)+abs(a2-b1)+abs(a3-b2)\n",
    "# #       switch\n",
    "#         r1 = abs(x1-y1)+abs(x2-y2)+abs(x3-y3)\n",
    "#         r2 = abs(x1-y2)+abs(x2-y3)+abs(x3-y1)\n",
    "#         r3 = abs(x1-y3)+abs(x2-y1)+abs(x3-y2)\n",
    "\n",
    "#         d = min(d1,d2,d3)\n",
    "#         r = min(r1,r2,r3)\n",
    "#         if (d < 2) & (r < 5):\n",
    "#             print('\\nFOUNDED')\n",
    "#             save = [idx, idy]\n",
    "#             print(save)\n",
    "#             print(d,r)\n",
    "#             found = True\n",
    "#             break\n",
    "# print('\\n')\n",
    "# if found:\n",
    "#     a = QUERY1.iloc[save[0]]\n",
    "#     b = QUERY2.iloc[save[1]]\n",
    "#     crts1 = np.vstack([[a.x1,a.y1,a.r1],[a.x2,a.y2,a.r2],[a.x3,a.y3,a.r3]])\n",
    "#     crts2 = np.vstack([[b.x1,b.y1,b.r1],[b.x2,b.y2,b.r2],[b.x3,b.y3,b.r3]])\n",
    "\n",
    "#     plt.figure(dpi=200)\n",
    "#     plt.subplot(121)\n",
    "#     cp1 = img1.copy()\n",
    "#     IMG1 =  img_plus_crts(cp1, crts1, color=\"red\")\n",
    "#     plt.imshow(IMG1)\n",
    "\n",
    "#     plt.subplot(122)\n",
    "#     cp2 = img2.copy()\n",
    "#     IMG2 =  img_plus_crts(cp2, crts2, color=\"red\")\n",
    "#     plt.imshow(IMG2)\n",
    "#     plt.show()\n",
    "# else:\n",
    "#     print(\"Match can't find any triplets.\")"
   ]
  },
  {
   "cell_type": "code",
   "execution_count": null,
   "metadata": {},
   "outputs": [],
   "source": [
    "# def find_query(df_craters):\n",
    "#     STORED = []\n",
    "#     c=0\n",
    "#     M=df_craters.shape[0]\n",
    "#     QUERY = np.zeros((M**2,15))\n",
    "#     for i in range(M):\n",
    "#         for j in range(M):\n",
    "#             if i != j:\n",
    "#                 triplet, HP, PICKS = find_triplet(df_craters, idx_a = i, idx_b=j)\n",
    "#                 Names = [triplet[0].name,triplet[1].name,triplet[2].name]\n",
    "#                 names = set(Names)\n",
    "#                 if names not in STORED:\n",
    "#                     STORED.append(names)\n",
    "#                     K_v = compute_K_vet(triplet)\n",
    "#                     c1 = [triplet[0].x,triplet[0].y,triplet[0].r]\n",
    "#                     c2 = [triplet[1].x,triplet[1].y,triplet[1].r]\n",
    "#                     c3 = [triplet[2].x,triplet[2].y,triplet[2].r]\n",
    "#                     QUERY[c] = np.hstack([K_v, Names,c1,c2,c3])\n",
    "#                     c+=1\n",
    "#                 else: continue\n",
    "\n",
    "#         printProgressBar(i+1, df_craters.shape[0], printEnd='')\n",
    "#     QUERY = pd.DataFrame(QUERY, columns=['Angle1','Angle2','Angle3','ctr1','ctr2','ctr3','x1','y1','r1','x2','y2','r2','x3','y3','r3'])\n",
    "#     return QUERY"
   ]
  },
  {
   "cell_type": "code",
   "execution_count": null,
   "metadata": {},
   "outputs": [],
   "source": [
    "# # Searching:\n",
    "# count,d, found = 0, 10, False\n",
    "# # for i in QUERY1.iloc:\n",
    "# for idx in range(QUERY1.shape[0]):\n",
    "#     if found:\n",
    "#         break\n",
    "\n",
    "#     i = QUERY1.iloc[idx]\n",
    "#     count+=1\n",
    "#     printProgressBar(count, QUERY1.shape[0], printEnd='')\n",
    "    \n",
    "#     for idy in range(QUERY2.shape[0]):\n",
    "#         j = QUERY2.iloc[idy]\n",
    "#         a1,a2,a3 = i.Angle1,i.Angle2,i.Angle3\n",
    "#         b1,b2,b3 = j.Angle1,j.Angle2,j.Angle3\n",
    "#         x1,x2,x3 = i.r1,i.r2,i.r3\n",
    "#         y1,y2,y3 = j.r1,j.r2,j.r3\n",
    "# #       switch\n",
    "#         d1 = abs(a1-b1)+abs(a2-b2)+abs(a3-b3)\n",
    "#         d2 = abs(a1-b2)+abs(a2-b3)+abs(a3-b1)\n",
    "#         d3 = abs(a1-b3)+abs(a2-b1)+abs(a3-b2)\n",
    "# #       switch\n",
    "#         r1 = abs(x1-y1)+abs(x2-y2)+abs(x3-y3)\n",
    "#         r2 = abs(x1-y2)+abs(x2-y3)+abs(x3-y1)\n",
    "#         r3 = abs(x1-y3)+abs(x2-y1)+abs(x3-y2)\n",
    "\n",
    "#         d = min(d1,d2,d3)\n",
    "#         r = min(r1,r2,r3)\n",
    "#         if (d < 2) & (r < 5):\n",
    "#             print('\\nFOUNDED')\n",
    "#             save = [idx, idy]\n",
    "#             print(save)\n",
    "#             print(d,r)\n",
    "#             found = True\n",
    "#             break\n",
    "# print('\\n')\n",
    "# if found:\n",
    "#     a = QUERY1.iloc[save[0]]\n",
    "#     b = QUERY2.iloc[save[1]]\n",
    "#     crts1 = np.vstack([[a.x1,a.y1,a.r1],[a.x2,a.y2,a.r2],[a.x3,a.y3,a.r3]])\n",
    "#     crts2 = np.vstack([[b.x1,b.y1,b.r1],[b.x2,b.y2,b.r2],[b.x3,b.y3,b.r3]])\n",
    "\n",
    "#     plt.figure(dpi=200)\n",
    "#     plt.subplot(121)\n",
    "#     cp1 = img1.copy()\n",
    "#     IMG1 =  img_plus_crts(cp1, crts1, color=\"red\")\n",
    "#     plt.imshow(IMG1)\n",
    "\n",
    "#     plt.subplot(122)\n",
    "#     cp2 = img2.copy()\n",
    "#     IMG2 =  img_plus_crts(cp2, crts2, color=\"red\")\n",
    "#     plt.imshow(IMG2)\n",
    "#     plt.show()\n",
    "# else:\n",
    "#     print(\"Match can't find any triplets.\")"
   ]
  },
  {
   "cell_type": "code",
   "execution_count": null,
   "metadata": {
    "tags": []
   },
   "outputs": [],
   "source": [
    "# def matching(crat_det, crat_cat):\n",
    "    \n",
    "#     mat1 = crat_det\n",
    "#     mat2 = crat_cat\n",
    "\n",
    "#     MATCHER = []\n",
    "#     for i in range(mat1.shape[0]):\n",
    "#         for j in range(mat2.shape[0]):\n",
    "#             f1 = mat1[i, :]\n",
    "#             f2 = mat2[j, :]\n",
    "#             tmp = sq_dif(f1,f2)\n",
    "#             TMP = [i, j, tmp]\n",
    "#             MATCHER.append(TMP)\n",
    "#     flag = np.zeros(2)\n",
    "#     for elem in MATCHER:\n",
    "#         if elem[2] < 100:\n",
    "#             match = [elem[0],elem[1]] \n",
    "#             flag = np.vstack((flag, match))\n",
    "#     flag = flag[1:,:]\n",
    "#     flag = np.array(flag).astype(int)\n",
    "#     return flag\n"
   ]
  },
  {
   "cell_type": "code",
   "execution_count": null,
   "metadata": {},
   "outputs": [],
   "source": [
    "# flag = np.zeros(2)\n",
    "# for elem in MATCHER:\n",
    "#     if elem[2] < 100:\n",
    "#         match = [elem[0],elem[1]] \n",
    "#         flag = np.vstack((flag, match))\n",
    "# flag = flag[1:,:]\n",
    "# flag = np.array(flag).astype(int)\n",
    "# flag"
   ]
  },
  {
   "cell_type": "code",
   "execution_count": null,
   "metadata": {},
   "outputs": [],
   "source": [
    "# # Stack the images\n",
    "# img1 = cv2.imread('/home/sirbastiano/Desktop/Python Projects/Progetto Tesi/Dataset/2 step size/IMG_1_Lat_0_Long_-147.8129.jpg')\n",
    "# img2 = cv2.imread('/home/sirbastiano/Desktop/Python Projects/Progetto Tesi/Dataset/2 step size/IMG_2_Lat_0_Long_-147.7069.jpg')\n",
    "# img_matched = np.hstack((img1,img2)).astype(int)\n",
    "# plt.imshow(img_matched, cmap='gray')\n",
    "# plt.axis(False)\n",
    "# plt.grid(False)"
   ]
  },
  {
   "cell_type": "code",
   "execution_count": null,
   "metadata": {},
   "outputs": [],
   "source": [
    "# cv2.arrowedLine(img_matched,start,end,(255, 0, 0) , 3)"
   ]
  },
  {
   "cell_type": "code",
   "execution_count": null,
   "metadata": {},
   "outputs": [],
   "source": [
    "# center_coordinates = start\n",
    "# radius = 500\n",
    "# color = (0,0,255)\n",
    "# thickness = 6\n",
    "# cv2.circle(img_matched, center_coordinates, radius, color, thickness)"
   ]
  },
  {
   "cell_type": "code",
   "execution_count": null,
   "metadata": {},
   "outputs": [],
   "source": []
  }
 ]
}