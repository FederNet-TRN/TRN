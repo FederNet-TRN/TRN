{
 "metadata": {
  "language_info": {
   "codemirror_mode": {
    "name": "ipython",
    "version": 3
   },
   "file_extension": ".py",
   "mimetype": "text/x-python",
   "name": "python",
   "nbconvert_exporter": "python",
   "pygments_lexer": "ipython3",
   "version": "3.7.9-final"
  },
  "orig_nbformat": 2,
  "kernelspec": {
   "name": "python3",
   "display_name": "Python 3.7.9 64-bit ('project_thesis': conda)",
   "metadata": {
    "interpreter": {
     "hash": "93fe94e5baa96e16921111566a2ec9b1e2e4eaf5c7b48668a60b4cd4eab04f86"
    }
   }
  }
 },
 "nbformat": 4,
 "nbformat_minor": 2,
 "cells": [
  {
   "source": [
    "# Toggle settings\n",
    "Con questo semplice comando importiamo tutte le librerie necessarie e le funzioni che abbiamo scritto nel file settings."
   ],
   "cell_type": "markdown",
   "metadata": {}
  },
  {
   "cell_type": "code",
   "execution_count": null,
   "metadata": {},
   "outputs": [],
   "source": [
    "# External libraries\n",
    "import numpy as np\n",
    "import matplotlib.pyplot as plt\n",
    "import matplotlib.style as style\n",
    "import pandas as pd\n",
    "# Own Libraries\n",
    "from utility.utils import *\n",
    "from Match.pair import *\n",
    "from Match.icp import *\n",
    "\n",
    "%matplotlib tk\n",
    "style.use('seaborn-paper')"
   ]
  },
  {
   "source": [
    "## Caricamento immagini\n",
    "Visualizziamo prima immagine da tiles (2 stepsize)"
   ],
   "cell_type": "markdown",
   "metadata": {}
  },
  {
   "cell_type": "code",
   "execution_count": null,
   "metadata": {},
   "outputs": [],
   "source": [
    "df = pd.read_csv('DATA/lunar_crater_database_robbins_2018.csv')\n",
    "df = df[['LAT_CIRC_IMG','LON_CIRC_IMG','DIAM_CIRC_IMG']]\n",
    "df.rename( columns= {'LAT_CIRC_IMG':'lat', 'LON_CIRC_IMG':'lon','DIAM_CIRC_IMG':'r'}, inplace=True )\n",
    "df.r = df.r/2\n",
    "df.lon = np.where(df.lon < 180, df.lon, df.lon - 360)\n",
    "df = df.sort_values(by='lat')\n",
    "df.insert(3,'i',range(len(df)))\n",
    "df = df.sort_values(by='lon')\n",
    "df.insert(4,'j',range(len(df)))\n",
    "df = df[df.r < 100]\n",
    "df.reset_index(drop=True, inplace=True)"
   ]
  },
  {
   "cell_type": "code",
   "execution_count": null,
   "metadata": {},
   "outputs": [],
   "source": [
    "# init\n",
    "H = pd.DataFrame({\n",
    "'Lat_min':[0],\n",
    "'Lat_max':[0],\n",
    "'Lon_min':[0],\n",
    "'Lon_max':[0],\n",
    "'ICD_max':[0],\n",
    "'angle1':[0],\n",
    "'angle2':[0],\n",
    "'angle3':[0],\n",
    "'crt_name1':[0],\n",
    "'crt_name2':[0],\n",
    "'crt_name3':[0]\n",
    "})"
   ]
  },
  {
   "cell_type": "code",
   "execution_count": null,
   "metadata": {},
   "outputs": [],
   "source": [
    "triplet = find_triplet(df, 2)\n",
    "K_v = compute_K_vet(triplet)\n",
    "ICD_max = find_max_crt_dist(triplet)\n",
    "lat_m, lat_M, lon_m, lon_M = find_bounds(triplet)\n",
    "R_M = find_max_radius(triplet)"
   ]
  },
  {
   "cell_type": "code",
   "execution_count": null,
   "metadata": {},
   "outputs": [],
   "source": []
  },
  {
   "cell_type": "code",
   "execution_count": null,
   "metadata": {},
   "outputs": [],
   "source": [
    "for ind in range(df.shape[0]):\n",
    "    printProgressBar(ind, df.shape[0])\n",
    "    triplet = find_triplet(df, ind)\n",
    "    K_v = compute_K_vet(triplet)\n",
    "    ICD_max = find_max_crt_dist(triplet)\n",
    "    lat_m, lat_M, lon_m, lon_M = find_bounds(triplet)\n",
    "    R_M = find_max_radius(triplet)\n",
    "    entry = [lat_m, lat_M, lon_m, lon_M, ICD_max, K_v[0], K_v[1], K_v[2], triplet[0].name,triplet[1].name,triplet[2].name]\n",
    "    if np.all(K_v > 15):\n",
    "        H.loc[ind] = entry"
   ]
  },
  {
   "cell_type": "code",
   "execution_count": null,
   "metadata": {},
   "outputs": [],
   "source": [
    "H"
   ]
  },
  {
   "cell_type": "code",
   "execution_count": null,
   "metadata": {},
   "outputs": [],
   "source": []
  },
  {
   "cell_type": "code",
   "execution_count": null,
   "metadata": {},
   "outputs": [],
   "source": [
    "H"
   ]
  },
  {
   "cell_type": "code",
   "execution_count": null,
   "metadata": {},
   "outputs": [],
   "source": []
  },
  {
   "cell_type": "code",
   "execution_count": null,
   "metadata": {},
   "outputs": [],
   "source": []
  },
  {
   "cell_type": "code",
   "execution_count": null,
   "metadata": {},
   "outputs": [],
   "source": []
  },
  {
   "cell_type": "code",
   "execution_count": null,
   "metadata": {},
   "outputs": [],
   "source": []
  },
  {
   "cell_type": "code",
   "execution_count": null,
   "metadata": {},
   "outputs": [],
   "source": []
  },
  {
   "cell_type": "code",
   "execution_count": null,
   "metadata": {},
   "outputs": [],
   "source": []
  },
  {
   "cell_type": "code",
   "execution_count": null,
   "metadata": {},
   "outputs": [],
   "source": []
  },
  {
   "cell_type": "code",
   "execution_count": null,
   "metadata": {},
   "outputs": [],
   "source": []
  },
  {
   "source": [
    "# Matching: "
   ],
   "cell_type": "markdown",
   "metadata": {}
  },
  {
   "cell_type": "code",
   "execution_count": null,
   "metadata": {
    "tags": []
   },
   "outputs": [],
   "source": [
    "# def matching(crat_det, crat_cat):\n",
    "    \n",
    "#     mat1 = crat_det\n",
    "#     mat2 = crat_cat\n",
    "\n",
    "#     MATCHER = []\n",
    "#     for i in range(mat1.shape[0]):\n",
    "#         for j in range(mat2.shape[0]):\n",
    "#             f1 = mat1[i, :]\n",
    "#             f2 = mat2[j, :]\n",
    "#             tmp = sq_dif(f1,f2)\n",
    "#             TMP = [i, j, tmp]\n",
    "#             MATCHER.append(TMP)\n",
    "#     flag = np.zeros(2)\n",
    "#     for elem in MATCHER:\n",
    "#         if elem[2] < 100:\n",
    "#             match = [elem[0],elem[1]] \n",
    "#             flag = np.vstack((flag, match))\n",
    "#     flag = flag[1:,:]\n",
    "#     flag = np.array(flag).astype(int)\n",
    "#     return flag\n"
   ]
  },
  {
   "cell_type": "code",
   "execution_count": null,
   "metadata": {},
   "outputs": [],
   "source": [
    "# flag = np.zeros(2)\n",
    "# for elem in MATCHER:\n",
    "#     if elem[2] < 100:\n",
    "#         match = [elem[0],elem[1]] \n",
    "#         flag = np.vstack((flag, match))\n",
    "# flag = flag[1:,:]\n",
    "# flag = np.array(flag).astype(int)\n",
    "# flag"
   ]
  },
  {
   "cell_type": "code",
   "execution_count": null,
   "metadata": {},
   "outputs": [],
   "source": [
    "# # Stack the images\n",
    "# img1 = cv2.imread('/home/sirbastiano/Desktop/Python Projects/Progetto Tesi/Dataset/2 step size/IMG_1_Lat_0_Long_-147.8129.jpg')\n",
    "# img2 = cv2.imread('/home/sirbastiano/Desktop/Python Projects/Progetto Tesi/Dataset/2 step size/IMG_2_Lat_0_Long_-147.7069.jpg')\n",
    "# img_matched = np.hstack((img1,img2)).astype(int)\n",
    "# plt.imshow(img_matched, cmap='gray')\n",
    "# plt.axis(False)\n",
    "# plt.grid(False)"
   ]
  },
  {
   "cell_type": "code",
   "execution_count": null,
   "metadata": {},
   "outputs": [],
   "source": [
    "# cv2.arrowedLine(img_matched,start,end,(255, 0, 0) , 3)"
   ]
  },
  {
   "cell_type": "code",
   "execution_count": null,
   "metadata": {},
   "outputs": [],
   "source": [
    "# center_coordinates = start\n",
    "# radius = 500\n",
    "# color = (0,0,255)\n",
    "# thickness = 6\n",
    "# cv2.circle(img_matched, center_coordinates, radius, color, thickness)"
   ]
  },
  {
   "cell_type": "code",
   "execution_count": null,
   "metadata": {},
   "outputs": [],
   "source": []
  }
 ]
}