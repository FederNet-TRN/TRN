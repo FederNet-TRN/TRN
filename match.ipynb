{
 "metadata": {
  "language_info": {
   "codemirror_mode": {
    "name": "ipython",
    "version": 3
   },
   "file_extension": ".py",
   "mimetype": "text/x-python",
   "name": "python",
   "nbconvert_exporter": "python",
   "pygments_lexer": "ipython3",
   "version": "3.7.9-final"
  },
  "orig_nbformat": 2,
  "kernelspec": {
   "name": "python3",
   "display_name": "Python 3.7.9 64-bit ('project_thesis': conda)",
   "metadata": {
    "interpreter": {
     "hash": "93fe94e5baa96e16921111566a2ec9b1e2e4eaf5c7b48668a60b4cd4eab04f86"
    }
   }
  }
 },
 "nbformat": 4,
 "nbformat_minor": 2,
 "cells": [
  {
   "cell_type": "code",
   "execution_count": null,
   "metadata": {},
   "outputs": [],
   "source": [
    "# External libraries\n",
    "import numpy as np\n",
    "import matplotlib.pyplot as plt\n",
    "import matplotlib.style as style\n",
    "import pandas as pd\n",
    "# Own Libraries\n",
    "from utility.utils import *\n",
    "from Match.pair import *\n",
    "from Match.icp import *\n",
    "\n",
    "%matplotlib tk\n",
    "style.use('seaborn-paper')"
   ]
  },
  {
   "source": [
    "# CATALOG CREATION"
   ],
   "cell_type": "markdown",
   "metadata": {}
  },
  {
   "cell_type": "code",
   "execution_count": null,
   "metadata": {},
   "outputs": [],
   "source": [
    "df = pd.read_csv('DATA/lunar_crater_database_robbins_2018.csv')\n",
    "df = df[['LAT_CIRC_IMG','LON_CIRC_IMG','DIAM_CIRC_IMG']]\n",
    "df.rename( columns= {'LAT_CIRC_IMG':'lat', 'LON_CIRC_IMG':'lon','DIAM_CIRC_IMG':'r'}, inplace=True )\n",
    "df.r = df.r/2\n",
    "df.lon = np.where(df.lon < 180, df.lon, df.lon - 360)\n",
    "df = df.sort_values(by='lat')\n",
    "df.insert(3,'i',range(len(df)))\n",
    "df = df.sort_values(by='lon')\n",
    "df.insert(4,'j',range(len(df)))\n",
    "df = df[df.r < 100]\n",
    "df.reset_index(drop=True, inplace=True)"
   ]
  },
  {
   "cell_type": "code",
   "execution_count": null,
   "metadata": {},
   "outputs": [],
   "source": [
    "# init H\n",
    "H = pd.DataFrame({\n",
    "'Lat_min':[0],\n",
    "'Lat_max':[0],\n",
    "'Lon_min':[0],\n",
    "'Lon_max':[0],\n",
    "'ICD_max':[0],\n",
    "'angle1':[0],\n",
    "'angle2':[0],\n",
    "'angle3':[0],\n",
    "'crt_name1':[0],\n",
    "'crt_name2':[0],\n",
    "'crt_name3':[0]\n",
    "})"
   ]
  },
  {
   "cell_type": "code",
   "execution_count": null,
   "metadata": {},
   "outputs": [],
   "source": [
    "df.shape[0]"
   ]
  },
  {
   "cell_type": "code",
   "execution_count": null,
   "metadata": {
    "tags": []
   },
   "outputs": [],
   "source": [
    "for ind in range(400000,500000):\n",
    "    triplet = find_triplet(df, ind)\n",
    "    K_v = compute_K_vet(triplet)\n",
    "    ICD_max = find_max_crt_dist(triplet)\n",
    "    lat_m, lat_M, lon_m, lon_M = find_bounds(triplet)\n",
    "    R_M = find_max_radius(triplet)\n",
    "    entry = [lat_m, lat_M, lon_m, lon_M, ICD_max, K_v[0], K_v[1], K_v[2], triplet[0].name,triplet[1].name,triplet[2].name]\n",
    "    if np.all(K_v > 15):\n",
    "        H.loc[ind] = entry\n",
    "    printProgressBar(ind, df.shape[0], printEnd='')    \n",
    "    file_name = 'TRN_catalog_part_B.csv'\n",
    "    H.to_csv(file_name)\n",
    "    print(ind)"
   ]
  },
  {
   "source": [
    "# Matching: "
   ],
   "cell_type": "markdown",
   "metadata": {}
  },
  {
   "cell_type": "code",
   "execution_count": 1,
   "metadata": {},
   "outputs": [
    {
     "output_type": "stream",
     "name": "stdout",
     "text": [
      "WARNING:tensorflow:From /home/sirbastiano/anaconda3/envs/project_thesis/lib/python3.7/site-packages/tensorflow_core/python/ops/resource_variable_ops.py:1635: calling BaseResourceVariable.__init__ (from tensorflow.python.ops.resource_variable_ops) with constraint is deprecated and will be removed in a future version.\nInstructions for updating:\nIf using Keras pass *_constraint arguments to layers.\n"
     ]
    }
   ],
   "source": [
    "# External libraries\n",
    "import numpy as np\n",
    "import matplotlib.pyplot as plt\n",
    "import matplotlib.style as style\n",
    "import pandas as pd\n",
    "import astropy\n",
    "import scipy\n",
    "from filterpy.kalman import KalmanFilter \n",
    "from filterpy.common import Q_discrete_white_noise\n",
    "from scipy.linalg import block_diag\n",
    "from astropy import units as u\n",
    "from poliastro.bodies import Earth, Mars, Sun, Moon\n",
    "from poliastro.twobody import Orbit\n",
    "from poliastro.plotting import OrbitPlotter2D\n",
    "from poliastro.plotting import OrbitPlotter3D\n",
    "import glob\n",
    "# Own Libraries\n",
    "from utility.utils import *\n",
    "from KalmanFilter.kf import *\n",
    "from Detect.detector import *\n",
    "from Match.pair import *\n",
    "from Match.icp import *\n",
    "\n",
    "%matplotlib tk\n",
    "style.use('seaborn-paper')"
   ]
  },
  {
   "cell_type": "code",
   "execution_count": 2,
   "metadata": {},
   "outputs": [],
   "source": [
    "# LOAD ALL IMAGES:\n",
    "dt = 5\n",
    "dict = {}\n",
    "for img in glob.glob(f\"DATA/ephemeris sat/inclination zero/{dt} step size/*\"):\n",
    "    txt = img             # stringa\n",
    "    t = txt.split('_')[1] # numero\n",
    "    dict[t] = txt"
   ]
  },
  {
   "cell_type": "code",
   "execution_count": 3,
   "metadata": {},
   "outputs": [],
   "source": [
    "# IMG1:\n",
    "idx = 0\n",
    "img1=cv2.imread(dict[str(idx+1)])\n",
    "craters_det1 = detect(img1)\n",
    "# IMG2:\n",
    "idx = 1\n",
    "img2=cv2.imread(dict[str(idx+1)])\n",
    "craters_det2 = detect(img2)"
   ]
  },
  {
   "cell_type": "code",
   "execution_count": 4,
   "metadata": {},
   "outputs": [],
   "source": [
    "df_craters_det1 = sort_mat(craters_det1)\n",
    "df_craters_det2 = sort_mat(craters_det2)"
   ]
  },
  {
   "cell_type": "code",
   "execution_count": 25,
   "metadata": {},
   "outputs": [],
   "source": [
    "for i in range(craters_det1.shape[0]):\n",
    "    triplet = find_triplet(df_craters_det1, idx = i)\n",
    "    K_v = compute_K_vet(triplet)\n",
    "    if i == 0:\n",
    "        QUERY1 = K_v\n",
    "        TRIPLETS1 = triplet\n",
    "    else:\n",
    "        if np.all(K_v > 0):\n",
    "            QUERY1 = np.vstack([QUERY1, K_v])\n",
    "            TRIPLETS1 = np.vstack([TRIPLETS1, triplet])\n",
    "\n",
    "\n",
    "for i in range(craters_det2.shape[0]):\n",
    "    triplet = find_triplet(df_craters_det2, idx = i)\n",
    "    K_v = compute_K_vet(triplet)\n",
    "    if i == 0:\n",
    "        QUERY2 = K_v\n",
    "        TRIPLETS2 = triplet\n",
    "    else:\n",
    "        if np.all(K_v > 0):\n",
    "            QUERY2 = np.vstack([QUERY2,K_v])\n",
    "            TRIPLETS2 = np.vstack([TRIPLETS2,triplet])\n",
    "\n",
    "\n",
    "\n",
    "if np.all(QUERY1[0] > 0): pass\n",
    "else: \n",
    "    QUERY1 = QUERY1[1:,:]\n",
    "    TRIPLETS1 = TRIPLETS1[1:,:] \n",
    "\n",
    "if np.all(QUERY2[0] > 0): pass\n",
    "else: \n",
    "    TRIPLETS2 = TRIPLETS2[1:,:] \n",
    "    QUERY2 = QUERY2[1:,:] "
   ]
  },
  {
   "cell_type": "code",
   "execution_count": 37,
   "metadata": {},
   "outputs": [
    {
     "output_type": "execute_result",
     "data": {
      "text/plain": [
       "[x    794.5\n",
       " y    761.5\n",
       " r     26.5\n",
       " i     29.0\n",
       " j     27.0\n",
       " Name: 1, dtype: float64,\n",
       " x    750.00\n",
       " y    714.50\n",
       " r     12.75\n",
       " i     28.00\n",
       " j     24.00\n",
       " Name: 21, dtype: float64,\n",
       " x    750.00\n",
       " y    714.50\n",
       " r     12.75\n",
       " i     28.00\n",
       " j     24.00\n",
       " Name: 21, dtype: float64]"
      ]
     },
     "metadata": {},
     "execution_count": 37
    }
   ],
   "source": [
    "triplet = find_triplet(df_craters_det1, idx = 1)\n",
    "K_v = compute_K_vet(triplet)\n",
    "# print(triplet, K_v)\n",
    "triplet"
   ]
  },
  {
   "cell_type": "code",
   "execution_count": 17,
   "metadata": {},
   "outputs": [
    {
     "output_type": "stream",
     "name": "stdout",
     "text": [
      "[  8.78330319 152.42163421  18.7950626 ] [  8.17444199 152.48999945  19.33555857]\n[  8.78330319  18.7950626  152.42163421] [  8.17444199  19.33555857 152.48999945]\n"
     ]
    }
   ],
   "source": [
    "for i in QUERY1:\n",
    "    for j in QUERY2:\n",
    "        d = np.linalg.norm(i-j)\n",
    "        if d < 1:\n",
    "            print(i,j)"
   ]
  },
  {
   "cell_type": "code",
   "execution_count": 9,
   "metadata": {},
   "outputs": [],
   "source": [
    "plt.figure(1)\n",
    "img = img_plus_crts(img1, craters_det1)\n",
    "plt.imshow(img)\n",
    "\n",
    "plt.figure(2)\n",
    "img = img_plus_crts(img2, craters_det2)\n",
    "plt.imshow(img)\n",
    "plt.show()"
   ]
  },
  {
   "cell_type": "code",
   "execution_count": 119,
   "metadata": {},
   "outputs": [],
   "source": [
    "from numba import njit\n",
    "\n",
    "@njit\n",
    "def findAngles(a, b, c):\n",
    "        # applied cosine rule\n",
    "        A = np.arccos((b * b + c * c - a * a) / (2 * b * c))\n",
    "        B = np.arccos((a * a + c * c - b * b) / (2 * a * c))\n",
    "        C = np.arccos((b * b + a * a - c * c) / (2 * b * a))\n",
    "        # convert into degrees\n",
    "        A, B, C = np.rad2deg(A), np.rad2deg(B), np.rad2deg(C)\n",
    "        return A, B, C\n",
    "\n",
    "\n",
    "@njit\n",
    "def compute_K_vet(triplet):\n",
    "        a, b, c = compute_sides(triplet)\n",
    "        A, B, C = findAngles(a, b, c)\n",
    "        K_vet = np.array([A, B, C])\n",
    "        if K_vet is not None:\n",
    "            return K_vet\n",
    "\n",
    "@njit\n",
    "def compute_sides(triplet):\n",
    "        a = np.linalg.norm(triplet[0][0:2] - triplet[1][0:2])\n",
    "        b = np.linalg.norm(triplet[1][0:2] - triplet[2][0:2])\n",
    "        c = np.linalg.norm(triplet[2][0:2] - triplet[0][0:2])\n",
    "        return a, b, c\n",
    "\n",
    "\n",
    "def find_all_triplets(craters):\n",
    "\n",
    "    def Hstack(K_v, i,j,k):\n",
    "        A = np.zeros(6)\n",
    "        A[0],A[1],A[2] = K_v[0],K_v[1],K_v[2]\n",
    "        A[3],A[4],A[5] = i,j,k\n",
    "        return A\n",
    "        \n",
    "\n",
    "    def concat(a,b,c):\n",
    "        A = np.zeros((3,3))\n",
    "        A[0] = a\n",
    "        A[1] = b\n",
    "        A[2] = c\n",
    "        return A\n",
    "\n",
    "    # Input: np.array craters\n",
    "    # Output: all triplets\n",
    "    N = craters.shape[0]\n",
    "    ender = N*N*N\n",
    "    K = np.zeros((ender,6))\n",
    "    lister = 0\n",
    "    for i in range(N):\n",
    "        for j in range(N):\n",
    "            for k in range(N):\n",
    "                if (i!=j) & (j!=k):\n",
    "                    a =craters[i]\n",
    "                    b =craters[j]\n",
    "                    c =craters[k]\n",
    "                    triplet = concat(a,b,c)\n",
    "                    try:\n",
    "                        K_v = compute_K_vet(triplet)\n",
    "                        K[lister] = Hstack(K_v, i,j,k)\n",
    "                    except ZeroDivisionError: pass\n",
    "                    \n",
    "                lister+=1\n",
    "    return K[ np.all(K !=0, axis=1) ]"
   ]
  },
  {
   "cell_type": "code",
   "execution_count": 124,
   "metadata": {},
   "outputs": [],
   "source": [
    "K1 = find_all_triplets(craters_det1)\n",
    "K2 = find_all_triplets(craters_det2)"
   ]
  },
  {
   "cell_type": "code",
   "execution_count": 128,
   "metadata": {},
   "outputs": [
    {
     "output_type": "error",
     "ename": "SyntaxError",
     "evalue": "invalid syntax (<ipython-input-128-ab3a230e1898>, line 4)",
     "traceback": [
      "\u001b[0;36m  File \u001b[0;32m\"<ipython-input-128-ab3a230e1898>\"\u001b[0;36m, line \u001b[0;32m4\u001b[0m\n\u001b[0;31m    for i in range(K1.shape[0]):\u001b[0m\n\u001b[0m      ^\u001b[0m\n\u001b[0;31mSyntaxError\u001b[0m\u001b[0;31m:\u001b[0m invalid syntax\n"
     ]
    }
   ],
   "source": [
    "# K = pd.DataFrame(K, columns=['angle1','angle2','angle3','i','j','k'])\n",
    "c = 0\n",
    "for i in range(K1.shape[0]):\n",
    "    for j in range(K2.shape[0]):\n",
    "        a,b = K1[i], K2[j]\n",
    "        d = np.linalg.norm(a-b)\n",
    "        if d < 1:\n",
    "            print(d)\n",
    "        printProgressBar(c, K1.shape[0]*K2.shape[0], printEnd='')\n",
    "        c+=1"
   ]
  },
  {
   "cell_type": "code",
   "execution_count": 129,
   "metadata": {},
   "outputs": [
    {
     "output_type": "execute_result",
     "data": {
      "text/plain": [
       "327523680"
      ]
     },
     "metadata": {},
     "execution_count": 129
    }
   ],
   "source": [
    "K1.shape[0]*K2.shape[0]"
   ]
  },
  {
   "cell_type": "code",
   "execution_count": null,
   "metadata": {},
   "outputs": [],
   "source": []
  },
  {
   "cell_type": "code",
   "execution_count": null,
   "metadata": {},
   "outputs": [],
   "source": []
  },
  {
   "cell_type": "code",
   "execution_count": null,
   "metadata": {},
   "outputs": [],
   "source": []
  },
  {
   "cell_type": "code",
   "execution_count": null,
   "metadata": {},
   "outputs": [],
   "source": []
  },
  {
   "cell_type": "code",
   "execution_count": 10,
   "metadata": {
    "tags": []
   },
   "outputs": [],
   "source": [
    "# def matching(crat_det, crat_cat):\n",
    "    \n",
    "#     mat1 = crat_det\n",
    "#     mat2 = crat_cat\n",
    "\n",
    "#     MATCHER = []\n",
    "#     for i in range(mat1.shape[0]):\n",
    "#         for j in range(mat2.shape[0]):\n",
    "#             f1 = mat1[i, :]\n",
    "#             f2 = mat2[j, :]\n",
    "#             tmp = sq_dif(f1,f2)\n",
    "#             TMP = [i, j, tmp]\n",
    "#             MATCHER.append(TMP)\n",
    "#     flag = np.zeros(2)\n",
    "#     for elem in MATCHER:\n",
    "#         if elem[2] < 100:\n",
    "#             match = [elem[0],elem[1]] \n",
    "#             flag = np.vstack((flag, match))\n",
    "#     flag = flag[1:,:]\n",
    "#     flag = np.array(flag).astype(int)\n",
    "#     return flag\n"
   ]
  },
  {
   "cell_type": "code",
   "execution_count": 11,
   "metadata": {},
   "outputs": [],
   "source": [
    "# flag = np.zeros(2)\n",
    "# for elem in MATCHER:\n",
    "#     if elem[2] < 100:\n",
    "#         match = [elem[0],elem[1]] \n",
    "#         flag = np.vstack((flag, match))\n",
    "# flag = flag[1:,:]\n",
    "# flag = np.array(flag).astype(int)\n",
    "# flag"
   ]
  },
  {
   "cell_type": "code",
   "execution_count": 12,
   "metadata": {},
   "outputs": [],
   "source": [
    "# # Stack the images\n",
    "# img1 = cv2.imread('/home/sirbastiano/Desktop/Python Projects/Progetto Tesi/Dataset/2 step size/IMG_1_Lat_0_Long_-147.8129.jpg')\n",
    "# img2 = cv2.imread('/home/sirbastiano/Desktop/Python Projects/Progetto Tesi/Dataset/2 step size/IMG_2_Lat_0_Long_-147.7069.jpg')\n",
    "# img_matched = np.hstack((img1,img2)).astype(int)\n",
    "# plt.imshow(img_matched, cmap='gray')\n",
    "# plt.axis(False)\n",
    "# plt.grid(False)"
   ]
  },
  {
   "cell_type": "code",
   "execution_count": 13,
   "metadata": {},
   "outputs": [],
   "source": [
    "# cv2.arrowedLine(img_matched,start,end,(255, 0, 0) , 3)"
   ]
  },
  {
   "cell_type": "code",
   "execution_count": 14,
   "metadata": {},
   "outputs": [],
   "source": [
    "# center_coordinates = start\n",
    "# radius = 500\n",
    "# color = (0,0,255)\n",
    "# thickness = 6\n",
    "# cv2.circle(img_matched, center_coordinates, radius, color, thickness)"
   ]
  },
  {
   "cell_type": "code",
   "execution_count": null,
   "metadata": {},
   "outputs": [],
   "source": []
  }
 ]
}