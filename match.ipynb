{
 "metadata": {
  "language_info": {
   "codemirror_mode": {
    "name": "ipython",
    "version": 3
   },
   "file_extension": ".py",
   "mimetype": "text/x-python",
   "name": "python",
   "nbconvert_exporter": "python",
   "pygments_lexer": "ipython3",
   "version": "3.7.9-final"
  },
  "orig_nbformat": 2,
  "kernelspec": {
   "name": "python3",
   "display_name": "Python 3.7.9 64-bit ('project_thesis': conda)",
   "metadata": {
    "interpreter": {
     "hash": "93fe94e5baa96e16921111566a2ec9b1e2e4eaf5c7b48668a60b4cd4eab04f86"
    }
   }
  }
 },
 "nbformat": 4,
 "nbformat_minor": 2,
 "cells": [
  {
   "cell_type": "code",
   "execution_count": 1,
   "metadata": {},
   "outputs": [
    {
     "output_type": "stream",
     "name": "stdout",
     "text": [
      "WARNING:tensorflow:From /home/sirbastiano/anaconda3/envs/project_thesis/lib/python3.7/site-packages/tensorflow_core/python/ops/resource_variable_ops.py:1635: calling BaseResourceVariable.__init__ (from tensorflow.python.ops.resource_variable_ops) with constraint is deprecated and will be removed in a future version.\nInstructions for updating:\nIf using Keras pass *_constraint arguments to layers.\n"
     ]
    }
   ],
   "source": [
    "# External libraries\n",
    "import numpy as np\n",
    "import matplotlib.pyplot as plt\n",
    "import matplotlib.style as style\n",
    "import pandas as pd\n",
    "import astropy\n",
    "import scipy\n",
    "from filterpy.kalman import KalmanFilter \n",
    "from filterpy.common import Q_discrete_white_noise\n",
    "from scipy.linalg import block_diag\n",
    "from astropy import units as u\n",
    "from poliastro.bodies import Earth, Mars, Sun, Moon\n",
    "from poliastro.twobody import Orbit\n",
    "from poliastro.plotting import OrbitPlotter2D\n",
    "from poliastro.plotting import OrbitPlotter3D\n",
    "import glob\n",
    "# Own Libraries\n",
    "from utility.utils import *\n",
    "from KalmanFilter.kf import *\n",
    "from Detect.detector import *\n",
    "from Match.pair import *\n",
    "from Match.icp import *\n",
    "\n",
    "%matplotlib tk\n",
    "style.use('seaborn-paper')"
   ]
  },
  {
   "cell_type": "code",
   "execution_count": 2,
   "metadata": {},
   "outputs": [],
   "source": [
    "# LOAD ALL IMAGES:\n",
    "dt = 5\n",
    "dict = {}\n",
    "for img in glob.glob(f\"DATA/ephemeris sat/inclination zero/{dt} step size/*\"):\n",
    "    txt = img             # stringa\n",
    "    t = txt.split('_')[1] # numero\n",
    "    dict[t] = txt"
   ]
  },
  {
   "cell_type": "code",
   "execution_count": 3,
   "metadata": {},
   "outputs": [],
   "source": [
    "idx = 1\n",
    "# IMG1:\n",
    "img1=cv2.imread(dict[str(idx+1)])\n",
    "craters_det1 = detect(img1)\n",
    "# IMG2:\n",
    "img2=cv2.imread(dict[str(idx+2)])\n",
    "craters_det2 = detect(img2)"
   ]
  },
  {
   "cell_type": "code",
   "execution_count": 4,
   "metadata": {},
   "outputs": [],
   "source": [
    "# Pandas DataFrame:\n",
    "df_craters_det1 = sort_mat(craters_det1)\n",
    "df_craters_det2 = sort_mat(craters_det2)"
   ]
  },
  {
   "cell_type": "code",
   "execution_count": 5,
   "metadata": {},
   "outputs": [],
   "source": [
    "def find_query(df_craters):\n",
    "    STORED = []\n",
    "    c=0\n",
    "    M=df_craters.shape[0]\n",
    "    QUERY = np.zeros((M**2,15))\n",
    "    for i in range(M):\n",
    "        for j in range(M):\n",
    "            if i != j:\n",
    "                triplet, HP, PICKS = find_triplet(df_craters, idx_a = i, idx_b=j)\n",
    "                Names = [triplet[0].name,triplet[1].name,triplet[2].name]\n",
    "                names = set(Names)\n",
    "                if names not in STORED:\n",
    "                    STORED.append(names)\n",
    "                    K_v = compute_K_vet(triplet)\n",
    "                    c1 = [triplet[0].x,triplet[0].y,triplet[0].r]\n",
    "                    c2 = [triplet[1].x,triplet[1].y,triplet[1].r]\n",
    "                    c3 = [triplet[2].x,triplet[2].y,triplet[2].r]\n",
    "                    QUERY[c] = np.hstack([K_v, Names,c1,c2,c3])\n",
    "                    c+=1\n",
    "                else: continue\n",
    "\n",
    "        printProgressBar(i+1, df_craters.shape[0], printEnd='')\n",
    "    QUERY = pd.DataFrame(QUERY, columns=['Angle1','Angle2','Angle3','ctr1','ctr2','ctr3','x1','y1','r1','x2','y2','r2','x3','y3','r3'])\n",
    "    return QUERY"
   ]
  },
  {
   "cell_type": "code",
   "execution_count": 16,
   "metadata": {},
   "outputs": [
    {
     "output_type": "stream",
     "name": "stdout",
     "text": [
      " |████████████████████████████████████████████████████████████████████████████████████████████████████| 100.0% \n",
      " |████████████████████████████████████████████████████████████████████████████████████████████████████| 100.0% \n"
     ]
    }
   ],
   "source": [
    "QUERY1 = find_query(df_craters_det1)\n",
    "QUERY2 = find_query(df_craters_det2)\n",
    "# remove wrong triplet:\n",
    "# index_names = QUERY1[ (QUERY1['Angle1'] == 0) | (QUERY1['Angle2'] == 0) | (QUERY1['Angle3'] == 0) \\\n",
    "index_names = QUERY1[(QUERY1['Angle1'] > 10) | (QUERY1['Angle2'] > 10) | (QUERY1['Angle3'] > 10) ].index\n",
    "QUERY1.drop(index_names, inplace = True) \n",
    "index_names = QUERY2[ (QUERY2['Angle1'] == 0) | (QUERY2['Angle2'] == 0) | (QUERY2['Angle3'] == 0) \\\n",
    "             | (QUERY2['Angle1'] > 20) | (QUERY2['Angle2'] > 20) | (QUERY2['Angle3'] > 20)].index\n",
    "QUERY2.drop(index_names, inplace = True) "
   ]
  },
  {
   "cell_type": "code",
   "execution_count": 13,
   "metadata": {
    "tags": []
   },
   "outputs": [
    {
     "output_type": "stream",
     "name": "stdout",
     "text": [
      "\n\nMatch can't find any triplets.\n"
     ]
    }
   ],
   "source": [
    "# Searching:\n",
    "count,d, found = 0, 10, False\n",
    "# for i in QUERY1.iloc:\n",
    "for idx in range(QUERY1.shape[0]):\n",
    "    if found:\n",
    "        break\n",
    "\n",
    "    i = QUERY1.iloc[idx]\n",
    "    count+=1\n",
    "    printProgressBar(count, QUERY1.shape[0], printEnd='')\n",
    "    \n",
    "    for idy in range(QUERY2.shape[0]):\n",
    "        j = QUERY2.iloc[idy]\n",
    "        a1,a2,a3 = i.Angle1,i.Angle2,i.Angle3\n",
    "        b1,b2,b3 = j.Angle1,j.Angle2,j.Angle3\n",
    "        x1,x2,x3 = i.r1,i.r2,i.r3\n",
    "        y1,y2,y3 = j.r1,j.r2,j.r3\n",
    "#       switch\n",
    "        d1 = abs(a1-b1)+abs(a2-b2)+abs(a3-b3)\n",
    "        d2 = abs(a1-b2)+abs(a2-b3)+abs(a3-b1)\n",
    "        d3 = abs(a1-b3)+abs(a2-b1)+abs(a3-b2)\n",
    "#       switch\n",
    "        r1 = abs(x1-y1)+abs(x2-y2)+abs(x3-y3)\n",
    "        r2 = abs(x1-y2)+abs(x2-y3)+abs(x3-y1)\n",
    "        r3 = abs(x1-y3)+abs(x2-y1)+abs(x3-y2)\n",
    "\n",
    "        d = min(d1,d2,d3)\n",
    "        r = min(r1,r2,r3)\n",
    "\n",
    "        if (d < 2) & (r < 2):\n",
    "            print('\\nFOUNDED')\n",
    "            save = [idx, idy]\n",
    "            print(save)\n",
    "            found = True\n",
    "            break\n",
    "print('\\n')\n",
    "if found:\n",
    "    a = QUERY1.iloc[save[0]]\n",
    "    b = QUERY2.iloc[save[1]]\n",
    "    crts1 = np.vstack([[a.x1,a.y1,a.r1],[a.x2,a.y2,a.r2],[a.x3,a.y3,a.r3]])\n",
    "    crts2 = np.vstack([[b.x1,b.y1,b.r1],[b.x2,b.y2,b.r2],[b.x3,b.y3,b.r3]])\n",
    "\n",
    "    plt.figure(dpi=200)\n",
    "    plt.subplot(121)\n",
    "    cp1 = img1.copy()\n",
    "    IMG1 =  img_plus_crts(cp1, crts1, color=\"red\")\n",
    "    plt.imshow(IMG1)\n",
    "\n",
    "    plt.subplot(122)\n",
    "    cp2 = img2.copy()\n",
    "    IMG2 =  img_plus_crts(cp2, crts2, color=\"red\")\n",
    "    plt.imshow(IMG2)\n",
    "    plt.show()\n",
    "else:\n",
    "    print(\"Match can't find any triplets.\")"
   ]
  },
  {
   "cell_type": "code",
   "execution_count": 14,
   "metadata": {},
   "outputs": [
    {
     "output_type": "execute_result",
     "data": {
      "text/plain": [
       "Empty DataFrame\n",
       "Columns: [Angle1, Angle2, Angle3, ctr1, ctr2, ctr3, x1, y1, r1, x2, y2, r2, x3, y3, r3]\n",
       "Index: []"
      ],
      "text/html": "<div>\n<style scoped>\n    .dataframe tbody tr th:only-of-type {\n        vertical-align: middle;\n    }\n\n    .dataframe tbody tr th {\n        vertical-align: top;\n    }\n\n    .dataframe thead th {\n        text-align: right;\n    }\n</style>\n<table border=\"1\" class=\"dataframe\">\n  <thead>\n    <tr style=\"text-align: right;\">\n      <th></th>\n      <th>Angle1</th>\n      <th>Angle2</th>\n      <th>Angle3</th>\n      <th>ctr1</th>\n      <th>ctr2</th>\n      <th>ctr3</th>\n      <th>x1</th>\n      <th>y1</th>\n      <th>r1</th>\n      <th>x2</th>\n      <th>y2</th>\n      <th>r2</th>\n      <th>x3</th>\n      <th>y3</th>\n      <th>r3</th>\n    </tr>\n  </thead>\n  <tbody>\n  </tbody>\n</table>\n</div>"
     },
     "metadata": {},
     "execution_count": 14
    }
   ],
   "source": [
    "QUERY1"
   ]
  },
  {
   "cell_type": "code",
   "execution_count": null,
   "metadata": {},
   "outputs": [],
   "source": []
  },
  {
   "cell_type": "code",
   "execution_count": null,
   "metadata": {},
   "outputs": [],
   "source": []
  },
  {
   "cell_type": "code",
   "execution_count": null,
   "metadata": {},
   "outputs": [],
   "source": []
  },
  {
   "cell_type": "code",
   "execution_count": null,
   "metadata": {},
   "outputs": [],
   "source": []
  },
  {
   "cell_type": "code",
   "execution_count": null,
   "metadata": {},
   "outputs": [],
   "source": []
  },
  {
   "cell_type": "code",
   "execution_count": null,
   "metadata": {},
   "outputs": [],
   "source": []
  },
  {
   "cell_type": "code",
   "execution_count": null,
   "metadata": {},
   "outputs": [],
   "source": []
  },
  {
   "cell_type": "code",
   "execution_count": null,
   "metadata": {},
   "outputs": [],
   "source": []
  },
  {
   "cell_type": "code",
   "execution_count": null,
   "metadata": {},
   "outputs": [],
   "source": []
  },
  {
   "cell_type": "code",
   "execution_count": null,
   "metadata": {},
   "outputs": [],
   "source": []
  },
  {
   "cell_type": "code",
   "execution_count": null,
   "metadata": {},
   "outputs": [],
   "source": []
  },
  {
   "cell_type": "code",
   "execution_count": null,
   "metadata": {},
   "outputs": [],
   "source": []
  },
  {
   "cell_type": "code",
   "execution_count": null,
   "metadata": {},
   "outputs": [],
   "source": []
  },
  {
   "cell_type": "code",
   "execution_count": null,
   "metadata": {},
   "outputs": [],
   "source": []
  },
  {
   "cell_type": "code",
   "execution_count": null,
   "metadata": {},
   "outputs": [],
   "source": []
  },
  {
   "cell_type": "code",
   "execution_count": null,
   "metadata": {},
   "outputs": [],
   "source": []
  },
  {
   "cell_type": "code",
   "execution_count": null,
   "metadata": {},
   "outputs": [],
   "source": []
  },
  {
   "cell_type": "code",
   "execution_count": null,
   "metadata": {},
   "outputs": [],
   "source": []
  },
  {
   "cell_type": "code",
   "execution_count": null,
   "metadata": {},
   "outputs": [],
   "source": []
  },
  {
   "cell_type": "code",
   "execution_count": null,
   "metadata": {},
   "outputs": [],
   "source": []
  },
  {
   "cell_type": "code",
   "execution_count": null,
   "metadata": {},
   "outputs": [],
   "source": []
  },
  {
   "cell_type": "code",
   "execution_count": null,
   "metadata": {},
   "outputs": [],
   "source": []
  },
  {
   "cell_type": "code",
   "execution_count": null,
   "metadata": {},
   "outputs": [],
   "source": []
  },
  {
   "cell_type": "code",
   "execution_count": null,
   "metadata": {},
   "outputs": [],
   "source": []
  },
  {
   "cell_type": "code",
   "execution_count": null,
   "metadata": {},
   "outputs": [],
   "source": []
  },
  {
   "cell_type": "code",
   "execution_count": null,
   "metadata": {},
   "outputs": [],
   "source": []
  },
  {
   "cell_type": "code",
   "execution_count": 8,
   "metadata": {
    "tags": []
   },
   "outputs": [],
   "source": [
    "# def matching(crat_det, crat_cat):\n",
    "    \n",
    "#     mat1 = crat_det\n",
    "#     mat2 = crat_cat\n",
    "\n",
    "#     MATCHER = []\n",
    "#     for i in range(mat1.shape[0]):\n",
    "#         for j in range(mat2.shape[0]):\n",
    "#             f1 = mat1[i, :]\n",
    "#             f2 = mat2[j, :]\n",
    "#             tmp = sq_dif(f1,f2)\n",
    "#             TMP = [i, j, tmp]\n",
    "#             MATCHER.append(TMP)\n",
    "#     flag = np.zeros(2)\n",
    "#     for elem in MATCHER:\n",
    "#         if elem[2] < 100:\n",
    "#             match = [elem[0],elem[1]] \n",
    "#             flag = np.vstack((flag, match))\n",
    "#     flag = flag[1:,:]\n",
    "#     flag = np.array(flag).astype(int)\n",
    "#     return flag\n"
   ]
  },
  {
   "cell_type": "code",
   "execution_count": 9,
   "metadata": {},
   "outputs": [],
   "source": [
    "# flag = np.zeros(2)\n",
    "# for elem in MATCHER:\n",
    "#     if elem[2] < 100:\n",
    "#         match = [elem[0],elem[1]] \n",
    "#         flag = np.vstack((flag, match))\n",
    "# flag = flag[1:,:]\n",
    "# flag = np.array(flag).astype(int)\n",
    "# flag"
   ]
  },
  {
   "cell_type": "code",
   "execution_count": 10,
   "metadata": {},
   "outputs": [],
   "source": [
    "# # Stack the images\n",
    "# img1 = cv2.imread('/home/sirbastiano/Desktop/Python Projects/Progetto Tesi/Dataset/2 step size/IMG_1_Lat_0_Long_-147.8129.jpg')\n",
    "# img2 = cv2.imread('/home/sirbastiano/Desktop/Python Projects/Progetto Tesi/Dataset/2 step size/IMG_2_Lat_0_Long_-147.7069.jpg')\n",
    "# img_matched = np.hstack((img1,img2)).astype(int)\n",
    "# plt.imshow(img_matched, cmap='gray')\n",
    "# plt.axis(False)\n",
    "# plt.grid(False)"
   ]
  },
  {
   "cell_type": "code",
   "execution_count": 11,
   "metadata": {},
   "outputs": [],
   "source": [
    "# cv2.arrowedLine(img_matched,start,end,(255, 0, 0) , 3)"
   ]
  },
  {
   "cell_type": "code",
   "execution_count": 12,
   "metadata": {},
   "outputs": [],
   "source": [
    "# center_coordinates = start\n",
    "# radius = 500\n",
    "# color = (0,0,255)\n",
    "# thickness = 6\n",
    "# cv2.circle(img_matched, center_coordinates, radius, color, thickness)"
   ]
  },
  {
   "cell_type": "code",
   "execution_count": null,
   "metadata": {},
   "outputs": [],
   "source": []
  }
 ]
}