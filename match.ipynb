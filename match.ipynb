{
 "metadata": {
  "language_info": {
   "codemirror_mode": {
    "name": "ipython",
    "version": 3
   },
   "file_extension": ".py",
   "mimetype": "text/x-python",
   "name": "python",
   "nbconvert_exporter": "python",
   "pygments_lexer": "ipython3",
   "version": "3.6.12-final"
  },
  "orig_nbformat": 2,
  "kernelspec": {
   "name": "crateri",
   "display_name": "crateri",
   "language": "python"
  }
 },
 "nbformat": 4,
 "nbformat_minor": 2,
 "cells": [
  {
   "cell_type": "code",
   "execution_count": 1,
   "metadata": {},
   "outputs": [
    {
     "output_type": "stream",
     "name": "stdout",
     "text": [
      "WARNING:tensorflow:From /home/sirbastiano/anaconda3/envs/crateri/lib/python3.6/site-packages/tensorflow_core/python/ops/resource_variable_ops.py:1635: calling BaseResourceVariable.__init__ (from tensorflow.python.ops.resource_variable_ops) with constraint is deprecated and will be removed in a future version.\nInstructions for updating:\nIf using Keras pass *_constraint arguments to layers.\n"
     ]
    }
   ],
   "source": [
    "# External libraries\n",
    "import numpy as np\n",
    "import matplotlib.pyplot as plt\n",
    "import matplotlib.style as style\n",
    "import pandas as pd\n",
    "import astropy\n",
    "import scipy\n",
    "from filterpy.kalman import KalmanFilter \n",
    "from filterpy.common import Q_discrete_white_noise\n",
    "from scipy.linalg import block_diag\n",
    "from astropy import units as u\n",
    "from poliastro.bodies import Earth, Mars, Sun, Moon\n",
    "from poliastro.twobody import Orbit\n",
    "from poliastro.plotting import OrbitPlotter2D\n",
    "from poliastro.plotting import OrbitPlotter3D\n",
    "import glob\n",
    "# Own Libraries\n",
    "from utility.utils import *\n",
    "from KalmanFilter.kf import *\n",
    "from Detect.detector import *\n",
    "from Match.pair import *\n",
    "from Match.icp import *\n",
    "\n",
    "%matplotlib tk\n",
    "style.use('seaborn-paper')"
   ]
  },
  {
   "cell_type": "code",
   "execution_count": 2,
   "metadata": {},
   "outputs": [],
   "source": [
    "# LOAD ALL IMAGES:\n",
    "dt = 5\n",
    "dict = {}\n",
    "for img in glob.glob(f\"DATA/ephemeris sat/inclination zero/{dt} step size/*\"):\n",
    "    txt = img             # stringa\n",
    "    t = txt.split('_')[1] # numero\n",
    "    dict[t] = txt"
   ]
  },
  {
   "cell_type": "code",
   "execution_count": 3,
   "metadata": {},
   "outputs": [],
   "source": [
    "# IMG1:\n",
    "idx = 0\n",
    "img1=cv2.imread(dict[str(idx+1)])\n",
    "craters_det1 = detect(img1)\n",
    "# IMG2:\n",
    "idx = 1\n",
    "img2=cv2.imread(dict[str(idx+1)])\n",
    "craters_det2 = detect(img2)"
   ]
  },
  {
   "cell_type": "code",
   "execution_count": 4,
   "metadata": {},
   "outputs": [],
   "source": [
    "# Pandas DataFrame:\n",
    "df_craters_det1 = sort_mat(craters_det1)\n",
    "df_craters_det2 = sort_mat(craters_det2)"
   ]
  },
  {
   "cell_type": "code",
   "execution_count": 12,
   "metadata": {},
   "outputs": [
    {
     "output_type": "stream",
     "name": "stdout",
     "text": [
      " |████████████████████████████████████████████████████████████████████████████████████████████████████| 100.0% \n",
      " |████████████████████████████████████████████████████████████████████████████████████████████████████| 100.0% \n"
     ]
    }
   ],
   "source": [
    "QUERY1 = find_query(df_craters_det1)\n",
    "QUERY2 = find_query(df_craters_det2)"
   ]
  },
  {
   "cell_type": "code",
   "execution_count": 13,
   "metadata": {},
   "outputs": [
    {
     "output_type": "execute_result",
     "data": {
      "text/plain": [
       "        Angle1      Angle2      Angle3  ctr1  ctr2  ctr3     x1     y1  \\\n",
       "14    0.656463  173.314796    6.028741  14.0   1.0   7.0  735.5  704.5   \n",
       "10    2.094027    3.897703  174.008271  10.0   4.0  14.0   49.0  652.0   \n",
       "7     2.655981    1.699381  175.644639   7.0   3.0   1.0  137.5  248.5   \n",
       "4     3.621659  173.331435    3.046906   4.0   3.0   5.0  290.0  654.0   \n",
       "19   16.211894   29.291150  134.496956  19.0   3.0   7.0  834.0  503.0   \n",
       "12   17.731574  126.820471   35.447955  12.0   1.0   5.0  573.5  606.5   \n",
       "11   27.098843   21.962630  130.938527  11.0   2.0   5.0   83.0  164.0   \n",
       "3    28.157060   31.180740  120.662200   3.0   2.0  11.0  547.5  549.5   \n",
       "1    31.406280   25.954683  122.639037   1.0   4.0   7.0  794.5  761.5   \n",
       "2    35.588421  116.636838   27.774741   2.0   3.0   7.0  220.0  500.5   \n",
       "15   37.455762  117.427286   25.116952  15.0   2.0   1.0  500.5  829.5   \n",
       "6    67.495433   99.140712   13.363855   6.0  10.0   3.0  525.0  666.5   \n",
       "0    76.784849   42.182698   61.032453   0.0   5.0   3.0  134.5   27.5   \n",
       "18   85.133315   32.228313   62.638372  18.0   7.0   2.0  626.5  328.0   \n",
       "9    98.634913   29.046734   52.318353   9.0  10.0   2.0  506.0  739.0   \n",
       "20  110.509214   30.909537   38.581249  20.0  10.0   2.0  465.0  630.5   \n",
       "5   116.164796   36.199970   27.635234   5.0   7.0  13.0   85.0  766.5   \n",
       "13  135.916786   23.661072   20.422142  13.0   1.0   3.0  265.0  566.5   \n",
       "16  153.325622    9.686381   16.987997  16.0   1.0   3.0  329.5   28.0   \n",
       "17  157.867972    9.311648   12.820380  17.0   7.0   2.0  455.0  778.0   \n",
       "8   176.038354    1.924701    2.036945   8.0   4.0   3.0  827.0  458.0   \n",
       "\n",
       "        r1     x2     y2     r2     x3     y3      r3  \n",
       "14  125.00  794.5  761.5  26.50  137.5  248.5   13.50  \n",
       "10   74.00  290.0  654.0  24.00  735.5  704.5  125.00  \n",
       "7    13.50  547.5  549.5  15.50  794.5  761.5   26.50  \n",
       "4    24.00  547.5  549.5  15.50   85.0  766.5   33.75  \n",
       "19   11.00  547.5  549.5  15.50  137.5  248.5   13.50  \n",
       "12   11.00  794.5  761.5  26.50   85.0  766.5   33.75  \n",
       "11   12.50  220.0  500.5  16.25   85.0  766.5   33.75  \n",
       "3    15.50  220.0  500.5  16.25   83.0  164.0   12.50  \n",
       "1    26.50  290.0  654.0  24.00  137.5  248.5   13.50  \n",
       "2    16.25  547.5  549.5  15.50  137.5  248.5   13.50  \n",
       "15   19.00  220.0  500.5  16.25  794.5  761.5   26.50  \n",
       "6    17.75   49.0  652.0  74.00  547.5  549.5   15.50  \n",
       "0    22.50   85.0  766.5  33.75  547.5  549.5   15.50  \n",
       "18   31.25  137.5  248.5  13.50  220.0  500.5   16.25  \n",
       "9    20.50   49.0  652.0  74.00  220.0  500.5   16.25  \n",
       "20   13.25   49.0  652.0  74.00  220.0  500.5   16.25  \n",
       "5    33.75  137.5  248.5  13.50  265.0  566.5   13.25  \n",
       "13   13.25  794.5  761.5  26.50  547.5  549.5   15.50  \n",
       "16   17.25  794.5  761.5  26.50  547.5  549.5   15.50  \n",
       "17   12.00  137.5  248.5  13.50  220.0  500.5   16.25  \n",
       "8    18.50  290.0  654.0  24.00  547.5  549.5   15.50  "
      ],
      "text/html": "<div>\n<style scoped>\n    .dataframe tbody tr th:only-of-type {\n        vertical-align: middle;\n    }\n\n    .dataframe tbody tr th {\n        vertical-align: top;\n    }\n\n    .dataframe thead th {\n        text-align: right;\n    }\n</style>\n<table border=\"1\" class=\"dataframe\">\n  <thead>\n    <tr style=\"text-align: right;\">\n      <th></th>\n      <th>Angle1</th>\n      <th>Angle2</th>\n      <th>Angle3</th>\n      <th>ctr1</th>\n      <th>ctr2</th>\n      <th>ctr3</th>\n      <th>x1</th>\n      <th>y1</th>\n      <th>r1</th>\n      <th>x2</th>\n      <th>y2</th>\n      <th>r2</th>\n      <th>x3</th>\n      <th>y3</th>\n      <th>r3</th>\n    </tr>\n  </thead>\n  <tbody>\n    <tr>\n      <th>14</th>\n      <td>0.656463</td>\n      <td>173.314796</td>\n      <td>6.028741</td>\n      <td>14.0</td>\n      <td>1.0</td>\n      <td>7.0</td>\n      <td>735.5</td>\n      <td>704.5</td>\n      <td>125.00</td>\n      <td>794.5</td>\n      <td>761.5</td>\n      <td>26.50</td>\n      <td>137.5</td>\n      <td>248.5</td>\n      <td>13.50</td>\n    </tr>\n    <tr>\n      <th>10</th>\n      <td>2.094027</td>\n      <td>3.897703</td>\n      <td>174.008271</td>\n      <td>10.0</td>\n      <td>4.0</td>\n      <td>14.0</td>\n      <td>49.0</td>\n      <td>652.0</td>\n      <td>74.00</td>\n      <td>290.0</td>\n      <td>654.0</td>\n      <td>24.00</td>\n      <td>735.5</td>\n      <td>704.5</td>\n      <td>125.00</td>\n    </tr>\n    <tr>\n      <th>7</th>\n      <td>2.655981</td>\n      <td>1.699381</td>\n      <td>175.644639</td>\n      <td>7.0</td>\n      <td>3.0</td>\n      <td>1.0</td>\n      <td>137.5</td>\n      <td>248.5</td>\n      <td>13.50</td>\n      <td>547.5</td>\n      <td>549.5</td>\n      <td>15.50</td>\n      <td>794.5</td>\n      <td>761.5</td>\n      <td>26.50</td>\n    </tr>\n    <tr>\n      <th>4</th>\n      <td>3.621659</td>\n      <td>173.331435</td>\n      <td>3.046906</td>\n      <td>4.0</td>\n      <td>3.0</td>\n      <td>5.0</td>\n      <td>290.0</td>\n      <td>654.0</td>\n      <td>24.00</td>\n      <td>547.5</td>\n      <td>549.5</td>\n      <td>15.50</td>\n      <td>85.0</td>\n      <td>766.5</td>\n      <td>33.75</td>\n    </tr>\n    <tr>\n      <th>19</th>\n      <td>16.211894</td>\n      <td>29.291150</td>\n      <td>134.496956</td>\n      <td>19.0</td>\n      <td>3.0</td>\n      <td>7.0</td>\n      <td>834.0</td>\n      <td>503.0</td>\n      <td>11.00</td>\n      <td>547.5</td>\n      <td>549.5</td>\n      <td>15.50</td>\n      <td>137.5</td>\n      <td>248.5</td>\n      <td>13.50</td>\n    </tr>\n    <tr>\n      <th>12</th>\n      <td>17.731574</td>\n      <td>126.820471</td>\n      <td>35.447955</td>\n      <td>12.0</td>\n      <td>1.0</td>\n      <td>5.0</td>\n      <td>573.5</td>\n      <td>606.5</td>\n      <td>11.00</td>\n      <td>794.5</td>\n      <td>761.5</td>\n      <td>26.50</td>\n      <td>85.0</td>\n      <td>766.5</td>\n      <td>33.75</td>\n    </tr>\n    <tr>\n      <th>11</th>\n      <td>27.098843</td>\n      <td>21.962630</td>\n      <td>130.938527</td>\n      <td>11.0</td>\n      <td>2.0</td>\n      <td>5.0</td>\n      <td>83.0</td>\n      <td>164.0</td>\n      <td>12.50</td>\n      <td>220.0</td>\n      <td>500.5</td>\n      <td>16.25</td>\n      <td>85.0</td>\n      <td>766.5</td>\n      <td>33.75</td>\n    </tr>\n    <tr>\n      <th>3</th>\n      <td>28.157060</td>\n      <td>31.180740</td>\n      <td>120.662200</td>\n      <td>3.0</td>\n      <td>2.0</td>\n      <td>11.0</td>\n      <td>547.5</td>\n      <td>549.5</td>\n      <td>15.50</td>\n      <td>220.0</td>\n      <td>500.5</td>\n      <td>16.25</td>\n      <td>83.0</td>\n      <td>164.0</td>\n      <td>12.50</td>\n    </tr>\n    <tr>\n      <th>1</th>\n      <td>31.406280</td>\n      <td>25.954683</td>\n      <td>122.639037</td>\n      <td>1.0</td>\n      <td>4.0</td>\n      <td>7.0</td>\n      <td>794.5</td>\n      <td>761.5</td>\n      <td>26.50</td>\n      <td>290.0</td>\n      <td>654.0</td>\n      <td>24.00</td>\n      <td>137.5</td>\n      <td>248.5</td>\n      <td>13.50</td>\n    </tr>\n    <tr>\n      <th>2</th>\n      <td>35.588421</td>\n      <td>116.636838</td>\n      <td>27.774741</td>\n      <td>2.0</td>\n      <td>3.0</td>\n      <td>7.0</td>\n      <td>220.0</td>\n      <td>500.5</td>\n      <td>16.25</td>\n      <td>547.5</td>\n      <td>549.5</td>\n      <td>15.50</td>\n      <td>137.5</td>\n      <td>248.5</td>\n      <td>13.50</td>\n    </tr>\n    <tr>\n      <th>15</th>\n      <td>37.455762</td>\n      <td>117.427286</td>\n      <td>25.116952</td>\n      <td>15.0</td>\n      <td>2.0</td>\n      <td>1.0</td>\n      <td>500.5</td>\n      <td>829.5</td>\n      <td>19.00</td>\n      <td>220.0</td>\n      <td>500.5</td>\n      <td>16.25</td>\n      <td>794.5</td>\n      <td>761.5</td>\n      <td>26.50</td>\n    </tr>\n    <tr>\n      <th>6</th>\n      <td>67.495433</td>\n      <td>99.140712</td>\n      <td>13.363855</td>\n      <td>6.0</td>\n      <td>10.0</td>\n      <td>3.0</td>\n      <td>525.0</td>\n      <td>666.5</td>\n      <td>17.75</td>\n      <td>49.0</td>\n      <td>652.0</td>\n      <td>74.00</td>\n      <td>547.5</td>\n      <td>549.5</td>\n      <td>15.50</td>\n    </tr>\n    <tr>\n      <th>0</th>\n      <td>76.784849</td>\n      <td>42.182698</td>\n      <td>61.032453</td>\n      <td>0.0</td>\n      <td>5.0</td>\n      <td>3.0</td>\n      <td>134.5</td>\n      <td>27.5</td>\n      <td>22.50</td>\n      <td>85.0</td>\n      <td>766.5</td>\n      <td>33.75</td>\n      <td>547.5</td>\n      <td>549.5</td>\n      <td>15.50</td>\n    </tr>\n    <tr>\n      <th>18</th>\n      <td>85.133315</td>\n      <td>32.228313</td>\n      <td>62.638372</td>\n      <td>18.0</td>\n      <td>7.0</td>\n      <td>2.0</td>\n      <td>626.5</td>\n      <td>328.0</td>\n      <td>31.25</td>\n      <td>137.5</td>\n      <td>248.5</td>\n      <td>13.50</td>\n      <td>220.0</td>\n      <td>500.5</td>\n      <td>16.25</td>\n    </tr>\n    <tr>\n      <th>9</th>\n      <td>98.634913</td>\n      <td>29.046734</td>\n      <td>52.318353</td>\n      <td>9.0</td>\n      <td>10.0</td>\n      <td>2.0</td>\n      <td>506.0</td>\n      <td>739.0</td>\n      <td>20.50</td>\n      <td>49.0</td>\n      <td>652.0</td>\n      <td>74.00</td>\n      <td>220.0</td>\n      <td>500.5</td>\n      <td>16.25</td>\n    </tr>\n    <tr>\n      <th>20</th>\n      <td>110.509214</td>\n      <td>30.909537</td>\n      <td>38.581249</td>\n      <td>20.0</td>\n      <td>10.0</td>\n      <td>2.0</td>\n      <td>465.0</td>\n      <td>630.5</td>\n      <td>13.25</td>\n      <td>49.0</td>\n      <td>652.0</td>\n      <td>74.00</td>\n      <td>220.0</td>\n      <td>500.5</td>\n      <td>16.25</td>\n    </tr>\n    <tr>\n      <th>5</th>\n      <td>116.164796</td>\n      <td>36.199970</td>\n      <td>27.635234</td>\n      <td>5.0</td>\n      <td>7.0</td>\n      <td>13.0</td>\n      <td>85.0</td>\n      <td>766.5</td>\n      <td>33.75</td>\n      <td>137.5</td>\n      <td>248.5</td>\n      <td>13.50</td>\n      <td>265.0</td>\n      <td>566.5</td>\n      <td>13.25</td>\n    </tr>\n    <tr>\n      <th>13</th>\n      <td>135.916786</td>\n      <td>23.661072</td>\n      <td>20.422142</td>\n      <td>13.0</td>\n      <td>1.0</td>\n      <td>3.0</td>\n      <td>265.0</td>\n      <td>566.5</td>\n      <td>13.25</td>\n      <td>794.5</td>\n      <td>761.5</td>\n      <td>26.50</td>\n      <td>547.5</td>\n      <td>549.5</td>\n      <td>15.50</td>\n    </tr>\n    <tr>\n      <th>16</th>\n      <td>153.325622</td>\n      <td>9.686381</td>\n      <td>16.987997</td>\n      <td>16.0</td>\n      <td>1.0</td>\n      <td>3.0</td>\n      <td>329.5</td>\n      <td>28.0</td>\n      <td>17.25</td>\n      <td>794.5</td>\n      <td>761.5</td>\n      <td>26.50</td>\n      <td>547.5</td>\n      <td>549.5</td>\n      <td>15.50</td>\n    </tr>\n    <tr>\n      <th>17</th>\n      <td>157.867972</td>\n      <td>9.311648</td>\n      <td>12.820380</td>\n      <td>17.0</td>\n      <td>7.0</td>\n      <td>2.0</td>\n      <td>455.0</td>\n      <td>778.0</td>\n      <td>12.00</td>\n      <td>137.5</td>\n      <td>248.5</td>\n      <td>13.50</td>\n      <td>220.0</td>\n      <td>500.5</td>\n      <td>16.25</td>\n    </tr>\n    <tr>\n      <th>8</th>\n      <td>176.038354</td>\n      <td>1.924701</td>\n      <td>2.036945</td>\n      <td>8.0</td>\n      <td>4.0</td>\n      <td>3.0</td>\n      <td>827.0</td>\n      <td>458.0</td>\n      <td>18.50</td>\n      <td>290.0</td>\n      <td>654.0</td>\n      <td>24.00</td>\n      <td>547.5</td>\n      <td>549.5</td>\n      <td>15.50</td>\n    </tr>\n  </tbody>\n</table>\n</div>"
     },
     "metadata": {},
     "execution_count": 13
    }
   ],
   "source": [
    "QUERY1.sort_values(by='Angle1')"
   ]
  },
  {
   "cell_type": "code",
   "execution_count": 14,
   "metadata": {},
   "outputs": [
    {
     "output_type": "execute_result",
     "data": {
      "text/plain": [
       "        Angle1      Angle2      Angle3  ctr1  ctr2  ctr3     x1     y1  \\\n",
       "1     0.000000         NaN         NaN   1.0   1.0   8.0   68.5  248.5   \n",
       "3     0.000000         NaN         NaN   3.0   3.0   2.0  197.5  565.5   \n",
       "7     0.000000         NaN         NaN   7.0   7.0   9.0   28.0  768.5   \n",
       "8     3.639974  164.216526   12.143500   8.0   3.0   1.0  152.5  499.5   \n",
       "20    7.051135    4.582145  168.366719  20.0   3.0   7.0  515.5  312.5   \n",
       "11    8.839947  115.672492   55.487561  11.0   3.0   1.0  140.5  553.0   \n",
       "4    16.229949   20.655552  143.114499   4.0   6.0  11.0  696.0  708.5   \n",
       "6    20.084089    4.611578  155.304333   6.0   4.0   2.0  479.5  549.5   \n",
       "13   20.137717  146.867848   12.994435  13.0   7.0   2.0  456.0  666.5   \n",
       "12   21.284867   73.547303   85.167830  12.0   1.0   4.0  262.0   26.5   \n",
       "14   22.224690   64.803190   92.972120  14.0   4.0   3.0  766.5  503.5   \n",
       "16   24.763207  149.635261    5.601531  16.0   2.0   6.0  505.5  607.0   \n",
       "10   29.864575   32.416021  117.719404  10.0   2.0   9.0  433.0  828.0   \n",
       "9    31.130713   55.863091   93.006196   9.0   2.0   5.0  812.0  451.5   \n",
       "18   34.757204   15.690061  129.552735  18.0   3.0   7.0  755.0  568.5   \n",
       "19   36.121562  121.141209   22.737228  19.0   3.0   9.0  557.5  329.5   \n",
       "17   66.645853   77.286708   36.067439  17.0   4.0   3.0  396.0  323.5   \n",
       "15  111.962696   57.009361   11.027942  15.0   2.0   3.0  110.5  660.5   \n",
       "2   135.847106   20.385123   23.767771   2.0   3.0   6.0  726.5  763.5   \n",
       "0   158.637881   13.028819    8.333300   0.0   3.0   1.0   65.5   28.5   \n",
       "5   172.584069    5.867397    1.548535   5.0   1.0   3.0  220.5  653.0   \n",
       "\n",
       "        r1     x2     y2      r2     x3     y3      r3  \n",
       "1    14.50   68.5  248.5   14.50  152.5  499.5   16.50  \n",
       "3    13.00  197.5  565.5   13.00  726.5  763.5   26.50  \n",
       "7    32.25   28.0  768.5   32.25  812.0  451.5   12.25  \n",
       "8    16.50  197.5  565.5   13.00   68.5  248.5   14.50  \n",
       "20   64.00  197.5  565.5   13.00   28.0  768.5   32.25  \n",
       "11   11.25  197.5  565.5   13.00   68.5  248.5   14.50  \n",
       "4   139.25  479.5  549.5   16.00  140.5  553.0   11.25  \n",
       "6    16.00  696.0  708.5  139.25  726.5  763.5   26.50  \n",
       "13   17.75   28.0  768.5   32.25  726.5  763.5   26.50  \n",
       "12   15.75   68.5  248.5   14.50  696.0  708.5  139.25  \n",
       "14   10.50  696.0  708.5  139.25  197.5  565.5   13.00  \n",
       "16   10.75  726.5  763.5   26.50  479.5  549.5   16.00  \n",
       "10   19.00  726.5  763.5   26.50  812.0  451.5   12.25  \n",
       "9    12.25  726.5  763.5   26.50  220.5  653.0   20.75  \n",
       "18   15.75  197.5  565.5   13.00   28.0  768.5   32.25  \n",
       "19   33.00  197.5  565.5   13.00  812.0  451.5   12.25  \n",
       "17   13.25  696.0  708.5  139.25  197.5  565.5   13.00  \n",
       "15    8.00  726.5  763.5   26.50  197.5  565.5   13.00  \n",
       "2    26.50  197.5  565.5   13.00  479.5  549.5   16.00  \n",
       "0    25.50  197.5  565.5   13.00   68.5  248.5   14.50  \n",
       "5    20.75   68.5  248.5   14.50  197.5  565.5   13.00  "
      ],
      "text/html": "<div>\n<style scoped>\n    .dataframe tbody tr th:only-of-type {\n        vertical-align: middle;\n    }\n\n    .dataframe tbody tr th {\n        vertical-align: top;\n    }\n\n    .dataframe thead th {\n        text-align: right;\n    }\n</style>\n<table border=\"1\" class=\"dataframe\">\n  <thead>\n    <tr style=\"text-align: right;\">\n      <th></th>\n      <th>Angle1</th>\n      <th>Angle2</th>\n      <th>Angle3</th>\n      <th>ctr1</th>\n      <th>ctr2</th>\n      <th>ctr3</th>\n      <th>x1</th>\n      <th>y1</th>\n      <th>r1</th>\n      <th>x2</th>\n      <th>y2</th>\n      <th>r2</th>\n      <th>x3</th>\n      <th>y3</th>\n      <th>r3</th>\n    </tr>\n  </thead>\n  <tbody>\n    <tr>\n      <th>1</th>\n      <td>0.000000</td>\n      <td>NaN</td>\n      <td>NaN</td>\n      <td>1.0</td>\n      <td>1.0</td>\n      <td>8.0</td>\n      <td>68.5</td>\n      <td>248.5</td>\n      <td>14.50</td>\n      <td>68.5</td>\n      <td>248.5</td>\n      <td>14.50</td>\n      <td>152.5</td>\n      <td>499.5</td>\n      <td>16.50</td>\n    </tr>\n    <tr>\n      <th>3</th>\n      <td>0.000000</td>\n      <td>NaN</td>\n      <td>NaN</td>\n      <td>3.0</td>\n      <td>3.0</td>\n      <td>2.0</td>\n      <td>197.5</td>\n      <td>565.5</td>\n      <td>13.00</td>\n      <td>197.5</td>\n      <td>565.5</td>\n      <td>13.00</td>\n      <td>726.5</td>\n      <td>763.5</td>\n      <td>26.50</td>\n    </tr>\n    <tr>\n      <th>7</th>\n      <td>0.000000</td>\n      <td>NaN</td>\n      <td>NaN</td>\n      <td>7.0</td>\n      <td>7.0</td>\n      <td>9.0</td>\n      <td>28.0</td>\n      <td>768.5</td>\n      <td>32.25</td>\n      <td>28.0</td>\n      <td>768.5</td>\n      <td>32.25</td>\n      <td>812.0</td>\n      <td>451.5</td>\n      <td>12.25</td>\n    </tr>\n    <tr>\n      <th>8</th>\n      <td>3.639974</td>\n      <td>164.216526</td>\n      <td>12.143500</td>\n      <td>8.0</td>\n      <td>3.0</td>\n      <td>1.0</td>\n      <td>152.5</td>\n      <td>499.5</td>\n      <td>16.50</td>\n      <td>197.5</td>\n      <td>565.5</td>\n      <td>13.00</td>\n      <td>68.5</td>\n      <td>248.5</td>\n      <td>14.50</td>\n    </tr>\n    <tr>\n      <th>20</th>\n      <td>7.051135</td>\n      <td>4.582145</td>\n      <td>168.366719</td>\n      <td>20.0</td>\n      <td>3.0</td>\n      <td>7.0</td>\n      <td>515.5</td>\n      <td>312.5</td>\n      <td>64.00</td>\n      <td>197.5</td>\n      <td>565.5</td>\n      <td>13.00</td>\n      <td>28.0</td>\n      <td>768.5</td>\n      <td>32.25</td>\n    </tr>\n    <tr>\n      <th>11</th>\n      <td>8.839947</td>\n      <td>115.672492</td>\n      <td>55.487561</td>\n      <td>11.0</td>\n      <td>3.0</td>\n      <td>1.0</td>\n      <td>140.5</td>\n      <td>553.0</td>\n      <td>11.25</td>\n      <td>197.5</td>\n      <td>565.5</td>\n      <td>13.00</td>\n      <td>68.5</td>\n      <td>248.5</td>\n      <td>14.50</td>\n    </tr>\n    <tr>\n      <th>4</th>\n      <td>16.229949</td>\n      <td>20.655552</td>\n      <td>143.114499</td>\n      <td>4.0</td>\n      <td>6.0</td>\n      <td>11.0</td>\n      <td>696.0</td>\n      <td>708.5</td>\n      <td>139.25</td>\n      <td>479.5</td>\n      <td>549.5</td>\n      <td>16.00</td>\n      <td>140.5</td>\n      <td>553.0</td>\n      <td>11.25</td>\n    </tr>\n    <tr>\n      <th>6</th>\n      <td>20.084089</td>\n      <td>4.611578</td>\n      <td>155.304333</td>\n      <td>6.0</td>\n      <td>4.0</td>\n      <td>2.0</td>\n      <td>479.5</td>\n      <td>549.5</td>\n      <td>16.00</td>\n      <td>696.0</td>\n      <td>708.5</td>\n      <td>139.25</td>\n      <td>726.5</td>\n      <td>763.5</td>\n      <td>26.50</td>\n    </tr>\n    <tr>\n      <th>13</th>\n      <td>20.137717</td>\n      <td>146.867848</td>\n      <td>12.994435</td>\n      <td>13.0</td>\n      <td>7.0</td>\n      <td>2.0</td>\n      <td>456.0</td>\n      <td>666.5</td>\n      <td>17.75</td>\n      <td>28.0</td>\n      <td>768.5</td>\n      <td>32.25</td>\n      <td>726.5</td>\n      <td>763.5</td>\n      <td>26.50</td>\n    </tr>\n    <tr>\n      <th>12</th>\n      <td>21.284867</td>\n      <td>73.547303</td>\n      <td>85.167830</td>\n      <td>12.0</td>\n      <td>1.0</td>\n      <td>4.0</td>\n      <td>262.0</td>\n      <td>26.5</td>\n      <td>15.75</td>\n      <td>68.5</td>\n      <td>248.5</td>\n      <td>14.50</td>\n      <td>696.0</td>\n      <td>708.5</td>\n      <td>139.25</td>\n    </tr>\n    <tr>\n      <th>14</th>\n      <td>22.224690</td>\n      <td>64.803190</td>\n      <td>92.972120</td>\n      <td>14.0</td>\n      <td>4.0</td>\n      <td>3.0</td>\n      <td>766.5</td>\n      <td>503.5</td>\n      <td>10.50</td>\n      <td>696.0</td>\n      <td>708.5</td>\n      <td>139.25</td>\n      <td>197.5</td>\n      <td>565.5</td>\n      <td>13.00</td>\n    </tr>\n    <tr>\n      <th>16</th>\n      <td>24.763207</td>\n      <td>149.635261</td>\n      <td>5.601531</td>\n      <td>16.0</td>\n      <td>2.0</td>\n      <td>6.0</td>\n      <td>505.5</td>\n      <td>607.0</td>\n      <td>10.75</td>\n      <td>726.5</td>\n      <td>763.5</td>\n      <td>26.50</td>\n      <td>479.5</td>\n      <td>549.5</td>\n      <td>16.00</td>\n    </tr>\n    <tr>\n      <th>10</th>\n      <td>29.864575</td>\n      <td>32.416021</td>\n      <td>117.719404</td>\n      <td>10.0</td>\n      <td>2.0</td>\n      <td>9.0</td>\n      <td>433.0</td>\n      <td>828.0</td>\n      <td>19.00</td>\n      <td>726.5</td>\n      <td>763.5</td>\n      <td>26.50</td>\n      <td>812.0</td>\n      <td>451.5</td>\n      <td>12.25</td>\n    </tr>\n    <tr>\n      <th>9</th>\n      <td>31.130713</td>\n      <td>55.863091</td>\n      <td>93.006196</td>\n      <td>9.0</td>\n      <td>2.0</td>\n      <td>5.0</td>\n      <td>812.0</td>\n      <td>451.5</td>\n      <td>12.25</td>\n      <td>726.5</td>\n      <td>763.5</td>\n      <td>26.50</td>\n      <td>220.5</td>\n      <td>653.0</td>\n      <td>20.75</td>\n    </tr>\n    <tr>\n      <th>18</th>\n      <td>34.757204</td>\n      <td>15.690061</td>\n      <td>129.552735</td>\n      <td>18.0</td>\n      <td>3.0</td>\n      <td>7.0</td>\n      <td>755.0</td>\n      <td>568.5</td>\n      <td>15.75</td>\n      <td>197.5</td>\n      <td>565.5</td>\n      <td>13.00</td>\n      <td>28.0</td>\n      <td>768.5</td>\n      <td>32.25</td>\n    </tr>\n    <tr>\n      <th>19</th>\n      <td>36.121562</td>\n      <td>121.141209</td>\n      <td>22.737228</td>\n      <td>19.0</td>\n      <td>3.0</td>\n      <td>9.0</td>\n      <td>557.5</td>\n      <td>329.5</td>\n      <td>33.00</td>\n      <td>197.5</td>\n      <td>565.5</td>\n      <td>13.00</td>\n      <td>812.0</td>\n      <td>451.5</td>\n      <td>12.25</td>\n    </tr>\n    <tr>\n      <th>17</th>\n      <td>66.645853</td>\n      <td>77.286708</td>\n      <td>36.067439</td>\n      <td>17.0</td>\n      <td>4.0</td>\n      <td>3.0</td>\n      <td>396.0</td>\n      <td>323.5</td>\n      <td>13.25</td>\n      <td>696.0</td>\n      <td>708.5</td>\n      <td>139.25</td>\n      <td>197.5</td>\n      <td>565.5</td>\n      <td>13.00</td>\n    </tr>\n    <tr>\n      <th>15</th>\n      <td>111.962696</td>\n      <td>57.009361</td>\n      <td>11.027942</td>\n      <td>15.0</td>\n      <td>2.0</td>\n      <td>3.0</td>\n      <td>110.5</td>\n      <td>660.5</td>\n      <td>8.00</td>\n      <td>726.5</td>\n      <td>763.5</td>\n      <td>26.50</td>\n      <td>197.5</td>\n      <td>565.5</td>\n      <td>13.00</td>\n    </tr>\n    <tr>\n      <th>2</th>\n      <td>135.847106</td>\n      <td>20.385123</td>\n      <td>23.767771</td>\n      <td>2.0</td>\n      <td>3.0</td>\n      <td>6.0</td>\n      <td>726.5</td>\n      <td>763.5</td>\n      <td>26.50</td>\n      <td>197.5</td>\n      <td>565.5</td>\n      <td>13.00</td>\n      <td>479.5</td>\n      <td>549.5</td>\n      <td>16.00</td>\n    </tr>\n    <tr>\n      <th>0</th>\n      <td>158.637881</td>\n      <td>13.028819</td>\n      <td>8.333300</td>\n      <td>0.0</td>\n      <td>3.0</td>\n      <td>1.0</td>\n      <td>65.5</td>\n      <td>28.5</td>\n      <td>25.50</td>\n      <td>197.5</td>\n      <td>565.5</td>\n      <td>13.00</td>\n      <td>68.5</td>\n      <td>248.5</td>\n      <td>14.50</td>\n    </tr>\n    <tr>\n      <th>5</th>\n      <td>172.584069</td>\n      <td>5.867397</td>\n      <td>1.548535</td>\n      <td>5.0</td>\n      <td>1.0</td>\n      <td>3.0</td>\n      <td>220.5</td>\n      <td>653.0</td>\n      <td>20.75</td>\n      <td>68.5</td>\n      <td>248.5</td>\n      <td>14.50</td>\n      <td>197.5</td>\n      <td>565.5</td>\n      <td>13.00</td>\n    </tr>\n  </tbody>\n</table>\n</div>"
     },
     "metadata": {},
     "execution_count": 14
    }
   ],
   "source": [
    "QUERY2.sort_values(by='Angle1')"
   ]
  },
  {
   "cell_type": "code",
   "execution_count": null,
   "metadata": {},
   "outputs": [],
   "source": []
  },
  {
   "cell_type": "code",
   "execution_count": null,
   "metadata": {},
   "outputs": [],
   "source": []
  },
  {
   "cell_type": "code",
   "execution_count": null,
   "metadata": {},
   "outputs": [],
   "source": []
  },
  {
   "cell_type": "code",
   "execution_count": null,
   "metadata": {},
   "outputs": [],
   "source": [
    "# STORED = []\n",
    "# QUERY = np.zeros((N,15))\n",
    "# for i in range(craters_det1.shape[0]):\n",
    "#     triplet, HP, PICKS = find_triplet(df_craters_det1, idx = i)\n",
    "#     Names = [triplet[0].name,triplet[1].name,triplet[2].name]\n",
    "#     names = set(Names)\n",
    "#     if names not in STORED:\n",
    "#         STORED.append(names)\n",
    "#         K_v = compute_K_vet(triplet)\n",
    "#         c1 = [triplet[0].x,triplet[0].y,triplet[0].r]\n",
    "#         c2 = [triplet[1].x,triplet[1].y,triplet[1].r]\n",
    "#         c3 = [triplet[2].x,triplet[2].y,triplet[2].r]\n",
    "#         QUERY[i] = np.hstack([K_v, Names,c1,c2,c3])\n",
    "#     else:\n",
    "#         triplet = find_other_triplet(triplet, STORED, PICKS, HP)\n",
    "#         if triplet is not None:\n",
    "#             Names = [triplet[0].name,triplet[1].name,triplet[2].name]\n",
    "#             names = set(Names)\n",
    "#             STORED.append(names)\n",
    "#             K_v = compute_K_vet(triplet)\n",
    "#             c1 = [triplet[0].x,triplet[0].y,triplet[0].r]\n",
    "#             c2 = [triplet[1].x,triplet[1].y,triplet[1].r]\n",
    "#             c3 = [triplet[2].x,triplet[2].y,triplet[2].r]\n",
    "#             QUERY[i] = np.hstack([K_v, Names,c1,c2,c3])\n",
    "    \n",
    "#     printProgressBar(i+1, craters_det1.shape[0], printEnd='')\n",
    "    \n",
    "#     QUERY = pd.DataFrame(QUERY, columns=['Angle1','Angle2','Angle3','ctr1','ctr2','ctr3','x1','y1','r1','x2','y2','r2','x3','y3','r3'])"
   ]
  },
  {
   "cell_type": "code",
   "execution_count": 11,
   "metadata": {},
   "outputs": [],
   "source": [
    "def find_query(df_craters):\n",
    "    STORED = []\n",
    "    QUERY = np.zeros((df_craters.shape[0],15))\n",
    "    for i in range(df_craters.shape[0]):\n",
    "        triplet, HP, PICKS = find_triplet(df_craters, idx = i)\n",
    "        Names = [triplet[0].name,triplet[1].name,triplet[2].name]\n",
    "        names = set(Names)\n",
    "        if names not in STORED:\n",
    "            STORED.append(names)\n",
    "            K_v = compute_K_vet(triplet)\n",
    "            c1 = [triplet[0].x,triplet[0].y,triplet[0].r]\n",
    "            c2 = [triplet[1].x,triplet[1].y,triplet[1].r]\n",
    "            c3 = [triplet[2].x,triplet[2].y,triplet[2].r]\n",
    "            QUERY[i] = np.hstack([K_v, Names,c1,c2,c3])\n",
    "        else:\n",
    "            triplet = find_other_triplet(triplet, STORED, PICKS, HP)\n",
    "            if triplet is not None:\n",
    "                Names = [triplet[0].name,triplet[1].name,triplet[2].name]\n",
    "                names = set(Names)\n",
    "                STORED.append(names)\n",
    "                K_v = compute_K_vet(triplet)\n",
    "                c1 = [triplet[0].x,triplet[0].y,triplet[0].r]\n",
    "                c2 = [triplet[1].x,triplet[1].y,triplet[1].r]\n",
    "                c3 = [triplet[2].x,triplet[2].y,triplet[2].r]\n",
    "                QUERY[i] = np.hstack([K_v, Names,c1,c2,c3])\n",
    "\n",
    "        printProgressBar(i+1, df_craters.shape[0], printEnd='')\n",
    "    QUERY = pd.DataFrame(QUERY, columns=['Angle1','Angle2','Angle3','ctr1','ctr2','ctr3','x1','y1','r1','x2','y2','r2','x3','y3','r3'])\n",
    "    return QUERY"
   ]
  },
  {
   "cell_type": "code",
   "execution_count": null,
   "metadata": {},
   "outputs": [],
   "source": []
  },
  {
   "cell_type": "code",
   "execution_count": null,
   "metadata": {},
   "outputs": [],
   "source": []
  },
  {
   "cell_type": "code",
   "execution_count": null,
   "metadata": {},
   "outputs": [],
   "source": []
  },
  {
   "cell_type": "code",
   "execution_count": null,
   "metadata": {},
   "outputs": [],
   "source": []
  },
  {
   "cell_type": "code",
   "execution_count": null,
   "metadata": {},
   "outputs": [],
   "source": []
  },
  {
   "cell_type": "code",
   "execution_count": null,
   "metadata": {},
   "outputs": [],
   "source": []
  },
  {
   "cell_type": "code",
   "execution_count": null,
   "metadata": {},
   "outputs": [],
   "source": []
  },
  {
   "cell_type": "code",
   "execution_count": null,
   "metadata": {},
   "outputs": [],
   "source": []
  },
  {
   "cell_type": "code",
   "execution_count": null,
   "metadata": {},
   "outputs": [],
   "source": []
  },
  {
   "cell_type": "code",
   "execution_count": null,
   "metadata": {},
   "outputs": [],
   "source": []
  },
  {
   "cell_type": "code",
   "execution_count": null,
   "metadata": {},
   "outputs": [],
   "source": []
  },
  {
   "cell_type": "code",
   "execution_count": null,
   "metadata": {},
   "outputs": [],
   "source": []
  },
  {
   "cell_type": "code",
   "execution_count": null,
   "metadata": {},
   "outputs": [],
   "source": []
  },
  {
   "cell_type": "code",
   "execution_count": null,
   "metadata": {},
   "outputs": [],
   "source": []
  },
  {
   "cell_type": "code",
   "execution_count": null,
   "metadata": {},
   "outputs": [],
   "source": []
  },
  {
   "cell_type": "code",
   "execution_count": null,
   "metadata": {},
   "outputs": [],
   "source": []
  },
  {
   "cell_type": "code",
   "execution_count": null,
   "metadata": {},
   "outputs": [],
   "source": []
  },
  {
   "cell_type": "code",
   "execution_count": null,
   "metadata": {},
   "outputs": [],
   "source": [
    "# # Searching:\n",
    "\n",
    "# for i in QUERY1:\n",
    "#     for j in QUERY2:\n",
    "#         d = np.linalg.norm(i-j)\n",
    "#         if d < 1:\n",
    "#             print(i,j)"
   ]
  },
  {
   "cell_type": "code",
   "execution_count": null,
   "metadata": {},
   "outputs": [],
   "source": [
    "# plt.figure(1, dpi=300)\n",
    "# plt.subplot(121)\n",
    "# img = img_plus_crts(img1, craters_det1)\n",
    "# plt.imshow(img)\n",
    "\n",
    "# plt.subplot(122)\n",
    "# img = img_plus_crts(img2, craters_det2)\n",
    "# plt.imshow(img)\n",
    "# plt.show()"
   ]
  },
  {
   "cell_type": "code",
   "execution_count": null,
   "metadata": {},
   "outputs": [],
   "source": []
  },
  {
   "cell_type": "code",
   "execution_count": null,
   "metadata": {},
   "outputs": [],
   "source": []
  },
  {
   "cell_type": "code",
   "execution_count": null,
   "metadata": {},
   "outputs": [],
   "source": []
  },
  {
   "cell_type": "code",
   "execution_count": null,
   "metadata": {},
   "outputs": [],
   "source": []
  },
  {
   "cell_type": "code",
   "execution_count": null,
   "metadata": {},
   "outputs": [],
   "source": []
  },
  {
   "cell_type": "code",
   "execution_count": null,
   "metadata": {},
   "outputs": [],
   "source": []
  },
  {
   "cell_type": "code",
   "execution_count": null,
   "metadata": {},
   "outputs": [],
   "source": []
  },
  {
   "cell_type": "code",
   "execution_count": null,
   "metadata": {},
   "outputs": [],
   "source": []
  },
  {
   "cell_type": "code",
   "execution_count": null,
   "metadata": {},
   "outputs": [],
   "source": []
  },
  {
   "cell_type": "code",
   "execution_count": null,
   "metadata": {},
   "outputs": [],
   "source": []
  },
  {
   "cell_type": "code",
   "execution_count": null,
   "metadata": {},
   "outputs": [],
   "source": []
  },
  {
   "cell_type": "code",
   "execution_count": null,
   "metadata": {},
   "outputs": [],
   "source": []
  },
  {
   "cell_type": "code",
   "execution_count": null,
   "metadata": {},
   "outputs": [],
   "source": []
  },
  {
   "cell_type": "code",
   "execution_count": null,
   "metadata": {},
   "outputs": [],
   "source": []
  },
  {
   "cell_type": "code",
   "execution_count": null,
   "metadata": {},
   "outputs": [],
   "source": []
  },
  {
   "cell_type": "code",
   "execution_count": null,
   "metadata": {},
   "outputs": [],
   "source": []
  },
  {
   "cell_type": "code",
   "execution_count": null,
   "metadata": {},
   "outputs": [],
   "source": []
  },
  {
   "cell_type": "code",
   "execution_count": null,
   "metadata": {},
   "outputs": [],
   "source": []
  },
  {
   "cell_type": "code",
   "execution_count": null,
   "metadata": {
    "tags": []
   },
   "outputs": [],
   "source": [
    "# def matching(crat_det, crat_cat):\n",
    "    \n",
    "#     mat1 = crat_det\n",
    "#     mat2 = crat_cat\n",
    "\n",
    "#     MATCHER = []\n",
    "#     for i in range(mat1.shape[0]):\n",
    "#         for j in range(mat2.shape[0]):\n",
    "#             f1 = mat1[i, :]\n",
    "#             f2 = mat2[j, :]\n",
    "#             tmp = sq_dif(f1,f2)\n",
    "#             TMP = [i, j, tmp]\n",
    "#             MATCHER.append(TMP)\n",
    "#     flag = np.zeros(2)\n",
    "#     for elem in MATCHER:\n",
    "#         if elem[2] < 100:\n",
    "#             match = [elem[0],elem[1]] \n",
    "#             flag = np.vstack((flag, match))\n",
    "#     flag = flag[1:,:]\n",
    "#     flag = np.array(flag).astype(int)\n",
    "#     return flag\n"
   ]
  },
  {
   "cell_type": "code",
   "execution_count": null,
   "metadata": {},
   "outputs": [],
   "source": [
    "# flag = np.zeros(2)\n",
    "# for elem in MATCHER:\n",
    "#     if elem[2] < 100:\n",
    "#         match = [elem[0],elem[1]] \n",
    "#         flag = np.vstack((flag, match))\n",
    "# flag = flag[1:,:]\n",
    "# flag = np.array(flag).astype(int)\n",
    "# flag"
   ]
  },
  {
   "cell_type": "code",
   "execution_count": null,
   "metadata": {},
   "outputs": [],
   "source": [
    "# # Stack the images\n",
    "# img1 = cv2.imread('/home/sirbastiano/Desktop/Python Projects/Progetto Tesi/Dataset/2 step size/IMG_1_Lat_0_Long_-147.8129.jpg')\n",
    "# img2 = cv2.imread('/home/sirbastiano/Desktop/Python Projects/Progetto Tesi/Dataset/2 step size/IMG_2_Lat_0_Long_-147.7069.jpg')\n",
    "# img_matched = np.hstack((img1,img2)).astype(int)\n",
    "# plt.imshow(img_matched, cmap='gray')\n",
    "# plt.axis(False)\n",
    "# plt.grid(False)"
   ]
  },
  {
   "cell_type": "code",
   "execution_count": null,
   "metadata": {},
   "outputs": [],
   "source": [
    "# cv2.arrowedLine(img_matched,start,end,(255, 0, 0) , 3)"
   ]
  },
  {
   "cell_type": "code",
   "execution_count": null,
   "metadata": {},
   "outputs": [],
   "source": [
    "# center_coordinates = start\n",
    "# radius = 500\n",
    "# color = (0,0,255)\n",
    "# thickness = 6\n",
    "# cv2.circle(img_matched, center_coordinates, radius, color, thickness)"
   ]
  },
  {
   "cell_type": "code",
   "execution_count": null,
   "metadata": {},
   "outputs": [],
   "source": []
  }
 ]
}