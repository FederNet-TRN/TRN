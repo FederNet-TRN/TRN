{
 "metadata": {
  "language_info": {
   "codemirror_mode": {
    "name": "ipython",
    "version": 3
   },
   "file_extension": ".py",
   "mimetype": "text/x-python",
   "name": "python",
   "nbconvert_exporter": "python",
   "pygments_lexer": "ipython3",
   "version": "3.6.12-final"
  },
  "orig_nbformat": 2,
  "kernelspec": {
   "name": "crateri",
   "display_name": "crateri",
   "language": "python"
  }
 },
 "nbformat": 4,
 "nbformat_minor": 2,
 "cells": [
  {
   "cell_type": "code",
   "execution_count": null,
   "metadata": {},
   "outputs": [],
   "source": [
    "# External libraries\n",
    "import numpy as np\n",
    "import pandas as pd\n",
    "import matplotlib.pyplot as plt \n",
    "import matplotlib.style as style\n",
    "import cv2\n",
    "import time\n",
    "import os\n",
    "from utility.utils import *\n",
    "import re\n",
    "import h5py\n",
    "import tables\n",
    "\n",
    "# Own Libraries\n",
    "from utility.utils import *\n",
    "from Match.pair import *\n",
    "from Match.icp import *\n",
    "\n",
    "%matplotlib tk\n",
    "style.use('seaborn-paper')\n",
    "\n",
    "style.use('seaborn-paper')\n",
    "%matplotlib tk"
   ]
  },
  {
   "cell_type": "code",
   "execution_count": null,
   "metadata": {},
   "outputs": [],
   "source": [
    "filepath= 'DATA/lunar_crater_database_robbins_2018.csv'\n",
    "df = pd.read_csv(filepath, sep=',')\n",
    "df = df[ ['LON_CIRC_IMG','LAT_CIRC_IMG','DIAM_CIRC_IMG']  ] # Select columns\n",
    "df['LON_CIRC_IMG'] = np.where(df['LON_CIRC_IMG'] > 180, df['LON_CIRC_IMG'] - 360, df['LON_CIRC_IMG']) \n",
    "df['DIAM_CIRC_IMG'] = df['DIAM_CIRC_IMG'] "
   ]
  },
  {
   "cell_type": "code",
   "execution_count": null,
   "metadata": {},
   "outputs": [],
   "source": [
    "df.rename(columns={'LON_CIRC_IMG':'lon','LAT_CIRC_IMG':'lat','DIAM_CIRC_IMG':'r'}, inplace=True)\n",
    "\n",
    "sort_lat = df.sort_values(by='lat')\n",
    "sort_lat.insert(3, 'i', range(len(sort_lat)))\n",
    "\n",
    "sort_lat_lon = sort_lat.sort_values(by='lon')\n",
    "sort_lat_lon.insert(4,'j', range(len(sort_lat_lon)))\n",
    "\n",
    "df_sort = sort_lat_lon.sort_index()"
   ]
  },
  {
   "cell_type": "code",
   "execution_count": null,
   "metadata": {},
   "outputs": [],
   "source": [
    "# height_filter_catalog\n",
    "H = 50\n",
    "FOV_half = np.deg2rad(90/2)\n",
    "d = 2*H* np.tan(FOV_half)\n",
    "filter = 2/3*d\n",
    "\n",
    "df_sort_f = df_sort[df_sort['r'] < filter].copy()\n",
    "df_sort_f = df_sort_f.reset_index(drop=True)"
   ]
  },
  {
   "cell_type": "code",
   "execution_count": null,
   "metadata": {},
   "outputs": [],
   "source": [
    "crt1, crt2, crt3, PICKS = find_triplet( df_sort_f, 0)\n",
    "max_crt_dist = np.max([dist_crt(crt1,crt2),dist_crt(crt2,crt3),dist_crt(crt1,crt3)])\n",
    "# print(max_crt_dist) # Into the query search: filter all triplet with max_crt_dist > d\n",
    "\n",
    "triplet = [crt1, crt2, crt3]\n",
    "K_vet = compute_K_vet(triplet)\n",
    "print(K_vet)\n",
    "Lat_bounds = [np.min([crt1.lat,crt2.lat,crt3.lat]),  np.max([crt1.lat,crt2.lat,crt3.lat]) ]\n",
    "Lon_bounds = [np.min([crt1.lon,crt2.lon,crt3.lon]),  np.max([crt1.lon,crt2.lon,crt3.lon]) ]\n",
    "entry = [ Lat_bounds, Lon_bounds, K_vet, [crt1, crt2, crt3]]\n",
    "print(entry)\n"
   ]
  },
  {
   "cell_type": "code",
   "execution_count": null,
   "metadata": {},
   "outputs": [],
   "source": [
    "# Crater_TRN_catalog = pd.DataFrame({\n",
    "# 'Lat_bounds': Lat_bounds,\n",
    "# 'Lon_bounds': Lon_bounds,\n",
    "# 'Max ij-crt distance': max_crt_dist,\n",
    "# })"
   ]
  },
  {
   "cell_type": "code",
   "execution_count": null,
   "metadata": {},
   "outputs": [],
   "source": [
    "entry_pd = pd.Series(entry)"
   ]
  },
  {
   "cell_type": "code",
   "execution_count": null,
   "metadata": {},
   "outputs": [],
   "source": [
    "Crater_TRN_catalog = pd.DataFrame({'triplet':entry_pd})"
   ]
  },
  {
   "cell_type": "code",
   "execution_count": null,
   "metadata": {},
   "outputs": [],
   "source": [
    "Crater_TRN_catalog"
   ]
  },
  {
   "source": [
    "# CATALOG CREATION"
   ],
   "cell_type": "markdown",
   "metadata": {}
  },
  {
   "cell_type": "code",
   "execution_count": null,
   "metadata": {},
   "outputs": [],
   "source": [
    "df = pd.read_csv('DATA/lunar_crater_database_robbins_2018.csv')\n",
    "df = df[['LAT_CIRC_IMG','LON_CIRC_IMG','DIAM_CIRC_IMG']]\n",
    "df.rename( columns= {'LAT_CIRC_IMG':'lat', 'LON_CIRC_IMG':'lon','DIAM_CIRC_IMG':'r'}, inplace=True )\n",
    "df.r = df.r/2\n",
    "df.lon = np.where(df.lon < 180, df.lon, df.lon - 360)\n",
    "df = df.sort_values(by='lat')\n",
    "df.insert(3,'i',range(len(df)))\n",
    "df = df.sort_values(by='lon')\n",
    "df.insert(4,'j',range(len(df)))\n",
    "df = df[df.r < 100]\n",
    "df.reset_index(drop=True, inplace=True)"
   ]
  },
  {
   "cell_type": "code",
   "execution_count": null,
   "metadata": {},
   "outputs": [],
   "source": [
    "# init H\n",
    "H = pd.DataFrame({\n",
    "'Lat_min':[0],\n",
    "'Lat_max':[0],\n",
    "'Lon_min':[0],\n",
    "'Lon_max':[0],\n",
    "'ICD_max':[0],\n",
    "'angle1':[0],\n",
    "'angle2':[0],\n",
    "'angle3':[0],\n",
    "'crt_name1':[0],\n",
    "'crt_name2':[0],\n",
    "'crt_name3':[0]\n",
    "})"
   ]
  },
  {
   "cell_type": "code",
   "execution_count": null,
   "metadata": {},
   "outputs": [],
   "source": [
    "for ind in range(400000,500000):\n",
    "    triplet = find_triplet(df, ind)\n",
    "    K_v = compute_K_vet(triplet)\n",
    "    ICD_max = find_max_crt_dist(triplet)\n",
    "    lat_m, lat_M, lon_m, lon_M = find_bounds(triplet)\n",
    "    R_M = find_max_radius(triplet)\n",
    "    entry = [lat_m, lat_M, lon_m, lon_M, ICD_max, K_v[0], K_v[1], K_v[2], triplet[0].name,triplet[1].name,triplet[2].name]\n",
    "    if np.all(K_v > 15):\n",
    "        H.loc[ind] = entry\n",
    "    printProgressBar(ind, df.shape[0], printEnd='')    \n",
    "    file_name = 'TRN_catalog_part_B.csv'\n",
    "    H.to_csv(file_name)\n",
    "    print(ind)\n",
    "    "
   ]
  },
  {
   "cell_type": "code",
   "execution_count": null,
   "metadata": {},
   "outputs": [],
   "source": []
  },
  {
   "cell_type": "code",
   "execution_count": null,
   "metadata": {},
   "outputs": [],
   "source": []
  },
  {
   "cell_type": "code",
   "execution_count": null,
   "metadata": {},
   "outputs": [],
   "source": []
  },
  {
   "cell_type": "code",
   "execution_count": null,
   "metadata": {},
   "outputs": [],
   "source": []
  },
  {
   "cell_type": "code",
   "execution_count": null,
   "metadata": {},
   "outputs": [],
   "source": []
  },
  {
   "cell_type": "code",
   "execution_count": null,
   "metadata": {},
   "outputs": [],
   "source": []
  },
  {
   "cell_type": "code",
   "execution_count": null,
   "metadata": {},
   "outputs": [],
   "source": []
  },
  {
   "cell_type": "code",
   "execution_count": null,
   "metadata": {},
   "outputs": [],
   "source": []
  },
  {
   "cell_type": "code",
   "execution_count": null,
   "metadata": {},
   "outputs": [],
   "source": []
  },
  {
   "cell_type": "code",
   "execution_count": null,
   "metadata": {},
   "outputs": [],
   "source": [
    "# def image_gen(PATH):\n",
    "PATH = 'DATA/ephemeris sat/20 step size/IMG_20_Lat_0_Long_-127.683.jpg'\n",
    "path = '/home/sirbastiano/Desktop/Python Projects/Progetto Tesi/'+PATH\n",
    "\n",
    "# Actual Position:\n",
    "num =20\n",
    "l = -127.683\n",
    "H = 50\n",
    "X_c, Y_c = l, 0\n",
    "# x_f, y_f, z_f = spherical2cartesian(0, crater.Lat, crater.Lon)\n",
    "\n",
    "# Find reference in catalogs:\n",
    "dteta = find_dteta(H) # d/R, where d^2 is the footprint\n",
    "sp = dteta/2 # span\n",
    "lat_bounds, lon_bounds = np.array([Y_c-sp,Y_c+sp]), np.array([X_c-sp,X_c+sp])\n",
    "print('*'*35 +'BORDERS'+'*'*35)\n",
    "print(f'LAT: {lat_bounds}              LON:{lon_bounds}')\n",
    "print('*'*35 +'*******'+'*'*35)\n",
    "# 3 crater catalogs: HEAD | LROC | ROBBINS\n",
    "CATALOGS = ['ROBBINS', 'HEAD', 'LROC']\n",
    "for DATA in CATALOGS:\n",
    "    if DATA =='HEAD':\n",
    "        filepath = '/home/sirbastiano/Desktop/Python Projects/Progetto Tesi/DATA/HeadCraters.csv'\n",
    "    elif DATA == 'LROC':\n",
    "        filepath = '/home/sirbastiano/Desktop/Python Projects/Progetto Tesi/DATA/LROCCraters.csv'\n",
    "    elif DATA == 'ROBBINS':\n",
    "        filepath= '/home/sirbastiano/Desktop/Python Projects/Progetto Tesi/DATA/lunar_crater_database_robbins_2018.csv'\n",
    "\n",
    "    DB = pd.read_csv(filepath, sep=',')\n",
    "    df = CatalogSearch(DB, lat_bounds, lon_bounds, CAT_NAME=DATA)\n",
    "    if df is None:\n",
    "        print('No Craters found!')\n",
    "    else:     \n",
    "        print(f'Found {df.shape[0]} craters!\\n\\n', df)\n",
    "    \n",
    "    ## DRAWINGS: \n",
    "    ## FIG.1\n",
    "    img = cv2.imread(path)\n",
    "    plt.ion()\n",
    "    plt.figure('Tile and Mask -'+DATA, dpi=200)\n",
    "    plt.subplot(1,2,1)\n",
    "    plt.imshow(img)\n",
    "    plt.subplot(1,2,2)\n",
    "    I = draw_craters(df, lon_bounds, lat_bounds)\n",
    "    plt.imshow(I)\n",
    "    plt.show()\n",
    "    plt.savefig(DATA+str(num)+'_fig-A.png')\n",
    "    \n",
    "    ## FIG.2\n",
    "    image_with_craters = draw_craters_on_image(df,  lon_bounds, lat_bounds, img, u=None)\n",
    "    plt.ion()\n",
    "    plt.figure('Image with craters catalogued-'+DATA, dpi=200)\n",
    "    plt.imshow(image_with_craters)\n",
    "    plt.show()\n",
    "    plt.savefig(DATA+str(num)+'_fig-B.png')\n",
    "\n",
    "plt.close('all')"
   ]
  },
  {
   "cell_type": "code",
   "execution_count": null,
   "metadata": {},
   "outputs": [],
   "source": [
    "PATHS = os.listdir(\"/home/sirbastiano/Desktop/Python Projects/Progetto Tesi/DATA/ephemeris sat/20 step size\")\n",
    "print(PATHS)"
   ]
  }
 ]
}