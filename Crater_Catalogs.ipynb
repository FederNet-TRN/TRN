{
 "metadata": {
  "language_info": {
   "codemirror_mode": {
    "name": "ipython",
    "version": 3
   },
   "file_extension": ".py",
   "mimetype": "text/x-python",
   "name": "python",
   "nbconvert_exporter": "python",
   "pygments_lexer": "ipython3",
   "version": "3.6.12-final"
  },
  "orig_nbformat": 2,
  "kernelspec": {
   "name": "crateri",
   "display_name": "crateri"
  }
 },
 "nbformat": 4,
 "nbformat_minor": 2,
 "cells": [
  {
   "cell_type": "code",
   "execution_count": 23,
   "metadata": {},
   "outputs": [],
   "source": [
    "import numpy as np\n",
    "import pandas as pd\n",
    "import matplotlib.pyplot as plt \n",
    "import matplotlib.style as style\n",
    "import cv2\n",
    "import time\n",
    "import os\n",
    "from utility.utils import *\n",
    "import re\n",
    "import h5py\n",
    "import tables\n",
    "\n",
    "style.use('seaborn-paper')\n",
    "%matplotlib tk\n",
    "\n",
    "\n",
    "R_m = 1737.1 # lunar radius \n",
    "deg2km = 2*np.pi*R_m/360 # deg to km\n",
    "\n",
    "\n",
    "\n",
    "def compute_K_vet(triplet):\n",
    "    a,b,c = compute_sides(triplet)\n",
    "    A,B,C = findAngles(a,b,c)\n",
    "    K_vet = set([A,B,C])\n",
    "    if K_vet is not None:\n",
    "        return K_vet\n",
    "\n",
    "\n",
    "def compute_sides(triplet):\n",
    "    a = np.linalg.norm(triplet[0][0:2]-triplet[1][0:2])\n",
    "    b = np.linalg.norm(triplet[1][0:2]-triplet[2][0:2])\n",
    "    c = np.linalg.norm(triplet[2][0:2]-triplet[0][0:2])\n",
    "    return a,b,c\n",
    "\n",
    "\n",
    "\n",
    "def find_triplet( df_sort_f, index: int ):\n",
    "    # Input: Pandas DataFrame Sorted i,j\n",
    "    # Output: Triplet for main crater idx\n",
    "\n",
    "    def ij_pick(M, k):\n",
    "        return M[(M.j == j-k) | (M.j == j+k) | (M.i == i+k) | (M.i == i - k)]\n",
    "\n",
    "    M1 = df_sort_f\n",
    "    pick1 = M1.iloc[index]\n",
    "    i = int(pick1.i)\n",
    "    j = int(pick1.j)\n",
    "    \n",
    "    HP, ind = np.zeros(2), 0\n",
    "\n",
    "    for idx in range(30):\n",
    "        if idx == 0:\n",
    "            tmp = ij_pick(M1, idx+1)\n",
    "            PICKS = tmp\n",
    "        else:\n",
    "            tmp = ij_pick(M1, idx+1)\n",
    "            PICKS = pd.concat([PICKS,tmp])\n",
    "\n",
    "    for pick in PICKS.iloc:\n",
    "        pick2 = pick\n",
    "        dist_12 = np.linalg.norm(pick2[0:2]-pick1[0:2]) # Lat-Lon diff.\n",
    "        if dist_12*deg2km > pick2.r + pick1.r: # crater condition: dist > r1 + r2\n",
    "            hp = np.hstack([ind, dist_12])  \n",
    "            HP = np.vstack([HP, hp])\n",
    "        ind +=1\n",
    "    # CHECK:\n",
    "    if len(HP) < 4: return None\n",
    "    else:\n",
    "        HP = HP[1:,:].copy() # Remove first zeros\n",
    "        HP.view('f8,f8').sort(order=['f1'], axis=0) # Order by Eu Distance\n",
    "        c1 = pick1\n",
    "        c2 = PICKS.iloc[int(HP[0,0])]\n",
    "        c3 = PICKS.iloc[int(HP[1,0])]\n",
    "        return c1,c2,c3, PICKS\n",
    "\n",
    "def dist_crt( c1, c2 ):\n",
    "    # Input: crater 1 and crater 2\n",
    "    # Output: distance in Km\n",
    "    return np.linalg.norm(c1[0:2]-c2[0:2])*deg2km\n",
    "\n",
    "\n",
    "def find_triplets(df):\n",
    "    N, triplet_list = len(df), []\n",
    "    for idx in range(N):\n",
    "        # 1st:\n",
    "        if idx == 0:\n",
    "            c1,c2,c3 = find_triplet(df, 0)\n",
    "            if np.all([c1,c2,c3]) != None: # If they exist\n",
    "                entry = set([c1.name, c2.name, c3.name])\n",
    "                triplet_list.append(entry)\n",
    "        # 2nd to end:\n",
    "        else:\n",
    "            c1,c2,c3 = find_triplet(df, idx)\n",
    "            if np.all([c1,c2,c3]) != None: # If they exist\n",
    "                entry = set([c1.name, c2.name, c3.name]) # Note: set() make order meaningless\n",
    "                if entry not in triplet_list:\n",
    "                    triplet_list.append(entry)\n",
    "        printProgressBar(idx, N, prefix=\"Progress:\", suffix=\"Complete\", length=50)\n",
    "\n",
    "    return triplet_list\n",
    "\n",
    "def picktrip(TRI, idx):\n",
    "    triplet, IDs = TRI[idx], []\n",
    "    \n",
    "    for index in triplet: IDs.append(index)\n",
    "    \n",
    "    crat1 = craters_det_sort.iloc[IDs[0]]\n",
    "    crat2 = craters_det_sort.iloc[IDs[1]]\n",
    "    crat3 = craters_det_sort.iloc[IDs[2]]\n",
    "    return crat1, crat2,crat3\n",
    "\n",
    "\n",
    "\n",
    "def findAngles( a, b, c): \n",
    "    # applied cosine rule \n",
    "    A = np.arccos((b * b + c * c - a * a) / \n",
    "                              (2 * b * c)) \n",
    "    B = np.arccos((a * a + c * c - b * b) / \n",
    "                              (2 * a * c)) \n",
    "    C = np.arccos((b * b + a * a - c * c) / \n",
    "                              (2 * b * a)) \n",
    "    # convert into degrees \n",
    "    A, B, C = np.rad2deg(A),np.rad2deg(B),np.rad2deg(C)\n",
    "    return A,B,C "
   ]
  },
  {
   "cell_type": "code",
   "execution_count": 2,
   "metadata": {},
   "outputs": [],
   "source": [
    "filepath= 'DATA/lunar_crater_database_robbins_2018.csv'\n",
    "df = pd.read_csv(filepath, sep=',')\n",
    "df = df[ ['LON_CIRC_IMG','LAT_CIRC_IMG','DIAM_CIRC_IMG']  ] # Select columns\n",
    "df['LON_CIRC_IMG'] = np.where(df['LON_CIRC_IMG'] > 180, df['LON_CIRC_IMG'] - 360, df['LON_CIRC_IMG']) \n",
    "df['DIAM_CIRC_IMG'] = df['DIAM_CIRC_IMG'] "
   ]
  },
  {
   "cell_type": "code",
   "execution_count": 3,
   "metadata": {},
   "outputs": [],
   "source": [
    "df.rename(columns={'LON_CIRC_IMG':'lon','LAT_CIRC_IMG':'lat','DIAM_CIRC_IMG':'r'}, inplace=True)\n",
    "\n",
    "sort_lat = df.sort_values(by='lat')\n",
    "sort_lat.insert(3, 'i', range(len(sort_lat)))\n",
    "\n",
    "sort_lat_lon = sort_lat.sort_values(by='lon')\n",
    "sort_lat_lon.insert(4,'j', range(len(sort_lat_lon)))\n",
    "\n",
    "df_sort = sort_lat_lon.sort_index()"
   ]
  },
  {
   "cell_type": "code",
   "execution_count": 4,
   "metadata": {},
   "outputs": [],
   "source": [
    "# height_filter_catalog\n",
    "H = 50\n",
    "FOV_half = np.deg2rad(90/2)\n",
    "d = 2*H* np.tan(FOV_half)\n",
    "filter = 2/3*d\n",
    "\n",
    "df_sort_f = df_sort[df_sort['r'] < filter].copy()\n",
    "df_sort_f = df_sort_f.reset_index(drop=True)"
   ]
  },
  {
   "cell_type": "code",
   "execution_count": 59,
   "metadata": {},
   "outputs": [
    {
     "output_type": "stream",
     "name": "stdout",
     "text": [
      "{89.73482510910853, 44.69529589658786, 45.569878994303615}\n[[61.0386, 61.6197], [-171.97400000000002, -171.38400000000001], {89.73482510910853, 44.69529589658786, 45.569878994303615}, [lon   -1.719740e+02\nlat    6.103860e+01\nr      1.352130e+01\ni      1.169582e+06\nj      3.490800e+04\nName: 0, dtype: float64, lon   -1.719720e+02\nlat    6.161970e+01\nr      1.005970e+00\ni      1.172669e+06\nj      3.491700e+04\nName: 2496, dtype: float64, lon   -1.713840e+02\nlat    6.103930e+01\nr      1.650710e+00\ni      1.169586e+06\nj      3.756400e+04\nName: 2519, dtype: float64]]\n"
     ]
    }
   ],
   "source": [
    "crt1, crt2, crt3, PICKS = find_triplet( df_sort_f, 0)\n",
    "max_crt_dist = np.max([dist_crt(crt1,crt2),dist_crt(crt2,crt3),dist_crt(crt1,crt3)])\n",
    "# print(max_crt_dist) # Into the query search: filter all triplet with max_crt_dist > d\n",
    "\n",
    "triplet = [crt1, crt2, crt3]\n",
    "K_vet = compute_K_vet(triplet)\n",
    "print(K_vet)\n",
    "Lat_bounds = [np.min([crt1.lat,crt2.lat,crt3.lat]),  np.max([crt1.lat,crt2.lat,crt3.lat]) ]\n",
    "Lon_bounds = [np.min([crt1.lon,crt2.lon,crt3.lon]),  np.max([crt1.lon,crt2.lon,crt3.lon]) ]\n",
    "entry = [ Lat_bounds, Lon_bounds, K_vet, [crt1, crt2, crt3]]\n",
    "print(entry)\n"
   ]
  },
  {
   "cell_type": "code",
   "execution_count": 73,
   "metadata": {},
   "outputs": [],
   "source": [
    "# Crater_TRN_catalog = pd.DataFrame({\n",
    "# 'Lat_bounds': Lat_bounds,\n",
    "# 'Lon_bounds': Lon_bounds,\n",
    "# 'Max ij-crt distance': max_crt_dist,\n",
    "# })"
   ]
  },
  {
   "cell_type": "code",
   "execution_count": 79,
   "metadata": {},
   "outputs": [],
   "source": [
    "entry_pd = pd.Series(entry)"
   ]
  },
  {
   "cell_type": "code",
   "execution_count": 80,
   "metadata": {},
   "outputs": [],
   "source": [
    "Crater_TRN_catalog = pd.DataFrame({'triplet':entry_pd})"
   ]
  },
  {
   "cell_type": "code",
   "execution_count": 81,
   "metadata": {},
   "outputs": [
    {
     "output_type": "execute_result",
     "data": {
      "text/plain": [
       "                                             triplet\n",
       "0                                 [61.0386, 61.6197]\n",
       "1         [-171.97400000000002, -171.38400000000001]\n",
       "2  {89.73482510910853, 44.69529589658786, 45.5698...\n",
       "3  [[-171.97400000000002, 61.0386, 13.5213, 11695..."
      ],
      "text/html": "<div>\n<style scoped>\n    .dataframe tbody tr th:only-of-type {\n        vertical-align: middle;\n    }\n\n    .dataframe tbody tr th {\n        vertical-align: top;\n    }\n\n    .dataframe thead th {\n        text-align: right;\n    }\n</style>\n<table border=\"1\" class=\"dataframe\">\n  <thead>\n    <tr style=\"text-align: right;\">\n      <th></th>\n      <th>triplet</th>\n    </tr>\n  </thead>\n  <tbody>\n    <tr>\n      <th>0</th>\n      <td>[61.0386, 61.6197]</td>\n    </tr>\n    <tr>\n      <th>1</th>\n      <td>[-171.97400000000002, -171.38400000000001]</td>\n    </tr>\n    <tr>\n      <th>2</th>\n      <td>{89.73482510910853, 44.69529589658786, 45.5698...</td>\n    </tr>\n    <tr>\n      <th>3</th>\n      <td>[[-171.97400000000002, 61.0386, 13.5213, 11695...</td>\n    </tr>\n  </tbody>\n</table>\n</div>"
     },
     "metadata": {},
     "execution_count": 81
    }
   ],
   "source": [
    "Crater_TRN_catalog"
   ]
  },
  {
   "cell_type": "code",
   "execution_count": null,
   "metadata": {},
   "outputs": [],
   "source": []
  },
  {
   "cell_type": "code",
   "execution_count": null,
   "metadata": {},
   "outputs": [],
   "source": []
  },
  {
   "cell_type": "code",
   "execution_count": null,
   "metadata": {},
   "outputs": [],
   "source": []
  },
  {
   "cell_type": "code",
   "execution_count": null,
   "metadata": {},
   "outputs": [],
   "source": []
  },
  {
   "cell_type": "code",
   "execution_count": null,
   "metadata": {},
   "outputs": [],
   "source": []
  },
  {
   "cell_type": "code",
   "execution_count": null,
   "metadata": {},
   "outputs": [],
   "source": []
  },
  {
   "cell_type": "code",
   "execution_count": null,
   "metadata": {},
   "outputs": [],
   "source": []
  },
  {
   "cell_type": "code",
   "execution_count": null,
   "metadata": {},
   "outputs": [],
   "source": []
  },
  {
   "cell_type": "code",
   "execution_count": null,
   "metadata": {},
   "outputs": [],
   "source": []
  },
  {
   "cell_type": "code",
   "execution_count": null,
   "metadata": {},
   "outputs": [],
   "source": []
  },
  {
   "cell_type": "code",
   "execution_count": null,
   "metadata": {},
   "outputs": [],
   "source": []
  },
  {
   "cell_type": "code",
   "execution_count": null,
   "metadata": {},
   "outputs": [],
   "source": []
  },
  {
   "cell_type": "code",
   "execution_count": null,
   "metadata": {},
   "outputs": [],
   "source": []
  },
  {
   "cell_type": "code",
   "execution_count": null,
   "metadata": {},
   "outputs": [],
   "source": []
  },
  {
   "cell_type": "code",
   "execution_count": null,
   "metadata": {},
   "outputs": [],
   "source": []
  },
  {
   "cell_type": "code",
   "execution_count": null,
   "metadata": {},
   "outputs": [],
   "source": [
    "# def image_gen(PATH):\n",
    "PATH = 'DATA/ephemeris sat/20 step size/IMG_20_Lat_0_Long_-127.683.jpg'\n",
    "path = '/home/sirbastiano/Desktop/Python Projects/Progetto Tesi/'+PATH\n",
    "\n",
    "# Actual Position:\n",
    "num =20\n",
    "l = -127.683\n",
    "H = 50\n",
    "X_c, Y_c = l, 0\n",
    "# x_f, y_f, z_f = spherical2cartesian(0, crater.Lat, crater.Lon)\n",
    "\n",
    "# Find reference in catalogs:\n",
    "dteta = find_dteta(H) # d/R, where d^2 is the footprint\n",
    "sp = dteta/2 # span\n",
    "lat_bounds, lon_bounds = np.array([Y_c-sp,Y_c+sp]), np.array([X_c-sp,X_c+sp])\n",
    "print('*'*35 +'BORDERS'+'*'*35)\n",
    "print(f'LAT: {lat_bounds}              LON:{lon_bounds}')\n",
    "print('*'*35 +'*******'+'*'*35)\n",
    "# 3 crater catalogs: HEAD | LROC | ROBBINS\n",
    "CATALOGS = ['ROBBINS', 'HEAD', 'LROC']\n",
    "for DATA in CATALOGS:\n",
    "    if DATA =='HEAD':\n",
    "        filepath = '/home/sirbastiano/Desktop/Python Projects/Progetto Tesi/DATA/HeadCraters.csv'\n",
    "    elif DATA == 'LROC':\n",
    "        filepath = '/home/sirbastiano/Desktop/Python Projects/Progetto Tesi/DATA/LROCCraters.csv'\n",
    "    elif DATA == 'ROBBINS':\n",
    "        filepath= '/home/sirbastiano/Desktop/Python Projects/Progetto Tesi/DATA/lunar_crater_database_robbins_2018.csv'\n",
    "\n",
    "    DB = pd.read_csv(filepath, sep=',')\n",
    "    df = CatalogSearch(DB, lat_bounds, lon_bounds, CAT_NAME=DATA)\n",
    "    if df is None:\n",
    "        print('No Craters found!')\n",
    "    else:     \n",
    "        print(f'Found {df.shape[0]} craters!\\n\\n', df)\n",
    "    \n",
    "    ## DRAWINGS: \n",
    "    ## FIG.1\n",
    "    img = cv2.imread(path)\n",
    "    plt.ion()\n",
    "    plt.figure('Tile and Mask -'+DATA, dpi=200)\n",
    "    plt.subplot(1,2,1)\n",
    "    plt.imshow(img)\n",
    "    plt.subplot(1,2,2)\n",
    "    I = draw_craters(df, lon_bounds, lat_bounds)\n",
    "    plt.imshow(I)\n",
    "    plt.show()\n",
    "    plt.savefig(DATA+str(num)+'_fig-A.png')\n",
    "    \n",
    "    ## FIG.2\n",
    "    image_with_craters = draw_craters_on_image(df,  lon_bounds, lat_bounds, img, u=None)\n",
    "    plt.ion()\n",
    "    plt.figure('Image with craters catalogued-'+DATA, dpi=200)\n",
    "    plt.imshow(image_with_craters)\n",
    "    plt.show()\n",
    "    plt.savefig(DATA+str(num)+'_fig-B.png')\n",
    "\n",
    "plt.close('all')"
   ]
  },
  {
   "cell_type": "code",
   "execution_count": null,
   "metadata": {},
   "outputs": [],
   "source": [
    "PATHS = os.listdir(\"/home/sirbastiano/Desktop/Python Projects/Progetto Tesi/DATA/ephemeris sat/20 step size\")\n",
    "print(PATHS)"
   ]
  }
 ]
}