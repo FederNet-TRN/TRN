{
 "metadata": {
  "language_info": {
   "codemirror_mode": {
    "name": "ipython",
    "version": 3
   },
   "file_extension": ".py",
   "mimetype": "text/x-python",
   "name": "python",
   "nbconvert_exporter": "python",
   "pygments_lexer": "ipython3",
   "version": "3.7.9-final"
  },
  "orig_nbformat": 2,
  "kernelspec": {
   "name": "python3",
   "display_name": "Python 3.7.9 64-bit ('project_thesis': conda)",
   "metadata": {
    "interpreter": {
     "hash": "93fe94e5baa96e16921111566a2ec9b1e2e4eaf5c7b48668a60b4cd4eab04f86"
    }
   }
  }
 },
 "nbformat": 4,
 "nbformat_minor": 2,
 "cells": [
  {
   "cell_type": "code",
   "execution_count": 1,
   "metadata": {},
   "outputs": [],
   "source": [
    "# External libraries\n",
    "import numpy as np\n",
    "import pandas as pd\n",
    "import matplotlib.pyplot as plt \n",
    "import matplotlib.style as style\n",
    "import cv2\n",
    "import time\n",
    "import os\n",
    "from utility.utils import *\n",
    "import re\n",
    "import h5py\n",
    "import tables\n",
    "\n",
    "# Own Libraries\n",
    "from utility.utils import *\n",
    "from Match.pair import *\n",
    "from Match.icp import *\n",
    "\n",
    "%matplotlib tk\n",
    "style.use('seaborn-paper')"
   ]
  },
  {
   "source": [
    "# CATALOG CREATION"
   ],
   "cell_type": "markdown",
   "metadata": {}
  },
  {
   "cell_type": "code",
   "execution_count": 13,
   "metadata": {},
   "outputs": [],
   "source": [
    "DB = pd.read_csv(\"DATA/lunar_crater_database_robbins_2018.csv\", sep=\",\")\n",
    "DB['DIAM_CIRC_IMG'] *= 0.5\n",
    "\n",
    "def craters_from_HLL(H,lat,lon, filter = 1):\n",
    "    t = find_dteta(H)  # d/R, where d^2 is the footprint\n",
    "    lat_bounds, lon_bounds = (np.array([lat - t/2, lat + t/2]), np.array([lon - t/2, lon + t/2]) )\n",
    "    df = CatalogSearch(DB, lat_bounds, lon_bounds, CAT_NAME=\"ROBBINS\")\n",
    "    df.rename(columns={'Diam':'r'}, inplace=True)\n",
    "    df = df[ df.r > filter]        # km > filter\n",
    "    df.r = df.r * 1/deg2km    #km2deg\n",
    "    # Now it's all expressed in deg!\n",
    "    return df\n",
    "\n",
    "def HLL_catalog(df_mat):\n",
    "    H = find_all_triplets(df_mat)\n",
    "    Q = pd.DataFrame(H, columns=['Angle1','Angle2','Angle3','des1','des2','des3','x1','y1','r1','x2','y2','r2','x3','y3','r3'])\n",
    "    # Retrasform radius to km:\n",
    "    Q.r1 *= deg2km\n",
    "    Q.r2 *= deg2km\n",
    "    Q.r3 *= deg2km\n",
    "    Q.rename( columns={'x1':'lon1','x2':'lon2','x3':'lon3','y1':'lat1','y2':'lat2','y3':'lat3'}, inplace=True)\n",
    "    return Q"
   ]
  },
  {
   "cell_type": "code",
   "execution_count": 15,
   "metadata": {},
   "outputs": [
    {
     "output_type": "stream",
     "name": "stdout",
     "text": [
      " |████████████████████████████████████████████████████████████████████████████████████████████████████| 100.0% \n",
      " |████████████████████████████████████████████████████████████████████████████████████████████████████| 100.0% \n"
     ]
    }
   ],
   "source": [
    "lon, lat, H = -180, 0, 50\n",
    "\n",
    "for i in range(2):\n",
    "    df = craters_from_HLL(H,lat,lon)\n",
    "    df_mat = np.array(df)\n",
    "    cat = HLL_catalog(df_mat)\n",
    "    if i == 0:\n",
    "        CAT = cat \n",
    "    else:\n",
    "        CAT = pd.concat([CAT,cat])\n",
    "\n",
    "    lon +=1"
   ]
  },
  {
   "cell_type": "code",
   "execution_count": 19,
   "metadata": {},
   "outputs": [],
   "source": [
    "CAT.to_hdf('test.h5', key='df', complevel=9, format='table')"
   ]
  },
  {
   "cell_type": "code",
   "execution_count": null,
   "metadata": {},
   "outputs": [],
   "source": []
  },
  {
   "cell_type": "code",
   "execution_count": null,
   "metadata": {},
   "outputs": [],
   "source": []
  },
  {
   "cell_type": "code",
   "execution_count": null,
   "metadata": {},
   "outputs": [],
   "source": []
  },
  {
   "cell_type": "code",
   "execution_count": null,
   "metadata": {},
   "outputs": [],
   "source": []
  },
  {
   "cell_type": "code",
   "execution_count": null,
   "metadata": {},
   "outputs": [],
   "source": []
  },
  {
   "cell_type": "code",
   "execution_count": null,
   "metadata": {},
   "outputs": [],
   "source": []
  },
  {
   "cell_type": "code",
   "execution_count": null,
   "metadata": {},
   "outputs": [],
   "source": []
  },
  {
   "cell_type": "code",
   "execution_count": null,
   "metadata": {},
   "outputs": [],
   "source": []
  },
  {
   "cell_type": "code",
   "execution_count": null,
   "metadata": {},
   "outputs": [],
   "source": []
  },
  {
   "cell_type": "code",
   "execution_count": null,
   "metadata": {},
   "outputs": [],
   "source": []
  },
  {
   "cell_type": "code",
   "execution_count": null,
   "metadata": {},
   "outputs": [],
   "source": []
  },
  {
   "cell_type": "code",
   "execution_count": null,
   "metadata": {},
   "outputs": [],
   "source": []
  },
  {
   "cell_type": "code",
   "execution_count": null,
   "metadata": {},
   "outputs": [],
   "source": []
  },
  {
   "cell_type": "code",
   "execution_count": null,
   "metadata": {},
   "outputs": [],
   "source": []
  },
  {
   "cell_type": "code",
   "execution_count": null,
   "metadata": {},
   "outputs": [],
   "source": []
  },
  {
   "cell_type": "code",
   "execution_count": null,
   "metadata": {},
   "outputs": [],
   "source": []
  },
  {
   "cell_type": "code",
   "execution_count": null,
   "metadata": {},
   "outputs": [],
   "source": []
  },
  {
   "cell_type": "code",
   "execution_count": null,
   "metadata": {},
   "outputs": [],
   "source": []
  },
  {
   "cell_type": "code",
   "execution_count": null,
   "metadata": {},
   "outputs": [],
   "source": []
  },
  {
   "cell_type": "code",
   "execution_count": null,
   "metadata": {},
   "outputs": [],
   "source": []
  },
  {
   "cell_type": "code",
   "execution_count": null,
   "metadata": {},
   "outputs": [],
   "source": [
    "# # def image_gen(PATH):\n",
    "# path = 'DATA/ephemeris sat/20 step size/IMG_20_Lat_0_Long_-127.683.jpg'\n",
    "\n",
    "# # Actual Position:\n",
    "# num =20\n",
    "# l = -127.683\n",
    "# H = 50\n",
    "# X_c, Y_c = l, 0\n",
    "# # x_f, y_f, z_f = spherical2cartesian(0, crater.Lat, crater.Lon)\n",
    "\n",
    "# # Find reference in catalogs:\n",
    "# dteta = find_dteta(H) # d/R, where d^2 is the footprint\n",
    "# sp = dteta/2 # span\n",
    "# lat_bounds, lon_bounds = np.array([Y_c-sp,Y_c+sp]), np.array([X_c-sp,X_c+sp])\n",
    "# print('*'*35 +'BORDERS'+'*'*35)\n",
    "# print(f'LAT: {lat_bounds}              LON:{lon_bounds}')\n",
    "# print('*'*35 +'*******'+'*'*35)\n",
    "# # 3 crater catalogs: HEAD | LROC | ROBBINS\n",
    "# CATALOGS = ['ROBBINS', 'HEAD', 'LROC']\n",
    "# for DATA in CATALOGS:\n",
    "#     if DATA =='HEAD':\n",
    "#         filepath = '/DATA/HeadCraters.csv'\n",
    "#     elif DATA == 'LROC':\n",
    "#         filepath = '/DATA/LROCCraters.csv'\n",
    "#     elif DATA == 'ROBBINS':\n",
    "#         filepath= 'DATA/lunar_crater_database_robbins_2018.csv'\n",
    "\n",
    "#     DB = pd.read_csv(filepath, sep=',')\n",
    "#     df = CatalogSearch(DB, lat_bounds, lon_bounds, CAT_NAME=DATA)\n",
    "#     if df is None:\n",
    "#         print('No Craters found!')\n",
    "#     else:     \n",
    "#         print(f'Found {df.shape[0]} craters!\\n\\n', df)\n",
    "    \n",
    "#     ## DRAWINGS: \n",
    "#     ## FIG.1\n",
    "#     img = cv2.imread(path)\n",
    "#     plt.ion()\n",
    "#     plt.figure('Tile and Mask -'+DATA, dpi=200)\n",
    "#     plt.subplot(1,2,1)\n",
    "#     plt.imshow(img)\n",
    "#     plt.subplot(1,2,2)\n",
    "#     I = draw_craters(df, lon_bounds, lat_bounds)\n",
    "#     plt.imshow(I)\n",
    "#     plt.show()\n",
    "#     plt.savefig(DATA+str(num)+'_fig-A.png')\n",
    "    \n",
    "#     ## FIG.2\n",
    "#     image_with_craters = draw_craters_on_image(df,  lon_bounds, lat_bounds, img, u=None)\n",
    "#     plt.ion()\n",
    "#     plt.figure('Image with craters catalogued-'+DATA, dpi=200)\n",
    "#     plt.imshow(image_with_craters)\n",
    "#     plt.show()\n",
    "#     plt.savefig(DATA+str(num)+'_fig-B.png')\n",
    "\n",
    "# plt.close('all')"
   ]
  }
 ]
}