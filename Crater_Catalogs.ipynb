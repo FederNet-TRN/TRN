{
 "metadata": {
  "language_info": {
   "codemirror_mode": {
    "name": "ipython",
    "version": 3
   },
   "file_extension": ".py",
   "mimetype": "text/x-python",
   "name": "python",
   "nbconvert_exporter": "python",
   "pygments_lexer": "ipython3",
   "version": "3.6.12-final"
  },
  "orig_nbformat": 2,
  "kernelspec": {
   "name": "crateri",
   "display_name": "crateri",
   "language": "python"
  }
 },
 "nbformat": 4,
 "nbformat_minor": 2,
 "cells": [
  {
   "cell_type": "code",
   "execution_count": null,
   "metadata": {},
   "outputs": [],
   "source": [
    "# External libraries\n",
    "import numpy as np\n",
    "import pandas as pd\n",
    "import matplotlib.pyplot as plt \n",
    "import matplotlib.style as style\n",
    "import cv2\n",
    "import time\n",
    "import os\n",
    "from utility.utils import *\n",
    "import re\n",
    "import h5py\n",
    "import tables\n",
    "\n",
    "# Own Libraries\n",
    "from utility.utils import *\n",
    "from Match.pair import *\n",
    "from Match.icp import *\n",
    "\n",
    "%matplotlib tk\n",
    "style.use('seaborn-paper')"
   ]
  },
  {
   "source": [
    "# CATALOG CREATION"
   ],
   "cell_type": "markdown",
   "metadata": {}
  },
  {
   "cell_type": "code",
   "execution_count": null,
   "metadata": {},
   "outputs": [],
   "source": [
    "DB = pd.read_csv(\"DATA/lunar_crater_database_robbins_2018.csv\", sep=\",\")\n",
    "DB['DIAM_CIRC_IMG'] *= 0.5\n",
    "\n",
    "def craters_from_HLL(H,lat,lon, filter = 1):\n",
    "    t = find_dteta(H)  # d/R, where d^2 is the footprint\n",
    "    lat_bounds, lon_bounds = (np.array([lat - t/2, lat + t/2]), np.array([lon - t/2, lon + t/2]) )\n",
    "    df = CatalogSearch(DB, lat_bounds, lon_bounds, CAT_NAME=\"ROBBINS\")\n",
    "    df.rename(columns={'Diam':'r'}, inplace=True)\n",
    "    df = df[ df.r > filter]        # km > filter\n",
    "    df.r = df.r * 1/deg2km    #km2deg\n",
    "    # Now it's all expressed in deg!\n",
    "    return df\n",
    "\n",
    "def HLL_catalog(df_mat):\n",
    "    H = find_all_triplets(df_mat)\n",
    "    Q = pd.DataFrame(H, columns=['Angle1','Angle2','Angle3','des1','des2','des3','x1','y1','r1','x2','y2','r2','x3','y3','r3'])\n",
    "    # Retrasform radius to km:\n",
    "    Q.r1 *= deg2km\n",
    "    Q.r2 *= deg2km\n",
    "    Q.r3 *= deg2km\n",
    "    Q.rename( columns={'x1':'lon1','x2':'lon2','x3':'lon3','y1':'lat1','y2':'lat2','y3':'lat3'}, inplace=True)\n",
    "    return Q"
   ]
  },
  {
   "cell_type": "code",
   "execution_count": null,
   "metadata": {},
   "outputs": [],
   "source": [
    "lon, lat, H = -180, 3, 50\n",
    "%cd DATA/CATALOG\n",
    "for i in range(3):\n",
    "    df = craters_from_HLL(H,lat,lon)\n",
    "    df_mat = np.array(df)\n",
    "    cat = HLL_catalog(df_mat)\n",
    "\n",
    "    # cat.to_hdf(f'test_lat_{lat}_lon_{lon}.h5', key='df', format='table')\n",
    "    cat.to_hdf(f'part_{i+1}.h5',key='df', format='table', index=False)\n",
    "    lon+=2"
   ]
  },
  {
   "cell_type": "code",
   "execution_count": null,
   "metadata": {},
   "outputs": [],
   "source": [
    "# LOAD ALL H5:\n",
    "import glob \n",
    "dict = {}\n",
    "for elem in glob.glob(f\"/home/sirbastiano/Desktop/Python Projects/TRN/DATA/CATALOG/*\"):\n",
    "    txt = elem             # stringa completa\n",
    "    name  = txt.split('/')[-1]\n",
    "    t = txt.split('_')[1] # numero\n",
    "    t = t.split('.')[0]\n",
    "    dict[t] = name"
   ]
  },
  {
   "cell_type": "code",
   "execution_count": null,
   "metadata": {},
   "outputs": [],
   "source": [
    "dfs=[]\n",
    "for file in dict:\n",
    "    h = pd.HDFStore(dict[str(file)])\n",
    "    dfs.append(h['df'])\n",
    "\n",
    "df = pd.concat(dfs)\n",
    "\n"
   ]
  },
  {
   "source": [
    "# Merge H+L"
   ],
   "cell_type": "markdown",
   "metadata": {}
  },
  {
   "cell_type": "code",
   "execution_count": null,
   "metadata": {},
   "outputs": [],
   "source": [
    "H = pd.read_csv('DATA/HeadCraters.csv')\n",
    "L = pd.read_csv('DATA/LROCCraters.csv')"
   ]
  },
  {
   "cell_type": "code",
   "execution_count": null,
   "metadata": {},
   "outputs": [],
   "source": [
    "H.rename( columns={'Lon':'lon','Lat':'lat','Diam_km':'diam' }, inplace=True)\n",
    "H.head(2)"
   ]
  },
  {
   "cell_type": "code",
   "execution_count": null,
   "metadata": {},
   "outputs": [],
   "source": [
    "L.rename(columns={'Long':'lon', 'Lat':'lat','Diameter (km)':'diam' }, inplace=True)\n",
    "L.head(2)"
   ]
  },
  {
   "cell_type": "code",
   "execution_count": null,
   "metadata": {},
   "outputs": [],
   "source": [
    "lon1 = H.lon\n",
    "lon2= L.lon\n",
    "\n",
    "lat1= H.lat\n",
    "lat2=L.lat\n",
    "\n",
    "diam1=H.diam\n",
    "diam2=L.diam \n",
    "\n",
    "# H_L ="
   ]
  },
  {
   "cell_type": "code",
   "execution_count": null,
   "metadata": {},
   "outputs": [],
   "source": [
    "lon1 =  np.array(lon1)\n",
    "lon1 = np.vstack(lon1)\n",
    "lon2 =  np.array(lon2)\n",
    "lon2 = np.vstack(lon2)\n",
    "\n",
    "lat1 =  np.array(lat1)\n",
    "lat1 = np.vstack(lat1)\n",
    "lat2 =  np.array(lat2)\n",
    "lat2 = np.vstack(lat2)\n",
    "\n",
    "diam1 =  np.array(diam1)\n",
    "diam1 = np.vstack(diam1)\n",
    "diam2 =  np.array(diam2)\n",
    "diam2 = np.vstack(diam2)\n",
    "\n",
    "\n",
    "LON = np.vstack([lon1,lon2]) \n",
    "LAT = np.vstack([lat1,lat2]) \n",
    "DIAM = np.vstack([diam1,diam2]) \n",
    "\n",
    "DATA = np.hstack([LON,LAT,DIAM])"
   ]
  },
  {
   "cell_type": "code",
   "execution_count": null,
   "metadata": {},
   "outputs": [],
   "source": [
    "H_L = pd.DataFrame( DATA, columns=['lon','lat','diam'])\n",
    "H_L"
   ]
  },
  {
   "cell_type": "code",
   "execution_count": null,
   "metadata": {},
   "outputs": [],
   "source": [
    "H_L.to_csv('H_L_combined.csv', index=False)"
   ]
  },
  {
   "source": [],
   "cell_type": "markdown",
   "metadata": {}
  },
  {
   "source": [
    "# CATALOG CREATION H+L"
   ],
   "cell_type": "markdown",
   "metadata": {}
  },
  {
   "cell_type": "code",
   "execution_count": null,
   "metadata": {},
   "outputs": [],
   "source": [
    "%cd DATA/CATALOG"
   ]
  },
  {
   "cell_type": "code",
   "execution_count": null,
   "metadata": {},
   "outputs": [],
   "source": [
    "DB = pd.read_csv(\"/home/sirbastiano/Documenti/Python Projects/TRN/TRN/DATA/H_L_combined.csv\", sep=\",\")\n",
    "\n",
    "def craters_from_HLL(H,lat,lon, filter = 0):\n",
    "    t = find_dteta(H)  # d/R, where d^2 is the footprint\n",
    "    lat_bounds, lon_bounds = (np.array([lat - t/2, lat + t/2]), np.array([lon - t/2, lon + t/2]) )\n",
    "    df = CatalogSearch(DB, lat_bounds, lon_bounds, CAT_NAME=\"COMBINED\")\n",
    "    if df is not None:\n",
    "        df.rename(columns={'Diam':'r'}, inplace=True)\n",
    "        df.r = df.r * 1/deg2km    #km2deg\n",
    "        # Now it's all expressed in deg!\n",
    "        return df\n",
    "    else:return None\n",
    "\n",
    "def HLL_catalog(df_mat):\n",
    "    H = find_all_triplets(df_mat)\n",
    "    Q = pd.DataFrame(H, columns=['Angle1','Angle2','Angle3','des1','des2','des3','x1','y1','r1','x2','y2','r2','x3','y3','r3'])\n",
    "    # Retrasform radius to km:\n",
    "    Q.r1 *= deg2km\n",
    "    Q.r2 *= deg2km\n",
    "    Q.r3 *= deg2km\n",
    "    Q.rename( columns={'x1':'lon1','x2':'lon2','x3':'lon3','y1':'lat1','y2':'lat2','y3':'lat3'}, inplace=True)\n",
    "    return Q"
   ]
  },
  {
   "cell_type": "code",
   "execution_count": null,
   "metadata": {
    "tags": [
     "outputPrepend"
    ]
   },
   "outputs": [],
   "source": [
    "lon, lat, H = -180, -90, 60\n",
    "while lat < 90:\n",
    "    lon = -180\n",
    "    while lon < 180:\n",
    "        df = craters_from_HLL(H,lat,lon)\n",
    "        if df is not None:\n",
    "            df_mat = np.array(df)\n",
    "            cat = HLL_catalog(df_mat)\n",
    "            cat.to_hdf(f'cat_lat_{lat}_lon_{lon}.h5', key='df', format='table')\n",
    "        \n",
    "        lon+=3\n",
    "    lat+=3"
   ]
  },
  {
   "source": [
    "# MERGE"
   ],
   "cell_type": "markdown",
   "metadata": {}
  },
  {
   "cell_type": "code",
   "execution_count": 2,
   "metadata": {
    "tags": []
   },
   "outputs": [],
   "source": [
    "# LOAD ALL H5:\n",
    "import glob\n",
    "dfs, names = [], []\n",
    "for name in glob.glob(f\"/home/sirbastiano/Documenti/Python Projects/TRN/TRN/DATA/CATALOG/*\"):\n",
    "    names.append(name)"
   ]
  },
  {
   "cell_type": "code",
   "execution_count": 4,
   "metadata": {
    "tags": []
   },
   "outputs": [
    {
     "output_type": "stream",
     "name": "stdout",
     "text": [
      " |███████████████████████████████████████████████████████████████████████████████████████████████████-| 100.0% "
     ]
    }
   ],
   "source": [
    "for i in range(len(names)):\n",
    "    printProgressBar(i,len(names), printEnd='' )\n",
    "    h = pd.HDFStore(names[i])\n",
    "    dfs.append(h)"
   ]
  },
  {
   "cell_type": "code",
   "execution_count": null,
   "metadata": {},
   "outputs": [],
   "source": [
    "df = pd.concat(dfs)"
   ]
  },
  {
   "cell_type": "code",
   "execution_count": 23,
   "metadata": {},
   "outputs": [
    {
     "output_type": "execute_result",
     "data": {
      "text/plain": [
       "          Angle1      Angle2     Angle3      des1      des2       des3  \\\n",
       "0       5.929841  160.584196  13.485962  0.378319  1.809078   0.522025   \n",
       "1       0.291066  179.112111   0.596824  0.293224  1.746023   6.816749   \n",
       "2       7.205378  155.437962  17.356660  0.426045  1.844599   6.106951   \n",
       "3       9.413847  147.700329  22.885824  0.452907  1.813213   6.268449   \n",
       "4      11.643254  139.933438  28.423309  0.479541  1.765972  11.982643   \n",
       "...          ...         ...        ...       ...       ...        ...   \n",
       "7975   55.856137  103.308729  20.835134  4.569596  8.220458   5.331764   \n",
       "7976   66.793805   91.155604  22.050592  4.933734  7.871516   3.563714   \n",
       "7977   83.953793   68.253530  27.792677  5.758787  7.211431   2.139190   \n",
       "7978   75.481734    8.850231  95.668035  9.300661  3.829196   4.053122   \n",
       "7979  118.065995    8.348232  53.585774  8.771842  4.246722   4.513174   \n",
       "\n",
       "            lon1      lat1         r1        lon2      lat2         r2  \\\n",
       "0    -159.507369  5.432325  42.815601 -159.652340  4.259096  27.718500   \n",
       "1    -159.507369  5.432325  42.815601 -159.652340  4.259096  27.718500   \n",
       "2    -159.507369  5.432325  42.815601 -159.652340  4.259096  27.718500   \n",
       "3    -159.507369  5.432325  42.815601 -159.652340  4.259096  27.718500   \n",
       "4    -159.507369  5.432325  42.815601 -159.652340  4.259096  27.718500   \n",
       "...          ...       ...        ...         ...       ...        ...   \n",
       "7975 -159.077698  4.148193   5.911359 -160.126928  6.625366   7.079449   \n",
       "7976 -159.077698  4.148193   5.911359 -160.126928  6.625366   7.079449   \n",
       "7977 -159.077698  4.148193   5.911359 -160.126928  6.625366   7.079449   \n",
       "7978 -159.077698  4.148193   5.911359 -160.126928  6.625366   7.079449   \n",
       "7979 -159.077698  4.148193   5.911359 -160.126928  6.625366   7.079449   \n",
       "\n",
       "            lon3      lat3          r3  \n",
       "0    -158.318355  7.821309  125.158675  \n",
       "1    -159.247428  7.842292    8.941095  \n",
       "2    -158.033835  7.826949   11.116723  \n",
       "3    -157.725451  7.606017   10.724232  \n",
       "4    -157.464628  7.329852    5.504388  \n",
       "...          ...       ...         ...  \n",
       "7975 -157.937907  4.341932    7.451070  \n",
       "7976 -158.057400  4.556281    9.949707  \n",
       "7977 -160.338812  4.121576   13.834544  \n",
       "7978 -159.751632  6.830185    7.237624  \n",
       "7979 -159.696442  6.522344    5.103905  \n",
       "\n",
       "[7980 rows x 15 columns]"
      ],
      "text/html": "<div>\n<style scoped>\n    .dataframe tbody tr th:only-of-type {\n        vertical-align: middle;\n    }\n\n    .dataframe tbody tr th {\n        vertical-align: top;\n    }\n\n    .dataframe thead th {\n        text-align: right;\n    }\n</style>\n<table border=\"1\" class=\"dataframe\">\n  <thead>\n    <tr style=\"text-align: right;\">\n      <th></th>\n      <th>Angle1</th>\n      <th>Angle2</th>\n      <th>Angle3</th>\n      <th>des1</th>\n      <th>des2</th>\n      <th>des3</th>\n      <th>lon1</th>\n      <th>lat1</th>\n      <th>r1</th>\n      <th>lon2</th>\n      <th>lat2</th>\n      <th>r2</th>\n      <th>lon3</th>\n      <th>lat3</th>\n      <th>r3</th>\n    </tr>\n  </thead>\n  <tbody>\n    <tr>\n      <th>0</th>\n      <td>5.929841</td>\n      <td>160.584196</td>\n      <td>13.485962</td>\n      <td>0.378319</td>\n      <td>1.809078</td>\n      <td>0.522025</td>\n      <td>-159.507369</td>\n      <td>5.432325</td>\n      <td>42.815601</td>\n      <td>-159.652340</td>\n      <td>4.259096</td>\n      <td>27.718500</td>\n      <td>-158.318355</td>\n      <td>7.821309</td>\n      <td>125.158675</td>\n    </tr>\n    <tr>\n      <th>1</th>\n      <td>0.291066</td>\n      <td>179.112111</td>\n      <td>0.596824</td>\n      <td>0.293224</td>\n      <td>1.746023</td>\n      <td>6.816749</td>\n      <td>-159.507369</td>\n      <td>5.432325</td>\n      <td>42.815601</td>\n      <td>-159.652340</td>\n      <td>4.259096</td>\n      <td>27.718500</td>\n      <td>-159.247428</td>\n      <td>7.842292</td>\n      <td>8.941095</td>\n    </tr>\n    <tr>\n      <th>2</th>\n      <td>7.205378</td>\n      <td>155.437962</td>\n      <td>17.356660</td>\n      <td>0.426045</td>\n      <td>1.844599</td>\n      <td>6.106951</td>\n      <td>-159.507369</td>\n      <td>5.432325</td>\n      <td>42.815601</td>\n      <td>-159.652340</td>\n      <td>4.259096</td>\n      <td>27.718500</td>\n      <td>-158.033835</td>\n      <td>7.826949</td>\n      <td>11.116723</td>\n    </tr>\n    <tr>\n      <th>3</th>\n      <td>9.413847</td>\n      <td>147.700329</td>\n      <td>22.885824</td>\n      <td>0.452907</td>\n      <td>1.813213</td>\n      <td>6.268449</td>\n      <td>-159.507369</td>\n      <td>5.432325</td>\n      <td>42.815601</td>\n      <td>-159.652340</td>\n      <td>4.259096</td>\n      <td>27.718500</td>\n      <td>-157.725451</td>\n      <td>7.606017</td>\n      <td>10.724232</td>\n    </tr>\n    <tr>\n      <th>4</th>\n      <td>11.643254</td>\n      <td>139.933438</td>\n      <td>28.423309</td>\n      <td>0.479541</td>\n      <td>1.765972</td>\n      <td>11.982643</td>\n      <td>-159.507369</td>\n      <td>5.432325</td>\n      <td>42.815601</td>\n      <td>-159.652340</td>\n      <td>4.259096</td>\n      <td>27.718500</td>\n      <td>-157.464628</td>\n      <td>7.329852</td>\n      <td>5.504388</td>\n    </tr>\n    <tr>\n      <th>...</th>\n      <td>...</td>\n      <td>...</td>\n      <td>...</td>\n      <td>...</td>\n      <td>...</td>\n      <td>...</td>\n      <td>...</td>\n      <td>...</td>\n      <td>...</td>\n      <td>...</td>\n      <td>...</td>\n      <td>...</td>\n      <td>...</td>\n      <td>...</td>\n      <td>...</td>\n    </tr>\n    <tr>\n      <th>7975</th>\n      <td>55.856137</td>\n      <td>103.308729</td>\n      <td>20.835134</td>\n      <td>4.569596</td>\n      <td>8.220458</td>\n      <td>5.331764</td>\n      <td>-159.077698</td>\n      <td>4.148193</td>\n      <td>5.911359</td>\n      <td>-160.126928</td>\n      <td>6.625366</td>\n      <td>7.079449</td>\n      <td>-157.937907</td>\n      <td>4.341932</td>\n      <td>7.451070</td>\n    </tr>\n    <tr>\n      <th>7976</th>\n      <td>66.793805</td>\n      <td>91.155604</td>\n      <td>22.050592</td>\n      <td>4.933734</td>\n      <td>7.871516</td>\n      <td>3.563714</td>\n      <td>-159.077698</td>\n      <td>4.148193</td>\n      <td>5.911359</td>\n      <td>-160.126928</td>\n      <td>6.625366</td>\n      <td>7.079449</td>\n      <td>-158.057400</td>\n      <td>4.556281</td>\n      <td>9.949707</td>\n    </tr>\n    <tr>\n      <th>7977</th>\n      <td>83.953793</td>\n      <td>68.253530</td>\n      <td>27.792677</td>\n      <td>5.758787</td>\n      <td>7.211431</td>\n      <td>2.139190</td>\n      <td>-159.077698</td>\n      <td>4.148193</td>\n      <td>5.911359</td>\n      <td>-160.126928</td>\n      <td>6.625366</td>\n      <td>7.079449</td>\n      <td>-160.338812</td>\n      <td>4.121576</td>\n      <td>13.834544</td>\n    </tr>\n    <tr>\n      <th>7978</th>\n      <td>75.481734</td>\n      <td>8.850231</td>\n      <td>95.668035</td>\n      <td>9.300661</td>\n      <td>3.829196</td>\n      <td>4.053122</td>\n      <td>-159.077698</td>\n      <td>4.148193</td>\n      <td>5.911359</td>\n      <td>-160.126928</td>\n      <td>6.625366</td>\n      <td>7.079449</td>\n      <td>-159.751632</td>\n      <td>6.830185</td>\n      <td>7.237624</td>\n    </tr>\n    <tr>\n      <th>7979</th>\n      <td>118.065995</td>\n      <td>8.348232</td>\n      <td>53.585774</td>\n      <td>8.771842</td>\n      <td>4.246722</td>\n      <td>4.513174</td>\n      <td>-159.077698</td>\n      <td>4.148193</td>\n      <td>5.911359</td>\n      <td>-160.126928</td>\n      <td>6.625366</td>\n      <td>7.079449</td>\n      <td>-159.696442</td>\n      <td>6.522344</td>\n      <td>5.103905</td>\n    </tr>\n  </tbody>\n</table>\n<p>7980 rows × 15 columns</p>\n</div>"
     },
     "metadata": {},
     "execution_count": 23
    }
   ],
   "source": [
    "dfs[122]['df']"
   ]
  },
  {
   "cell_type": "code",
   "execution_count": 3,
   "metadata": {},
   "outputs": [
    {
     "output_type": "stream",
     "text": [
      "\u001b[0;31mSignature:\u001b[0m\n",
      "\u001b[0mprintProgressBar\u001b[0m\u001b[0;34m(\u001b[0m\u001b[0;34m\u001b[0m\n",
      "\u001b[0;34m\u001b[0m    \u001b[0miteration\u001b[0m\u001b[0;34m,\u001b[0m\u001b[0;34m\u001b[0m\n",
      "\u001b[0;34m\u001b[0m    \u001b[0mtotal\u001b[0m\u001b[0;34m,\u001b[0m\u001b[0;34m\u001b[0m\n",
      "\u001b[0;34m\u001b[0m    \u001b[0mprefix\u001b[0m\u001b[0;34m=\u001b[0m\u001b[0;34m''\u001b[0m\u001b[0;34m,\u001b[0m\u001b[0;34m\u001b[0m\n",
      "\u001b[0;34m\u001b[0m    \u001b[0msuffix\u001b[0m\u001b[0;34m=\u001b[0m\u001b[0;34m''\u001b[0m\u001b[0;34m,\u001b[0m\u001b[0;34m\u001b[0m\n",
      "\u001b[0;34m\u001b[0m    \u001b[0mdecimals\u001b[0m\u001b[0;34m=\u001b[0m\u001b[0;36m1\u001b[0m\u001b[0;34m,\u001b[0m\u001b[0;34m\u001b[0m\n",
      "\u001b[0;34m\u001b[0m    \u001b[0mlength\u001b[0m\u001b[0;34m=\u001b[0m\u001b[0;36m100\u001b[0m\u001b[0;34m,\u001b[0m\u001b[0;34m\u001b[0m\n",
      "\u001b[0;34m\u001b[0m    \u001b[0mfill\u001b[0m\u001b[0;34m=\u001b[0m\u001b[0;34m'█'\u001b[0m\u001b[0;34m,\u001b[0m\u001b[0;34m\u001b[0m\n",
      "\u001b[0;34m\u001b[0m    \u001b[0mprintEnd\u001b[0m\u001b[0;34m=\u001b[0m\u001b[0;34m'\\r'\u001b[0m\u001b[0;34m,\u001b[0m\u001b[0;34m\u001b[0m\n",
      "\u001b[0;34m\u001b[0m\u001b[0;34m)\u001b[0m\u001b[0;34m\u001b[0m\u001b[0;34m\u001b[0m\u001b[0m\n",
      "\u001b[0;31mDocstring:\u001b[0m\n",
      "    Call in a loop to create terminal progress bar\n",
      "    @params:\n",
      "        iteration   - Required  : current iteration (Int)\n",
      "        total       - Required  : total iterations (Int)\n",
      "        prefix      - Optional  : prefix string (Str)\n",
      "        suffix      - Optional  : suffix string (Str)\n",
      "        decimals    - Optional  : positive number of decimals in percent complete (Int)\n",
      "        length      - Optional  : character length of bar (Int)\n",
      "        fill        - Optional  : bar fill character (Str)\n",
      "        printEnd    - Optional  : end character (e.g. \"\r\", \"\r\n",
      "\") (Str)\n",
      "    \n",
      "\u001b[0;31mFile:\u001b[0m      ~/Documenti/Python Projects/TRN/TRN/utility/utils.py\n",
      "\u001b[0;31mType:\u001b[0m      function\n"
     ],
     "name": "stdout"
    }
   ],
   "source": [
    "printProgressBar?"
   ]
  },
  {
   "cell_type": "code",
   "execution_count": null,
   "metadata": {},
   "outputs": [],
   "source": []
  },
  {
   "cell_type": "code",
   "execution_count": null,
   "metadata": {},
   "outputs": [],
   "source": []
  },
  {
   "cell_type": "code",
   "execution_count": null,
   "metadata": {},
   "outputs": [],
   "source": []
  },
  {
   "cell_type": "code",
   "execution_count": null,
   "metadata": {},
   "outputs": [],
   "source": []
  },
  {
   "cell_type": "code",
   "execution_count": null,
   "metadata": {},
   "outputs": [],
   "source": []
  },
  {
   "cell_type": "code",
   "execution_count": null,
   "metadata": {},
   "outputs": [],
   "source": []
  },
  {
   "cell_type": "code",
   "execution_count": null,
   "metadata": {},
   "outputs": [],
   "source": []
  },
  {
   "cell_type": "code",
   "execution_count": null,
   "metadata": {},
   "outputs": [],
   "source": []
  },
  {
   "cell_type": "code",
   "execution_count": null,
   "metadata": {},
   "outputs": [],
   "source": []
  },
  {
   "cell_type": "code",
   "execution_count": null,
   "metadata": {},
   "outputs": [],
   "source": []
  },
  {
   "cell_type": "code",
   "execution_count": null,
   "metadata": {},
   "outputs": [],
   "source": []
  },
  {
   "cell_type": "code",
   "execution_count": null,
   "metadata": {},
   "outputs": [],
   "source": []
  },
  {
   "cell_type": "code",
   "execution_count": null,
   "metadata": {},
   "outputs": [],
   "source": []
  },
  {
   "cell_type": "code",
   "execution_count": null,
   "metadata": {},
   "outputs": [],
   "source": []
  },
  {
   "cell_type": "code",
   "execution_count": null,
   "metadata": {},
   "outputs": [],
   "source": []
  },
  {
   "cell_type": "code",
   "execution_count": null,
   "metadata": {},
   "outputs": [],
   "source": [
    "# # def image_gen(PATH):\n",
    "# path = 'DATA/ephemeris sat/20 step size/IMG_20_Lat_0_Long_-127.683.jpg'\n",
    "\n",
    "# # Actual Position:\n",
    "# num =20\n",
    "# l = -127.683\n",
    "# H = 50\n",
    "# X_c, Y_c = l, 0\n",
    "# # x_f, y_f, z_f = spherical2cartesian(0, crater.Lat, crater.Lon)\n",
    "\n",
    "# # Find reference in catalogs:\n",
    "# dteta = find_dteta(H) # d/R, where d^2 is the footprint\n",
    "# sp = dteta/2 # span\n",
    "# lat_bounds, lon_bounds = np.array([Y_c-sp,Y_c+sp]), np.array([X_c-sp,X_c+sp])\n",
    "# print('*'*35 +'BORDERS'+'*'*35)\n",
    "# print(f'LAT: {lat_bounds}              LON:{lon_bounds}')\n",
    "# print('*'*35 +'*******'+'*'*35)\n",
    "# # 3 crater catalogs: HEAD | LROC | ROBBINS\n",
    "# CATALOGS = ['ROBBINS', 'HEAD', 'LROC']\n",
    "# for DATA in CATALOGS:\n",
    "#     if DATA =='HEAD':\n",
    "#         filepath = '/DATA/HeadCraters.csv'\n",
    "#     elif DATA == 'LROC':\n",
    "#         filepath = '/DATA/LROCCraters.csv'\n",
    "#     elif DATA == 'ROBBINS':\n",
    "#         filepath= 'DATA/lunar_crater_database_robbins_2018.csv'\n",
    "\n",
    "#     DB = pd.read_csv(filepath, sep=',')\n",
    "#     df = CatalogSearch(DB, lat_bounds, lon_bounds, CAT_NAME=DATA)\n",
    "#     if df is None:\n",
    "#         print('No Craters found!')\n",
    "#     else:     \n",
    "#         print(f'Found {df.shape[0]} craters!\\n\\n', df)\n",
    "    \n",
    "#     ## DRAWINGS: \n",
    "#     ## FIG.1\n",
    "#     img = cv2.imread(path)\n",
    "#     plt.ion()\n",
    "#     plt.figure('Tile and Mask -'+DATA, dpi=200)\n",
    "#     plt.subplot(1,2,1)\n",
    "#     plt.imshow(img)\n",
    "#     plt.subplot(1,2,2)\n",
    "#     I = draw_craters(df, lon_bounds, lat_bounds)\n",
    "#     plt.imshow(I)\n",
    "#     plt.show()\n",
    "#     plt.savefig(DATA+str(num)+'_fig-A.png')\n",
    "    \n",
    "#     ## FIG.2\n",
    "#     image_with_craters = draw_craters_on_image(df,  lon_bounds, lat_bounds, img, u=None)\n",
    "#     plt.ion()\n",
    "#     plt.figure('Image with craters catalogued-'+DATA, dpi=200)\n",
    "#     plt.imshow(image_with_craters)\n",
    "#     plt.show()\n",
    "#     plt.savefig(DATA+str(num)+'_fig-B.png')\n",
    "\n",
    "# plt.close('all')"
   ]
  }
 ]
}