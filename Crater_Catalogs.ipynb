{
 "metadata": {
  "language_info": {
   "codemirror_mode": {
    "name": "ipython",
    "version": 3
   },
   "file_extension": ".py",
   "mimetype": "text/x-python",
   "name": "python",
   "nbconvert_exporter": "python",
   "pygments_lexer": "ipython3",
   "version": "3.7.9-final"
  },
  "orig_nbformat": 2,
  "kernelspec": {
   "name": "python3",
   "display_name": "Python 3.7.9 64-bit ('project_thesis': conda)",
   "metadata": {
    "interpreter": {
     "hash": "93fe94e5baa96e16921111566a2ec9b1e2e4eaf5c7b48668a60b4cd4eab04f86"
    }
   }
  }
 },
 "nbformat": 4,
 "nbformat_minor": 2,
 "cells": [
  {
   "cell_type": "code",
   "execution_count": 1,
   "metadata": {},
   "outputs": [],
   "source": [
    "# External libraries\n",
    "import numpy as np\n",
    "import pandas as pd\n",
    "import matplotlib.pyplot as plt \n",
    "import matplotlib.style as style\n",
    "import cv2\n",
    "import time\n",
    "import os\n",
    "from utility.utils import *\n",
    "import re\n",
    "import h5py\n",
    "import tables\n",
    "\n",
    "# Own Libraries\n",
    "from utility.utils import *\n",
    "from Match.pair import *\n",
    "from Match.icp import *\n",
    "\n",
    "%matplotlib tk\n",
    "style.use('seaborn-paper')\n",
    "\n",
    "style.use('seaborn-paper')\n",
    "%matplotlib tk"
   ]
  },
  {
   "cell_type": "code",
   "execution_count": null,
   "metadata": {},
   "outputs": [],
   "source": [
    "# filepath= 'DATA/lunar_crater_database_robbins_2018.csv'\n",
    "# df = pd.read_csv(filepath, sep=',')\n",
    "# df = df[ ['LON_CIRC_IMG','LAT_CIRC_IMG','DIAM_CIRC_IMG']  ] # Select columns\n",
    "# df['LON_CIRC_IMG'] = np.where(df['LON_CIRC_IMG'] > 180, df['LON_CIRC_IMG'] - 360, df['LON_CIRC_IMG']) \n",
    "# df['DIAM_CIRC_IMG'] = df['DIAM_CIRC_IMG'] "
   ]
  },
  {
   "cell_type": "code",
   "execution_count": null,
   "metadata": {},
   "outputs": [],
   "source": [
    "# df.rename(columns={'LON_CIRC_IMG':'lon','LAT_CIRC_IMG':'lat','DIAM_CIRC_IMG':'r'}, inplace=True)\n",
    "\n",
    "# sort_lat = df.sort_values(by='lat')\n",
    "# sort_lat.insert(3, 'i', range(len(sort_lat)))\n",
    "\n",
    "# sort_lat_lon = sort_lat.sort_values(by='lon')\n",
    "# sort_lat_lon.insert(4,'j', range(len(sort_lat_lon)))\n",
    "\n",
    "# df_sort = sort_lat_lon.sort_index()"
   ]
  },
  {
   "cell_type": "code",
   "execution_count": null,
   "metadata": {},
   "outputs": [],
   "source": [
    "# # height_filter_catalog\n",
    "# H = 50\n",
    "# FOV_half = np.deg2rad(90/2)\n",
    "# d = 2*H* np.tan(FOV_half)\n",
    "# filter = 2/3*d\n",
    "\n",
    "# df_sort_f = df_sort[df_sort['r'] < filter].copy()\n",
    "# df_sort_f = df_sort_f.reset_index(drop=True)"
   ]
  },
  {
   "cell_type": "code",
   "execution_count": null,
   "metadata": {},
   "outputs": [],
   "source": [
    "# crt1, crt2, crt3, PICKS = find_triplet( df_sort_f, 0,1)\n",
    "# max_crt_dist = np.max([dist_crt(crt1,crt2),dist_crt(crt2,crt3),dist_crt(crt1,crt3)])\n",
    "# # print(max_crt_dist) # Into the query search: filter all triplet with max_crt_dist > d\n",
    "\n",
    "# triplet = [crt1, crt2, crt3]\n",
    "# K_vet = compute_K_vet(triplet)\n",
    "# print(K_vet)\n",
    "# Lat_bounds = [np.min([crt1.lat,crt2.lat,crt3.lat]),  np.max([crt1.lat,crt2.lat,crt3.lat]) ]\n",
    "# Lon_bounds = [np.min([crt1.lon,crt2.lon,crt3.lon]),  np.max([crt1.lon,crt2.lon,crt3.lon]) ]\n",
    "# entry = [ Lat_bounds, Lon_bounds, K_vet, [crt1, crt2, crt3]]\n",
    "# print(entry)\n"
   ]
  },
  {
   "cell_type": "code",
   "execution_count": null,
   "metadata": {},
   "outputs": [],
   "source": [
    "# Crater_TRN_catalog = pd.DataFrame({\n",
    "# 'Lat_bounds': Lat_bounds,\n",
    "# 'Lon_bounds': Lon_bounds,\n",
    "# 'Max ij-crt distance': max_crt_dist,\n",
    "# })"
   ]
  },
  {
   "cell_type": "code",
   "execution_count": null,
   "metadata": {},
   "outputs": [],
   "source": [
    "# entry_pd = pd.Series(entry)"
   ]
  },
  {
   "cell_type": "code",
   "execution_count": null,
   "metadata": {},
   "outputs": [],
   "source": [
    "# Crater_TRN_catalog = pd.DataFrame({'triplet':entry_pd})"
   ]
  },
  {
   "cell_type": "code",
   "execution_count": null,
   "metadata": {},
   "outputs": [],
   "source": [
    "# Crater_TRN_catalog"
   ]
  },
  {
   "source": [
    "# CATALOG CREATION"
   ],
   "cell_type": "markdown",
   "metadata": {}
  },
  {
   "cell_type": "code",
   "execution_count": 2,
   "metadata": {},
   "outputs": [],
   "source": [
    "df = pd.read_csv('DATA/lunar_crater_database_robbins_2018.csv')\n",
    "df = df[['LAT_CIRC_IMG','LON_CIRC_IMG','DIAM_CIRC_IMG']]\n",
    "df.rename( columns= {'LAT_CIRC_IMG':'lat', 'LON_CIRC_IMG':'lon','DIAM_CIRC_IMG':'r'}, inplace=True )\n",
    "df.r = df.r/2\n",
    "df.lon = np.where(df.lon < 180, df.lon, df.lon - 360)\n",
    "df = df.sort_values(by='lat')\n",
    "df.insert(3,'i',range(len(df)))\n",
    "df = df.sort_values(by='lon')\n",
    "df.insert(4,'j',range(len(df)))\n",
    "df = df[df.r < 100] # FILTER\n",
    "df.reset_index(drop=True, inplace=True)"
   ]
  },
  {
   "cell_type": "code",
   "execution_count": 9,
   "metadata": {},
   "outputs": [
    {
     "output_type": "execute_result",
     "data": {
      "text/plain": [
       "   Lat_min  Lat_max  Lon_min  Lon_max  angle1  angle2  angle3  des1  des2  \\\n",
       "0        0        0        0        0       0       0       0     0     0   \n",
       "\n",
       "   des3  lon1  lat1  r1[km]  lon2  lat2  r2[km]  lon3  lat3  r3[km]  \n",
       "0     0     0     0       0     0     0       0     0     0       0  "
      ],
      "text/html": "<div>\n<style scoped>\n    .dataframe tbody tr th:only-of-type {\n        vertical-align: middle;\n    }\n\n    .dataframe tbody tr th {\n        vertical-align: top;\n    }\n\n    .dataframe thead th {\n        text-align: right;\n    }\n</style>\n<table border=\"1\" class=\"dataframe\">\n  <thead>\n    <tr style=\"text-align: right;\">\n      <th></th>\n      <th>Lat_min</th>\n      <th>Lat_max</th>\n      <th>Lon_min</th>\n      <th>Lon_max</th>\n      <th>angle1</th>\n      <th>angle2</th>\n      <th>angle3</th>\n      <th>des1</th>\n      <th>des2</th>\n      <th>des3</th>\n      <th>lon1</th>\n      <th>lat1</th>\n      <th>r1[km]</th>\n      <th>lon2</th>\n      <th>lat2</th>\n      <th>r2[km]</th>\n      <th>lon3</th>\n      <th>lat3</th>\n      <th>r3[km]</th>\n    </tr>\n  </thead>\n  <tbody>\n    <tr>\n      <th>0</th>\n      <td>0</td>\n      <td>0</td>\n      <td>0</td>\n      <td>0</td>\n      <td>0</td>\n      <td>0</td>\n      <td>0</td>\n      <td>0</td>\n      <td>0</td>\n      <td>0</td>\n      <td>0</td>\n      <td>0</td>\n      <td>0</td>\n      <td>0</td>\n      <td>0</td>\n      <td>0</td>\n      <td>0</td>\n      <td>0</td>\n      <td>0</td>\n    </tr>\n  </tbody>\n</table>\n</div>"
     },
     "metadata": {},
     "execution_count": 9
    }
   ],
   "source": [
    "# init H\n",
    "H = pd.DataFrame({\n",
    "'Lat_min':[0],\n",
    "'Lat_max':[0],\n",
    "'Lon_min':[0],\n",
    "'Lon_max':[0],\n",
    "'angle1':[0],\n",
    "'angle2':[0],\n",
    "'angle3':[0],\n",
    "'des1':[0],\n",
    "'des2':[0],\n",
    "'des3':[0],\n",
    "'lon1':[0],\n",
    "'lat1':[0],\n",
    "'r1[km]':[0],\n",
    "'lon2':[0],\n",
    "'lat2':[0],\n",
    "'r2[km]':[0],\n",
    "'lon3':[0],\n",
    "'lat3':[0],\n",
    "'r3[km]':[0]\n",
    "})\n",
    "H"
   ]
  },
  {
   "cell_type": "code",
   "execution_count": 79,
   "metadata": {},
   "outputs": [
    {
     "output_type": "stream",
     "name": "stdout",
     "text": [
      " |████████████████████████████████████████████████████████████████████████████████████████████████████| 100.0% \n"
     ]
    }
   ],
   "source": [
    "SAVE = []\n",
    "x1 = -180\n",
    "x2 = x1+3                   # 0 -- > 3  | x = 0\n",
    "y1 = -90\n",
    "y2 = y1+3\n",
    "counter = 0\n",
    "while y2 != 90:\n",
    "    counter +=1\n",
    "    printProgressBar(counter, 59, printEnd='')\n",
    "    save = []\n",
    "    while x2 != 180:\n",
    "        lon_bounds = [x1, x2]\n",
    "        lat_bounds = [y1, y2]\n",
    "\n",
    "        Q = df[(df.lat < lat_bounds[1]) & (df.lat > lat_bounds[0]) & (df.lon > lon_bounds[0]) & (df.lon < lon_bounds[1])]\n",
    "        save.append(Q)\n",
    "\n",
    "        x1 = x2\n",
    "        x2 = x1+3\n",
    "    \n",
    "    \n",
    "    \n",
    "    SAVE.append(save)\n",
    "    x1 = -180\n",
    "    x2 = x1+3                   # 0 -- > 3  | x = 0\n",
    "    y1 = y2\n",
    "    y2 = y1+3"
   ]
  },
  {
   "cell_type": "code",
   "execution_count": 84,
   "metadata": {},
   "outputs": [
    {
     "output_type": "execute_result",
     "data": {
      "text/plain": [
       "            lat      lon         r       i       j\n",
       "239267 -59.4411 -119.982  0.959205  124721  239275\n",
       "239333 -58.3062 -119.959  0.647260  133410  239341\n",
       "239350 -58.7945 -119.953  0.964200  129726  239358\n",
       "239472 -58.4281 -119.912  2.453790  132448  239480\n",
       "239484 -57.2121 -119.909  2.004800  142350  239492\n",
       "...         ...      ...       ...     ...     ...\n",
       "248572 -57.9508 -117.068  2.897180  136143  248581\n",
       "248599 -57.6410 -117.059  1.789405  138640  248608\n",
       "248622 -58.7066 -117.054  1.530280  130391  248631\n",
       "248633 -58.3868 -117.050  1.516865  132787  248642\n",
       "248692 -57.8144 -117.028  0.838895  137215  248701\n",
       "\n",
       "[182 rows x 5 columns]"
      ],
      "text/html": "<div>\n<style scoped>\n    .dataframe tbody tr th:only-of-type {\n        vertical-align: middle;\n    }\n\n    .dataframe tbody tr th {\n        vertical-align: top;\n    }\n\n    .dataframe thead th {\n        text-align: right;\n    }\n</style>\n<table border=\"1\" class=\"dataframe\">\n  <thead>\n    <tr style=\"text-align: right;\">\n      <th></th>\n      <th>lat</th>\n      <th>lon</th>\n      <th>r</th>\n      <th>i</th>\n      <th>j</th>\n    </tr>\n  </thead>\n  <tbody>\n    <tr>\n      <th>239267</th>\n      <td>-59.4411</td>\n      <td>-119.982</td>\n      <td>0.959205</td>\n      <td>124721</td>\n      <td>239275</td>\n    </tr>\n    <tr>\n      <th>239333</th>\n      <td>-58.3062</td>\n      <td>-119.959</td>\n      <td>0.647260</td>\n      <td>133410</td>\n      <td>239341</td>\n    </tr>\n    <tr>\n      <th>239350</th>\n      <td>-58.7945</td>\n      <td>-119.953</td>\n      <td>0.964200</td>\n      <td>129726</td>\n      <td>239358</td>\n    </tr>\n    <tr>\n      <th>239472</th>\n      <td>-58.4281</td>\n      <td>-119.912</td>\n      <td>2.453790</td>\n      <td>132448</td>\n      <td>239480</td>\n    </tr>\n    <tr>\n      <th>239484</th>\n      <td>-57.2121</td>\n      <td>-119.909</td>\n      <td>2.004800</td>\n      <td>142350</td>\n      <td>239492</td>\n    </tr>\n    <tr>\n      <th>...</th>\n      <td>...</td>\n      <td>...</td>\n      <td>...</td>\n      <td>...</td>\n      <td>...</td>\n    </tr>\n    <tr>\n      <th>248572</th>\n      <td>-57.9508</td>\n      <td>-117.068</td>\n      <td>2.897180</td>\n      <td>136143</td>\n      <td>248581</td>\n    </tr>\n    <tr>\n      <th>248599</th>\n      <td>-57.6410</td>\n      <td>-117.059</td>\n      <td>1.789405</td>\n      <td>138640</td>\n      <td>248608</td>\n    </tr>\n    <tr>\n      <th>248622</th>\n      <td>-58.7066</td>\n      <td>-117.054</td>\n      <td>1.530280</td>\n      <td>130391</td>\n      <td>248631</td>\n    </tr>\n    <tr>\n      <th>248633</th>\n      <td>-58.3868</td>\n      <td>-117.050</td>\n      <td>1.516865</td>\n      <td>132787</td>\n      <td>248642</td>\n    </tr>\n    <tr>\n      <th>248692</th>\n      <td>-57.8144</td>\n      <td>-117.028</td>\n      <td>0.838895</td>\n      <td>137215</td>\n      <td>248701</td>\n    </tr>\n  </tbody>\n</table>\n<p>182 rows × 5 columns</p>\n</div>"
     },
     "metadata": {},
     "execution_count": 84
    }
   ],
   "source": [
    "i_min,j_min = 0, 0\n",
    "i_max, j_max = 58, 118\n",
    "i, j = 10,20\n",
    "A = SAVE[i]   # LAT:  0 --> -90:-87 | 1 --> -87:-84 | 2 --> -84:-81\n",
    "B = A[j]      # LON:  0 --> -180:-177 \n",
    "B"
   ]
  },
  {
   "cell_type": "code",
   "execution_count": 85,
   "metadata": {},
   "outputs": [],
   "source": [
    "dx = min(B.lon)\n",
    "dy = min(B.lat)\n",
    "\n",
    "\n",
    "B.lon = B.lon - dx\n",
    "B.lat = B.lat - dy\n",
    "\n",
    "km2px = 1 / 0.118\n",
    "deg2km = 2*np.pi*1737.4/360\n",
    "B.r = B.r * km2px\n",
    "B.lat = B.lat * deg2km * km2px\n",
    "B.lon = B.lon * deg2km * km2px\n",
    "\n",
    "\n",
    "B.rename(columns= {'lat':'y', 'lon':'x','r':'r[pix]'}, inplace=True )"
   ]
  },
  {
   "cell_type": "code",
   "execution_count": 91,
   "metadata": {},
   "outputs": [
    {
     "output_type": "execute_result",
     "data": {
      "text/plain": [
       "761.9384237932467"
      ]
     },
     "metadata": {},
     "execution_count": 91
    }
   ],
   "source": [
    "B.y.max()"
   ]
  },
  {
   "cell_type": "code",
   "execution_count": null,
   "metadata": {},
   "outputs": [],
   "source": []
  },
  {
   "cell_type": "code",
   "execution_count": null,
   "metadata": {},
   "outputs": [],
   "source": []
  },
  {
   "cell_type": "code",
   "execution_count": null,
   "metadata": {},
   "outputs": [],
   "source": []
  },
  {
   "cell_type": "code",
   "execution_count": null,
   "metadata": {},
   "outputs": [],
   "source": []
  },
  {
   "cell_type": "code",
   "execution_count": null,
   "metadata": {},
   "outputs": [],
   "source": []
  },
  {
   "cell_type": "code",
   "execution_count": null,
   "metadata": {},
   "outputs": [],
   "source": []
  },
  {
   "cell_type": "code",
   "execution_count": null,
   "metadata": {},
   "outputs": [],
   "source": []
  },
  {
   "cell_type": "code",
   "execution_count": null,
   "metadata": {},
   "outputs": [],
   "source": []
  },
  {
   "cell_type": "code",
   "execution_count": null,
   "metadata": {},
   "outputs": [],
   "source": []
  },
  {
   "cell_type": "code",
   "execution_count": null,
   "metadata": {},
   "outputs": [],
   "source": []
  },
  {
   "cell_type": "code",
   "execution_count": null,
   "metadata": {},
   "outputs": [],
   "source": []
  },
  {
   "cell_type": "code",
   "execution_count": null,
   "metadata": {},
   "outputs": [],
   "source": []
  },
  {
   "cell_type": "code",
   "execution_count": null,
   "metadata": {},
   "outputs": [],
   "source": []
  },
  {
   "cell_type": "code",
   "execution_count": null,
   "metadata": {},
   "outputs": [],
   "source": [
    "for ind in range(400000,500000):\n",
    "    triplet = find_triplet(df, ind)\n",
    "    K_v = compute_K_vet(triplet)\n",
    "    ICD_max = find_max_crt_dist(triplet)\n",
    "    lat_m, lat_M, lon_m, lon_M = find_bounds(triplet)\n",
    "    R_M = find_max_radius(triplet)\n",
    "    entry = [lat_m, lat_M, lon_m, lon_M, ICD_max, K_v[0], K_v[1], K_v[2], triplet[0].name,triplet[1].name,triplet[2].name]\n",
    "    if np.all(K_v > 15):\n",
    "        H.loc[ind] = entry\n",
    "    printProgressBar(ind, df.shape[0], printEnd='')    \n",
    "    file_name = 'TRN_catalog_part_B.csv'\n",
    "    H.to_csv(file_name)\n",
    "    print(ind)"
   ]
  },
  {
   "cell_type": "code",
   "execution_count": null,
   "metadata": {},
   "outputs": [],
   "source": []
  },
  {
   "cell_type": "code",
   "execution_count": null,
   "metadata": {},
   "outputs": [],
   "source": [
    "R_moon = 1737.4\n",
    "deg2km = (2*np.pi*R_moon)/360\n",
    "print(deg2km)"
   ]
  },
  {
   "cell_type": "code",
   "execution_count": null,
   "metadata": {},
   "outputs": [],
   "source": []
  },
  {
   "cell_type": "code",
   "execution_count": null,
   "metadata": {},
   "outputs": [],
   "source": []
  },
  {
   "cell_type": "code",
   "execution_count": null,
   "metadata": {},
   "outputs": [],
   "source": []
  },
  {
   "cell_type": "code",
   "execution_count": null,
   "metadata": {},
   "outputs": [],
   "source": []
  },
  {
   "cell_type": "code",
   "execution_count": null,
   "metadata": {},
   "outputs": [],
   "source": []
  },
  {
   "cell_type": "code",
   "execution_count": null,
   "metadata": {},
   "outputs": [],
   "source": []
  },
  {
   "cell_type": "code",
   "execution_count": null,
   "metadata": {},
   "outputs": [],
   "source": []
  },
  {
   "cell_type": "code",
   "execution_count": null,
   "metadata": {},
   "outputs": [],
   "source": [
    "# def image_gen(PATH):\n",
    "PATH = 'DATA/ephemeris sat/20 step size/IMG_20_Lat_0_Long_-127.683.jpg'\n",
    "path = '/home/sirbastiano/Desktop/Python Projects/Progetto Tesi/'+PATH\n",
    "\n",
    "# Actual Position:\n",
    "num =20\n",
    "l = -127.683\n",
    "H = 50\n",
    "X_c, Y_c = l, 0\n",
    "# x_f, y_f, z_f = spherical2cartesian(0, crater.Lat, crater.Lon)\n",
    "\n",
    "# Find reference in catalogs:\n",
    "dteta = find_dteta(H) # d/R, where d^2 is the footprint\n",
    "sp = dteta/2 # span\n",
    "lat_bounds, lon_bounds = np.array([Y_c-sp,Y_c+sp]), np.array([X_c-sp,X_c+sp])\n",
    "print('*'*35 +'BORDERS'+'*'*35)\n",
    "print(f'LAT: {lat_bounds}              LON:{lon_bounds}')\n",
    "print('*'*35 +'*******'+'*'*35)\n",
    "# 3 crater catalogs: HEAD | LROC | ROBBINS\n",
    "CATALOGS = ['ROBBINS', 'HEAD', 'LROC']\n",
    "for DATA in CATALOGS:\n",
    "    if DATA =='HEAD':\n",
    "        filepath = '/home/sirbastiano/Desktop/Python Projects/Progetto Tesi/DATA/HeadCraters.csv'\n",
    "    elif DATA == 'LROC':\n",
    "        filepath = '/home/sirbastiano/Desktop/Python Projects/Progetto Tesi/DATA/LROCCraters.csv'\n",
    "    elif DATA == 'ROBBINS':\n",
    "        filepath= '/home/sirbastiano/Desktop/Python Projects/Progetto Tesi/DATA/lunar_crater_database_robbins_2018.csv'\n",
    "\n",
    "    DB = pd.read_csv(filepath, sep=',')\n",
    "    df = CatalogSearch(DB, lat_bounds, lon_bounds, CAT_NAME=DATA)\n",
    "    if df is None:\n",
    "        print('No Craters found!')\n",
    "    else:     \n",
    "        print(f'Found {df.shape[0]} craters!\\n\\n', df)\n",
    "    \n",
    "    ## DRAWINGS: \n",
    "    ## FIG.1\n",
    "    img = cv2.imread(path)\n",
    "    plt.ion()\n",
    "    plt.figure('Tile and Mask -'+DATA, dpi=200)\n",
    "    plt.subplot(1,2,1)\n",
    "    plt.imshow(img)\n",
    "    plt.subplot(1,2,2)\n",
    "    I = draw_craters(df, lon_bounds, lat_bounds)\n",
    "    plt.imshow(I)\n",
    "    plt.show()\n",
    "    plt.savefig(DATA+str(num)+'_fig-A.png')\n",
    "    \n",
    "    ## FIG.2\n",
    "    image_with_craters = draw_craters_on_image(df,  lon_bounds, lat_bounds, img, u=None)\n",
    "    plt.ion()\n",
    "    plt.figure('Image with craters catalogued-'+DATA, dpi=200)\n",
    "    plt.imshow(image_with_craters)\n",
    "    plt.show()\n",
    "    plt.savefig(DATA+str(num)+'_fig-B.png')\n",
    "\n",
    "plt.close('all')"
   ]
  },
  {
   "cell_type": "code",
   "execution_count": null,
   "metadata": {},
   "outputs": [],
   "source": [
    "PATHS = os.listdir(\"/home/sirbastiano/Desktop/Python Projects/Progetto Tesi/DATA/ephemeris sat/20 step size\")\n",
    "print(PATHS)"
   ]
  }
 ]
}