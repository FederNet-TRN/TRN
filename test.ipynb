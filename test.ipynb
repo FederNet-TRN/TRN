{
 "metadata": {
  "language_info": {
   "codemirror_mode": {
    "name": "ipython",
    "version": 3
   },
   "file_extension": ".py",
   "mimetype": "text/x-python",
   "name": "python",
   "nbconvert_exporter": "python",
   "pygments_lexer": "ipython3",
   "version": "3.7.9-final"
  },
  "orig_nbformat": 2,
  "kernelspec": {
   "name": "python3",
   "display_name": "Python 3.7.9 64-bit ('project_thesis': conda)",
   "metadata": {
    "interpreter": {
     "hash": "93fe94e5baa96e16921111566a2ec9b1e2e4eaf5c7b48668a60b4cd4eab04f86"
    }
   }
  }
 },
 "nbformat": 4,
 "nbformat_minor": 2,
 "cells": [
  {
   "cell_type": "code",
   "execution_count": 1,
   "metadata": {},
   "outputs": [
    {
     "output_type": "stream",
     "name": "stdout",
     "text": [
      "WARNING:tensorflow:From /home/sirbastiano/anaconda3/envs/project_thesis/lib/python3.7/site-packages/tensorflow_core/python/ops/resource_variable_ops.py:1635: calling BaseResourceVariable.__init__ (from tensorflow.python.ops.resource_variable_ops) with constraint is deprecated and will be removed in a future version.\nInstructions for updating:\nIf using Keras pass *_constraint arguments to layers.\n"
     ]
    }
   ],
   "source": [
    "# External libraries\n",
    "import numpy as np\n",
    "import time\n",
    "import matplotlib.pyplot as plt\n",
    "import matplotlib.style as style\n",
    "import pandas as pd\n",
    "import astropy\n",
    "import scipy\n",
    "from filterpy.kalman import KalmanFilter \n",
    "from filterpy.common import Q_discrete_white_noise\n",
    "from scipy.linalg import block_diag\n",
    "from astropy import units as u\n",
    "from poliastro.bodies import Earth, Mars, Sun, Moon\n",
    "from poliastro.twobody import Orbit\n",
    "from poliastro.plotting import OrbitPlotter2D\n",
    "from poliastro.plotting import OrbitPlotter3D\n",
    "import glob\n",
    "# Own Libraries\n",
    "from utility.utils import *\n",
    "from KalmanFilter.kf import *\n",
    "from Detect.detector import *\n",
    "from Match.pair import *\n",
    "from Match.icp import *\n",
    "\n",
    "%matplotlib tk\n",
    "style.use('seaborn-paper')"
   ]
  },
  {
   "cell_type": "code",
   "execution_count": 2,
   "metadata": {},
   "outputs": [],
   "source": [
    "# LOAD ALL IMAGES:\n",
    "dt = 10\n",
    "dict = {}\n",
    "for img in glob.glob(f\"DATA/ephemeris sat/inclination zero/{dt} step size/*\"):\n",
    "    txt = img             # stringa\n",
    "    t = txt.split('_')[1] # numero\n",
    "    dict[t] = txt"
   ]
  },
  {
   "cell_type": "code",
   "execution_count": 4,
   "metadata": {},
   "outputs": [
    {
     "output_type": "stream",
     "name": "stdout",
     "text": [
      " |████████████████████████████████████████████████████████████████████████████████████████████████████| 100.0% \n0.012276887893676758\n"
     ]
    }
   ],
   "source": [
    "# df = pd.read_csv('DATA/H_L_combined.csv')\n",
    "DB = pd.read_csv('DATA/lunar_crater_database_robbins_2018.csv')\n",
    "craters_cat = CatalogSearch(DB, lat_bounds=[-1.5, 1.5], lon_bounds=[-129.802-1.5,-129.802+1.5], CAT_NAME='ROBBINS')\n",
    "\n",
    "deg2km = 2*np.pi*1737.4/360\n",
    "km2deg = 1/deg2km\n",
    "craters_cat = craters_cat[(craters_cat.Diam < 35)&(craters_cat.Diam > 3)]\n",
    "craters_cat['Diam']*=0.5*km2deg\n",
    "craters_cat.rename( columns={'Diam':'r_deg'}, inplace=True)\n",
    "\n",
    "craters_cat_m = np.array(craters_cat)\n",
    "craters_cat_m.shape\n",
    "t1 = time.time()\n",
    "triplets_cat_m = find_all_triplets(craters_cat_m)\n",
    "triplets_cat = pd.DataFrame(triplets_cat_m, columns=['Angle1','Angle2','Angle3','des1','des2','des3','lon1','lat1','r1','lon2','lat2','r2','lon3','lat3','r3'])\n",
    "triplets_cat.shape\n",
    "t2 = time.time()\n",
    "print(t2-t1)"
   ]
  },
  {
   "cell_type": "code",
   "execution_count": 5,
   "metadata": {},
   "outputs": [
    {
     "output_type": "stream",
     "name": "stdout",
     "text": [
      " |████████████████████████████████████████████████████████████████████████████████████████████████████| 100.0% \n0.06864690780639648\n"
     ]
    }
   ],
   "source": [
    "idx = 34\n",
    "# IMG1:\n",
    "filename = dict[str(idx+1)]\n",
    "img=cv2.imread(filename)\n",
    "craters_det = detect(img)\n",
    "\n",
    "# Pandas DataFrame:\n",
    "df_craters_det = sort_mat(craters_det)\n",
    "# Find all triplets:\n",
    "t1 = time.time()\n",
    "triplets = find_all_triplets(craters_det)\n",
    "triplets_det= pd.DataFrame(triplets, columns=['Angle1','Angle2','Angle3','des1','des2','des3','x1','y1','r1','x2','y2','r2','x3','y3','r3'])\n",
    "triplets_det.shape\n",
    "t2 = time.time()\n",
    "print(t2-t1)"
   ]
  },
  {
   "cell_type": "code",
   "execution_count": 77,
   "metadata": {},
   "outputs": [
    {
     "output_type": "stream",
     "name": "stdout",
     "text": [
      "0.8449349403381348\n"
     ]
    }
   ],
   "source": [
    "t1 = time.time()\n",
    "QUERY1 = triplets_cat\n",
    "QUERY2 = triplets_det \n",
    "QUERY1 =QUERY1[ (QUERY1.Angle1 > 10) & (QUERY1.Angle2 > 10) & (QUERY1.Angle3 > 10) ].reset_index(drop=True)\n",
    "QUERY2 =QUERY2[ (QUERY2.Angle1 > 10) & (QUERY2.Angle2 > 10) & (QUERY2.Angle3 > 10) ].reset_index(drop=True)\n",
    "joins, items = inner_join(QUERY1, QUERY2, 15)\n",
    "\n",
    "t2 = time.time()\n",
    "deltat = t2-t1\n",
    "print(deltat)"
   ]
  },
  {
   "cell_type": "code",
   "execution_count": 78,
   "metadata": {},
   "outputs": [
    {
     "output_type": "execute_result",
     "data": {
      "text/plain": [
       "0"
      ]
     },
     "metadata": {},
     "execution_count": 78
    }
   ],
   "source": [
    "len(joins)"
   ]
  },
  {
   "cell_type": "code",
   "execution_count": 66,
   "metadata": {},
   "outputs": [],
   "source": [
    "def inner_join(q1, q2, tol1):\n",
    "    DFs, items = [], []\n",
    "    s = pd.DataFrame()\n",
    "    for ind, row in q1.iterrows():\n",
    "\n",
    "        cond1 = ((abs(row.Angle1 - q2.Angle1)< tol1))\n",
    "        cond2 = ((abs(row.Angle1 - q2.Angle2)< tol1))\n",
    "        cond3 = ((abs(row.Angle1 - q2.Angle3)< tol1))\n",
    "        \n",
    "        if np.any(cond1):\n",
    "            cond1_a = ((abs(row.Angle2 - q2.Angle2)< tol1))\n",
    "            cond1_b = ((abs(row.Angle3 - q2.Angle3)< tol1))\n",
    "            cond1_c = ((abs(row.Angle2 - q2.Angle3)< tol1))\n",
    "            cond1_d = ((abs(row.Angle3 - q2.Angle2)< tol1))\n",
    "\n",
    "            cond1_A = (np.any(cond1_a) & np.any(cond1_b))\n",
    "            cond1_B = (np.any(cond1_c) & np.any(cond1_d))\n",
    "\n",
    "            if cond1_A & (not cond1_B):\n",
    "                s = q2[cond1 & cond1_a & cond1_b]\n",
    "            elif cond1_B & (not cond1_A):\n",
    "                s = q2[cond1 & cond1_c & cond1_d]\n",
    "        \n",
    "        elif np.any(cond2):\n",
    "            cond2_a = ((abs(row.Angle2 - q2.Angle1)< tol1))\n",
    "            cond2_b = ((abs(row.Angle3 - q2.Angle3)< tol1))\n",
    "            cond2_c = ((abs(row.Angle2 - q2.Angle3)< tol1))\n",
    "            cond2_d = ((abs(row.Angle3 - q2.Angle1)< tol1))\n",
    "\n",
    "            cond2_A = (np.any(cond2_a) & np.any(cond2_b))\n",
    "            cond2_B = (np.any(cond2_c) & np.any(cond2_d))\n",
    "\n",
    "            if cond2_A & (not cond2_B):\n",
    "                s = q2[cond2 & cond2_a & cond2_b]\n",
    "            elif cond1_B & (not cond2_A):\n",
    "                s = q2[cond2 & cond2_c & cond2_d]\n",
    "\n",
    "        elif np.any(cond3):\n",
    "            cond3_a = ((abs(row.Angle2 - q2.Angle1)< tol1))\n",
    "            cond3_b = ((abs(row.Angle3 - q2.Angle2)< tol1))\n",
    "            cond3_c = ((abs(row.Angle2 - q2.Angle2)< tol1))\n",
    "            cond3_d = ((abs(row.Angle3 - q2.Angle1)< tol1))\n",
    "\n",
    "            cond3_A = (np.any(cond2_a) & np.any(cond2_b))\n",
    "            cond3_B = (np.any(cond2_c) & np.any(cond2_d))\n",
    "\n",
    "            if cond3_A & (not cond3_B):\n",
    "                s = q2[cond3 & cond3_a & cond3_b]\n",
    "            elif cond1_B & (not cond2_A):\n",
    "                s = q2[cond3 & cond3_c & cond3_d]\n",
    "\n",
    "\n",
    "        if s.shape[0] !=0:\n",
    "            DFs.append(s)\n",
    "            items.append(row)\n",
    "\n",
    "    return DFs, items"
   ]
  },
  {
   "cell_type": "code",
   "execution_count": null,
   "metadata": {},
   "outputs": [],
   "source": []
  },
  {
   "cell_type": "code",
   "execution_count": null,
   "metadata": {},
   "outputs": [],
   "source": []
  },
  {
   "cell_type": "code",
   "execution_count": 10,
   "metadata": {},
   "outputs": [],
   "source": [
    "if len(joins)>1:\n",
    "    print(len(joins))\n",
    "    plt.close()\n",
    "    i = 6\n",
    "    arg = items[i][0]\n",
    "    a = QUERY1.iloc[arg]\n",
    "    crts1 = np.vstack([[a.x1,a.y1,a.r1],[a.x2,a.y2,a.r2],[a.x3,a.y3,a.r3]])\n",
    "    \n",
    "    plt.figure(dpi=200)\n",
    "    plt.subplot(121)\n",
    "    cp1 = img.copy()\n",
    "    IMG1 =  img_plus_crts(cp1, crts1, color=\"red\")\n",
    "    plt.imshow(IMG1)\n",
    "    plt.show()\n",
    "\n",
    "    join = joins[i]\n",
    "    j=1\n",
    "    b = join.iloc[j]\n",
    "    crts2 = np.vstack([[b.lon1,b.lat1,b.r1],[b.lon2,b.lat2,b.r2],[b.lon3,b.lat3,b.r3]])\n",
    "    crts2[:,2]*= deg2km\n",
    "    plt.subplot(122)\n",
    "    lat_bounds=[-1.5, 1.5]\n",
    "    lon_bounds=[-129.802-1.5,-129.802+1.5]\n",
    "    crts2_to_rel = craters_to_relative_frame(crts2, lon_b=lon_bounds, lat_b=lat_bounds)\n",
    "    IMG2 =  img_plus_crts(cp1, crts2_to_rel, color=\"green\")\n",
    "    plt.imshow(IMG2)\n",
    "    plt.show()"
   ]
  },
  {
   "cell_type": "code",
   "execution_count": null,
   "metadata": {},
   "outputs": [],
   "source": [
    "c2 = compute_centroid(crts2)\n",
    "c1 = compute_centroid(crts1)"
   ]
  },
  {
   "cell_type": "code",
   "execution_count": null,
   "metadata": {},
   "outputs": [],
   "source": [
    "# FIG.2\n",
    "cp1 = deepcopy(img)\n",
    "DB = pd.read_csv('DATA/lunar_crater_database_robbins_2018.csv')\n",
    "df = CatalogSearch(DB, lat_bounds, lon_bounds, CAT_NAME='ROBBINS')\n",
    "df = df[df.Diam < 35]\n",
    "image_with_craters = draw_craters_on_image(df,  lon_bounds, lat_bounds, cp1, u=None)\n",
    "\n",
    "plt.ion()\n",
    "plt.figure('Image with craters catalogued', dpi=200)\n",
    "plt.imshow(image_with_craters)\n",
    "plt.show()"
   ]
  },
  {
   "cell_type": "code",
   "execution_count": null,
   "metadata": {},
   "outputs": [],
   "source": [
    "cp1 = deepcopy(img)\n",
    "img_det = img_plus_crts(img, craters_det)\n",
    "plt.figure()\n",
    "plt.imshow(img_det)\n",
    "plt.show()"
   ]
  },
  {
   "cell_type": "code",
   "execution_count": null,
   "metadata": {},
   "outputs": [],
   "source": [
    "def craters_to_relative_frame(df, lon_b, lat_b, u=None):\n",
    "    lon_bounds = lon_b\n",
    "    lat_bounds = lat_b\n",
    "    # CAMERA CENTER:\n",
    "    CAMx, CAMy = (\n",
    "        (lon_bounds[0] + lon_bounds[1]) / 2,\n",
    "        (lat_bounds[0] + lat_bounds[1]) / 2,\n",
    "    )\n",
    "\n",
    "    if u == None:  # Scale Factor\n",
    "        u = 257.52  # ? DEG TO PXS\n",
    "        span = (abs(lon_b[0]) - abs(lon_b[1])) * u\n",
    "        span = abs(int(span))\n",
    "        print(span)\n",
    "    else:\n",
    "        span = (abs(lon_b[0]) - abs(lon_b[1])) * u\n",
    "        span = abs(int(span))\n",
    "    # Make the img:\n",
    "    # img = np.zeros((span, span), dtype=int)\n",
    "    if df is None:\n",
    "        print(\"No crater found\")\n",
    "        pass\n",
    "    else:\n",
    "        W, H = (span, span)\n",
    "        # Cycle through the dataframe:\n",
    "        craters = np.zeros(3)\n",
    "        for i in range(df.shape[0]):\n",
    "            crater = df[i]\n",
    "            # crater center:\n",
    "            xc, yc = crater[0], crater[1]  # This is in the absolute frame\n",
    "            # f: Absolute --> f: Relative\n",
    "            xc = xc - CAMx\n",
    "            yc = yc - CAMy\n",
    "            # f: relative --> f: OPENCV\n",
    "            xc *= u  # Now is in pixel not in lon deg\n",
    "            yc *= u  # Now is in pixel not in lat deg\n",
    "            xc = W / 2 + xc\n",
    "            yc = H / 2 - yc\n",
    "            # ? 1 km = 8.4746 px in our DEM := Merge LOLA - KAGUYA\n",
    "            KM_to_PX = 1/0.118\n",
    "            crater_i = [xc, yc, crater[2] * KM_to_PX]\n",
    "            craters = np.vstack([craters, crater_i])\n",
    "        return craters[1:, :]"
   ]
  },
  {
   "cell_type": "code",
   "execution_count": null,
   "metadata": {},
   "outputs": [],
   "source": []
  },
  {
   "cell_type": "code",
   "execution_count": null,
   "metadata": {},
   "outputs": [],
   "source": []
  },
  {
   "cell_type": "code",
   "execution_count": null,
   "metadata": {},
   "outputs": [],
   "source": []
  },
  {
   "cell_type": "code",
   "execution_count": null,
   "metadata": {},
   "outputs": [],
   "source": []
  },
  {
   "cell_type": "code",
   "execution_count": null,
   "metadata": {},
   "outputs": [],
   "source": []
  },
  {
   "cell_type": "code",
   "execution_count": null,
   "metadata": {},
   "outputs": [],
   "source": []
  },
  {
   "cell_type": "code",
   "execution_count": null,
   "metadata": {},
   "outputs": [],
   "source": []
  },
  {
   "cell_type": "code",
   "execution_count": null,
   "metadata": {},
   "outputs": [],
   "source": []
  },
  {
   "cell_type": "code",
   "execution_count": null,
   "metadata": {},
   "outputs": [],
   "source": []
  },
  {
   "cell_type": "code",
   "execution_count": null,
   "metadata": {},
   "outputs": [],
   "source": []
  },
  {
   "cell_type": "code",
   "execution_count": null,
   "metadata": {},
   "outputs": [],
   "source": []
  },
  {
   "cell_type": "code",
   "execution_count": null,
   "metadata": {},
   "outputs": [],
   "source": []
  },
  {
   "cell_type": "code",
   "execution_count": null,
   "metadata": {},
   "outputs": [],
   "source": []
  },
  {
   "cell_type": "code",
   "execution_count": null,
   "metadata": {},
   "outputs": [],
   "source": []
  },
  {
   "cell_type": "code",
   "execution_count": null,
   "metadata": {},
   "outputs": [],
   "source": []
  },
  {
   "cell_type": "code",
   "execution_count": null,
   "metadata": {},
   "outputs": [],
   "source": []
  },
  {
   "cell_type": "code",
   "execution_count": null,
   "metadata": {},
   "outputs": [],
   "source": []
  },
  {
   "cell_type": "code",
   "execution_count": null,
   "metadata": {},
   "outputs": [],
   "source": []
  },
  {
   "cell_type": "code",
   "execution_count": null,
   "metadata": {},
   "outputs": [],
   "source": []
  }
 ]
}