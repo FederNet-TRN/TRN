{
 "metadata": {
  "language_info": {
   "codemirror_mode": {
    "name": "ipython",
    "version": 3
   },
   "file_extension": ".py",
   "mimetype": "text/x-python",
   "name": "python",
   "nbconvert_exporter": "python",
   "pygments_lexer": "ipython3",
   "version": "3.7.9-final"
  },
  "orig_nbformat": 2,
  "kernelspec": {
   "name": "python3",
   "display_name": "Python 3.7.9 64-bit ('project_thesis': conda)",
   "metadata": {
    "interpreter": {
     "hash": "93fe94e5baa96e16921111566a2ec9b1e2e4eaf5c7b48668a60b4cd4eab04f86"
    }
   }
  }
 },
 "nbformat": 4,
 "nbformat_minor": 2,
 "cells": [
  {
   "cell_type": "code",
   "execution_count": 1,
   "metadata": {},
   "outputs": [
    {
     "output_type": "stream",
     "name": "stdout",
     "text": [
      "WARNING:tensorflow:From /home/sirbastiano/anaconda3/envs/project_thesis/lib/python3.7/site-packages/tensorflow_core/python/ops/resource_variable_ops.py:1635: calling BaseResourceVariable.__init__ (from tensorflow.python.ops.resource_variable_ops) with constraint is deprecated and will be removed in a future version.\nInstructions for updating:\nIf using Keras pass *_constraint arguments to layers.\n"
     ]
    }
   ],
   "source": [
    "# External libraries\n",
    "import numpy as np\n",
    "import time\n",
    "import matplotlib.pyplot as plt\n",
    "import matplotlib.style as style\n",
    "import pandas as pd\n",
    "import astropy\n",
    "import scipy\n",
    "from filterpy.kalman import KalmanFilter \n",
    "from filterpy.common import Q_discrete_white_noise\n",
    "from scipy.linalg import block_diag\n",
    "from astropy import units as u\n",
    "from poliastro.bodies import Earth, Mars, Sun, Moon\n",
    "from poliastro.twobody import Orbit\n",
    "from poliastro.plotting import OrbitPlotter2D\n",
    "from poliastro.plotting import OrbitPlotter3D\n",
    "import glob\n",
    "# Own Libraries\n",
    "from utility.utils import *\n",
    "from KalmanFilter.kf import *\n",
    "from Detect.detector import *\n",
    "from Match.pair import *\n",
    "from Match.icp import *\n",
    "\n",
    "%matplotlib tk\n",
    "style.use('seaborn-paper')"
   ]
  },
  {
   "cell_type": "code",
   "execution_count": 3,
   "metadata": {},
   "outputs": [
    {
     "output_type": "stream",
     "name": "stdout",
     "text": [
      " |████████████████████████████████████████████████████████████████████████████████████████████████████| 100.0% \nNumber of total combinations:2730\nComputational time: 0.08 s\n"
     ]
    }
   ],
   "source": [
    "# Opening Database:\n",
    "DB = pd.read_csv('DATA/lunar_crater_database_robbins_2018.csv')\n",
    "# Filtering:\n",
    "craters_cat = CatalogSearch(DB, lat_bounds=[-1.5, 1.5], lon_bounds=[-129.802-1.5,-129.802+1.5], CAT_NAME='ROBBINS')\n",
    "\n",
    "km2deg = 1/deg2km\n",
    "craters_cat = craters_cat[(craters_cat.Diam < 40)&(craters_cat.Diam > 2.5)]\n",
    "craters_cat['Diam']*=0.5*km2deg # km --- > deg\n",
    "\n",
    "craters_cat_m = np.array(craters_cat)\n",
    "t1 = time.time()\n",
    "triplets_cat_m = find_all_triplets(craters_cat_m)\n",
    "triplets_cat = pd.DataFrame(triplets_cat_m, columns=['Angle1','Angle2','Angle3','des1','des2','des3','lon1','lat1','r1','lon2','lat2','r2','lon3','lat3','r3'])\n",
    "t2 = time.time()\n",
    "print(f'Number of total combinations:{triplets_cat.shape[0]}\\nComputational time: {t2-t1:.2f} s')"
   ]
  },
  {
   "cell_type": "code",
   "execution_count": 11,
   "metadata": {},
   "outputs": [
    {
     "output_type": "stream",
     "name": "stdout",
     "text": [
      "Detection Time:11.17\n\n |████████████████████████████████████████████████████████████████████████████████████████████████████| 100.0% \nNumber of total combinations:2730\nComputational time: 0.12 s\n"
     ]
    }
   ],
   "source": [
    "# Loading All Images:\n",
    "dict = load_all_images(dt=10)\n",
    "# Img:\n",
    "idx = 34  # Loading image n. idx+1 ...\n",
    "filename = dict[str(idx+1)]\n",
    "img=cv2.imread(filename)\n",
    "# Detection:\n",
    "t1 = time.time()\n",
    "craters_det = detect(img)\n",
    "t2 = time.time()\n",
    "print(f'Detection Time:{t2-t1:.2f}\\n')\n",
    "# Pandas DataFrame:\n",
    "df_craters_det = sort_mat(craters_det)\n",
    "# Find all triplets:\n",
    "t1 = time.time()\n",
    "triplets = find_all_triplets(craters_det)\n",
    "triplets_det= pd.DataFrame(triplets, columns=['Angle1','Angle2','Angle3','des1','des2','des3','x1','y1','r1','x2','y2','r2','x3','y3','r3'])\n",
    "triplets_det.shape\n",
    "t2 = time.time()\n",
    "print(f'Number of total combinations:{triplets_det.shape[0]}\\nComputational time: {t2-t1:.2f} s')"
   ]
  },
  {
   "cell_type": "code",
   "execution_count": 24,
   "metadata": {},
   "outputs": [
    {
     "output_type": "stream",
     "name": "stdout",
     "text": [
      "Computational time: 2.32 s\nPossible Combinations:263\n"
     ]
    }
   ],
   "source": [
    "t1 = time.time()\n",
    "QUERY1 = triplets_cat\n",
    "QUERY2 = triplets_det\n",
    "QUERY1 = dropduplicates(QUERY1)\n",
    "QUERY2 = dropduplicates(QUERY2) \n",
    "QUERY1 =QUERY1[ (QUERY1.Angle1 > 10) & (QUERY1.Angle2 > 10) & (QUERY1.Angle3 > 10) ].reset_index(drop=True)\n",
    "QUERY2 =QUERY2[ (QUERY2.Angle1 > 10) & (QUERY2.Angle2 > 10) & (QUERY2.Angle3 > 10) ].reset_index(drop=True)\n",
    "joins, items = inner_join(QUERY1, QUERY2, 2)\n",
    "t2 = time.time()\n",
    "print(f'Computational time: {t2-t1:.2f} s\\nPossible Combinations: {len(items)}')"
   ]
  },
  {
   "cell_type": "code",
   "execution_count": 55,
   "metadata": {},
   "outputs": [
    {
     "output_type": "execute_result",
     "data": {
      "text/plain": [
       "        Angle1     Angle2      Angle3       des1       des2       des3     x1  \\\n",
       "60   14.710069  49.216005  116.073925   2.071059  14.310081  33.109936  755.0   \n",
       "319  16.349672  49.410698  114.239630  12.927920   8.302968   5.158217  328.5   \n",
       "\n",
       "        y1     r1     x2     y2     r2     x3     y3     r3  \n",
       "60   606.0  105.0  810.5  370.5  24.00   51.5  766.0  15.75  \n",
       "319  604.5   15.0   51.5  766.0  15.75  145.0  798.5  15.75  "
      ],
      "text/html": "<div>\n<style scoped>\n    .dataframe tbody tr th:only-of-type {\n        vertical-align: middle;\n    }\n\n    .dataframe tbody tr th {\n        vertical-align: top;\n    }\n\n    .dataframe thead th {\n        text-align: right;\n    }\n</style>\n<table border=\"1\" class=\"dataframe\">\n  <thead>\n    <tr style=\"text-align: right;\">\n      <th></th>\n      <th>Angle1</th>\n      <th>Angle2</th>\n      <th>Angle3</th>\n      <th>des1</th>\n      <th>des2</th>\n      <th>des3</th>\n      <th>x1</th>\n      <th>y1</th>\n      <th>r1</th>\n      <th>x2</th>\n      <th>y2</th>\n      <th>r2</th>\n      <th>x3</th>\n      <th>y3</th>\n      <th>r3</th>\n    </tr>\n  </thead>\n  <tbody>\n    <tr>\n      <th>60</th>\n      <td>14.710069</td>\n      <td>49.216005</td>\n      <td>116.073925</td>\n      <td>2.071059</td>\n      <td>14.310081</td>\n      <td>33.109936</td>\n      <td>755.0</td>\n      <td>606.0</td>\n      <td>105.0</td>\n      <td>810.5</td>\n      <td>370.5</td>\n      <td>24.00</td>\n      <td>51.5</td>\n      <td>766.0</td>\n      <td>15.75</td>\n    </tr>\n    <tr>\n      <th>319</th>\n      <td>16.349672</td>\n      <td>49.410698</td>\n      <td>114.239630</td>\n      <td>12.927920</td>\n      <td>8.302968</td>\n      <td>5.158217</td>\n      <td>328.5</td>\n      <td>604.5</td>\n      <td>15.0</td>\n      <td>51.5</td>\n      <td>766.0</td>\n      <td>15.75</td>\n      <td>145.0</td>\n      <td>798.5</td>\n      <td>15.75</td>\n    </tr>\n  </tbody>\n</table>\n</div>"
     },
     "metadata": {},
     "execution_count": 55
    }
   ],
   "source": [
    "joins[0]"
   ]
  },
  {
   "cell_type": "code",
   "execution_count": 58,
   "metadata": {},
   "outputs": [
    {
     "output_type": "execute_result",
     "data": {
      "text/plain": [
       "Angle1     15.090486\n",
       "Angle2     48.703703\n",
       "Angle3    116.205811\n",
       "des1        1.146015\n",
       "des2        6.062466\n",
       "des3        8.630192\n",
       "lon1     -128.726000\n",
       "lat1        0.223176\n",
       "r1          0.563529\n",
       "lon2     -129.290000\n",
       "lat2        0.912472\n",
       "r2          0.044182\n",
       "lon3     -129.162000\n",
       "lat3        1.193300\n",
       "r3          0.049760\n",
       "Name: 1, dtype: float64"
      ]
     },
     "metadata": {},
     "execution_count": 58
    }
   ],
   "source": [
    "items[0]"
   ]
  },
  {
   "cell_type": "code",
   "execution_count": 59,
   "metadata": {},
   "outputs": [
    {
     "output_type": "stream",
     "name": "stdout",
     "text": [
      "Computational time: 1.30 s\nPossible Combinations: 1\n"
     ]
    }
   ],
   "source": [
    "t1 = time.time()\n",
    "tol2 = 1\n",
    "S, iss = [], []\n",
    "for i in range(len(joins)):\n",
    "    join = joins[i]\n",
    "    des1, des2, des3 = items[i].des1, items[i].des2, items[i].des3\n",
    "    s=join[ (abs(join.des1 - des1) < tol2) & (abs(join.des2 - des2) < tol2) & (abs(join.des3 - des3) < tol2)\\\n",
    "          | (abs(join.des1 - des2) < tol2) & (abs(join.des2 - des3) < tol2) & (abs(join.des3 - des1) < tol2)\\\n",
    "          | (abs(join.des1 - des3) < tol2) & (abs(join.des2 - des1) < tol2) & (abs(join.des3 - des2) < tol2)]\n",
    "\n",
    "    if s.shape[0] > 0:\n",
    "        S.append(s)\n",
    "        iss.append(i)\n",
    "t2 = time.time()\n",
    "print(f'Computational time: {t2-t1:.2f} s\\nPossible Combinations: {len(S)}')"
   ]
  },
  {
   "cell_type": "code",
   "execution_count": 54,
   "metadata": {},
   "outputs": [
    {
     "output_type": "stream",
     "name": "stdout",
     "text": [
      "Combinations are:\n"
     ]
    },
    {
     "output_type": "execute_result",
     "data": {
      "text/plain": [
       "      Angle1     Angle2    Angle3      des1      des2      des3     x1     y1  \\\n",
       "4  18.155007  66.879843  94.96515  2.785403  1.849742  9.740244  755.0  606.0   \n",
       "\n",
       "      r1     x2     y2    r2     x3     y3    r3  \n",
       "4  105.0  316.5  460.5  96.5  328.5  604.5  15.0  "
      ],
      "text/html": "<div>\n<style scoped>\n    .dataframe tbody tr th:only-of-type {\n        vertical-align: middle;\n    }\n\n    .dataframe tbody tr th {\n        vertical-align: top;\n    }\n\n    .dataframe thead th {\n        text-align: right;\n    }\n</style>\n<table border=\"1\" class=\"dataframe\">\n  <thead>\n    <tr style=\"text-align: right;\">\n      <th></th>\n      <th>Angle1</th>\n      <th>Angle2</th>\n      <th>Angle3</th>\n      <th>des1</th>\n      <th>des2</th>\n      <th>des3</th>\n      <th>x1</th>\n      <th>y1</th>\n      <th>r1</th>\n      <th>x2</th>\n      <th>y2</th>\n      <th>r2</th>\n      <th>x3</th>\n      <th>y3</th>\n      <th>r3</th>\n    </tr>\n  </thead>\n  <tbody>\n    <tr>\n      <th>4</th>\n      <td>18.155007</td>\n      <td>66.879843</td>\n      <td>94.96515</td>\n      <td>2.785403</td>\n      <td>1.849742</td>\n      <td>9.740244</td>\n      <td>755.0</td>\n      <td>606.0</td>\n      <td>105.0</td>\n      <td>316.5</td>\n      <td>460.5</td>\n      <td>96.5</td>\n      <td>328.5</td>\n      <td>604.5</td>\n      <td>15.0</td>\n    </tr>\n  </tbody>\n</table>\n</div>"
     },
     "metadata": {},
     "execution_count": 54
    }
   ],
   "source": [
    "print('Combinations are:')\n",
    "S[0]"
   ]
  },
  {
   "cell_type": "code",
   "execution_count": 65,
   "metadata": {},
   "outputs": [
    {
     "output_type": "stream",
     "name": "stdout",
     "text": [
      "With:\n"
     ]
    },
    {
     "output_type": "execute_result",
     "data": {
      "text/plain": [
       "Angle1     17.578947\n",
       "Angle2     66.066954\n",
       "Angle3     96.354098\n",
       "des1        2.482817\n",
       "des2        1.899604\n",
       "des3        9.276361\n",
       "lon1     -128.486000\n",
       "lat1       -0.664158\n",
       "r1          0.465661\n",
       "lon2     -130.240000\n",
       "lat2       -0.148500\n",
       "r2          0.371211\n",
       "lon3     -130.167000\n",
       "lat3       -0.699257\n",
       "r3          0.061497\n",
       "Name: 172, dtype: float64"
      ]
     },
     "metadata": {},
     "execution_count": 65
    }
   ],
   "source": [
    "print('With:')\n",
    "items[iss[0]]"
   ]
  },
  {
   "cell_type": "code",
   "execution_count": null,
   "metadata": {},
   "outputs": [],
   "source": []
  },
  {
   "cell_type": "code",
   "execution_count": null,
   "metadata": {},
   "outputs": [],
   "source": []
  },
  {
   "cell_type": "code",
   "execution_count": null,
   "metadata": {},
   "outputs": [],
   "source": []
  },
  {
   "cell_type": "code",
   "execution_count": null,
   "metadata": {},
   "outputs": [],
   "source": []
  },
  {
   "cell_type": "code",
   "execution_count": null,
   "metadata": {},
   "outputs": [],
   "source": []
  },
  {
   "cell_type": "code",
   "execution_count": null,
   "metadata": {},
   "outputs": [],
   "source": []
  },
  {
   "cell_type": "code",
   "execution_count": null,
   "metadata": {},
   "outputs": [],
   "source": []
  },
  {
   "cell_type": "code",
   "execution_count": null,
   "metadata": {},
   "outputs": [],
   "source": []
  },
  {
   "cell_type": "code",
   "execution_count": null,
   "metadata": {},
   "outputs": [],
   "source": []
  },
  {
   "cell_type": "code",
   "execution_count": null,
   "metadata": {},
   "outputs": [],
   "source": []
  },
  {
   "cell_type": "code",
   "execution_count": null,
   "metadata": {},
   "outputs": [],
   "source": []
  },
  {
   "cell_type": "code",
   "execution_count": null,
   "metadata": {},
   "outputs": [],
   "source": []
  },
  {
   "cell_type": "code",
   "execution_count": null,
   "metadata": {},
   "outputs": [],
   "source": []
  },
  {
   "cell_type": "code",
   "execution_count": null,
   "metadata": {},
   "outputs": [],
   "source": []
  },
  {
   "cell_type": "code",
   "execution_count": null,
   "metadata": {},
   "outputs": [],
   "source": []
  },
  {
   "cell_type": "code",
   "execution_count": null,
   "metadata": {},
   "outputs": [],
   "source": []
  },
  {
   "cell_type": "code",
   "execution_count": null,
   "metadata": {},
   "outputs": [],
   "source": []
  },
  {
   "cell_type": "code",
   "execution_count": null,
   "metadata": {},
   "outputs": [],
   "source": []
  },
  {
   "cell_type": "code",
   "execution_count": null,
   "metadata": {},
   "outputs": [],
   "source": [
    "if len(joins)>1:\n",
    "    print(len(joins))\n",
    "    plt.close()\n",
    "    i = 6\n",
    "    arg = items[i][0]\n",
    "    a = QUERY1.iloc[arg]\n",
    "    crts1 = np.vstack([[a.x1,a.y1,a.r1],[a.x2,a.y2,a.r2],[a.x3,a.y3,a.r3]])\n",
    "    \n",
    "    plt.figure(dpi=200)\n",
    "    plt.subplot(121)\n",
    "    cp1 = img.copy()\n",
    "    IMG1 =  img_plus_crts(cp1, crts1, color=\"red\")\n",
    "    plt.imshow(IMG1)\n",
    "    plt.show()\n",
    "\n",
    "    join = joins[i]\n",
    "    j=1\n",
    "    b = join.iloc[j]\n",
    "    crts2 = np.vstack([[b.lon1,b.lat1,b.r1],[b.lon2,b.lat2,b.r2],[b.lon3,b.lat3,b.r3]])\n",
    "    crts2[:,2]*= deg2km\n",
    "    plt.subplot(122)\n",
    "    lat_bounds=[-1.5, 1.5]\n",
    "    lon_bounds=[-129.802-1.5,-129.802+1.5]\n",
    "    crts2_to_rel = craters_to_relative_frame(crts2, lon_b=lon_bounds, lat_b=lat_bounds)\n",
    "    IMG2 =  img_plus_crts(cp1, crts2_to_rel, color=\"green\")\n",
    "    plt.imshow(IMG2)\n",
    "    plt.show()"
   ]
  },
  {
   "cell_type": "code",
   "execution_count": null,
   "metadata": {},
   "outputs": [],
   "source": [
    "c2 = compute_centroid(crts2)\n",
    "c1 = compute_centroid(crts1)"
   ]
  },
  {
   "cell_type": "code",
   "execution_count": null,
   "metadata": {},
   "outputs": [],
   "source": [
    "# FIG.2\n",
    "cp1 = deepcopy(img)\n",
    "lat_bounds=[-1.5, 1.5]\n",
    "lon_bounds=[-129.802-1.5,-129.802+1.5]\n",
    "DB = pd.read_csv('DATA/lunar_crater_database_robbins_2018.csv')\n",
    "df = CatalogSearch(DB, lat_bounds, lon_bounds, CAT_NAME='ROBBINS')\n",
    "df = df[df.Diam > 2.5]\n",
    "image_with_craters = draw_craters_on_image(df,  lon_bounds, lat_bounds, cp1, u=None)\n",
    "\n",
    "plt.close()\n",
    "plt.ion()\n",
    "plt.figure('Image with craters catalogued', dpi=200)\n",
    "plt.imshow(image_with_craters)\n",
    "plt.show()"
   ]
  },
  {
   "cell_type": "code",
   "execution_count": null,
   "metadata": {},
   "outputs": [],
   "source": [
    "cp1 = deepcopy(img)\n",
    "img_det = img_plus_crts(img, craters_det)\n",
    "plt.figure()\n",
    "plt.imshow(img_det)\n",
    "plt.show()"
   ]
  },
  {
   "cell_type": "code",
   "execution_count": null,
   "metadata": {},
   "outputs": [],
   "source": [
    "def craters_to_relative_frame(df, lon_b, lat_b, u=None):\n",
    "    lon_bounds = lon_b\n",
    "    lat_bounds = lat_b\n",
    "    # CAMERA CENTER:\n",
    "    CAMx, CAMy = (\n",
    "        (lon_bounds[0] + lon_bounds[1]) / 2,\n",
    "        (lat_bounds[0] + lat_bounds[1]) / 2,\n",
    "    )\n",
    "\n",
    "    if u == None:  # Scale Factor\n",
    "        u = 257.52  # ? DEG TO PXS\n",
    "        span = (abs(lon_b[0]) - abs(lon_b[1])) * u\n",
    "        span = abs(int(span))\n",
    "        print(span)\n",
    "    else:\n",
    "        span = (abs(lon_b[0]) - abs(lon_b[1])) * u\n",
    "        span = abs(int(span))\n",
    "    # Make the img:\n",
    "    # img = np.zeros((span, span), dtype=int)\n",
    "    if df is None:\n",
    "        print(\"No crater found\")\n",
    "        pass\n",
    "    else:\n",
    "        W, H = (span, span)\n",
    "        # Cycle through the dataframe:\n",
    "        craters = np.zeros(3)\n",
    "        for i in range(df.shape[0]):\n",
    "            crater = df[i]\n",
    "            # crater center:\n",
    "            xc, yc = crater[0], crater[1]  # This is in the absolute frame\n",
    "            # f: Absolute --> f: Relative\n",
    "            xc = xc - CAMx\n",
    "            yc = yc - CAMy\n",
    "            # f: relative --> f: OPENCV\n",
    "            xc *= u  # Now is in pixel not in lon deg\n",
    "            yc *= u  # Now is in pixel not in lat deg\n",
    "            xc = W / 2 + xc\n",
    "            yc = H / 2 - yc\n",
    "            # ? 1 km = 8.4746 px in our DEM := Merge LOLA - KAGUYA\n",
    "            KM_to_PX = 1/0.118\n",
    "            crater_i = [xc, yc, crater[2] * KM_to_PX]\n",
    "            craters = np.vstack([craters, crater_i])\n",
    "        return craters[1:, :]"
   ]
  },
  {
   "cell_type": "code",
   "execution_count": null,
   "metadata": {},
   "outputs": [],
   "source": []
  },
  {
   "cell_type": "code",
   "execution_count": null,
   "metadata": {},
   "outputs": [],
   "source": []
  },
  {
   "cell_type": "code",
   "execution_count": null,
   "metadata": {},
   "outputs": [],
   "source": []
  },
  {
   "cell_type": "code",
   "execution_count": null,
   "metadata": {},
   "outputs": [],
   "source": []
  },
  {
   "cell_type": "code",
   "execution_count": null,
   "metadata": {},
   "outputs": [],
   "source": []
  },
  {
   "cell_type": "code",
   "execution_count": null,
   "metadata": {},
   "outputs": [],
   "source": []
  },
  {
   "cell_type": "code",
   "execution_count": null,
   "metadata": {},
   "outputs": [],
   "source": []
  },
  {
   "cell_type": "code",
   "execution_count": null,
   "metadata": {},
   "outputs": [],
   "source": []
  },
  {
   "cell_type": "code",
   "execution_count": null,
   "metadata": {},
   "outputs": [],
   "source": []
  },
  {
   "cell_type": "code",
   "execution_count": null,
   "metadata": {},
   "outputs": [],
   "source": []
  },
  {
   "cell_type": "code",
   "execution_count": null,
   "metadata": {},
   "outputs": [],
   "source": []
  },
  {
   "cell_type": "code",
   "execution_count": null,
   "metadata": {},
   "outputs": [],
   "source": []
  },
  {
   "cell_type": "code",
   "execution_count": null,
   "metadata": {},
   "outputs": [],
   "source": []
  },
  {
   "cell_type": "code",
   "execution_count": null,
   "metadata": {},
   "outputs": [],
   "source": []
  },
  {
   "cell_type": "code",
   "execution_count": null,
   "metadata": {},
   "outputs": [],
   "source": []
  },
  {
   "cell_type": "code",
   "execution_count": null,
   "metadata": {},
   "outputs": [],
   "source": []
  },
  {
   "cell_type": "code",
   "execution_count": null,
   "metadata": {},
   "outputs": [],
   "source": []
  },
  {
   "cell_type": "code",
   "execution_count": null,
   "metadata": {},
   "outputs": [],
   "source": []
  },
  {
   "cell_type": "code",
   "execution_count": null,
   "metadata": {},
   "outputs": [],
   "source": []
  }
 ]
}