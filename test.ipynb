{
 "metadata": {
  "language_info": {
   "codemirror_mode": {
    "name": "ipython",
    "version": 3
   },
   "file_extension": ".py",
   "mimetype": "text/x-python",
   "name": "python",
   "nbconvert_exporter": "python",
   "pygments_lexer": "ipython3",
   "version": "3.7.9-final"
  },
  "orig_nbformat": 2,
  "kernelspec": {
   "name": "python3",
   "display_name": "Python 3.7.9 64-bit ('project_thesis': conda)",
   "metadata": {
    "interpreter": {
     "hash": "93fe94e5baa96e16921111566a2ec9b1e2e4eaf5c7b48668a60b4cd4eab04f86"
    }
   }
  }
 },
 "nbformat": 4,
 "nbformat_minor": 2,
 "cells": [
  {
   "cell_type": "code",
   "execution_count": 273,
   "metadata": {},
   "outputs": [],
   "source": [
    "# External libraries\n",
    "import numpy as np\n",
    "import time\n",
    "import matplotlib.pyplot as plt\n",
    "import matplotlib.style as style\n",
    "import pandas as pd\n",
    "import astropy\n",
    "import scipy\n",
    "from filterpy.kalman import KalmanFilter \n",
    "from filterpy.common import Q_discrete_white_noise\n",
    "from scipy.linalg import block_diag\n",
    "from astropy import units as u\n",
    "from poliastro.bodies import Earth, Mars, Sun, Moon\n",
    "from poliastro.twobody import Orbit\n",
    "from poliastro.plotting import OrbitPlotter2D\n",
    "from poliastro.plotting import OrbitPlotter3D\n",
    "import glob\n",
    "# Own Libraries\n",
    "from utility.utils import *\n",
    "from KalmanFilter.kf import *\n",
    "from Detect.detector import *\n",
    "from Match.pair import *\n",
    "from Match.icp import *\n",
    "\n",
    "%matplotlib tk\n",
    "style.use('seaborn-paper')\n",
    "\n",
    "global km2px, deg2km, px2km, deg2px\n",
    "\n",
    "def check_sol(I,J):\n",
    "    row1 = iss[I]\n",
    "    tmp = S[J].iloc[0]\n",
    "\n",
    "\n",
    "\n",
    "    left_id = np.argmin([row1.lon1, row1.lon2, row1.lon3])\n",
    "    right_id = np.argmax([row1.lon1, row1.lon2, row1.lon3])\n",
    "\n",
    "    if left_id==0:\n",
    "        left = [row1.lon1, row1.lat1, row1.r1]\n",
    "    elif left_id==1:\n",
    "        left = [row1.lon2, row1.lat2, row1.r2]\n",
    "    elif left_id==2:\n",
    "        left = [row1.lon3, row1.lat3, row1.r3]    \n",
    "\n",
    "    if right_id==0:\n",
    "        right = [row1.lon1, row1.lat1, row1.r1]\n",
    "    elif right_id==1:\n",
    "        right = [row1.lon2, row1.lat2, row1.r2]\n",
    "    elif right_id==2:\n",
    "        right = [row1.lon3, row1.lat3, row1.r3] \n",
    "\n",
    "\n",
    "    x1,x2,x3 = tmp.x1, tmp.x2, tmp.x3\n",
    "    y1,y2,y3 = tmp.y1, tmp.y2, tmp.y3\n",
    "    r1,r2,r3 = tmp.r1, tmp.r2,  tmp.r3\n",
    "\n",
    "    Left_id = np.argmin([x1,x2,x3])\n",
    "    Right_id = np.argmax([x1,x2,x3])\n",
    "\n",
    "    if Left_id==0:\n",
    "        Left = [x1, y1, r1]\n",
    "    elif Left_id==1:\n",
    "        Left = [x2,y2,r2]\n",
    "    elif Left_id==2:\n",
    "        Left = [x3,y3,r3]    \n",
    "\n",
    "    if Right_id==0:\n",
    "        Right = [x1,y1,r1]\n",
    "    elif Right_id==1:\n",
    "        Right = [x2,y2,r2]\n",
    "    elif Right_id==2:\n",
    "        Right = [x3,y3,r3]\n",
    "\n",
    "    a=left[2]/Left[2]\n",
    "    b=right[2]/Right[2]\n",
    "\n",
    "    if a-b < 0.2:\n",
    "        return True\n",
    "    else: return False\n",
    "\n",
    "\n",
    "def plot_sol(I,J):\n",
    "    row1 = iss[I]\n",
    "    tmp = S[I].iloc[J]\n",
    "    \n",
    "    \n",
    "    plt.close('all')\n",
    "    CAMx, CAMy = ((lon_bounds[0] + lon_bounds[1]) / 2,\n",
    "                  (lat_bounds[0] + lat_bounds[1]) / 2)\n",
    "    \n",
    "    \n",
    "    crt1 = np.array([ row1.lon1, row1.lat1, row1.r1  ])\n",
    "    crt2 = np.array([ row1.lon2, row1.lat2, row1.r2  ])\n",
    "    crt3 = np.array([ row1.lon3, row1.lat3, row1.r3  ])\n",
    "    triplet = [crt1, crt2, crt3]\n",
    "    \n",
    "    \n",
    "    # img=cv2.imread(filename)\n",
    "    img=np.zeros((850,850,3))\n",
    "    deg2px = 256\n",
    "    for crt in triplet:\n",
    "        # crater center:\n",
    "        xc, yc, rc = crt[0], crt[1], crt[2]  # This is in the absolute frame\n",
    "        # f: Absolute --> f: Relative\n",
    "        xc = xc - CAMx\n",
    "        yc = yc - CAMy\n",
    "        # f: relative --> f: OPENCV\n",
    "        xc *= deg2px  # Now is in pixel not in lon deg\n",
    "        yc *= deg2px  # Now is in pixel not in lat deg\n",
    "        # rc *= u  # Now is in pixel not in lat deg\n",
    "        \n",
    "    \n",
    "        xc = 850/2 + xc\n",
    "        yc = 850/2 - yc\n",
    "        center_coordinates = (int(xc), int(yc))\n",
    "        # ? 1 km = 8.4746 px in our DEM := Merge LOLA - KAGUYA\n",
    "        radius = int(crt[2] * km2px)\n",
    "        color = (255, 255, 255)\n",
    "        thickness = 3\n",
    "        img_prova = cv2.circle(img, center_coordinates, radius, color, thickness)\n",
    "    \n",
    "    plt.figure(dpi=130)\n",
    "    plt.subplot(121)\n",
    "    plt.imshow(img_prova)\n",
    "    plt.xlabel('CAT')\n",
    "    plt.show()\n",
    "    \n",
    "    \n",
    "    cp1 = cv2.imread(filename)\n",
    "    x1,x2,x3 = tmp.x1, tmp.x2, tmp.x3\n",
    "    y1,y2,y3 = tmp.y1, tmp.y2, tmp.y3\n",
    "    r1,r2,r3 = tmp.r1, tmp.r2,  tmp.r3\n",
    "    cr1 = np.array([x1,y1,r1]) \n",
    "    cr2 = np.array([x2,y2,r2]) \n",
    "    cr3 = np.array([x3,y3,r3])\n",
    "    crts = np.vstack([cr1,cr2,cr3])\n",
    "    plt.subplot(122)\n",
    "    plt.xlabel('DET')\n",
    "    IMG1 =  img_plus_crts(cp1, crts, color=\"red\")\n",
    "    plt.imshow(IMG1)\n",
    "    plt.show()\n",
    "\n",
    "def check_sol2(I,J):    \n",
    "    A, B = S[I].iloc[J], iss[I]\n",
    "    hp = A\n",
    "    x1_a, x2_a, x3_a = float(hp.x1), float(hp.x2), float(hp.x3)\n",
    "    y1_a, y2_a, y3_a = float(hp.y1), float(hp.y2), float(hp.y3)\n",
    "    r1_a, r3_a, r3_a = float(hp.r1), float(hp.r2), float(hp.r3)\n",
    "\n",
    "    A1 = np.hstack([x1_a, y1_a])\n",
    "    A2 = np.hstack([x2_a, y2_a])\n",
    "    A3 = np.hstack([x3_a, y3_a])\n",
    "\n",
    "    A = np.vstack([A1, A2, A3])\n",
    "\n",
    "    hp = B\n",
    "    x1_b, x2_b, x3_b = float(hp.lon1), float(hp.lon2), float(hp.lon3)\n",
    "    y1_b, y2_b, y3_b = float(hp.lat1), float(hp.lat2), float(hp.lat3)\n",
    "    r1_b, r2_b, r3_b = float(hp.r1), float(hp.r2), float(hp.r3)\n",
    "\n",
    "    x1_b_r, y1_b_r, r1_b_r = absolute2relative([x1_b, y1_b, r1_b], CAMx, CAMy)\n",
    "    x2_b_r, y2_b_r, r2_b_r = absolute2relative([x2_b, y2_b, r2_b], CAMx, CAMy)\n",
    "    x3_b_r, y3_b_r, r3_b_r = absolute2relative([x3_b, y3_b, r3_b], CAMx, CAMy)\n",
    "\n",
    "    B1 = np.hstack([x1_b_r, y1_b_r])\n",
    "    B2 = np.hstack([x2_b_r, y2_b_r])\n",
    "    B3 = np.hstack([x3_b_r, y3_b_r])\n",
    "\n",
    "    B = np.vstack([B1, B2, B3])\n",
    "\n",
    "    R, t = icp(A,B)\n",
    "\n",
    "    sinteta = R[1,0]\n",
    "    costeta = R[0,0]\n",
    "    tanteta = sinteta/costeta\n",
    "    teta = np.arctan(tanteta)\n",
    "    teta = np.rad2deg(teta)\n",
    "\n",
    "    if abs(teta) < 3: return True\n",
    "    else: return False"
   ]
  },
  {
   "cell_type": "code",
   "execution_count": 123,
   "metadata": {},
   "outputs": [
    {
     "output_type": "stream",
     "name": "stdout",
     "text": [
      "Detection Time:14.57\n",
      "\n",
      " |████████████████████████████████████████████████████████████████████████████████████████████████████| 100.0% \n",
      "Number of total combinations:10626\n",
      "Computational time: 0.42 s\n"
     ]
    }
   ],
   "source": [
    "# Loading All Images:\n",
    "dict = load_all_images(dt=10)\n",
    "# Img:\n",
    "idx = 9  # Loading image n. idx+1 ...\n",
    "filename = dict[str(idx+1)]\n",
    "img=cv2.imread(filename)\n",
    "# Detection:\n",
    "t1 = time.time()\n",
    "craters_det = detect(img)\n",
    "t2 = time.time()\n",
    "print(f'Detection Time:{t2-t1:.2f}\\n')\n",
    "# Pandas DataFrame:\n",
    "df_craters_det = sort_mat(craters_det)\n",
    "# Find all triplets:\n",
    "t1 = time.time()\n",
    "triplets = find_all_triplets(craters_det)\n",
    "triplets_det= pd.DataFrame(triplets, columns=['Angle1','Angle2','Angle3','des1','des2','des3','x1','y1','r1','x2','y2','r2','x3','y3','r3'])\n",
    "triplets_det.shape\n",
    "t2 = time.time()\n",
    "print(f'Number of total combinations:{triplets_det.shape[0]}\\nComputational time: {t2-t1:.2f} s')"
   ]
  },
  {
   "cell_type": "code",
   "execution_count": 124,
   "metadata": {},
   "outputs": [
    {
     "output_type": "stream",
     "name": "stdout",
     "text": [
      " |████████████████████████████████████████████████████████████████████████████████████████████████████| 100.0% \nNumber of total combinations:336\nComputational time: 0.02 s\n"
     ]
    }
   ],
   "source": [
    "# Opening Database:\n",
    "DB = pd.read_csv('DATA/H_L_combined.csv')\n",
    "# DB = pd.read_csv('DATA/lunar_crater_database_robbins_2018.csv')\n",
    "# Filtering:\n",
    "craters_cat = CatalogSearch(DB, lat_bounds=[-1.5, 1.5], lon_bounds=[-143.04-1.5,-143.04+1.5], CAT_NAME='COMBINED')\n",
    "\n",
    "km2deg = 1/deg2km\n",
    "craters_cat = craters_cat[(craters_cat.Diam < 40)&(craters_cat.Diam > 2.5)]\n",
    "craters_cat['Diam']*=0.5*km2deg # km --- > deg\n",
    "\n",
    "craters_cat_m = np.array(craters_cat)\n",
    "t1 = time.time()\n",
    "triplets_cat_m = find_all_triplets(craters_cat_m)\n",
    "triplets_cat = pd.DataFrame(triplets_cat_m, columns=['Angle1','Angle2','Angle3','des1','des2','des3','lon1','lat1','r1','lon2','lat2','r2','lon3','lat3','r3'])\n",
    "triplets_cat['r1'] *= deg2km\n",
    "triplets_cat['r2'] *= deg2km\n",
    "triplets_cat['r3'] *= deg2km\n",
    "t2 = time.time()\n",
    "print(f'Number of total combinations:{triplets_cat.shape[0]}\\nComputational time: {t2-t1:.2f} s')"
   ]
  },
  {
   "cell_type": "code",
   "execution_count": 125,
   "metadata": {},
   "outputs": [],
   "source": [
    "lat_bounds=[-1.5, 1.5]\n",
    "lon_bounds=[-143.04-1.5,-143.04+1.5]\n",
    "#img1\n",
    "plt.figure(dpi=200, tight_layout=True)\n",
    "cp1 = deepcopy(img)\n",
    "img_det = img_plus_crts(img, craters_det)\n",
    "plt.subplot(122)\n",
    "plt.xticks([0, 848/2, 848], [f'{lon_bounds[0]}°',f'{(lon_bounds[1]+lon_bounds[0])/2}°',f'{lon_bounds[1]}°'])\n",
    "plt.yticks([0, 848/2, 848], [f'{lat_bounds[0]}°',f'{(lat_bounds[1]+lat_bounds[0])/2}°',f'{lat_bounds[1]}°'])\n",
    "plt.imshow(img_det)\n",
    "plt.show()\n",
    "\n",
    "# FIG.2\n",
    "cp1 = deepcopy(img)\n",
    "# DB = pd.read_csv('DATA/lunar_crater_database_robbins_2018.csv')\n",
    "DB = pd.read_csv('DATA/H_L_combined.csv')\n",
    "df = CatalogSearch(DB, lat_bounds, lon_bounds, CAT_NAME='COMBINED')\n",
    "df = df[df.Diam > 0.5]\n",
    "image_with_craters = draw_craters_on_image(df,  lon_bounds, lat_bounds, cp1, u=None)\n",
    "\n",
    "plt.subplot(121)\n",
    "plt.imshow(image_with_craters)\n",
    "plt.xticks([0, 850/2, 850], [f'{lon_bounds[0]}°',f'{(lon_bounds[1]+lon_bounds[0])/2}°',f'{lon_bounds[1]}°'])\n",
    "plt.yticks([0, 850/2, 850], [f'{lat_bounds[0]}°',f'{(lat_bounds[1]+lat_bounds[0])/2}°',f'{lat_bounds[1]}°'])\n",
    "plt.show()"
   ]
  },
  {
   "source": [
    "# Search"
   ],
   "cell_type": "markdown",
   "metadata": {}
  },
  {
   "cell_type": "code",
   "execution_count": 152,
   "metadata": {},
   "outputs": [
    {
     "output_type": "stream",
     "name": "stdout",
     "text": [
      "Computational time: 0.79 s\nPossible list Combinations: 56\n"
     ]
    }
   ],
   "source": [
    "tol1 = 5\n",
    "\n",
    "t1 = time.time()\n",
    "QUERY1 = triplets_cat\n",
    "QUERY2 = triplets_det\n",
    "QUERY1 = dropduplicates(QUERY1)\n",
    "QUERY2 = dropduplicates(QUERY2) \n",
    "# QUERY1 =QUERY1[ (QUERY1.Angle1 > 10) & (QUERY1.Angle2 > 10) & (QUERY1.Angle3 > 10) ].reset_index(drop=True)\n",
    "# QUERY2 =QUERY2[ (QUERY2.Angle1 > 10) & (QUERY2.Angle2 > 10) & (QUERY2.Angle3 > 10) ].reset_index(drop=True)\n",
    "if QUERY1.shape[0]<QUERY2.shape[0]:\n",
    "    joins, items = inner_join(QUERY1, QUERY2, tol1)\n",
    "else:\n",
    "    joins, items = inner_join(QUERY2, QUERY1, tol1)\n",
    "t2 = time.time()\n",
    "print(f'Computational time: {t2-t1:.2f} s\\nPossible list Combinations: {len(items)}')"
   ]
  },
  {
   "cell_type": "code",
   "execution_count": 277,
   "metadata": {},
   "outputs": [
    {
     "output_type": "stream",
     "name": "stdout",
     "text": [
      "Computational time: 0.42 s\nPossible list Combinations: 18\n"
     ]
    }
   ],
   "source": [
    "t1 = time.time()\n",
    "tol2 = 1\n",
    "S, iss = [], []\n",
    "for i in range(len(joins)):\n",
    "    join = joins[i]\n",
    "    des1, des2, des3 = items[i].des1, items[i].des2, items[i].des3\n",
    "    s=join[ (abs(join.des1 - des1) < tol2) & (abs(join.des2 - des2) < tol2) & (abs(join.des3 - des3) < tol2)\\\n",
    "          | (abs(join.des1 - des2) < tol2) & (abs(join.des2 - des3) < tol2) & (abs(join.des3 - des1) < tol2)\\\n",
    "          | (abs(join.des1 - des3) < tol2) & (abs(join.des2 - des1) < tol2) & (abs(join.des3 - des2) < tol2)]\n",
    "\n",
    "    if s.shape[0] > 0:\n",
    "        S.append(s)\n",
    "        iss.append(items[i])\n",
    "t2 = time.time()\n",
    "print(f'Computational time: {t2-t1:.2f} s\\nPossible list Combinations: {len(S)}')"
   ]
  },
  {
   "cell_type": "code",
   "execution_count": 278,
   "metadata": {},
   "outputs": [
    {
     "output_type": "stream",
     "name": "stdout",
     "text": [
      "[-0.46565347  0.11895623] 5 0\n[-0.35622717 -0.39813047] 7 0\n[-0.40126701 -0.1251328 ] 8 0\n[-0.7107301  -0.33302799] 9 0\n[-0.43762199 -0.44607446] 10 0\n[-0.74282626 -0.93227201] 11 0\n[ 0.18835853 -0.5461384 ] 14 0\n[-1.33703124 -0.44998334] 15 1\n[-0.2759122  -0.88040389] 17 0\n"
     ]
    }
   ],
   "source": [
    "for I in range(len(iss)):\n",
    "    row1 = iss[I]\n",
    "    J = 0\n",
    "    for TEMP in S[I].iloc:\n",
    "        # tmp = S[I].iloc[J]\n",
    "        tmp = TEMP\n",
    "\n",
    "        diff = compute_pos_diff(tmp, row1, CAMx, CAMy)\n",
    "        diff = np.array(diff) # Is in pixel\n",
    "        q = diff*px2km\n",
    "        if np.all( abs(q) < 2):\n",
    "            print(q, I,J)\n",
    "        J+=1"
   ]
  },
  {
   "cell_type": "code",
   "execution_count": 285,
   "metadata": {},
   "outputs": [
    {
     "output_type": "stream",
     "name": "stderr",
     "text": [
      "Clipping input data to the valid range for imshow with RGB data ([0..1] for floats or [0..255] for integers).\n",
      "Condition1: Satisfied!\n",
      "Condition2: Satisfied!\n"
     ]
    }
   ],
   "source": [
    "I = 15\n",
    "J = 1\n",
    "plot_sol(I,J)\n",
    "if check_sol(I,J):\n",
    "    print('Condition1: Satisfied!')\n",
    "if check_sol2(I,J):\n",
    "    print('Condition2: Satisfied!')\n"
   ]
  },
  {
   "cell_type": "code",
   "execution_count": 286,
   "metadata": {},
   "outputs": [
    {
     "output_type": "stream",
     "name": "stdout",
     "text": [
      "0 0\n2 0\n5 0\n7 0\n8 0\n9 0\n10 0\n11 0\n14 0\n15 1\n17 0\n"
     ]
    }
   ],
   "source": [
    "Is, Js = [], []\n",
    "for I in range(len(iss)):\n",
    "    row1 = iss[I]\n",
    "    for J in range(S[I].shape[0]):\n",
    "        if check_sol(I,J) & check_sol2(I,J):\n",
    "            Is.append(I)\n",
    "            Js.append(J)\n",
    "            print(I,J)\n",
    "Is = np.array(Is)\n",
    "Js = np.array(Js)"
   ]
  },
  {
   "cell_type": "code",
   "execution_count": 296,
   "metadata": {},
   "outputs": [],
   "source": [
    "Ts = []\n",
    "for i, j in zip(Is,Js):\n",
    "    \n",
    "    tc = iss[i]\n",
    "    td = S[i].iloc[j]\n",
    "\n",
    "    hp = td\n",
    "    x1_a, x2_a, x3_a = float(hp.x1), float(hp.x2), float(hp.x3)\n",
    "    y1_a, y2_a, y3_a = float(hp.y1), float(hp.y2), float(hp.y3)\n",
    "    r1_a, r3_a, r3_a = float(hp.r1), float(hp.r2), float(hp.r3)\n",
    "\n",
    "    A1 = np.hstack([x1_a, y1_a])\n",
    "    A2 = np.hstack([x2_a, y2_a])\n",
    "    A3 = np.hstack([x3_a, y3_a])\n",
    "\n",
    "    A = np.vstack([A1, A2, A3])\n",
    "\n",
    "    hp = tc\n",
    "    x1_b, x2_b, x3_b = float(hp.lon1), float(hp.lon2), float(hp.lon3)\n",
    "    y1_b, y2_b, y3_b = float(hp.lat1), float(hp.lat2), float(hp.lat3)\n",
    "    r1_b, r2_b, r3_b = float(hp.r1), float(hp.r2), float(hp.r3)\n",
    "\n",
    "    x1_b_r, y1_b_r, r1_b_r = absolute2relative([x1_b, y1_b, r1_b], CAMx, CAMy)\n",
    "    x2_b_r, y2_b_r, r2_b_r = absolute2relative([x2_b, y2_b, r2_b], CAMx, CAMy)\n",
    "    x3_b_r, y3_b_r, r3_b_r = absolute2relative([x3_b, y3_b, r3_b], CAMx, CAMy)\n",
    "\n",
    "    B1 = np.hstack([x1_b_r, y1_b_r])\n",
    "    B2 = np.hstack([x2_b_r, y2_b_r])\n",
    "    B3 = np.hstack([x3_b_r, y3_b_r])\n",
    "\n",
    "    B = np.vstack([B1, B2, B3])\n",
    "\n",
    "    R, t = icp(A,B)\n",
    "    Ts.append(t)"
   ]
  },
  {
   "cell_type": "code",
   "execution_count": 308,
   "metadata": {},
   "outputs": [],
   "source": [
    "# Reallocate points:\n",
    "Xs, Ys = [], []\n",
    "for t in Ts:\n",
    "    Xs.append(t[0])\n",
    "    Ys.append(t[0])\n",
    "Xs, Ys = np.array(Xs), np.array(Ys)"
   ]
  },
  {
   "cell_type": "code",
   "execution_count": 312,
   "metadata": {},
   "outputs": [],
   "source": [
    "from sklearn import linear_model\n",
    "\n",
    "# Robustly fit linear model with RANSAC algorithm\n",
    "# ransac = linear_model.RANSACRegressor()\n",
    "# ransac.fit(X, y)\n",
    "# inlier_mask = ransac.inlier_mask_\n",
    "# outlier_mask = np.logical_not(inlier_mask)"
   ]
  },
  {
   "cell_type": "code",
   "execution_count": null,
   "metadata": {},
   "outputs": [],
   "source": []
  },
  {
   "cell_type": "code",
   "execution_count": null,
   "metadata": {},
   "outputs": [],
   "source": []
  },
  {
   "cell_type": "code",
   "execution_count": null,
   "metadata": {},
   "outputs": [],
   "source": []
  },
  {
   "cell_type": "code",
   "execution_count": null,
   "metadata": {},
   "outputs": [],
   "source": []
  },
  {
   "cell_type": "code",
   "execution_count": null,
   "metadata": {},
   "outputs": [],
   "source": []
  },
  {
   "cell_type": "code",
   "execution_count": null,
   "metadata": {},
   "outputs": [],
   "source": []
  },
  {
   "cell_type": "code",
   "execution_count": null,
   "metadata": {},
   "outputs": [],
   "source": []
  },
  {
   "cell_type": "code",
   "execution_count": null,
   "metadata": {},
   "outputs": [],
   "source": []
  },
  {
   "cell_type": "code",
   "execution_count": null,
   "metadata": {},
   "outputs": [],
   "source": []
  },
  {
   "cell_type": "code",
   "execution_count": 17,
   "metadata": {},
   "outputs": [
    {
     "output_type": "stream",
     "name": "stdout",
     "text": [
      "35\n"
     ]
    },
    {
     "output_type": "error",
     "ename": "TypeError",
     "evalue": "Cannot index by location index with a non-integer key",
     "traceback": [
      "\u001b[0;31m---------------------------------------------------------------------------\u001b[0m",
      "\u001b[0;31mTypeError\u001b[0m                                 Traceback (most recent call last)",
      "\u001b[0;32m<ipython-input-17-b30fd59d5d1e>\u001b[0m in \u001b[0;36m<module>\u001b[0;34m\u001b[0m\n\u001b[1;32m      4\u001b[0m     \u001b[0mi\u001b[0m \u001b[0;34m=\u001b[0m \u001b[0;36m6\u001b[0m\u001b[0;34m\u001b[0m\u001b[0;34m\u001b[0m\u001b[0m\n\u001b[1;32m      5\u001b[0m     \u001b[0marg\u001b[0m \u001b[0;34m=\u001b[0m \u001b[0mitems\u001b[0m\u001b[0;34m[\u001b[0m\u001b[0mi\u001b[0m\u001b[0;34m]\u001b[0m\u001b[0;34m[\u001b[0m\u001b[0;36m0\u001b[0m\u001b[0;34m]\u001b[0m\u001b[0;34m\u001b[0m\u001b[0;34m\u001b[0m\u001b[0m\n\u001b[0;32m----> 6\u001b[0;31m     \u001b[0ma\u001b[0m \u001b[0;34m=\u001b[0m \u001b[0mQUERY1\u001b[0m\u001b[0;34m.\u001b[0m\u001b[0miloc\u001b[0m\u001b[0;34m[\u001b[0m\u001b[0marg\u001b[0m\u001b[0;34m]\u001b[0m\u001b[0;34m\u001b[0m\u001b[0;34m\u001b[0m\u001b[0m\n\u001b[0m\u001b[1;32m      7\u001b[0m     \u001b[0mcrts1\u001b[0m \u001b[0;34m=\u001b[0m \u001b[0mnp\u001b[0m\u001b[0;34m.\u001b[0m\u001b[0mvstack\u001b[0m\u001b[0;34m(\u001b[0m\u001b[0;34m[\u001b[0m\u001b[0;34m[\u001b[0m\u001b[0ma\u001b[0m\u001b[0;34m.\u001b[0m\u001b[0mx1\u001b[0m\u001b[0;34m,\u001b[0m\u001b[0ma\u001b[0m\u001b[0;34m.\u001b[0m\u001b[0my1\u001b[0m\u001b[0;34m,\u001b[0m\u001b[0ma\u001b[0m\u001b[0;34m.\u001b[0m\u001b[0mr1\u001b[0m\u001b[0;34m]\u001b[0m\u001b[0;34m,\u001b[0m\u001b[0;34m[\u001b[0m\u001b[0ma\u001b[0m\u001b[0;34m.\u001b[0m\u001b[0mx2\u001b[0m\u001b[0;34m,\u001b[0m\u001b[0ma\u001b[0m\u001b[0;34m.\u001b[0m\u001b[0my2\u001b[0m\u001b[0;34m,\u001b[0m\u001b[0ma\u001b[0m\u001b[0;34m.\u001b[0m\u001b[0mr2\u001b[0m\u001b[0;34m]\u001b[0m\u001b[0;34m,\u001b[0m\u001b[0;34m[\u001b[0m\u001b[0ma\u001b[0m\u001b[0;34m.\u001b[0m\u001b[0mx3\u001b[0m\u001b[0;34m,\u001b[0m\u001b[0ma\u001b[0m\u001b[0;34m.\u001b[0m\u001b[0my3\u001b[0m\u001b[0;34m,\u001b[0m\u001b[0ma\u001b[0m\u001b[0;34m.\u001b[0m\u001b[0mr3\u001b[0m\u001b[0;34m]\u001b[0m\u001b[0;34m]\u001b[0m\u001b[0;34m)\u001b[0m\u001b[0;34m\u001b[0m\u001b[0;34m\u001b[0m\u001b[0m\n\u001b[1;32m      8\u001b[0m \u001b[0;34m\u001b[0m\u001b[0m\n",
      "\u001b[0;32m~/anaconda3/envs/project_thesis/lib/python3.7/site-packages/pandas/core/indexing.py\u001b[0m in \u001b[0;36m__getitem__\u001b[0;34m(self, key)\u001b[0m\n\u001b[1;32m    877\u001b[0m \u001b[0;34m\u001b[0m\u001b[0m\n\u001b[1;32m    878\u001b[0m             \u001b[0mmaybe_callable\u001b[0m \u001b[0;34m=\u001b[0m \u001b[0mcom\u001b[0m\u001b[0;34m.\u001b[0m\u001b[0mapply_if_callable\u001b[0m\u001b[0;34m(\u001b[0m\u001b[0mkey\u001b[0m\u001b[0;34m,\u001b[0m \u001b[0mself\u001b[0m\u001b[0;34m.\u001b[0m\u001b[0mobj\u001b[0m\u001b[0;34m)\u001b[0m\u001b[0;34m\u001b[0m\u001b[0;34m\u001b[0m\u001b[0m\n\u001b[0;32m--> 879\u001b[0;31m             \u001b[0;32mreturn\u001b[0m \u001b[0mself\u001b[0m\u001b[0;34m.\u001b[0m\u001b[0m_getitem_axis\u001b[0m\u001b[0;34m(\u001b[0m\u001b[0mmaybe_callable\u001b[0m\u001b[0;34m,\u001b[0m \u001b[0maxis\u001b[0m\u001b[0;34m=\u001b[0m\u001b[0maxis\u001b[0m\u001b[0;34m)\u001b[0m\u001b[0;34m\u001b[0m\u001b[0;34m\u001b[0m\u001b[0m\n\u001b[0m\u001b[1;32m    880\u001b[0m \u001b[0;34m\u001b[0m\u001b[0m\n\u001b[1;32m    881\u001b[0m     \u001b[0;32mdef\u001b[0m \u001b[0m_is_scalar_access\u001b[0m\u001b[0;34m(\u001b[0m\u001b[0mself\u001b[0m\u001b[0;34m,\u001b[0m \u001b[0mkey\u001b[0m\u001b[0;34m:\u001b[0m \u001b[0mTuple\u001b[0m\u001b[0;34m)\u001b[0m\u001b[0;34m:\u001b[0m\u001b[0;34m\u001b[0m\u001b[0;34m\u001b[0m\u001b[0m\n",
      "\u001b[0;32m~/anaconda3/envs/project_thesis/lib/python3.7/site-packages/pandas/core/indexing.py\u001b[0m in \u001b[0;36m_getitem_axis\u001b[0;34m(self, key, axis)\u001b[0m\n\u001b[1;32m   1491\u001b[0m             \u001b[0mkey\u001b[0m \u001b[0;34m=\u001b[0m \u001b[0mitem_from_zerodim\u001b[0m\u001b[0;34m(\u001b[0m\u001b[0mkey\u001b[0m\u001b[0;34m)\u001b[0m\u001b[0;34m\u001b[0m\u001b[0;34m\u001b[0m\u001b[0m\n\u001b[1;32m   1492\u001b[0m             \u001b[0;32mif\u001b[0m \u001b[0;32mnot\u001b[0m \u001b[0mis_integer\u001b[0m\u001b[0;34m(\u001b[0m\u001b[0mkey\u001b[0m\u001b[0;34m)\u001b[0m\u001b[0;34m:\u001b[0m\u001b[0;34m\u001b[0m\u001b[0;34m\u001b[0m\u001b[0m\n\u001b[0;32m-> 1493\u001b[0;31m                 \u001b[0;32mraise\u001b[0m \u001b[0mTypeError\u001b[0m\u001b[0;34m(\u001b[0m\u001b[0;34m\"Cannot index by location index with a non-integer key\"\u001b[0m\u001b[0;34m)\u001b[0m\u001b[0;34m\u001b[0m\u001b[0;34m\u001b[0m\u001b[0m\n\u001b[0m\u001b[1;32m   1494\u001b[0m \u001b[0;34m\u001b[0m\u001b[0m\n\u001b[1;32m   1495\u001b[0m             \u001b[0;31m# validate the location\u001b[0m\u001b[0;34m\u001b[0m\u001b[0;34m\u001b[0m\u001b[0;34m\u001b[0m\u001b[0m\n",
      "\u001b[0;31mTypeError\u001b[0m: Cannot index by location index with a non-integer key"
     ]
    }
   ],
   "source": [
    "if len(joins)>1:\n",
    "    print(len(joins))\n",
    "    plt.close()\n",
    "    i = 6\n",
    "    arg = items[i][0]\n",
    "    a = QUERY1.iloc[arg]\n",
    "    crts1 = np.vstack([[a.x1,a.y1,a.r1],[a.x2,a.y2,a.r2],[a.x3,a.y3,a.r3]])\n",
    "    \n",
    "    plt.figure(dpi=200)\n",
    "    plt.subplot(121)\n",
    "    cp1 = img.copy()\n",
    "    IMG1 =  img_plus_crts(cp1, crts1, color=\"red\")\n",
    "    plt.imshow(IMG1)\n",
    "    plt.show()\n",
    "\n",
    "    join = joins[i]\n",
    "    j=1\n",
    "    b = join.iloc[j]\n",
    "    crts2 = np.vstack([[b.lon1,b.lat1,b.r1],[b.lon2,b.lat2,b.r2],[b.lon3,b.lat3,b.r3]])\n",
    "    crts2[:,2]*= deg2km\n",
    "    plt.subplot(122)\n",
    "    lat_bounds=[-1.5, 1.5]\n",
    "    lon_bounds=[-129.802-1.5,-129.802+1.5]\n",
    "    crts2_to_rel = craters_to_relative_frame(crts2, lon_b=lon_bounds, lat_b=lat_bounds)\n",
    "    IMG2 =  img_plus_crts(cp1, crts2_to_rel, color=\"green\")\n",
    "    plt.imshow(IMG2)\n",
    "    plt.show()"
   ]
  },
  {
   "cell_type": "code",
   "execution_count": null,
   "metadata": {},
   "outputs": [],
   "source": [
    "c2 = compute_centroid(crts2)\n",
    "c1 = compute_centroid(crts1)"
   ]
  },
  {
   "cell_type": "code",
   "execution_count": null,
   "metadata": {},
   "outputs": [],
   "source": []
  },
  {
   "cell_type": "code",
   "execution_count": null,
   "metadata": {},
   "outputs": [],
   "source": []
  },
  {
   "cell_type": "code",
   "execution_count": null,
   "metadata": {},
   "outputs": [],
   "source": [
    "def craters_to_relative_frame(df, lon_b, lat_b, u=None):\n",
    "    lon_bounds = lon_b\n",
    "    lat_bounds = lat_b\n",
    "    # CAMERA CENTER:\n",
    "    CAMx, CAMy = (\n",
    "        (lon_bounds[0] + lon_bounds[1]) / 2,\n",
    "        (lat_bounds[0] + lat_bounds[1]) / 2,\n",
    "    )\n",
    "\n",
    "    if u == None:  # Scale Factor\n",
    "        u = 257.52  # ? DEG TO PXS\n",
    "        span = (abs(lon_b[0]) - abs(lon_b[1])) * u\n",
    "        span = abs(int(span))\n",
    "        print(span)\n",
    "    else:\n",
    "        span = (abs(lon_b[0]) - abs(lon_b[1])) * u\n",
    "        span = abs(int(span))\n",
    "    # Make the img:\n",
    "    # img = np.zeros((span, span), dtype=int)\n",
    "    if df is None:\n",
    "        print(\"No crater found\")\n",
    "        pass\n",
    "    else:\n",
    "        W, H = (span, span)\n",
    "        # Cycle through the dataframe:\n",
    "        craters = np.zeros(3)\n",
    "        for i in range(df.shape[0]):\n",
    "            crater = df[i]\n",
    "            # crater center:\n",
    "            xc, yc = crater[0], crater[1]  # This is in the absolute frame\n",
    "            # f: Absolute --> f: Relative\n",
    "            xc = xc - CAMx\n",
    "            yc = yc - CAMy\n",
    "            # f: relative --> f: OPENCV\n",
    "            xc *= u  # Now is in pixel not in lon deg\n",
    "            yc *= u  # Now is in pixel not in lat deg\n",
    "            xc = W / 2 + xc\n",
    "            yc = H / 2 - yc\n",
    "            # ? 1 km = 8.4746 px in our DEM := Merge LOLA - KAGUYA\n",
    "            KM_to_PX = 1/0.118\n",
    "            crater_i = [xc, yc, crater[2] * KM_to_PX]\n",
    "            craters = np.vstack([craters, crater_i])\n",
    "        return craters[1:, :]"
   ]
  },
  {
   "cell_type": "code",
   "execution_count": null,
   "metadata": {},
   "outputs": [],
   "source": []
  },
  {
   "cell_type": "code",
   "execution_count": null,
   "metadata": {},
   "outputs": [],
   "source": []
  },
  {
   "cell_type": "code",
   "execution_count": null,
   "metadata": {},
   "outputs": [],
   "source": []
  },
  {
   "cell_type": "code",
   "execution_count": null,
   "metadata": {},
   "outputs": [],
   "source": []
  },
  {
   "cell_type": "code",
   "execution_count": null,
   "metadata": {},
   "outputs": [],
   "source": []
  },
  {
   "cell_type": "code",
   "execution_count": null,
   "metadata": {},
   "outputs": [],
   "source": []
  },
  {
   "cell_type": "code",
   "execution_count": null,
   "metadata": {},
   "outputs": [],
   "source": []
  },
  {
   "cell_type": "code",
   "execution_count": null,
   "metadata": {},
   "outputs": [],
   "source": []
  },
  {
   "cell_type": "code",
   "execution_count": null,
   "metadata": {},
   "outputs": [],
   "source": []
  },
  {
   "cell_type": "code",
   "execution_count": null,
   "metadata": {},
   "outputs": [],
   "source": []
  },
  {
   "cell_type": "code",
   "execution_count": null,
   "metadata": {},
   "outputs": [],
   "source": []
  },
  {
   "cell_type": "code",
   "execution_count": null,
   "metadata": {},
   "outputs": [],
   "source": []
  },
  {
   "cell_type": "code",
   "execution_count": null,
   "metadata": {},
   "outputs": [],
   "source": []
  },
  {
   "cell_type": "code",
   "execution_count": null,
   "metadata": {},
   "outputs": [],
   "source": []
  },
  {
   "cell_type": "code",
   "execution_count": null,
   "metadata": {},
   "outputs": [],
   "source": []
  },
  {
   "cell_type": "code",
   "execution_count": null,
   "metadata": {},
   "outputs": [],
   "source": []
  },
  {
   "cell_type": "code",
   "execution_count": null,
   "metadata": {},
   "outputs": [],
   "source": []
  },
  {
   "cell_type": "code",
   "execution_count": null,
   "metadata": {},
   "outputs": [],
   "source": []
  },
  {
   "cell_type": "code",
   "execution_count": null,
   "metadata": {},
   "outputs": [],
   "source": []
  }
 ]
}