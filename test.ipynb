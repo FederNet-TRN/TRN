{
 "metadata": {
  "language_info": {
   "codemirror_mode": {
    "name": "ipython",
    "version": 3
   },
   "file_extension": ".py",
   "mimetype": "text/x-python",
   "name": "python",
   "nbconvert_exporter": "python",
   "pygments_lexer": "ipython3",
   "version": "3.7.9-final"
  },
  "orig_nbformat": 2,
  "kernelspec": {
   "name": "python3",
   "display_name": "Python 3.7.9 64-bit ('project_thesis': conda)",
   "metadata": {
    "interpreter": {
     "hash": "93fe94e5baa96e16921111566a2ec9b1e2e4eaf5c7b48668a60b4cd4eab04f86"
    }
   }
  }
 },
 "nbformat": 4,
 "nbformat_minor": 2,
 "cells": [
  {
   "cell_type": "code",
   "execution_count": 1,
   "metadata": {},
   "outputs": [
    {
     "output_type": "execute_result",
     "data": {
      "text/plain": [
       "18446744073709551616"
      ]
     },
     "metadata": {},
     "execution_count": 1
    }
   ],
   "source": [
    "2**64"
   ]
  }
 ]
}