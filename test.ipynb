{
 "metadata": {
  "language_info": {
   "codemirror_mode": {
    "name": "ipython",
    "version": 3
   },
   "file_extension": ".py",
   "mimetype": "text/x-python",
   "name": "python",
   "nbconvert_exporter": "python",
   "pygments_lexer": "ipython3",
   "version": "3.7.9-final"
  },
  "orig_nbformat": 2,
  "kernelspec": {
   "name": "python3",
   "display_name": "Python 3.7.9 64-bit ('project_thesis': conda)",
   "metadata": {
    "interpreter": {
     "hash": "93fe94e5baa96e16921111566a2ec9b1e2e4eaf5c7b48668a60b4cd4eab04f86"
    }
   }
  }
 },
 "nbformat": 4,
 "nbformat_minor": 2,
 "cells": [
  {
   "cell_type": "code",
   "execution_count": 32,
   "metadata": {},
   "outputs": [],
   "source": [
    "# External libraries\n",
    "import numpy as np\n",
    "import time\n",
    "import matplotlib.pyplot as plt\n",
    "import matplotlib.style as style\n",
    "import pandas as pd\n",
    "import astropy\n",
    "import scipy\n",
    "from filterpy.kalman import KalmanFilter \n",
    "from filterpy.common import Q_discrete_white_noise\n",
    "from scipy.linalg import block_diag\n",
    "from astropy import units as u\n",
    "from poliastro.bodies import Earth, Mars, Sun, Moon\n",
    "from poliastro.twobody import Orbit\n",
    "from poliastro.plotting import OrbitPlotter2D\n",
    "from poliastro.plotting import OrbitPlotter3D\n",
    "import glob\n",
    "# Own Libraries\n",
    "from utility.utils import *\n",
    "from KalmanFilter.kf import *\n",
    "from Detect.detector import *\n",
    "from Match.pair import *\n",
    "from Match.icp import *\n",
    "\n",
    "%matplotlib tk\n",
    "style.use('seaborn-paper')"
   ]
  },
  {
   "cell_type": "code",
   "execution_count": 4,
   "metadata": {},
   "outputs": [],
   "source": [
    "# LOAD ALL IMAGES:\n",
    "dt = 10\n",
    "dict = {}\n",
    "for img in glob.glob(f\"DATA/ephemeris sat/inclination zero/{dt} step size/*\"):\n",
    "    txt = img             # stringa\n",
    "    t = txt.split('_')[1] # numero\n",
    "    dict[t] = txt"
   ]
  },
  {
   "cell_type": "code",
   "execution_count": 9,
   "metadata": {},
   "outputs": [
    {
     "output_type": "stream",
     "name": "stdout",
     "text": [
      " |████████████████████████████████████████████████████████████████████████████████████████████████████| 100.0% \n"
     ]
    },
    {
     "output_type": "execute_result",
     "data": {
      "text/plain": [
       "          Angle1      Angle2     Angle3       des1       des2       des3  \\\n",
       "0     131.702158   36.468967  11.828875   3.981607   4.584064   1.302557   \n",
       "1      53.599676   32.771921  93.628403   6.950379   2.999944  25.004154   \n",
       "2      50.045955   33.354983  96.599062   7.115080   2.980638  10.383449   \n",
       "3      80.335167   21.402663  78.262170   6.331374   2.911405   6.722846   \n",
       "4      88.975541   43.732452  47.292007   5.214857   3.987939   8.781075   \n",
       "...          ...         ...        ...        ...        ...        ...   \n",
       "4891   29.893350  139.896036  10.210615   6.460663  17.923202  15.148044   \n",
       "4892  179.095926    0.400038   0.504036  13.185585  11.321707   0.780619   \n",
       "4893  156.822185   10.817131  12.360684  13.017015  11.532394   1.152894   \n",
       "4894  165.344427    4.040576  10.614996  14.620558  10.005324   3.230954   \n",
       "4895  167.616106    3.381381   9.002513  14.636405   9.986463   2.825857   \n",
       "\n",
       "            lon1      lat1        r1        lon2      lat2        r2  \\\n",
       "0    -145.956117 -1.955073  0.383687 -149.519503 -0.883337  0.483438   \n",
       "1    -145.956117 -1.955073  0.383687 -149.519503 -0.883337  0.483438   \n",
       "2    -145.956117 -1.955073  0.383687 -149.519503 -0.883337  0.483438   \n",
       "3    -145.956117 -1.955073  0.383687 -149.519503 -0.883337  0.483438   \n",
       "4    -145.956117 -1.955073  0.383687 -149.519503 -0.883337  0.483438   \n",
       "...          ...       ...       ...         ...       ...       ...   \n",
       "4891 -147.209019 -1.791135  0.107286 -149.892463 -1.318375  0.115720   \n",
       "4892 -147.209019 -1.791135  0.107286 -149.892463 -1.318375  0.115720   \n",
       "4893 -147.209019 -1.791135  0.107286 -149.892463 -1.318375  0.115720   \n",
       "4894 -147.209019 -1.791135  0.107286 -149.892463 -1.318375  0.115720   \n",
       "4895 -147.209019 -1.791135  0.107286 -149.892463 -1.318375  0.115720   \n",
       "\n",
       "            lon3      lat3        r3  \n",
       "0    -146.567992 -1.136915  0.615915  \n",
       "1    -148.951853  1.553883  0.085623  \n",
       "2    -149.049604  1.743955  0.219861  \n",
       "3    -148.862726  0.327445  0.206019  \n",
       "4    -147.303944  0.424471  0.143797  \n",
       "...          ...       ...       ...  \n",
       "4891 -146.370661 -1.304916  0.096573  \n",
       "4892 -148.703249 -1.517117  0.134153  \n",
       "4893 -148.690824 -1.812486  0.169625  \n",
       "4894 -149.182164 -1.585453  0.130440  \n",
       "4895 -149.143196 -1.331311  0.149380  \n",
       "\n",
       "[4896 rows x 15 columns]"
      ],
      "text/html": "<div>\n<style scoped>\n    .dataframe tbody tr th:only-of-type {\n        vertical-align: middle;\n    }\n\n    .dataframe tbody tr th {\n        vertical-align: top;\n    }\n\n    .dataframe thead th {\n        text-align: right;\n    }\n</style>\n<table border=\"1\" class=\"dataframe\">\n  <thead>\n    <tr style=\"text-align: right;\">\n      <th></th>\n      <th>Angle1</th>\n      <th>Angle2</th>\n      <th>Angle3</th>\n      <th>des1</th>\n      <th>des2</th>\n      <th>des3</th>\n      <th>lon1</th>\n      <th>lat1</th>\n      <th>r1</th>\n      <th>lon2</th>\n      <th>lat2</th>\n      <th>r2</th>\n      <th>lon3</th>\n      <th>lat3</th>\n      <th>r3</th>\n    </tr>\n  </thead>\n  <tbody>\n    <tr>\n      <th>0</th>\n      <td>131.702158</td>\n      <td>36.468967</td>\n      <td>11.828875</td>\n      <td>3.981607</td>\n      <td>4.584064</td>\n      <td>1.302557</td>\n      <td>-145.956117</td>\n      <td>-1.955073</td>\n      <td>0.383687</td>\n      <td>-149.519503</td>\n      <td>-0.883337</td>\n      <td>0.483438</td>\n      <td>-146.567992</td>\n      <td>-1.136915</td>\n      <td>0.615915</td>\n    </tr>\n    <tr>\n      <th>1</th>\n      <td>53.599676</td>\n      <td>32.771921</td>\n      <td>93.628403</td>\n      <td>6.950379</td>\n      <td>2.999944</td>\n      <td>25.004154</td>\n      <td>-145.956117</td>\n      <td>-1.955073</td>\n      <td>0.383687</td>\n      <td>-149.519503</td>\n      <td>-0.883337</td>\n      <td>0.483438</td>\n      <td>-148.951853</td>\n      <td>1.553883</td>\n      <td>0.085623</td>\n    </tr>\n    <tr>\n      <th>2</th>\n      <td>50.045955</td>\n      <td>33.354983</td>\n      <td>96.599062</td>\n      <td>7.115080</td>\n      <td>2.980638</td>\n      <td>10.383449</td>\n      <td>-145.956117</td>\n      <td>-1.955073</td>\n      <td>0.383687</td>\n      <td>-149.519503</td>\n      <td>-0.883337</td>\n      <td>0.483438</td>\n      <td>-149.049604</td>\n      <td>1.743955</td>\n      <td>0.219861</td>\n    </tr>\n    <tr>\n      <th>3</th>\n      <td>80.335167</td>\n      <td>21.402663</td>\n      <td>78.262170</td>\n      <td>6.331374</td>\n      <td>2.911405</td>\n      <td>6.722846</td>\n      <td>-145.956117</td>\n      <td>-1.955073</td>\n      <td>0.383687</td>\n      <td>-149.519503</td>\n      <td>-0.883337</td>\n      <td>0.483438</td>\n      <td>-148.862726</td>\n      <td>0.327445</td>\n      <td>0.206019</td>\n    </tr>\n    <tr>\n      <th>4</th>\n      <td>88.975541</td>\n      <td>43.732452</td>\n      <td>47.292007</td>\n      <td>5.214857</td>\n      <td>3.987939</td>\n      <td>8.781075</td>\n      <td>-145.956117</td>\n      <td>-1.955073</td>\n      <td>0.383687</td>\n      <td>-149.519503</td>\n      <td>-0.883337</td>\n      <td>0.483438</td>\n      <td>-147.303944</td>\n      <td>0.424471</td>\n      <td>0.143797</td>\n    </tr>\n    <tr>\n      <th>...</th>\n      <td>...</td>\n      <td>...</td>\n      <td>...</td>\n      <td>...</td>\n      <td>...</td>\n      <td>...</td>\n      <td>...</td>\n      <td>...</td>\n      <td>...</td>\n      <td>...</td>\n      <td>...</td>\n      <td>...</td>\n      <td>...</td>\n      <td>...</td>\n      <td>...</td>\n    </tr>\n    <tr>\n      <th>4891</th>\n      <td>29.893350</td>\n      <td>139.896036</td>\n      <td>10.210615</td>\n      <td>6.460663</td>\n      <td>17.923202</td>\n      <td>15.148044</td>\n      <td>-147.209019</td>\n      <td>-1.791135</td>\n      <td>0.107286</td>\n      <td>-149.892463</td>\n      <td>-1.318375</td>\n      <td>0.115720</td>\n      <td>-146.370661</td>\n      <td>-1.304916</td>\n      <td>0.096573</td>\n    </tr>\n    <tr>\n      <th>4892</th>\n      <td>179.095926</td>\n      <td>0.400038</td>\n      <td>0.504036</td>\n      <td>13.185585</td>\n      <td>11.321707</td>\n      <td>0.780619</td>\n      <td>-147.209019</td>\n      <td>-1.791135</td>\n      <td>0.107286</td>\n      <td>-149.892463</td>\n      <td>-1.318375</td>\n      <td>0.115720</td>\n      <td>-148.703249</td>\n      <td>-1.517117</td>\n      <td>0.134153</td>\n    </tr>\n    <tr>\n      <th>4893</th>\n      <td>156.822185</td>\n      <td>10.817131</td>\n      <td>12.360684</td>\n      <td>13.017015</td>\n      <td>11.532394</td>\n      <td>1.152894</td>\n      <td>-147.209019</td>\n      <td>-1.791135</td>\n      <td>0.107286</td>\n      <td>-149.892463</td>\n      <td>-1.318375</td>\n      <td>0.115720</td>\n      <td>-148.690824</td>\n      <td>-1.812486</td>\n      <td>0.169625</td>\n    </tr>\n    <tr>\n      <th>4894</th>\n      <td>165.344427</td>\n      <td>4.040576</td>\n      <td>10.614996</td>\n      <td>14.620558</td>\n      <td>10.005324</td>\n      <td>3.230954</td>\n      <td>-147.209019</td>\n      <td>-1.791135</td>\n      <td>0.107286</td>\n      <td>-149.892463</td>\n      <td>-1.318375</td>\n      <td>0.115720</td>\n      <td>-149.182164</td>\n      <td>-1.585453</td>\n      <td>0.130440</td>\n    </tr>\n    <tr>\n      <th>4895</th>\n      <td>167.616106</td>\n      <td>3.381381</td>\n      <td>9.002513</td>\n      <td>14.636405</td>\n      <td>9.986463</td>\n      <td>2.825857</td>\n      <td>-147.209019</td>\n      <td>-1.791135</td>\n      <td>0.107286</td>\n      <td>-149.892463</td>\n      <td>-1.318375</td>\n      <td>0.115720</td>\n      <td>-149.143196</td>\n      <td>-1.331311</td>\n      <td>0.149380</td>\n    </tr>\n  </tbody>\n</table>\n<p>4896 rows × 15 columns</p>\n</div>"
     },
     "metadata": {},
     "execution_count": 9
    }
   ],
   "source": [
    "df = pd.read_csv('DATA/H_L_combined.csv')\n",
    "craters_cat = CatalogSearch(H=df, lat_bounds=[-2,2], lon_bounds=[-150,-145], CAT_NAME='COMBINED')\n",
    "deg2km = 2*np.pi*1737.4/360\n",
    "km2deg = 1/deg2km\n",
    "craters_cat['Diam']*=0.5*km2deg\n",
    "craters_cat.rename( columns={'Diam':'r_deg'}, inplace=True)\n",
    "\n",
    "\n",
    "craters_cat_m = np.array(craters_cat)\n",
    "triplets_cat_m = find_all_triplets(craters_cat_m)\n",
    "triplets_cat = pd.DataFrame(triplets_cat_m, columns=['Angle1','Angle2','Angle3','des1','des2','des3','lon1','lat1','r1','lon2','lat2','r2','lon3','lat3','r3'])\n",
    "triplets_cat"
   ]
  },
  {
   "cell_type": "code",
   "execution_count": 6,
   "metadata": {},
   "outputs": [
    {
     "output_type": "stream",
     "name": "stdout",
     "text": [
      " |████████████████████████████████████████████████████████████████████████████████████████████████████| 100.0% \n"
     ]
    }
   ],
   "source": [
    "idx = 0\n",
    "# IMG1:\n",
    "filename = dict[str(idx+1)]\n",
    "img=cv2.imread(filename)\n",
    "craters_det = detect(img)\n",
    "\n",
    "# Pandas DataFrame:\n",
    "df_craters_det = sort_mat(craters_det)\n",
    "# Find all triplets:\n",
    "triplets = find_all_triplets(craters_det)\n",
    "triplets_det= pd.DataFrame(triplets, columns=['Angle1','Angle2','Angle3','des1','des2','des3','x1','y1','r1','x2','y2','r2','x3','y3','r3'])"
   ]
  },
  {
   "cell_type": "code",
   "execution_count": 122,
   "metadata": {},
   "outputs": [],
   "source": [
    "def inner_join(QUERY1,QUERY2, tol1, tol2):\n",
    "    DFs, items = [], []\n",
    "    for row in QUERY1.itertuples():\n",
    "            Angle1_Q1, Angle2_Q1, Angle3_Q1 = row[0],row[1],row[2] \n",
    "            d1_Q1, d2_Q1, d3_Q1 = row[3], row[4], row[5]\n",
    "\n",
    "\n",
    "            SEARCH = QUERY2[((abs(QUERY2.Angle1 - Angle1_Q1) < tol1)&(abs(QUERY2.Angle2-Angle2_Q1)< tol1)&(abs(QUERY2.Angle3-Angle3_Q1) < tol1))   \\\n",
    "        |  ((abs(QUERY2.Angle1 - Angle2_Q1) < tol1) & (abs(QUERY2.Angle2 - Angle3_Q1) < tol1) & (abs(QUERY2.Angle3 - Angle1_Q1) < tol1)) \\\n",
    "        |  ((abs(QUERY2.Angle1 - Angle3_Q1) < tol1) & (abs(QUERY2.Angle2 - Angle1_Q1) < tol1) & (abs(QUERY2.Angle3 - Angle2_Q1) < tol1))]\n",
    "\n",
    "            SEARCH =   SEARCH[ ((abs(QUERY2.des1- d1_Q1) < tol2) & (abs(QUERY2.des2- d2_Q1) < tol2) & (abs(QUERY2.des3- d3_Q1)< tol2)) \\\n",
    "                             | ((abs(QUERY2.des1- d2_Q1) < tol2) & (abs(QUERY2.des2- d3_Q1) < tol2) & (abs(QUERY2.des3- d1_Q1)< tol2)) \\\n",
    "                             | ((abs(QUERY2.des1- d3_Q1) < tol2) & (abs(QUERY2.des2- d1_Q1) < tol2) & (abs(QUERY2.des3- d2_Q1)< tol2)) ]\n",
    "\n",
    "            if SEARCH.shape[0]!=0:\n",
    "                items.append(row)\n",
    "                DFs.append(SEARCH)\n",
    "    return DFs, items\n",
    "\n",
    "def drop_join(join):\n",
    "\n",
    "    def cond(join_dropped, row, cond_param):\n",
    "        return np.any( join_dropped.Angle1 == row[cond_param])\n",
    "\n",
    "\n",
    "    first = True\n",
    "    for ind, row in joins[0].iterrows():\n",
    "        if first:\n",
    "            join_dropped = row\n",
    "            first = False\n",
    "        elif cond(join_dropped,row, 'Angle1')| cond(join_dropped,row, 'Angle2') | cond(join_dropped,row, 'Angle3'):\n",
    "            pass\n",
    "        else:\n",
    "            join_dropped = pd.concat([join_dropped, row])\n",
    "    return join_dropped\n"
   ]
  },
  {
   "cell_type": "code",
   "execution_count": 98,
   "metadata": {},
   "outputs": [],
   "source": [
    "t1 = time.time()\n",
    "QUERY1 = triplets_cat\n",
    "QUERY2 = triplets_det\n",
    "joins, items = inner_join(QUERY1, QUERY2, 3,2)\n",
    "\n",
    "t2 = time.time()\n",
    "deltat = t2-t1"
   ]
  },
  {
   "cell_type": "code",
   "execution_count": 123,
   "metadata": {},
   "outputs": [
    {
     "output_type": "execute_result",
     "data": {
      "text/plain": [
       "Angle1      6.405361\n",
       "Angle2    160.672387\n",
       "Angle3     12.922252\n",
       "des1        4.193688\n",
       "des2        2.443138\n",
       "des3        5.189089\n",
       "x1        506.000000\n",
       "y1        739.000000\n",
       "r1         20.500000\n",
       "x2        735.500000\n",
       "y2        704.500000\n",
       "r2        125.000000\n",
       "x3         49.000000\n",
       "y3        652.000000\n",
       "r3         74.000000\n",
       "Name: 2984, dtype: float64"
      ]
     },
     "metadata": {},
     "execution_count": 123
    }
   ],
   "source": [
    "joins[0]\n",
    "join_dropped = drop_join(joins[0])\n",
    "join_dropped"
   ]
  },
  {
   "cell_type": "code",
   "execution_count": 119,
   "metadata": {},
   "outputs": [
    {
     "output_type": "execute_result",
     "data": {
      "text/plain": [
       "       Angle1     Angle2    Angle3      des1      des2      des3        lon1  \\\n",
       "7  161.210649  15.147464  3.641887  3.851721  4.644868  4.920012 -145.956117   \n",
       "\n",
       "       lat1        r1        lon2      lat2        r2        lon3      lat3  \\\n",
       "7 -1.955073  0.383687 -149.519503 -0.883337  0.483438 -146.689675 -1.934686   \n",
       "\n",
       "        r3  \n",
       "7  0.15827  "
      ],
      "text/html": "<div>\n<style scoped>\n    .dataframe tbody tr th:only-of-type {\n        vertical-align: middle;\n    }\n\n    .dataframe tbody tr th {\n        vertical-align: top;\n    }\n\n    .dataframe thead th {\n        text-align: right;\n    }\n</style>\n<table border=\"1\" class=\"dataframe\">\n  <thead>\n    <tr style=\"text-align: right;\">\n      <th></th>\n      <th>Angle1</th>\n      <th>Angle2</th>\n      <th>Angle3</th>\n      <th>des1</th>\n      <th>des2</th>\n      <th>des3</th>\n      <th>lon1</th>\n      <th>lat1</th>\n      <th>r1</th>\n      <th>lon2</th>\n      <th>lat2</th>\n      <th>r2</th>\n      <th>lon3</th>\n      <th>lat3</th>\n      <th>r3</th>\n    </tr>\n  </thead>\n  <tbody>\n    <tr>\n      <th>7</th>\n      <td>161.210649</td>\n      <td>15.147464</td>\n      <td>3.641887</td>\n      <td>3.851721</td>\n      <td>4.644868</td>\n      <td>4.920012</td>\n      <td>-145.956117</td>\n      <td>-1.955073</td>\n      <td>0.383687</td>\n      <td>-149.519503</td>\n      <td>-0.883337</td>\n      <td>0.483438</td>\n      <td>-146.689675</td>\n      <td>-1.934686</td>\n      <td>0.15827</td>\n    </tr>\n  </tbody>\n</table>\n</div>"
     },
     "metadata": {},
     "execution_count": 119
    }
   ],
   "source": [
    "arg = items[0][0]\n",
    "QUERY1.iloc[arg:arg+1]"
   ]
  },
  {
   "cell_type": "code",
   "execution_count": null,
   "metadata": {},
   "outputs": [],
   "source": []
  },
  {
   "cell_type": "code",
   "execution_count": null,
   "metadata": {},
   "outputs": [],
   "source": []
  },
  {
   "cell_type": "code",
   "execution_count": null,
   "metadata": {},
   "outputs": [],
   "source": []
  },
  {
   "cell_type": "code",
   "execution_count": null,
   "metadata": {},
   "outputs": [],
   "source": []
  },
  {
   "cell_type": "code",
   "execution_count": null,
   "metadata": {},
   "outputs": [],
   "source": []
  },
  {
   "cell_type": "code",
   "execution_count": null,
   "metadata": {},
   "outputs": [],
   "source": []
  },
  {
   "cell_type": "code",
   "execution_count": null,
   "metadata": {},
   "outputs": [],
   "source": []
  },
  {
   "cell_type": "code",
   "execution_count": null,
   "metadata": {},
   "outputs": [],
   "source": []
  },
  {
   "cell_type": "code",
   "execution_count": null,
   "metadata": {},
   "outputs": [],
   "source": []
  },
  {
   "cell_type": "code",
   "execution_count": null,
   "metadata": {},
   "outputs": [],
   "source": []
  },
  {
   "cell_type": "code",
   "execution_count": null,
   "metadata": {},
   "outputs": [],
   "source": []
  },
  {
   "cell_type": "code",
   "execution_count": null,
   "metadata": {},
   "outputs": [],
   "source": []
  },
  {
   "cell_type": "code",
   "execution_count": null,
   "metadata": {},
   "outputs": [],
   "source": []
  },
  {
   "cell_type": "code",
   "execution_count": null,
   "metadata": {},
   "outputs": [],
   "source": []
  },
  {
   "cell_type": "code",
   "execution_count": null,
   "metadata": {},
   "outputs": [],
   "source": []
  },
  {
   "cell_type": "code",
   "execution_count": null,
   "metadata": {},
   "outputs": [],
   "source": []
  },
  {
   "cell_type": "code",
   "execution_count": null,
   "metadata": {},
   "outputs": [],
   "source": []
  },
  {
   "cell_type": "code",
   "execution_count": null,
   "metadata": {},
   "outputs": [],
   "source": []
  },
  {
   "cell_type": "code",
   "execution_count": null,
   "metadata": {},
   "outputs": [],
   "source": []
  },
  {
   "cell_type": "code",
   "execution_count": null,
   "metadata": {},
   "outputs": [],
   "source": []
  },
  {
   "cell_type": "code",
   "execution_count": null,
   "metadata": {},
   "outputs": [],
   "source": []
  },
  {
   "cell_type": "code",
   "execution_count": null,
   "metadata": {},
   "outputs": [],
   "source": []
  },
  {
   "cell_type": "code",
   "execution_count": null,
   "metadata": {},
   "outputs": [],
   "source": []
  },
  {
   "cell_type": "code",
   "execution_count": null,
   "metadata": {},
   "outputs": [],
   "source": []
  },
  {
   "cell_type": "code",
   "execution_count": null,
   "metadata": {},
   "outputs": [],
   "source": []
  },
  {
   "cell_type": "code",
   "execution_count": null,
   "metadata": {},
   "outputs": [],
   "source": []
  },
  {
   "cell_type": "code",
   "execution_count": null,
   "metadata": {},
   "outputs": [],
   "source": []
  }
 ]
}