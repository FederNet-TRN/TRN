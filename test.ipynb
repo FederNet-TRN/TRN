{
 "metadata": {
  "language_info": {
   "codemirror_mode": {
    "name": "ipython",
    "version": 3
   },
   "file_extension": ".py",
   "mimetype": "text/x-python",
   "name": "python",
   "nbconvert_exporter": "python",
   "pygments_lexer": "ipython3",
   "version": "3.7.9-final"
  },
  "orig_nbformat": 2,
  "kernelspec": {
   "name": "python3",
   "display_name": "Python 3.7.9 64-bit ('project_thesis': conda)",
   "metadata": {
    "interpreter": {
     "hash": "93fe94e5baa96e16921111566a2ec9b1e2e4eaf5c7b48668a60b4cd4eab04f86"
    }
   }
  }
 },
 "nbformat": 4,
 "nbformat_minor": 2,
 "cells": [
  {
   "cell_type": "code",
   "execution_count": 1,
   "metadata": {},
   "outputs": [
    {
     "output_type": "stream",
     "name": "stdout",
     "text": [
      "WARNING:tensorflow:From /home/sirbastiano/anaconda3/envs/project_thesis/lib/python3.7/site-packages/tensorflow_core/python/ops/resource_variable_ops.py:1635: calling BaseResourceVariable.__init__ (from tensorflow.python.ops.resource_variable_ops) with constraint is deprecated and will be removed in a future version.\nInstructions for updating:\nIf using Keras pass *_constraint arguments to layers.\n"
     ]
    }
   ],
   "source": [
    "# External libraries\n",
    "import numpy as np\n",
    "import time\n",
    "import matplotlib.pyplot as plt\n",
    "import matplotlib.style as style\n",
    "import pandas as pd\n",
    "import astropy\n",
    "import scipy\n",
    "from filterpy.kalman import KalmanFilter \n",
    "from filterpy.common import Q_discrete_white_noise\n",
    "from scipy.linalg import block_diag\n",
    "from astropy import units as u\n",
    "from poliastro.bodies import Earth, Mars, Sun, Moon\n",
    "from poliastro.twobody import Orbit\n",
    "from poliastro.plotting import OrbitPlotter2D\n",
    "from poliastro.plotting import OrbitPlotter3D\n",
    "import glob\n",
    "# Own Libraries\n",
    "from utility.utils import *\n",
    "from KalmanFilter.kf import *\n",
    "from Detect.detector import *\n",
    "from Match.pair import *\n",
    "from Match.icp import *\n",
    "\n",
    "%matplotlib tk\n",
    "style.use('seaborn-paper')"
   ]
  },
  {
   "cell_type": "code",
   "execution_count": 2,
   "metadata": {},
   "outputs": [
    {
     "output_type": "stream",
     "name": "stdout",
     "text": [
      "Detection Time:19.79\n",
      "\n",
      " |████████████████████████████████████████████████████████████████████████████████████████████████████| 100.0% \n",
      "Number of total combinations:7980\n",
      "Computational time: 3.26 s\n"
     ]
    }
   ],
   "source": [
    "# Loading All Images:\n",
    "dict = load_all_images(dt=10)\n",
    "# Img:\n",
    "idx = 0  # Loading image n. idx+1 ...\n",
    "filename = dict[str(idx+1)]\n",
    "img=cv2.imread(filename)\n",
    "# Detection:\n",
    "t1 = time.time()\n",
    "craters_det = detect(img)\n",
    "t2 = time.time()\n",
    "print(f'Detection Time:{t2-t1:.2f}\\n')\n",
    "# Pandas DataFrame:\n",
    "df_craters_det = sort_mat(craters_det)\n",
    "# Find all triplets:\n",
    "t1 = time.time()\n",
    "triplets = find_all_triplets(craters_det)\n",
    "triplets_det= pd.DataFrame(triplets, columns=['Angle1','Angle2','Angle3','des1','des2','des3','x1','y1','r1','x2','y2','r2','x3','y3','r3'])\n",
    "triplets_det.shape\n",
    "t2 = time.time()\n",
    "print(f'Number of total combinations:{triplets_det.shape[0]}\\nComputational time: {t2-t1:.2f} s')"
   ]
  },
  {
   "cell_type": "code",
   "execution_count": 4,
   "metadata": {},
   "outputs": [
    {
     "output_type": "stream",
     "name": "stdout",
     "text": [
      " |████████████████████████████████████████████████████████████████████████████████████████████████████| 100.0% \nNumber of total combinations:210\nComputational time: 0.02 s\n"
     ]
    }
   ],
   "source": [
    "# Opening Database:\n",
    "DB = pd.read_csv('DATA/H_L_combined.csv')\n",
    "# DB = pd.read_csv('DATA/lunar_crater_database_robbins_2018.csv')\n",
    "# Filtering:\n",
    "craters_cat = CatalogSearch(DB, lat_bounds=[-1.5, 1.5], lon_bounds=[-147.81-1.5,-147.81+1.5], CAT_NAME='COMBINED')\n",
    "\n",
    "km2deg = 1/deg2km\n",
    "craters_cat = craters_cat[(craters_cat.Diam < 40)&(craters_cat.Diam > 2.5)]\n",
    "craters_cat['Diam']*=0.5*km2deg # km --- > deg\n",
    "\n",
    "craters_cat_m = np.array(craters_cat)\n",
    "t1 = time.time()\n",
    "triplets_cat_m = find_all_triplets(craters_cat_m)\n",
    "triplets_cat = pd.DataFrame(triplets_cat_m, columns=['Angle1','Angle2','Angle3','des1','des2','des3','lon1','lat1','r1','lon2','lat2','r2','lon3','lat3','r3'])\n",
    "triplets_cat['r1'] *= deg2km\n",
    "triplets_cat['r2'] *= deg2km\n",
    "triplets_cat['r3'] *= deg2km\n",
    "t2 = time.time()\n",
    "print(f'Number of total combinations:{triplets_cat.shape[0]}\\nComputational time: {t2-t1:.2f} s')"
   ]
  },
  {
   "cell_type": "code",
   "execution_count": 5,
   "metadata": {},
   "outputs": [],
   "source": [
    "lat_bounds=[-1.5, 1.5]\n",
    "lon_bounds=[-147.81-1.5,-147.81+1.5]\n",
    "#img1\n",
    "cp1 = deepcopy(img)\n",
    "img_det = img_plus_crts(img, craters_det)\n",
    "plt.figure()\n",
    "plt.subplot(121)\n",
    "plt.imshow(img_det)\n",
    "plt.show()\n",
    "\n",
    "# FIG.2\n",
    "cp1 = deepcopy(img)\n",
    "# DB = pd.read_csv('DATA/lunar_crater_database_robbins_2018.csv')\n",
    "DB = pd.read_csv('DATA/H_L_combined.csv')\n",
    "df = CatalogSearch(DB, lat_bounds, lon_bounds, CAT_NAME='COMBINED')\n",
    "df = df[df.Diam > 2]\n",
    "image_with_craters = draw_craters_on_image(df,  lon_bounds, lat_bounds, cp1, u=None)\n",
    "\n",
    "plt.subplot(122)\n",
    "plt.imshow(image_with_craters)\n",
    "plt.show()"
   ]
  },
  {
   "source": [
    "# Search"
   ],
   "cell_type": "markdown",
   "metadata": {}
  },
  {
   "cell_type": "code",
   "execution_count": 6,
   "metadata": {},
   "outputs": [
    {
     "output_type": "stream",
     "name": "stdout",
     "text": [
      "Computational time: 0.34 s\nPossible Combinations: 25\n"
     ]
    }
   ],
   "source": [
    "t1 = time.time()\n",
    "QUERY1 = triplets_cat\n",
    "QUERY2 = triplets_det\n",
    "QUERY1 = dropduplicates(QUERY1)\n",
    "QUERY2 = dropduplicates(QUERY2) \n",
    "QUERY1 =QUERY1[ (QUERY1.Angle1 > 10) & (QUERY1.Angle2 > 10) & (QUERY1.Angle3 > 10) ].reset_index(drop=True)\n",
    "QUERY2 =QUERY2[ (QUERY2.Angle1 > 10) & (QUERY2.Angle2 > 10) & (QUERY2.Angle3 > 10) ].reset_index(drop=True)\n",
    "if QUERY1.shape[0]<QUERY2.shape[0]:\n",
    "    joins, items = inner_join(QUERY1, QUERY2, 5)\n",
    "else:\n",
    "    joins, items = inner_join(QUERY2, QUERY1, 5)\n",
    "t2 = time.time()\n",
    "print(f'Computational time: {t2-t1:.2f} s\\nPossible Combinations: {len(items)}')"
   ]
  },
  {
   "cell_type": "code",
   "execution_count": null,
   "metadata": {},
   "outputs": [],
   "source": [
    "joins[0].head(3)"
   ]
  },
  {
   "cell_type": "code",
   "execution_count": null,
   "metadata": {},
   "outputs": [],
   "source": [
    "items[0]"
   ]
  },
  {
   "cell_type": "code",
   "execution_count": 7,
   "metadata": {},
   "outputs": [
    {
     "output_type": "stream",
     "name": "stdout",
     "text": [
      "Computational time: 0.18 s\nPossible Combinations: 18\n"
     ]
    }
   ],
   "source": [
    "t1 = time.time()\n",
    "tol2 = 3\n",
    "S, iss = [], []\n",
    "for i in range(len(joins)):\n",
    "    join = joins[i]\n",
    "    des1, des2, des3 = items[i].des1, items[i].des2, items[i].des3\n",
    "    s=join[ (abs(join.des1 - des1) < tol2) & (abs(join.des2 - des2) < tol2) & (abs(join.des3 - des3) < tol2)\\\n",
    "          | (abs(join.des1 - des2) < tol2) & (abs(join.des2 - des3) < tol2) & (abs(join.des3 - des1) < tol2)\\\n",
    "          | (abs(join.des1 - des3) < tol2) & (abs(join.des2 - des1) < tol2) & (abs(join.des3 - des2) < tol2)]\n",
    "\n",
    "    if s.shape[0] > 0:\n",
    "        S.append(s)\n",
    "        iss.append(i)\n",
    "t2 = time.time()\n",
    "print(f'Computational time: {t2-t1:.2f} s\\nPossible list Combinations: {len(S)}')"
   ]
  },
  {
   "cell_type": "code",
   "execution_count": 8,
   "metadata": {},
   "outputs": [
    {
     "output_type": "stream",
     "name": "stdout",
     "text": [
      "Combinations for list 0 are:\n"
     ]
    },
    {
     "output_type": "execute_result",
     "data": {
      "text/plain": [
       "        Angle1     Angle2      Angle3      des1      des2      des3     x1  \\\n",
       "412  28.064237  35.405170  116.530593  3.742692  3.581393  2.259405  547.5   \n",
       "442  33.053197  33.173022  113.773780  6.399295  4.845535  3.183011  547.5   \n",
       "468  34.349321  35.775427  109.875252  5.917350  1.623606  6.386688  547.5   \n",
       "\n",
       "        y1    r1     x2     y2      r2     x3     y3     r3  \n",
       "412  549.5  15.5  525.0  666.5   17.75  573.5  606.5  11.00  \n",
       "442  549.5  15.5  506.0  739.0   20.50  465.0  630.5  13.25  \n",
       "468  549.5  15.5  735.5  704.5  125.00  626.5  328.0  31.25  "
      ],
      "text/html": "<div>\n<style scoped>\n    .dataframe tbody tr th:only-of-type {\n        vertical-align: middle;\n    }\n\n    .dataframe tbody tr th {\n        vertical-align: top;\n    }\n\n    .dataframe thead th {\n        text-align: right;\n    }\n</style>\n<table border=\"1\" class=\"dataframe\">\n  <thead>\n    <tr style=\"text-align: right;\">\n      <th></th>\n      <th>Angle1</th>\n      <th>Angle2</th>\n      <th>Angle3</th>\n      <th>des1</th>\n      <th>des2</th>\n      <th>des3</th>\n      <th>x1</th>\n      <th>y1</th>\n      <th>r1</th>\n      <th>x2</th>\n      <th>y2</th>\n      <th>r2</th>\n      <th>x3</th>\n      <th>y3</th>\n      <th>r3</th>\n    </tr>\n  </thead>\n  <tbody>\n    <tr>\n      <th>412</th>\n      <td>28.064237</td>\n      <td>35.405170</td>\n      <td>116.530593</td>\n      <td>3.742692</td>\n      <td>3.581393</td>\n      <td>2.259405</td>\n      <td>547.5</td>\n      <td>549.5</td>\n      <td>15.5</td>\n      <td>525.0</td>\n      <td>666.5</td>\n      <td>17.75</td>\n      <td>573.5</td>\n      <td>606.5</td>\n      <td>11.00</td>\n    </tr>\n    <tr>\n      <th>442</th>\n      <td>33.053197</td>\n      <td>33.173022</td>\n      <td>113.773780</td>\n      <td>6.399295</td>\n      <td>4.845535</td>\n      <td>3.183011</td>\n      <td>547.5</td>\n      <td>549.5</td>\n      <td>15.5</td>\n      <td>506.0</td>\n      <td>739.0</td>\n      <td>20.50</td>\n      <td>465.0</td>\n      <td>630.5</td>\n      <td>13.25</td>\n    </tr>\n    <tr>\n      <th>468</th>\n      <td>34.349321</td>\n      <td>35.775427</td>\n      <td>109.875252</td>\n      <td>5.917350</td>\n      <td>1.623606</td>\n      <td>6.386688</td>\n      <td>547.5</td>\n      <td>549.5</td>\n      <td>15.5</td>\n      <td>735.5</td>\n      <td>704.5</td>\n      <td>125.00</td>\n      <td>626.5</td>\n      <td>328.0</td>\n      <td>31.25</td>\n    </tr>\n  </tbody>\n</table>\n</div>"
     },
     "metadata": {},
     "execution_count": 8
    }
   ],
   "source": [
    "print('Combinations for list 0 are:')\n",
    "S[0]"
   ]
  },
  {
   "cell_type": "code",
   "execution_count": 9,
   "metadata": {},
   "outputs": [
    {
     "output_type": "stream",
     "name": "stdout",
     "text": [
      "With:\n"
     ]
    },
    {
     "output_type": "execute_result",
     "data": {
      "text/plain": [
       "Angle1     32.219838\n",
       "Angle2     36.105308\n",
       "Angle3    111.674854\n",
       "des1        2.317715\n",
       "des2        6.615749\n",
       "des3        4.291510\n",
       "lon1     -146.567992\n",
       "lat1       -1.136915\n",
       "r1         18.676605\n",
       "lon2     -148.862726\n",
       "lat2        0.327445\n",
       "r2          6.247188\n",
       "lon3     -147.303944\n",
       "lat3        0.424471\n",
       "r3          4.360406\n",
       "Name: 0, dtype: float64"
      ]
     },
     "metadata": {},
     "execution_count": 9
    }
   ],
   "source": [
    "print('With:')\n",
    "items[iss[0]]"
   ]
  },
  {
   "cell_type": "code",
   "execution_count": 79,
   "metadata": {},
   "outputs": [],
   "source": [
    "I = 4\n",
    "J = 0\n",
    "\n",
    "plt.close('all')\n",
    "CAMx, CAMy = ((lon_bounds[0] + lon_bounds[1]) / 2,\n",
    "              (lat_bounds[0] + lat_bounds[1]) / 2)\n",
    "\n",
    "row1 = items[iss[I]]\n",
    "crt1 = np.array([ row1.lon1, row1.lat1, row1.r1  ])\n",
    "crt2 = np.array([ row1.lon2, row1.lat2, row1.r2  ])\n",
    "crt3 = np.array([ row1.lon3, row1.lat3, row1.r3  ])\n",
    "triplet = [crt1, crt2, crt3]\n",
    "\n",
    "\n",
    "img=cv2.imread(filename)\n",
    "deg2px = 256\n",
    "for crt in triplet:\n",
    "    # crater center:\n",
    "    xc, yc, rc = crt[0], crt[1], crt[2]  # This is in the absolute frame\n",
    "    # f: Absolute --> f: Relative\n",
    "    xc = xc - CAMx\n",
    "    yc = yc - CAMy\n",
    "    # f: relative --> f: OPENCV\n",
    "    xc *= deg2px  # Now is in pixel not in lon deg\n",
    "    yc *= deg2px  # Now is in pixel not in lat deg\n",
    "    # rc *= u  # Now is in pixel not in lat deg\n",
    "    \n",
    "\n",
    "    xc = 850/2 + xc\n",
    "    yc = 850/2 - yc\n",
    "    center_coordinates = (int(xc), int(yc))\n",
    "    # ? 1 km = 8.4746 px in our DEM := Merge LOLA - KAGUYA\n",
    "    radius = int(crt[2] * km2px)\n",
    "    color = (0, 0, 255)\n",
    "    thickness = 3\n",
    "    img_prova = cv2.circle(img, center_coordinates, radius, color, thickness)\n",
    "\n",
    "plt.figure(dpi=130)\n",
    "plt.subplot(121)\n",
    "plt.imshow(img_prova)\n",
    "plt.xlabel('CAT')\n",
    "plt.show()\n",
    "\n",
    "\n",
    "cp1 = cv2.imread(filename)\n",
    "tmp = S[I].iloc[J]\n",
    "x1,x2,x3 = tmp.x1, tmp.x2, tmp.x3\n",
    "y1,y2,y3 = tmp.y1, tmp.y2, tmp.y3\n",
    "r1,r2,r3 = tmp.r1, tmp.r2,  tmp.r3\n",
    "cr1 = np.array([x1,y1,r1]) \n",
    "cr2 = np.array([x2,y2,r2]) \n",
    "cr3 = np.array([x3,y3,r3])\n",
    "crts = np.vstack([cr1,cr2,cr3])\n",
    "plt.subplot(122)\n",
    "plt.xlabel('DET')\n",
    "IMG1 =  img_plus_crts(cp1, crts, color=\"red\")\n",
    "plt.imshow(IMG1)\n",
    "plt.show()"
   ]
  },
  {
   "cell_type": "code",
   "execution_count": 77,
   "metadata": {},
   "outputs": [
    {
     "output_type": "execute_result",
     "data": {
      "text/plain": [
       "[-147.3749788871337, -0.007421027558747073]"
      ]
     },
     "metadata": {},
     "execution_count": 77
    }
   ],
   "source": [
    "row1 = items[iss[I]]\n",
    "tmp = S[I].iloc[J]\n",
    "\n",
    "pos = compute_pos(tmp, row1)\n",
    "pos"
   ]
  },
  {
   "cell_type": "code",
   "execution_count": 80,
   "metadata": {},
   "outputs": [
    {
     "output_type": "stream",
     "name": "stdout",
     "text": [
      "11.457322207829066\n7.273162441544173\n"
     ]
    }
   ],
   "source": [
    "x_t, y_t, z_t = spherical2cartesian(50, 0, -147.81)\n",
    "x_f, y_f, z_f = spherical2cartesian(50, pos[1], pos[0])\n",
    "\n",
    "print(abs(y_t-y_f))\n",
    "print(abs(x_t-x_f))"
   ]
  },
  {
   "cell_type": "code",
   "execution_count": null,
   "metadata": {},
   "outputs": [],
   "source": []
  },
  {
   "cell_type": "code",
   "execution_count": null,
   "metadata": {},
   "outputs": [],
   "source": []
  },
  {
   "cell_type": "code",
   "execution_count": null,
   "metadata": {},
   "outputs": [],
   "source": []
  },
  {
   "cell_type": "code",
   "execution_count": null,
   "metadata": {},
   "outputs": [],
   "source": []
  },
  {
   "cell_type": "code",
   "execution_count": null,
   "metadata": {},
   "outputs": [],
   "source": []
  },
  {
   "cell_type": "code",
   "execution_count": null,
   "metadata": {},
   "outputs": [],
   "source": []
  },
  {
   "cell_type": "code",
   "execution_count": null,
   "metadata": {},
   "outputs": [],
   "source": []
  },
  {
   "cell_type": "code",
   "execution_count": null,
   "metadata": {},
   "outputs": [],
   "source": []
  },
  {
   "cell_type": "code",
   "execution_count": null,
   "metadata": {},
   "outputs": [],
   "source": []
  },
  {
   "cell_type": "code",
   "execution_count": null,
   "metadata": {},
   "outputs": [],
   "source": []
  },
  {
   "cell_type": "code",
   "execution_count": null,
   "metadata": {},
   "outputs": [],
   "source": []
  },
  {
   "cell_type": "code",
   "execution_count": null,
   "metadata": {},
   "outputs": [],
   "source": []
  },
  {
   "cell_type": "code",
   "execution_count": null,
   "metadata": {},
   "outputs": [],
   "source": []
  },
  {
   "cell_type": "code",
   "execution_count": null,
   "metadata": {},
   "outputs": [],
   "source": []
  },
  {
   "cell_type": "code",
   "execution_count": null,
   "metadata": {},
   "outputs": [],
   "source": [
    "if len(joins)>1:\n",
    "    print(len(joins))\n",
    "    plt.close()\n",
    "    i = 6\n",
    "    arg = items[i][0]\n",
    "    a = QUERY1.iloc[arg]\n",
    "    crts1 = np.vstack([[a.x1,a.y1,a.r1],[a.x2,a.y2,a.r2],[a.x3,a.y3,a.r3]])\n",
    "    \n",
    "    plt.figure(dpi=200)\n",
    "    plt.subplot(121)\n",
    "    cp1 = img.copy()\n",
    "    IMG1 =  img_plus_crts(cp1, crts1, color=\"red\")\n",
    "    plt.imshow(IMG1)\n",
    "    plt.show()\n",
    "\n",
    "    join = joins[i]\n",
    "    j=1\n",
    "    b = join.iloc[j]\n",
    "    crts2 = np.vstack([[b.lon1,b.lat1,b.r1],[b.lon2,b.lat2,b.r2],[b.lon3,b.lat3,b.r3]])\n",
    "    crts2[:,2]*= deg2km\n",
    "    plt.subplot(122)\n",
    "    lat_bounds=[-1.5, 1.5]\n",
    "    lon_bounds=[-129.802-1.5,-129.802+1.5]\n",
    "    crts2_to_rel = craters_to_relative_frame(crts2, lon_b=lon_bounds, lat_b=lat_bounds)\n",
    "    IMG2 =  img_plus_crts(cp1, crts2_to_rel, color=\"green\")\n",
    "    plt.imshow(IMG2)\n",
    "    plt.show()"
   ]
  },
  {
   "cell_type": "code",
   "execution_count": null,
   "metadata": {},
   "outputs": [],
   "source": [
    "c2 = compute_centroid(crts2)\n",
    "c1 = compute_centroid(crts1)"
   ]
  },
  {
   "cell_type": "code",
   "execution_count": null,
   "metadata": {},
   "outputs": [],
   "source": []
  },
  {
   "cell_type": "code",
   "execution_count": null,
   "metadata": {},
   "outputs": [],
   "source": []
  },
  {
   "cell_type": "code",
   "execution_count": null,
   "metadata": {},
   "outputs": [],
   "source": [
    "def craters_to_relative_frame(df, lon_b, lat_b, u=None):\n",
    "    lon_bounds = lon_b\n",
    "    lat_bounds = lat_b\n",
    "    # CAMERA CENTER:\n",
    "    CAMx, CAMy = (\n",
    "        (lon_bounds[0] + lon_bounds[1]) / 2,\n",
    "        (lat_bounds[0] + lat_bounds[1]) / 2,\n",
    "    )\n",
    "\n",
    "    if u == None:  # Scale Factor\n",
    "        u = 257.52  # ? DEG TO PXS\n",
    "        span = (abs(lon_b[0]) - abs(lon_b[1])) * u\n",
    "        span = abs(int(span))\n",
    "        print(span)\n",
    "    else:\n",
    "        span = (abs(lon_b[0]) - abs(lon_b[1])) * u\n",
    "        span = abs(int(span))\n",
    "    # Make the img:\n",
    "    # img = np.zeros((span, span), dtype=int)\n",
    "    if df is None:\n",
    "        print(\"No crater found\")\n",
    "        pass\n",
    "    else:\n",
    "        W, H = (span, span)\n",
    "        # Cycle through the dataframe:\n",
    "        craters = np.zeros(3)\n",
    "        for i in range(df.shape[0]):\n",
    "            crater = df[i]\n",
    "            # crater center:\n",
    "            xc, yc = crater[0], crater[1]  # This is in the absolute frame\n",
    "            # f: Absolute --> f: Relative\n",
    "            xc = xc - CAMx\n",
    "            yc = yc - CAMy\n",
    "            # f: relative --> f: OPENCV\n",
    "            xc *= u  # Now is in pixel not in lon deg\n",
    "            yc *= u  # Now is in pixel not in lat deg\n",
    "            xc = W / 2 + xc\n",
    "            yc = H / 2 - yc\n",
    "            # ? 1 km = 8.4746 px in our DEM := Merge LOLA - KAGUYA\n",
    "            KM_to_PX = 1/0.118\n",
    "            crater_i = [xc, yc, crater[2] * KM_to_PX]\n",
    "            craters = np.vstack([craters, crater_i])\n",
    "        return craters[1:, :]"
   ]
  },
  {
   "cell_type": "code",
   "execution_count": null,
   "metadata": {},
   "outputs": [],
   "source": []
  },
  {
   "cell_type": "code",
   "execution_count": null,
   "metadata": {},
   "outputs": [],
   "source": []
  },
  {
   "cell_type": "code",
   "execution_count": null,
   "metadata": {},
   "outputs": [],
   "source": []
  },
  {
   "cell_type": "code",
   "execution_count": null,
   "metadata": {},
   "outputs": [],
   "source": []
  },
  {
   "cell_type": "code",
   "execution_count": null,
   "metadata": {},
   "outputs": [],
   "source": []
  },
  {
   "cell_type": "code",
   "execution_count": null,
   "metadata": {},
   "outputs": [],
   "source": []
  },
  {
   "cell_type": "code",
   "execution_count": null,
   "metadata": {},
   "outputs": [],
   "source": []
  },
  {
   "cell_type": "code",
   "execution_count": null,
   "metadata": {},
   "outputs": [],
   "source": []
  },
  {
   "cell_type": "code",
   "execution_count": null,
   "metadata": {},
   "outputs": [],
   "source": []
  },
  {
   "cell_type": "code",
   "execution_count": null,
   "metadata": {},
   "outputs": [],
   "source": []
  },
  {
   "cell_type": "code",
   "execution_count": null,
   "metadata": {},
   "outputs": [],
   "source": []
  },
  {
   "cell_type": "code",
   "execution_count": null,
   "metadata": {},
   "outputs": [],
   "source": []
  },
  {
   "cell_type": "code",
   "execution_count": null,
   "metadata": {},
   "outputs": [],
   "source": []
  },
  {
   "cell_type": "code",
   "execution_count": null,
   "metadata": {},
   "outputs": [],
   "source": []
  },
  {
   "cell_type": "code",
   "execution_count": null,
   "metadata": {},
   "outputs": [],
   "source": []
  },
  {
   "cell_type": "code",
   "execution_count": null,
   "metadata": {},
   "outputs": [],
   "source": []
  },
  {
   "cell_type": "code",
   "execution_count": null,
   "metadata": {},
   "outputs": [],
   "source": []
  },
  {
   "cell_type": "code",
   "execution_count": null,
   "metadata": {},
   "outputs": [],
   "source": []
  },
  {
   "cell_type": "code",
   "execution_count": null,
   "metadata": {},
   "outputs": [],
   "source": []
  }
 ]
}