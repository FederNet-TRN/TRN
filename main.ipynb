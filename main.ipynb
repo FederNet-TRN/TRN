{
 "metadata": {
  "language_info": {
   "codemirror_mode": {
    "name": "ipython",
    "version": 3
   },
   "file_extension": ".py",
   "mimetype": "text/x-python",
   "name": "python",
   "nbconvert_exporter": "python",
   "pygments_lexer": "ipython3",
   "version": "3.6.12-final"
  },
  "orig_nbformat": 2,
  "kernelspec": {
   "name": "crateri",
   "display_name": "crateri"
  }
 },
 "nbformat": 4,
 "nbformat_minor": 2,
 "cells": [
  {
   "cell_type": "code",
   "execution_count": 1,
   "metadata": {},
   "outputs": [
    {
     "output_type": "stream",
     "name": "stdout",
     "text": [
      "WARNING:tensorflow:From /home/sirbastiano/anaconda3/envs/crateri/lib/python3.6/site-packages/tensorflow_core/python/ops/resource_variable_ops.py:1635: calling BaseResourceVariable.__init__ (from tensorflow.python.ops.resource_variable_ops) with constraint is deprecated and will be removed in a future version.\nInstructions for updating:\nIf using Keras pass *_constraint arguments to layers.\n"
     ]
    }
   ],
   "source": [
    "# External libraries\n",
    "import numpy as np\n",
    "import matplotlib.pyplot as plt\n",
    "import matplotlib.style as style\n",
    "import pandas as pd\n",
    "import astropy\n",
    "import scipy\n",
    "from filterpy.kalman import KalmanFilter \n",
    "from filterpy.common import Q_discrete_white_noise\n",
    "from scipy.linalg import block_diag\n",
    "from astropy import units as u\n",
    "from poliastro.bodies import Earth, Mars, Sun, Moon\n",
    "from poliastro.twobody import Orbit\n",
    "from poliastro.plotting import OrbitPlotter2D\n",
    "from poliastro.plotting import OrbitPlotter3D\n",
    "import glob\n",
    "# Own Libraries\n",
    "from utility.utils import *\n",
    "from KalmanFilter.kf import *\n",
    "from Detect.detector import *\n",
    "from Match.pair import *\n",
    "from Match.icp import *\n",
    "\n",
    "%matplotlib tk\n",
    "style.use('seaborn-paper')"
   ]
  },
  {
   "cell_type": "code",
   "execution_count": 2,
   "metadata": {},
   "outputs": [],
   "source": [
    "############################################\n",
    "dt = 1\n",
    "############################################\n",
    "df = pd.read_csv(f'DATA/ephemeris sat/inclination zero/{dt} step size.csv', header=3, sep=';') \n",
    "real_Latitudes, real_Longitudes, real_Altitudes = df['Lat (deg)'], df['Lon (deg)'], df['Alt (km)']\n",
    "real_Vxs,real_Vys,real_Vzs = df['x (km/sec)'], df['y (km/sec)'],df['z (km/sec)']\n",
    "\n",
    "real_X, real_Y, real_Z = [], [], []\n",
    "for i in range(len(df)):\n",
    "    altitude = real_Altitudes[i]\n",
    "    latitude = real_Latitudes[i]\n",
    "    longitude = real_Longitudes[i]\n",
    "    x, y, z = spherical2cartesian(altitude, latitude, longitude)\n",
    "    real_X.append(x)\n",
    "    real_Y.append(y)\n",
    "    real_Z.append(z)\n",
    "real_X, real_Y, real_Z = np.array(real_X),np.array(real_Y),np.array(real_Z)"
   ]
  },
  {
   "cell_type": "code",
   "execution_count": 3,
   "metadata": {},
   "outputs": [],
   "source": [
    "# plt.figure(dpi=150, tight_layout=True)\n",
    "\n",
    "# sub_x = plt.subplot(3,1,1)\n",
    "# plt.title('Satellite True Position')\n",
    "# plt.plot(real_X, 'k', linewidth=0.8)\n",
    "# plt.ylabel('X')\n",
    "\n",
    "# sub_y = plt.subplot(3,1,2, sharex = sub_x)\n",
    "# plt.plot(real_Y,'k',linewidth=0.8)\n",
    "# plt.ylabel('Y')\n",
    "\n",
    "# sub_z = plt.subplot(3,1,3, sharex = sub_x)\n",
    "# plt.plot(real_Z,'k',linewidth=0.8)\n",
    "# plt.xlabel('Time step (0.1 sec)')\n",
    "# plt.ylabel('Z')\n",
    "# plt.ylim([-1,1])\n",
    "\n",
    "# plt.show()"
   ]
  },
  {
   "cell_type": "code",
   "execution_count": 4,
   "metadata": {},
   "outputs": [],
   "source": [
    "# Initial State Vector:\n",
    "x, y, z = real_X[0], real_Y[0], real_Z[0]\n",
    "vx, vy, vz = real_Vxs[0], real_Vys[0], real_Vzs[0]"
   ]
  },
  {
   "cell_type": "code",
   "execution_count": 5,
   "metadata": {},
   "outputs": [],
   "source": [
    "kf = KalmanFilter(dim_x = 6, dim_z = 3)\n",
    "# Offset State Vector:\n",
    "iX, iY, iZ, iVx, iVy, iVz  = 0,1,2,3,4,5\n",
    "kf.F[iX, iVx] = dt\n",
    "kf.F[iY, iVy] = dt\n",
    "kf.F[iZ, iVz] = dt\n",
    "q = Q_discrete_white_noise(dim=3, dt=dt, var=0.001)\n",
    "kf.Q = block_diag(q, q)\n",
    "kf.H[iX, iX] = 1\n",
    "kf.H[iZ, iZ] = 1\n",
    "kf.H[iY, iY] = 1\n",
    "kf.R *= 5 # KM \n",
    "kf.x = np.array([[x, y, z, vx, vy, vz]]).T\n",
    "kf.u = 0\n",
    "kf.P = np.eye(6) * 500"
   ]
  },
  {
   "cell_type": "code",
   "execution_count": 6,
   "metadata": {},
   "outputs": [],
   "source": [
    "# LOAD ALL IMAGES:\n",
    "dict = {}\n",
    "for img in glob.glob(f\"DATA/ephemeris sat/inclination zero/{dt} step size/*\"):\n",
    "    txt = img             # stringa\n",
    "    t = txt.split('_')[1] # numero\n",
    "    dict[t] = txt"
   ]
  },
  {
   "cell_type": "code",
   "execution_count": 7,
   "metadata": {},
   "outputs": [
    {
     "output_type": "stream",
     "name": "stdout",
     "text": [
      "No crater found\n"
     ]
    },
    {
     "output_type": "error",
     "ename": "AttributeError",
     "evalue": "'NoneType' object has no attribute 'shape'",
     "traceback": [
      "\u001b[0;31m---------------------------------------------------------------------------\u001b[0m",
      "\u001b[0;31mAttributeError\u001b[0m                            Traceback (most recent call last)",
      "\u001b[0;32m<ipython-input-7-38e22667575b>\u001b[0m in \u001b[0;36m<module>\u001b[0;34m\u001b[0m\n\u001b[1;32m     22\u001b[0m         \u001b[0mcraters_cat\u001b[0m \u001b[0;34m=\u001b[0m \u001b[0mcrater_catalogued\u001b[0m\u001b[0;34m(\u001b[0m\u001b[0;34m[\u001b[0m\u001b[0mx\u001b[0m\u001b[0;34m,\u001b[0m\u001b[0my\u001b[0m\u001b[0;34m,\u001b[0m\u001b[0mz\u001b[0m\u001b[0;34m]\u001b[0m\u001b[0;34m)\u001b[0m \u001b[0;31m# OUTPUTS: x,y, radius (px)\u001b[0m\u001b[0;34m\u001b[0m\u001b[0;34m\u001b[0m\u001b[0m\n\u001b[1;32m     23\u001b[0m         \u001b[0;31m# FEATURE, indexes = crater_match([x,y,z], craters_det) # Feature Matched in LCLF frame\u001b[0m\u001b[0;34m\u001b[0m\u001b[0;34m\u001b[0m\u001b[0;34m\u001b[0m\u001b[0m\n\u001b[0;32m---> 24\u001b[0;31m         \u001b[0mindexes\u001b[0m \u001b[0;34m=\u001b[0m \u001b[0mmatching\u001b[0m\u001b[0;34m(\u001b[0m\u001b[0mcraters_det\u001b[0m\u001b[0;34m,\u001b[0m \u001b[0mcraters_cat\u001b[0m\u001b[0;34m)\u001b[0m\u001b[0;34m\u001b[0m\u001b[0;34m\u001b[0m\u001b[0m\n\u001b[0m\u001b[1;32m     25\u001b[0m         \u001b[0;32mif\u001b[0m \u001b[0mindexes\u001b[0m \u001b[0;32mis\u001b[0m \u001b[0;32mnot\u001b[0m \u001b[0;32mNone\u001b[0m\u001b[0;34m:\u001b[0m\u001b[0;34m\u001b[0m\u001b[0;34m\u001b[0m\u001b[0m\n\u001b[1;32m     26\u001b[0m             \u001b[0mZ\u001b[0m \u001b[0;34m=\u001b[0m \u001b[0mposition_estimation\u001b[0m\u001b[0;34m(\u001b[0m\u001b[0;34m[\u001b[0m\u001b[0mx\u001b[0m\u001b[0;34m,\u001b[0m\u001b[0my\u001b[0m\u001b[0;34m,\u001b[0m\u001b[0mz\u001b[0m\u001b[0;34m]\u001b[0m\u001b[0;34m,\u001b[0m \u001b[0mcraters_det\u001b[0m\u001b[0;34m,\u001b[0m \u001b[0mcraters_cat\u001b[0m\u001b[0;34m,\u001b[0m \u001b[0mindexes\u001b[0m\u001b[0;34m)\u001b[0m\u001b[0;34m\u001b[0m\u001b[0;34m\u001b[0m\u001b[0m\n",
      "\u001b[0;32m~/Documenti/Python Projects/Progetto tesi/Match/pair.py\u001b[0m in \u001b[0;36mmatching\u001b[0;34m(crat_det, crat_cat)\u001b[0m\n\u001b[1;32m     21\u001b[0m     \u001b[0mMATCHER\u001b[0m \u001b[0;34m=\u001b[0m \u001b[0;34m[\u001b[0m\u001b[0;34m]\u001b[0m\u001b[0;34m\u001b[0m\u001b[0;34m\u001b[0m\u001b[0m\n\u001b[1;32m     22\u001b[0m     \u001b[0;32mfor\u001b[0m \u001b[0mi\u001b[0m \u001b[0;32min\u001b[0m \u001b[0mrange\u001b[0m\u001b[0;34m(\u001b[0m\u001b[0mmat1\u001b[0m\u001b[0;34m.\u001b[0m\u001b[0mshape\u001b[0m\u001b[0;34m[\u001b[0m\u001b[0;36m0\u001b[0m\u001b[0;34m]\u001b[0m\u001b[0;34m)\u001b[0m\u001b[0;34m:\u001b[0m\u001b[0;34m\u001b[0m\u001b[0;34m\u001b[0m\u001b[0m\n\u001b[0;32m---> 23\u001b[0;31m         \u001b[0;32mfor\u001b[0m \u001b[0mj\u001b[0m \u001b[0;32min\u001b[0m \u001b[0mrange\u001b[0m\u001b[0;34m(\u001b[0m\u001b[0mmat2\u001b[0m\u001b[0;34m.\u001b[0m\u001b[0mshape\u001b[0m\u001b[0;34m[\u001b[0m\u001b[0;36m0\u001b[0m\u001b[0;34m]\u001b[0m\u001b[0;34m)\u001b[0m\u001b[0;34m:\u001b[0m\u001b[0;34m\u001b[0m\u001b[0;34m\u001b[0m\u001b[0m\n\u001b[0m\u001b[1;32m     24\u001b[0m             \u001b[0mf1\u001b[0m \u001b[0;34m=\u001b[0m \u001b[0mmat1\u001b[0m\u001b[0;34m[\u001b[0m\u001b[0mi\u001b[0m\u001b[0;34m,\u001b[0m \u001b[0;34m:\u001b[0m\u001b[0;34m]\u001b[0m\u001b[0;34m\u001b[0m\u001b[0;34m\u001b[0m\u001b[0m\n\u001b[1;32m     25\u001b[0m             \u001b[0mf2\u001b[0m \u001b[0;34m=\u001b[0m \u001b[0mmat2\u001b[0m\u001b[0;34m[\u001b[0m\u001b[0mj\u001b[0m\u001b[0;34m,\u001b[0m \u001b[0;34m:\u001b[0m\u001b[0;34m]\u001b[0m\u001b[0;34m\u001b[0m\u001b[0;34m\u001b[0m\u001b[0m\n",
      "\u001b[0;31mAttributeError\u001b[0m: 'NoneType' object has no attribute 'shape'"
     ]
    }
   ],
   "source": [
    "mus = []\n",
    "Zs = []\n",
    "STEPS = len(df)\n",
    "for idx in range(STEPS):\n",
    "    if idx == 0:\n",
    "        # UPDATE\n",
    "        img=cv2.imread(dict[str(idx+1)])\n",
    "        craters_det = detect(img) # x,y, radius(px)\n",
    "        craters_cat = crater_catalogued([x,y,z]) # OUTPUTS: x,y, radius (px)\n",
    "        FEATURE, indexes = crater_match([x,y,z], craters_det) # Feature Matched in LCLF frame\n",
    "        Z = position_estimation([x,y,z], craters_det, craters_cat, indexes)\n",
    "        kf.update(Z)\n",
    "        Zs.append(Z)\n",
    "\n",
    "\n",
    "    else:    \n",
    "        kf.predict()\n",
    "        x,y,z = float(kf.x[0]), float(kf.x[1]), float(kf.x[2])\n",
    "        # UPDATE\n",
    "        img=cv2.imread(dict[str(idx+1)])\n",
    "        craters_det = detect(img) # x,y, radius(px)\n",
    "        craters_cat = crater_catalogued([x,y,z]) # OUTPUTS: x,y, radius (px)\n",
    "        # FEATURE, indexes = crater_match([x,y,z], craters_det) # Feature Matched in LCLF frame\n",
    "        indexes = matching(craters_det, craters_cat)\n",
    "        if indexes is not None:\n",
    "            Z = position_estimation([x,y,z], craters_det, craters_cat, indexes)\n",
    "            kf.update(Z)\n",
    "            Zs.append(Z)\n",
    "        \n",
    "        else:\n",
    "            Zs.append(np.array([0,0,0]))\n",
    "\n",
    "    mus.append(kf.x)"
   ]
  },
  {
   "cell_type": "code",
   "execution_count": 8,
   "metadata": {},
   "outputs": [],
   "source": [
    "x_pred = []\n",
    "for mu in mus:\n",
    "    x = mu[0]\n",
    "    x_pred.append(x)\n",
    "x_true = real_X[:len(x_pred)]\n",
    "\n",
    "y_pred = []\n",
    "for mu in mus:\n",
    "    y = mu[1]\n",
    "    y_pred.append(y)\n",
    "y_true = real_Y[:len(y_pred)]\n",
    "\n",
    "z_pred = []\n",
    "for mu in mus:\n",
    "    z = mu[2]\n",
    "    z_pred.append(z)\n",
    "z_true = real_Z[:len(z_pred)]\n",
    "####################################################################\n",
    "######################## - MEAS - ##################################\n",
    "X_m = []\n",
    "for i in range(len(Zs)):\n",
    "    X_m.append(Zs[i][0])\n",
    "\n",
    "Y_m = []\n",
    "for i in range(len(Zs)):\n",
    "    Y_m.append(Zs[i][1])\n",
    "\n",
    "Z_m = []\n",
    "for i in range(len(Zs)):\n",
    "    Z_m.append(Zs[i][2])"
   ]
  },
  {
   "cell_type": "code",
   "execution_count": 9,
   "metadata": {},
   "outputs": [],
   "source": [
    "lw = 0.8\n",
    "\n",
    "plt.figure(dpi=150)\n",
    "plt.subplot(311)\n",
    "plt.plot(x_pred, '-k', linewidth=lw)\n",
    "plt.plot(x_true, 'r', linewidth=lw)\n",
    "plt.scatter(range(len(X_m)),X_m)\n",
    "plt.legend(['pred','true','meas'])\n",
    "plt.xlabel(f'Step Size: {dt}')\n",
    "plt.ylim([-1520,-1200])\n",
    "plt.ylabel('X')\n",
    "plt.show()\n",
    "\n",
    "plt.subplot(312)\n",
    "plt.plot(y_pred, '-k', linewidth=lw)\n",
    "plt.plot(y_true, 'r', linewidth=lw)\n",
    "plt.scatter(range(len(X_m)),Y_m)\n",
    "plt.legend(['pred','true','meas'])\n",
    "plt.xlabel(f'Step Size: {dt}')\n",
    "plt.ylabel('Y')\n",
    "plt.show()\n",
    "\n",
    "plt.subplot(313)\n",
    "plt.plot(z_pred, '-k', linewidth=lw)\n",
    "plt.plot(z_true, 'r', linewidth=lw)\n",
    "plt.scatter(range(len(Z_m)),Z_m)\n",
    "plt.legend(['pred','true','meas'])\n",
    "plt.xlabel(f'Step Size: {dt}')\n",
    "plt.ylabel('Z')\n",
    "plt.show()"
   ]
  },
  {
   "cell_type": "code",
   "execution_count": 10,
   "metadata": {},
   "outputs": [],
   "source": [
    "#plt.figure(dpi=150)\n",
    "#plt.plot(x_pred, '-k')\n",
    "#plt.scatter([int(i*MES) for i in range(int(N/MES))], [Xs[i*MES] for i in range(int(N/MES))])\n",
    "#plt.plot(x_true, 'r')\n",
    "#plt.legend(['pred','true','meas'])\n",
    "#plt.xlim([1000-1,1000+1])\n",
    "#plt.ylim([100-5,100+5])\n",
    "#plt.xlabel('Time')\n",
    "#plt.ylabel('X')\n",
    "#plt.show()"
   ]
  },
  {
   "cell_type": "code",
   "execution_count": 11,
   "metadata": {},
   "outputs": [],
   "source": [
    "plt.figure(dpi=150, tight_layout=True, figsize=(5,10))\n",
    "\n",
    "plt.subplot(311)\n",
    "x_pred = np.array(x_pred)\n",
    "x_true = np.array(x_true)\n",
    "diff = []\n",
    "for x,y in zip(x_pred,x_true):\n",
    "    d = abs(x - y)\n",
    "    diff.append(d)\n",
    "plt.title('Position - x')\n",
    "plt.plot(diff, '-k')\n",
    "plt.ylabel('Error Km')\n",
    "plt.show()\n",
    "\n",
    "plt.subplot(312)\n",
    "y_pred = np.array(y_pred)\n",
    "y_true = np.array(y_true)\n",
    "diff = []\n",
    "for x,y in zip(y_pred,y_true):\n",
    "    d = abs(x - y)\n",
    "    diff.append(d)\n",
    "plt.title('Position - y')\n",
    "plt.plot(diff, '-k')\n",
    "plt.ylabel('Error Km')\n",
    "plt.show()\n",
    "\n",
    "plt.subplot(313)\n",
    "z_pred = np.array(z_pred)\n",
    "z_true = np.array(z_true)\n",
    "diff = []\n",
    "for x,y in zip(z_pred,z_true):\n",
    "    d = abs(x - y)\n",
    "    diff.append(d)\n",
    "plt.title('Position - z')\n",
    "plt.plot(diff, '-k')\n",
    "plt.xlabel(f'Step Size: {dt}')\n",
    "plt.ylabel('Error Km')\n",
    "plt.show()"
   ]
  },
  {
   "cell_type": "code",
   "execution_count": null,
   "metadata": {},
   "outputs": [],
   "source": []
  }
 ]
}